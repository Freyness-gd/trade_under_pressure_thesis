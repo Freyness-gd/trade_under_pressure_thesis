{
 "cells": [
  {
   "metadata": {},
   "cell_type": "raw",
   "source": "",
   "id": "3c3c81e9b1514903"
  },
  {
   "metadata": {},
   "cell_type": "markdown",
   "source": [
    "# Trade Under Pressure\n",
    "\n"
   ],
   "id": "debf30674f0781c0"
  },
  {
   "metadata": {},
   "cell_type": "markdown",
   "source": "## Import packages",
   "id": "4d38a9833d378a53"
  },
  {
   "metadata": {},
   "cell_type": "code",
   "outputs": [],
   "execution_count": null,
   "source": [
    "import functools as ft\n",
    "\n",
    "import numpy as np\n",
    "import pandas as pa\n",
    "import seaborn as sns\n",
    "import matplotlib.pyplot as plt\n",
    "from sklearn import preprocessing"
   ],
   "id": "7412b98deab43c58"
  },
  {
   "metadata": {},
   "cell_type": "code",
   "outputs": [],
   "execution_count": null,
   "source": [
    "# Excluded country codes\n",
    "excluded_country_codes = [\n",
    "  \"NCL\", \"ZAR\", \"WLF\", \"NFK\", \"PAL\", \"MNP\", \"SHN\", \"COK\",\n",
    "  \"BMU\", \"PYF\", \"NIU\", \"ANT\", \"VGB\", \"TMP\", \"GUF\", \"CYM\",\n",
    "  \"TCA\", \"REU\", \"FLK\", \"GLP\", \"TKL\", \"MTQ\", \"AIA\", \"SPM\",\n",
    "  \"SSD\", \"MNT\", \"DDR\", \"BYS\", \"MNE\", \"TLS\", \"LIE\", \"VAT\",\n",
    "  \"CSK\", \"MSR\", \"PSE\", \"DHY\", \"KOS\", \"KSV\", \"RHO\", \"HVO\",\n",
    "  \"VDR\", \"MCO\", \"SVU\", \"XKX\", \"ASM\", \"VIR\", \"SXM\", \"CUW\",\n",
    "  \"MAF\", \"GUM\", \"IMN\", \"MAC\", \"PCN\", \"ALI\", \"YDR\", \"ATA\",\n",
    "  \"CXR\", \"MID\", \"SJM\", \"SPE\", \"UMI\", \"SIK\", \"BAT\", \"GAZ\",\n",
    "  \"BUN\", \"SGS\", \"ETF\", \"PCZ\", \"TAN\", \"JTN\", \"RYU\", \"PCE\",\n",
    "  \"CCK\", \"BVT\", \"USP\", \"KN1\", \"ATF\", \"ZPM\", \"IOT\", \"MYT\",\n",
    "  \"HMD\", \"SWK\", \"WAK\", \"SVR\", \"ZW1\", \"PMY\", \"FRE\", \"BLX\",\n",
    "  \"UNS\", \"SBH\", \"NZE\", \"COG\"\n",
    "]\n",
    "\n",
    "replace_country_codes = {\n",
    "  \"ROM\": {\n",
    "    \"values\": [\"ROU\"]\n",
    "  },\n",
    "  \"SER\": {\n",
    "    \"values\": [\"SRB\"]\n",
    "  },\n",
    "  \"CHL\": {\n",
    "    \"values\": [\"CHI\"]\n",
    "  },\n",
    "}"
   ],
   "id": "f37e86bfb1bd743b"
  },
  {
   "metadata": {},
   "cell_type": "markdown",
   "source": [
    "## Data preprocessing\n",
    "### Dist CEPII"
   ],
   "id": "10254221df3a86e3"
  },
  {
   "metadata": {},
   "cell_type": "code",
   "outputs": [],
   "execution_count": null,
   "source": [
    "# Loading and preprocessing Dist CEPII dataset\n",
    "dist_cepii = pa.read_excel(\"./data/geographic/dist_cepii.xls\",\n",
    "                           index_col=None, header=0,\n",
    "                           na_values=[\".\", \"nan\", \"NaN\"], verbose=True, decimal=\",\",\n",
    "                           dtype={ \"contig\": bool, \"comlang_off\": bool,\n",
    "                                   \"comlang_ethno\": bool, \"colony\": bool,\n",
    "                                   \"smctry\": bool }\n",
    "                           )\n",
    "dist_cepii = dist_cepii.drop([\"comcol\", \"curcol\", \"col45\"], axis=1)\n",
    "dist_cepii = dist_cepii.rename(columns={ \"iso_o\": \"origin\", \"iso_d\": \"destination\" })"
   ],
   "id": "8ef73c474ccd284c"
  },
  {
   "metadata": {},
   "cell_type": "markdown",
   "source": "Inspect DataFrame properties",
   "id": "eae3b5ab9d498204"
  },
  {
   "metadata": {},
   "cell_type": "code",
   "outputs": [],
   "execution_count": null,
   "source": "dist_cepii.head(n=50)",
   "id": "e091954a2184beb"
  },
  {
   "metadata": {},
   "cell_type": "code",
   "outputs": [],
   "execution_count": null,
   "source": "dist_cepii.dtypes",
   "id": "a260b4a7c7a021ce"
  },
  {
   "metadata": {},
   "cell_type": "markdown",
   "source": "Check how many rows have NaN",
   "id": "a777a76acbf49211"
  },
  {
   "metadata": {},
   "cell_type": "code",
   "outputs": [],
   "execution_count": null,
   "source": "dist_cepii.isna().sum()",
   "id": "ff237696ed33f3cd"
  },
  {
   "metadata": {},
   "cell_type": "markdown",
   "source": "Count how many times a country has NaN in Origin and in Destination",
   "id": "4a6fd6e863bb0c2a"
  },
  {
   "metadata": {},
   "cell_type": "code",
   "outputs": [],
   "execution_count": null,
   "source": [
    "na_rows = dist_cepii[dist_cepii.isna().any(axis=1)][[\"origin\", \"destination\"]]\n",
    "# Sanity check\n",
    "na_rows.isna().sum()"
   ],
   "id": "c5467f19b82675cd"
  },
  {
   "metadata": {},
   "cell_type": "code",
   "outputs": [],
   "execution_count": null,
   "source": "na_rows[[\"origin\"]].value_counts()",
   "id": "80bd94e7b8aefbab"
  },
  {
   "metadata": {},
   "cell_type": "markdown",
   "source": "Check how much % of rows are NaN from the total amount",
   "id": "f1ab5b82e177f7cf"
  },
  {
   "metadata": {},
   "cell_type": "code",
   "outputs": [],
   "execution_count": null,
   "source": "print(\"Percentage of NaN rows: \", (na_rows.shape[0] / dist_cepii.shape[0]) * 100, \"%\")",
   "id": "b2c6e628ef1ef4ce"
  },
  {
   "metadata": {},
   "cell_type": "markdown",
   "source": "Drop NaN values",
   "id": "e8530765f327688c"
  },
  {
   "metadata": {},
   "cell_type": "code",
   "outputs": [],
   "execution_count": null,
   "source": "dist_cepii = dist_cepii.dropna()",
   "id": "9f31b2bf5e178ed0"
  },
  {
   "metadata": {},
   "cell_type": "code",
   "outputs": [],
   "execution_count": null,
   "source": [
    "# Sanity check\n",
    "dist_cepii.isna().any()"
   ],
   "id": "92bc682ed4b34eb6"
  },
  {
   "metadata": {},
   "cell_type": "markdown",
   "source": "Check how many unique countries there are in both origin and destination. Numbers should match.",
   "id": "670baa59eb992a0d"
  },
  {
   "metadata": {},
   "cell_type": "code",
   "outputs": [],
   "execution_count": null,
   "source": [
    "print(\"Unique countries in origin column\", dist_cepii[\"origin\"].nunique())\n",
    "print(\"Unique countries in destination column\", dist_cepii[\"destination\"].nunique())"
   ],
   "id": "e6f6b14cb90b9990"
  },
  {
   "metadata": {},
   "cell_type": "code",
   "outputs": [],
   "execution_count": null,
   "source": "dist_cepii.head(5)",
   "id": "57f873f15b58e04a"
  },
  {
   "metadata": {},
   "cell_type": "markdown",
   "source": "Remove unwanted countries",
   "id": "3c10b9db98caa7a9"
  },
  {
   "metadata": {},
   "cell_type": "markdown",
   "source": [
    "### GSDB V4 Dyadic\n",
    "\n",
    "Inspect the `GSDB_V4_Dyadic.dta` - this should be a Stata file. What is the difference to `GSDB_V4.csv`?"
   ],
   "id": "250c55ff7f94e42b"
  },
  {
   "metadata": {},
   "cell_type": "code",
   "outputs": [],
   "execution_count": null,
   "source": [
    "gsdb_stata = pa.read_stata(\"data/sanctions/GSDB_V4_Dyadic.dta\")\n",
    "gsdb_csv = pa.read_csv(\"data/sanctions/GSDB_V4.csv\")"
   ],
   "id": "1ec75d9c2b983588"
  },
  {
   "metadata": {},
   "cell_type": "code",
   "outputs": [],
   "execution_count": null,
   "source": [
    "# Remove sanctions against terrorist organisations\n",
    "gsdb_stata = gsdb_stata[gsdb_stata[\"sanctioned_state_iso3\"].astype(str) != '']"
   ],
   "id": "6cc1ad8404c418d5"
  },
  {
   "metadata": {},
   "cell_type": "markdown",
   "source": "Retrieve rows that include `case_id` **471**:",
   "id": "52ab42af1cfe0591"
  },
  {
   "metadata": {},
   "cell_type": "code",
   "outputs": [],
   "execution_count": null,
   "source": "gsdb_stata[gsdb_stata[\"case_id\"].astype(str).str.contains(\"471\")]",
   "id": "6b5a3f7bb23e2582"
  },
  {
   "metadata": {},
   "cell_type": "code",
   "outputs": [],
   "execution_count": null,
   "source": "gsdb_stata.head(500)",
   "id": "52d9667b8fc410ff"
  },
  {
   "metadata": {},
   "cell_type": "code",
   "outputs": [],
   "execution_count": null,
   "source": "gsdb_csv.head(500)",
   "id": "49a5cf63f59c710f"
  },
  {
   "metadata": {},
   "cell_type": "code",
   "outputs": [],
   "execution_count": null,
   "source": [
    "print(\"Shape for Stata data: \", gsdb_stata.shape)\n",
    "print(\"Shape for XLS data:\", gsdb_csv.shape)"
   ],
   "id": "c94af8b557ce7a21"
  },
  {
   "metadata": {},
   "cell_type": "code",
   "outputs": [],
   "execution_count": null,
   "source": [
    "# Column names Stata\n",
    "gsdb_stata.info()"
   ],
   "id": "6c4b94baec6faef9"
  },
  {
   "metadata": {},
   "cell_type": "code",
   "outputs": [],
   "execution_count": null,
   "source": "gsdb_stata.dtypes",
   "id": "146c49273289a345"
  },
  {
   "metadata": {},
   "cell_type": "code",
   "outputs": [],
   "execution_count": null,
   "source": [
    "# Column names XLS\n",
    "gsdb_csv.info()"
   ],
   "id": "89689e7fcb11e75a"
  },
  {
   "metadata": {},
   "cell_type": "code",
   "outputs": [],
   "execution_count": null,
   "source": "gsdb_csv.dtypes",
   "id": "69d974618eca3a39"
  },
  {
   "metadata": {},
   "cell_type": "code",
   "outputs": [],
   "execution_count": null,
   "source": "gsdb_stata.isna().any()",
   "id": "bf7733f663e1b157"
  },
  {
   "metadata": {},
   "cell_type": "code",
   "outputs": [],
   "execution_count": null,
   "source": "(gsdb_stata[\"sanctioned_state_iso3\"].astype(str) == '').sum()",
   "id": "91d9b27375633683"
  },
  {
   "metadata": {},
   "cell_type": "code",
   "outputs": [],
   "execution_count": null,
   "source": "gsdb_stata[gsdb_stata[\"sanctioning_state_iso3\"] == \"YUG\"]",
   "id": "1de9a8755678519c"
  },
  {
   "metadata": {},
   "cell_type": "code",
   "outputs": [],
   "execution_count": null,
   "source": "gsdb_stata.head(4)",
   "id": "daa71dc458a50c8e"
  },
  {
   "metadata": {},
   "cell_type": "markdown",
   "source": "Try to unify names",
   "id": "62171f1d338ff73d"
  },
  {
   "metadata": {},
   "cell_type": "markdown",
   "source": "### GDP Data",
   "id": "e798481a69e8ac12"
  },
  {
   "metadata": {},
   "cell_type": "code",
   "outputs": [],
   "execution_count": null,
   "source": "gdp = pa.read_csv(filepath_or_buffer=\"data/economic/GDP(currentUSD)_1974-2023.csv\", sep=\",\", na_values=[\"..\", \"nan\"])",
   "id": "bf2b21850b3378a"
  },
  {
   "metadata": {},
   "cell_type": "code",
   "outputs": [],
   "execution_count": null,
   "source": "gdp = gdp.drop([\"Series Name\", \"Series Code\", \"Country Name\"], axis=1)",
   "id": "4f432b7376614bd"
  },
  {
   "metadata": {},
   "cell_type": "code",
   "outputs": [],
   "execution_count": null,
   "source": [
    "gdp = gdp.rename(columns=lambda x: x if not x.endswith(\"]\") else x.split(\" \")[0])\n",
    "gdp = gdp.rename(columns={ \"Country Code\": \"ISO3\" })"
   ],
   "id": "83289085018d1d55"
  },
  {
   "metadata": {},
   "cell_type": "code",
   "outputs": [],
   "execution_count": null,
   "source": "gdp.head(10)",
   "id": "76986a9fbbe91604"
  },
  {
   "metadata": {},
   "cell_type": "code",
   "outputs": [],
   "execution_count": null,
   "source": "gdp.info()",
   "id": "e31001e7ff9da34b"
  },
  {
   "metadata": {},
   "cell_type": "code",
   "outputs": [],
   "execution_count": null,
   "source": "gdp.shape",
   "id": "4c9297a71eadc20e"
  },
  {
   "metadata": {},
   "cell_type": "markdown",
   "source": "Check how many countries there are in the dataset.",
   "id": "14d083e51cf41b6f"
  },
  {
   "metadata": {},
   "cell_type": "code",
   "outputs": [],
   "execution_count": null,
   "source": "gdp[\"ISO3\"].nunique()",
   "id": "d51d9f448d0d0f59"
  },
  {
   "metadata": {},
   "cell_type": "code",
   "outputs": [],
   "execution_count": null,
   "source": "gdp[\"ISO3\"].isna().sum()",
   "id": "36d5eaf47889546c"
  },
  {
   "metadata": {},
   "cell_type": "code",
   "outputs": [],
   "execution_count": null,
   "source": [
    "gdp = gdp[~gdp[\"ISO3\"].isna()]\n",
    "print(\"Shape after removing NaN: \", gdp.shape)"
   ],
   "id": "36c170811cf66a0f"
  },
  {
   "metadata": {},
   "cell_type": "markdown",
   "source": "Check countries that are in CEPII, but not in GDP dataset.",
   "id": "aea664fee5765502"
  },
  {
   "metadata": {},
   "cell_type": "code",
   "outputs": [],
   "execution_count": null,
   "source": [
    "countries_unique_to_cepii = list(set(dist_cepii[\"origin\"].unique()) - set(gdp[\"ISO3\"].unique()))\n",
    "countries_unique_to_cepii"
   ],
   "id": "f6269d178c09d5e8"
  },
  {
   "metadata": {},
   "cell_type": "markdown",
   "source": "Check countries that are in GDP, but not in CEPII dataset.",
   "id": "1be285168dfb6747"
  },
  {
   "metadata": {},
   "cell_type": "code",
   "outputs": [],
   "execution_count": null,
   "source": [
    "countries_unique_to_gdp = list(set(gdp[\"ISO3\"].unique()) - set(dist_cepii[\"origin\"].unique()))\n",
    "countries_unique_to_gdp"
   ],
   "id": "84eb362a5a0de76c"
  },
  {
   "metadata": {},
   "cell_type": "markdown",
   "source": "### UN Comtrade",
   "id": "a00c958d7889a478"
  },
  {
   "metadata": {},
   "cell_type": "code",
   "outputs": [],
   "execution_count": null,
   "source": [
    "import pandas as pd\n",
    "import os\n",
    "\n",
    "# Specify the input and output file paths\n",
    "input_file = \"data/trade/Romania_2020_Plus\"  # Update with your input file's path\n",
    "output_file = \"data/trade/Romania_2020_Plus.xlsx\"  # Desired output Excel file path\n",
    "\n",
    "# Determine the file extension to decide how to read the input file\n",
    "_, ext = os.path.splitext(input_file)\n",
    "ext = ext.lower()\n",
    "\n",
    "df = None  # Initialize df\n",
    "\n",
    "\n",
    "def convert(active):\n",
    "  if active:\n",
    "    return\n",
    "  try:\n",
    "    if ext in ['.csv', '']:\n",
    "      # Assume the file is tab-delimited (TSV)\n",
    "      df = pd.read_csv(input_file, sep='\\t', low_memory=False)\n",
    "    elif ext in ['.xls', '.xlsx']:\n",
    "      df = pd.read_excel(input_file)\n",
    "    else:\n",
    "      raise ValueError(f\"Unsupported file extension: {ext}\")\n",
    "    print(\"File read successfully!\")\n",
    "  except Exception as e:\n",
    "    print(f\"Error reading the input file: {e}\")\n",
    "\n",
    "  # Only attempt conversion if the DataFrame was successfully created\n",
    "  if df is not None:\n",
    "    try:\n",
    "      df.to_excel(output_file, index=False)\n",
    "      print(f\"Conversion successful! The Excel file is saved as: {output_file}\")\n",
    "    except Exception as e:\n",
    "      print(f\"Error writing to Excel: {e}\")\n",
    "  else:\n",
    "    print(\"Skipping conversion to Excel because the input file could not be read.\")\n",
    "\n",
    "\n",
    "# Read the input file into a DataFrame\n",
    "convert(True)\n"
   ],
   "id": "14925b945321cf17"
  },
  {
   "metadata": {},
   "cell_type": "markdown",
   "source": "### Rename and remove countries",
   "id": "cd79cb64560bd4fa"
  },
  {
   "metadata": {},
   "cell_type": "code",
   "outputs": [],
   "execution_count": null,
   "source": [
    "gdp = gdp[~gdp.isin([\"CHI\"]).any(axis=1)]\n",
    "for key in replace_country_codes.keys():\n",
    "  for value in replace_country_codes[key][\"values\"]:\n",
    "    dist_cepii = dist_cepii.replace(value, key)\n",
    "    gdp = gdp.replace(value, key)\n",
    "    gsdb_stata = gsdb_stata.replace(value, key)\n",
    "    print(\"Replacing\", value, \"with\", key)"
   ],
   "id": "7f32b7857b29d85"
  },
  {
   "metadata": {},
   "cell_type": "code",
   "outputs": [],
   "execution_count": null,
   "source": [
    "\n",
    "dist_cepii = dist_cepii[~dist_cepii.isin(excluded_country_codes).any(axis=1)]\n",
    "gsdb_stata = gsdb_stata[~gsdb_stata.isin(excluded_country_codes).any(axis=1)]\n",
    "gdp = gdp[~gdp.isin(excluded_country_codes).any(axis=1)]"
   ],
   "id": "24fdf38ce19f5fb7"
  },
  {
   "metadata": {},
   "cell_type": "code",
   "outputs": [],
   "execution_count": null,
   "source": [
    "\n",
    "# Set distance for SER to the distance of YUG\n",
    "yug_rows = dist_cepii[dist_cepii.apply(lambda row: row.astype(str).str.contains(\"YUG\").any(), axis=1)].copy()\n",
    "yug_rows = yug_rows.replace(\"YUG\", \"SER\")\n",
    "dist_cepii = pd.concat([dist_cepii, yug_rows], ignore_index=True)"
   ],
   "id": "d5387da4623b9596"
  },
  {
   "metadata": {},
   "cell_type": "markdown",
   "source": [
    "\n",
    "\n",
    "## Collect and analyze country labels in all the data sets\n",
    "\n",
    "### Country codes"
   ],
   "id": "ce712ce9fd921762"
  },
  {
   "metadata": {},
   "cell_type": "code",
   "outputs": [],
   "execution_count": null,
   "source": [
    "country_codes = pa.read_excel(\"./data/geographic/country_codes.xls\",\n",
    "                              dtype={\n",
    "                                \"CountryCode\": object,\n",
    "                              })\n",
    "country_codes = country_codes[~country_codes.isin(excluded_country_codes).any(axis=1)]"
   ],
   "id": "6b442591f3abb22c"
  },
  {
   "metadata": {},
   "cell_type": "code",
   "outputs": [],
   "execution_count": null,
   "source": "country_codes = country_codes.rename(columns={ \"CountryCode\": \"UNDS\" })",
   "id": "36a248ce44130dc0"
  },
  {
   "metadata": {},
   "cell_type": "code",
   "outputs": [],
   "execution_count": null,
   "source": "country_codes.shape",
   "id": "b5849107a22b1cbd"
  },
  {
   "metadata": {},
   "cell_type": "code",
   "outputs": [],
   "execution_count": null,
   "source": [
    "# Check if all unique\n",
    "print(\"All Unique ?: \", country_codes.shape[0] == len(country_codes[\"ISO3\"].unique()))"
   ],
   "id": "630b5b5ee26cadd2"
  },
  {
   "metadata": {},
   "cell_type": "code",
   "outputs": [],
   "execution_count": null,
   "source": "country_codes_labels = country_codes[\"ISO3\"]",
   "id": "d6cfa24e1fbafd44"
  },
  {
   "metadata": {},
   "cell_type": "code",
   "outputs": [],
   "execution_count": null,
   "source": "np.array(country_codes_labels)",
   "id": "6d325a095d643f33"
  },
  {
   "metadata": {},
   "cell_type": "markdown",
   "source": "### DIST CEPII Labels",
   "id": "9f5cfb1586246c08"
  },
  {
   "metadata": {},
   "cell_type": "code",
   "outputs": [],
   "execution_count": null,
   "source": [
    "dist_labels_origin = dist_cepii[\"origin\"].unique()\n",
    "print(len(dist_labels_origin))\n",
    "dist_labels_origin"
   ],
   "id": "b2d9ace44ea4a636"
  },
  {
   "metadata": {},
   "cell_type": "code",
   "outputs": [],
   "execution_count": null,
   "source": [
    "dist_cepii[\"origin\"].unique()\n",
    "dist_cepii[\"origin\"].isna().sum()"
   ],
   "id": "336150bade0e0496"
  },
  {
   "metadata": {},
   "cell_type": "code",
   "outputs": [],
   "execution_count": null,
   "source": [
    "dist_labels_dest = dist_cepii[\"destination\"].unique()\n",
    "print(len(dist_labels_dest))\n",
    "dist_labels_dest"
   ],
   "id": "c4a9f86e51df8f90"
  },
  {
   "metadata": {},
   "cell_type": "code",
   "outputs": [],
   "execution_count": null,
   "source": "dist_cepii[\"destination\"]",
   "id": "1a1e0be756410d9d"
  },
  {
   "metadata": {},
   "cell_type": "code",
   "outputs": [],
   "execution_count": null,
   "source": [
    "# Check if there are any differences\n",
    "dist_labels_check = np.array(dist_labels_origin == dist_labels_dest)\n",
    "print(\"Any false:\", np.any(~dist_labels_check))"
   ],
   "id": "e32932c2fc0590fc"
  },
  {
   "metadata": {},
   "cell_type": "code",
   "outputs": [],
   "execution_count": null,
   "source": [
    "# Sanity check\n",
    "print(\"Sum of TRUE values: \", sum(dist_labels_check))\n",
    "print(\"Lenght of ALL values: \", len(dist_labels_check))"
   ],
   "id": "86c31c1fd3e82b5c"
  },
  {
   "metadata": {},
   "cell_type": "code",
   "outputs": [],
   "execution_count": null,
   "source": "dist_labels = dist_labels_origin",
   "id": "aafca96bf6225f20"
  },
  {
   "metadata": {},
   "cell_type": "code",
   "outputs": [],
   "execution_count": null,
   "source": "len(dist_labels)",
   "id": "44a0b7ae1b0d3090"
  },
  {
   "metadata": {},
   "cell_type": "code",
   "outputs": [],
   "execution_count": null,
   "source": "len(np.unique(dist_labels))",
   "id": "625b07b39e66b7fa"
  },
  {
   "metadata": {},
   "cell_type": "markdown",
   "source": "### GSDB Labels",
   "id": "c254003e56c77b9a"
  },
  {
   "metadata": {},
   "cell_type": "code",
   "outputs": [],
   "execution_count": null,
   "source": [
    "gsdb_sanctioning_labels = gsdb_stata[\"sanctioning_state_iso3\"].unique()\n",
    "gsdb_sanctioned_labels = gsdb_stata[\"sanctioned_state_iso3\"].unique()"
   ],
   "id": "6745b70d34aab0c4"
  },
  {
   "metadata": {},
   "cell_type": "code",
   "outputs": [],
   "execution_count": null,
   "source": [
    "print(\"Number of unique sanctioning: \", len(gsdb_sanctioning_labels))\n",
    "print(\"Number of unique sanctioned: \", len(gsdb_sanctioned_labels))"
   ],
   "id": "76607e8590f82600"
  },
  {
   "metadata": {},
   "cell_type": "code",
   "outputs": [],
   "execution_count": null,
   "source": [
    "unique_to_sanctioning = list(set(gsdb_sanctioning_labels) - set(gsdb_sanctioned_labels))\n",
    "print(\"Unique to SANCTIONING:\", unique_to_sanctioning)\n",
    "\n",
    "unique_to_sanctioned = list(set(gsdb_sanctioned_labels) - set(gsdb_sanctioning_labels))\n",
    "print(\"Unique to SANCTIONED: \", unique_to_sanctioned)"
   ],
   "id": "fa93c5f21dfd924c"
  },
  {
   "metadata": {},
   "cell_type": "code",
   "outputs": [],
   "execution_count": null,
   "source": [
    "gsdb_labels = np.union1d(gsdb_sanctioned_labels, gsdb_sanctioning_labels)\n",
    "print(\"Total numbers of GSDB labels: \", len(gsdb_labels))"
   ],
   "id": "c17c174cb03eba89"
  },
  {
   "metadata": {},
   "cell_type": "markdown",
   "source": "### GDP Labels",
   "id": "6afe60a214b49208"
  },
  {
   "metadata": {},
   "cell_type": "code",
   "outputs": [],
   "execution_count": null,
   "source": [
    "gdp_labels = gdp[\"ISO3\"].unique()\n",
    "gdp_labels"
   ],
   "id": "b65235b37b2ec186"
  },
  {
   "metadata": {},
   "cell_type": "markdown",
   "source": "### Matching",
   "id": "55ef8436dee7a522"
  },
  {
   "metadata": {},
   "cell_type": "code",
   "outputs": [],
   "execution_count": null,
   "source": [
    "print(\"Number of DIST CEPII labels: \", len(dist_labels))\n",
    "print(\"Number of GSDB labels: \", len(gsdb_labels))\n",
    "print(\"Number of GDP labels: \", len(gdp_labels))\n",
    "print(\"Number of country codes: \", len(country_codes_labels))\n",
    "\n",
    "label_arrays = [dist_labels, gsdb_labels, gdp_labels, country_codes_labels]\n",
    "\n",
    "intersection_labels = ft.reduce(np.intersect1d, label_arrays)\n",
    "\n",
    "print(\"Total number of intersect labels: \", len(intersection_labels))"
   ],
   "id": "3935a23a8c50b3f1"
  },
  {
   "metadata": {},
   "cell_type": "code",
   "outputs": [],
   "execution_count": null,
   "source": "intersection_labels",
   "id": "d96aaff97e3227a"
  },
  {
   "metadata": {},
   "cell_type": "code",
   "outputs": [],
   "execution_count": null,
   "source": [
    "# Intersection of each set with each other\n",
    "inter_dist_gsdb = np.intersect1d(gsdb_labels, dist_labels)\n",
    "print(\"Intersect DIST CEPII and GSDB labels: \", len(inter_dist_gsdb))\n",
    "list(set(gsdb_labels) - set(inter_dist_gsdb))"
   ],
   "id": "4aee2a89378350fc"
  },
  {
   "metadata": {},
   "cell_type": "code",
   "outputs": [],
   "execution_count": null,
   "source": "list(set(dist_labels) - set(intersection_labels))",
   "id": "50958fecec026f00"
  },
  {
   "metadata": {},
   "cell_type": "code",
   "outputs": [],
   "execution_count": null,
   "source": "list(set(gsdb_labels) - set(intersection_labels))",
   "id": "e6d95d6e6df0b809"
  },
  {
   "metadata": {},
   "cell_type": "code",
   "outputs": [],
   "execution_count": null,
   "source": "list(set(gdp_labels) - set(intersection_labels))",
   "id": "15dcccf280eaeb44"
  },
  {
   "metadata": {},
   "cell_type": "code",
   "outputs": [],
   "execution_count": null,
   "source": "list(set(country_codes_labels) - set(intersection_labels))",
   "id": "a3bc35aaa917398b"
  },
  {
   "metadata": {},
   "cell_type": "code",
   "outputs": [],
   "execution_count": null,
   "source": [
    "############\n",
    "############\n",
    "############"
   ],
   "id": "d8f156334509e6b2"
  },
  {
   "metadata": {},
   "cell_type": "markdown",
   "source": [
    "## Combine Data Sets\n",
    "Merge the existing data sets into combined data sets for data exploration"
   ],
   "id": "1283ef84c020b77d"
  },
  {
   "metadata": {},
   "cell_type": "markdown",
   "source": [
    "## Combine Data Sets\n",
    "Merge the existing data sets into combined data sets for data exploration"
   ],
   "id": "ce886a24a15b94f2"
  },
  {
   "metadata": {},
   "cell_type": "markdown",
   "source": [
    "## Combine Data Sets\n",
    "Merge the existing data sets into combined data sets for data exploration"
   ],
   "id": "f7c36fe1576be749"
  },
  {
   "metadata": {},
   "cell_type": "code",
   "outputs": [],
   "execution_count": null,
   "source": [
    "# First combine country codes and GDP\n",
    "country_codes.info()"
   ],
   "id": "c7160098d206f7b3"
  },
  {
   "metadata": {},
   "cell_type": "code",
   "outputs": [],
   "execution_count": null,
   "source": "country_codes.shape",
   "id": "c7064d0dde7ea674"
  },
  {
   "metadata": {},
   "cell_type": "code",
   "outputs": [],
   "execution_count": null,
   "source": "gdp.info()",
   "id": "93c1e77c0621249e"
  },
  {
   "metadata": {},
   "cell_type": "code",
   "outputs": [],
   "execution_count": null,
   "source": "gdp.shape",
   "id": "2a4bbe17956b5d48"
  },
  {
   "metadata": {},
   "cell_type": "code",
   "outputs": [],
   "execution_count": null,
   "source": [
    "# Inner join GDP and Country Names\n",
    "gdp_countries = pa.merge(\n",
    "  gdp[gdp[\"ISO3\"].isin(intersection_labels)],\n",
    "  country_codes[country_codes[\"ISO3\"].isin(intersection_labels)]\n",
    "  , on=\"ISO3\", how=\"inner\", validate=\"m:m\")\n",
    "gdp_countries.info()\n",
    "list(set(gdp_countries[\"ISO3\"]) - set(intersection_labels))\n",
    "len(intersection_labels)\n",
    "len(gdp_countries[\"ISO3\"].unique())"
   ],
   "id": "abedfdbcb2fdf2cb"
  },
  {
   "metadata": {},
   "cell_type": "code",
   "outputs": [],
   "execution_count": null,
   "source": "gdp_countries.shape",
   "id": "f59a0c979f7b0aa"
  },
  {
   "metadata": {},
   "cell_type": "code",
   "outputs": [],
   "execution_count": null,
   "source": "gdp_countries.head(5)",
   "id": "889762749139c288"
  },
  {
   "metadata": {},
   "cell_type": "code",
   "outputs": [],
   "execution_count": null,
   "source": "gdp_countries",
   "id": "e6200912581c790c"
  },
  {
   "metadata": {},
   "cell_type": "markdown",
   "source": "## Data Visualization",
   "id": "2578224e9fab5e58"
  },
  {
   "metadata": {},
   "cell_type": "code",
   "outputs": [],
   "execution_count": null,
   "source": [
    "sns.set_theme()\n",
    "sns.color_palette(\"colorblind\")"
   ],
   "id": "449420ae91a3df96"
  },
  {
   "metadata": {},
   "cell_type": "code",
   "outputs": [],
   "execution_count": null,
   "source": [
    "gdp_sorted = gdp_countries.sort_values(by=[\"2023\"], ascending=False)\n",
    "gdp_sorted = gdp_sorted[[\"Country Name\", \"2023\"]]"
   ],
   "id": "720deda0a1f8fba7"
  },
  {
   "metadata": {},
   "cell_type": "code",
   "outputs": [],
   "execution_count": null,
   "source": "gdp_sorted",
   "id": "608652b3825b5e54"
  },
  {
   "metadata": {},
   "cell_type": "code",
   "outputs": [],
   "execution_count": null,
   "source": "gdp_sorted.describe()",
   "id": "bd07cf3bb115d216"
  },
  {
   "metadata": {},
   "cell_type": "code",
   "outputs": [],
   "execution_count": null,
   "source": [
    "gdp_year_values = gdp_countries[gdp_countries.columns.difference([\"ISO3\", \"Country Name\", \"UNDS\"])]\n",
    "gdp_logs = np.log(gdp_year_values)\n",
    "gdp_scaled = gdp_year_values.apply(\n",
    "  lambda col: preprocessing.MinMaxScaler().fit_transform(col.values.reshape(-1, 1)).flatten()\n",
    ")\n",
    "gdp_scaled"
   ],
   "id": "e433f6b081b63b72"
  },
  {
   "metadata": {},
   "cell_type": "code",
   "outputs": [],
   "execution_count": null,
   "source": "sns.displot(data=gdp_logs, x=\"2023\")",
   "id": "7ed32137b0e6b2d3"
  },
  {
   "metadata": {},
   "cell_type": "code",
   "outputs": [],
   "execution_count": null,
   "source": "sns.boxplot(data=gdp_logs, x=\"2023\")",
   "id": "6f6807b44edf47e7"
  },
  {
   "metadata": {},
   "cell_type": "code",
   "outputs": [],
   "execution_count": null,
   "source": [
    "gdp_operation = gdp_logs\n",
    "gdp_max = gdp_operation.max()\n",
    "gdp_min = gdp_operation.min()\n",
    "gdp_mean = gdp_operation.mean()\n",
    "gdp_missing = gdp_operation.isna().sum()\n",
    "gdp_stats = {\n",
    "  \"Year\": gdp_logs.columns,\n",
    "  \"Max\": gdp_max.values,\n",
    "  \"Q.75\": gdp_operation.quantile(q=0.75).values,\n",
    "  \"Mean\": gdp_mean.values,\n",
    "  \"Q.25\": gdp_operation.quantile(q=0.25).values,\n",
    "  \"Min\": gdp_min.values,\n",
    "  \"Missing\": gdp_missing.values,\n",
    "}\n",
    "gdp_stats = pa.DataFrame(data=gdp_stats)\n",
    "gdp_stats = gdp_stats.sort_values(\"Year\").reset_index(drop=True)\n",
    "gdp_stats[\"Year\"] = gdp_stats[\"Year\"].astype(int)"
   ],
   "id": "7541aa6ffd4dc349"
  },
  {
   "metadata": {},
   "cell_type": "code",
   "outputs": [],
   "execution_count": null,
   "source": [
    "long_stats = pd.melt(gdp_stats, id_vars=\"Year\",\n",
    "                     var_name=\"Measure\", value_name=\"Value\")\n",
    "long_stats"
   ],
   "id": "88517ef7fb4e3344"
  },
  {
   "metadata": {},
   "cell_type": "code",
   "outputs": [],
   "execution_count": null,
   "source": [
    "def calculate_yearly_change(column_name):\n",
    "  previous = gdp_stats[column_name].shift(1)\n",
    "  current = gdp_stats[column_name]\n",
    "\n",
    "  change_percent = ((current[1:].values - previous[1:].values) / current[1:].values) * 100\n",
    "  change_percent = pd.Series(change_percent).round(5)\n",
    "  return change_percent\n",
    "\n",
    "\n",
    "# Compute change from previous year (1975 has 1974 as \"previous year\")\n",
    "\n",
    "\n",
    "yearly_change_percentage = pd.DataFrame({\n",
    "  \"Year\": gdp_stats[\"Year\"][1:].values,\n",
    "  \"%-Change-Max\": calculate_yearly_change(\"Max\"),\n",
    "  \"%-Change-Min\": calculate_yearly_change(\"Min\"),\n",
    "  \"%-Change-Mean\": calculate_yearly_change(\"Mean\"),\n",
    "  \"%-Change-Q.25\": calculate_yearly_change(\"Q.25\"),\n",
    "  \"%-Change-Q.75\": calculate_yearly_change(\"Q.75\"),\n",
    "})"
   ],
   "id": "afb0bc5b7825609a"
  },
  {
   "metadata": {},
   "cell_type": "code",
   "outputs": [],
   "execution_count": null,
   "source": [
    "long_yearly = pd.melt(yearly_change_percentage, id_vars=\"Year\",\n",
    "                      var_name=\"Statistic\", value_name=\"Percent Change\")\n",
    "sns.lineplot(\n",
    "  data=long_yearly, x=\"Year\", y=\"Percent Change\", hue=\"Statistic\", style=\"Statistic\"\n",
    ")"
   ],
   "id": "f11ae9bf153f34f2"
  },
  {
   "metadata": {},
   "cell_type": "code",
   "outputs": [],
   "execution_count": null,
   "source": "long_yearly",
   "id": "170ff4c86e05baba"
  },
  {
   "metadata": {},
   "cell_type": "code",
   "outputs": [],
   "execution_count": null,
   "source": [
    "custom_dashes = {\n",
    "  'Mean': '',\n",
    "  'Q.75': (5, 5),\n",
    "  'Q.25': (5, 5),\n",
    "  'Max': '',\n",
    "  'Min': '',\n",
    "  'Missing': (1, 1),\n",
    "}\n",
    "sns.lineplot(\n",
    "  data=long_stats,\n",
    "  x=\"Year\",\n",
    "  y=\"Value\",\n",
    "  hue=\"Measure\",\n",
    "  style=\"Measure\",\n",
    "  dashes=custom_dashes\n",
    ")"
   ],
   "id": "5582032a9c5689e8"
  },
  {
   "metadata": {},
   "cell_type": "code",
   "outputs": [],
   "execution_count": null,
   "source": "",
   "id": "9011b5d35c4e3142"
  },
  {
   "metadata": {},
   "cell_type": "markdown",
   "source": [
    "---\n",
    "\n",
    "\n",
    "\n",
    "\n",
    "\n",
    "\n",
    "\n",
    "# --- ENDE GELÄNDE ---"
   ],
   "id": "66a7b8e92770613f"
  },
  {
   "metadata": {},
   "cell_type": "code",
   "outputs": [],
   "execution_count": null,
   "source": "",
   "id": "e74129c80742e388"
  }
 ],
 "metadata": {
  "kernelspec": {
   "display_name": "Python 3",
   "language": "python",
   "name": "python3"
  },
  "language_info": {
   "codemirror_mode": {
    "name": "ipython",
    "version": 2
   },
   "file_extension": ".py",
   "mimetype": "text/x-python",
   "name": "python",
   "nbconvert_exporter": "python",
   "pygments_lexer": "ipython2",
   "version": "2.7.6"
  }
 },
 "nbformat": 4,
 "nbformat_minor": 5
}
