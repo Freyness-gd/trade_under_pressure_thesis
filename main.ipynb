{
 "cells": [
  {
   "metadata": {},
   "cell_type": "raw",
   "source": "",
   "id": "272e29ad90bcfa61"
  },
  {
   "metadata": {},
   "cell_type": "markdown",
   "source": [
    "# Trade Under Pressure\n",
    "\n"
   ],
   "id": "8a77807f92f26ee"
  },
  {
   "metadata": {},
   "cell_type": "markdown",
   "source": "## Import packages",
   "id": "f877ce19c98696f6"
  },
  {
   "metadata": {
    "ExecuteTime": {
     "end_time": "2025-03-16T16:36:43.936305Z",
     "start_time": "2025-03-16T16:36:43.934689Z"
    }
   },
   "cell_type": "code",
   "source": [
    "import pandas as pa\n",
    "import numpy as np\n",
    "import functools as ft"
   ],
   "id": "3e75a232a14bb24a",
   "outputs": [],
   "execution_count": 719
  },
  {
   "metadata": {
    "ExecuteTime": {
     "end_time": "2025-03-16T16:36:43.957789Z",
     "start_time": "2025-03-16T16:36:43.955700Z"
    }
   },
   "cell_type": "code",
   "source": [
    "# Excluded country codes\n",
    "excluded_country_codes = [\n",
    "    \"NCL\", \"ZAR\", \"WLF\", \"NFK\", \"PAL\", \"MNP\", \"SHN\", \"COK\",\n",
    "    \"BMU\", \"PYF\", \"NIU\", \"ANT\", \"VGB\", \"TMP\", \"GUF\", \"CYM\",\n",
    "    \"TCA\", \"REU\", \"FLK\", \"GLP\", \"TKL\", \"MTQ\", \"AIA\", \"SPM\",\n",
    "    \"SSD\", \"MNT\", \"DDR\", \"BYS\", \"MNE\", \"TLS\", \"LIE\", \"VAT\",\n",
    "    \"CSK\", \"MSR\", \"PSE\", \"DHY\", \"KOS\", \"KSV\", \"RHO\", \"HVO\",\n",
    "    \"VDR\", \"MCO\", \"SVU\", \"XKX\", \"ASM\", \"VIR\", \"SXM\", \"CUW\",\n",
    "    \"MAF\", \"GUM\", \"IMN\", \"MAC\", \"PCN\", \"ALI\", \"YDR\", \"ATA\",\n",
    "    \"CXR\", \"MID\", \"SJM\", \"SPE\", \"UMI\", \"SIK\", \"BAT\", \"GAZ\",\n",
    "    \"BUN\", \"SGS\", \"ETF\", \"PCZ\", \"TAN\", \"JTN\", \"RYU\", \"PCE\",\n",
    "    \"CCK\", \"BVT\", \"USP\", \"KN1\", \"ATF\", \"ZPM\", \"IOT\", \"MYT\",\n",
    "    \"HMD\", \"SWK\", \"WAK\", \"SVR\", \"ZW1\", \"PMY\", \"FRE\", \"BLX\",\n",
    "    \"UNS\", \"SBH\", \"NZE\"\n",
    "]\n",
    "\n",
    "replace_country_codes = {\n",
    "    \"ROM\" : {\n",
    "       \"values\": [\"ROU\"]\n",
    "    },\n",
    "    \"SER\": {\n",
    "        \"values\": [\"SRB\"]\n",
    "    },\n",
    "    \"COG\": {\n",
    "        \"values\": [\"COD\"]\n",
    "    },\n",
    "    \"CHL\": {\n",
    "        \"values\": [\"CHI\"]\n",
    "    },\n",
    "}"
   ],
   "id": "d98ec1dc0e716f7a",
   "outputs": [],
   "execution_count": 720
  },
  {
   "metadata": {},
   "cell_type": "markdown",
   "source": [
    "## Data preprocessing\n",
    "### Dist CEPII"
   ],
   "id": "b3e3e73bcc822b29"
  },
  {
   "metadata": {
    "ExecuteTime": {
     "end_time": "2025-03-16T16:36:44.422999Z",
     "start_time": "2025-03-16T16:36:43.967557Z"
    }
   },
   "cell_type": "code",
   "source": [
    "# Loading and preprocessing Dist CEPII dataset\n",
    "dist_cepii = pa.read_excel(\"./data/geographic/dist_cepii.xls\",\n",
    "                           index_col=None, header=0,\n",
    "                           na_values=[\".\", \"nan\", \"NaN\"], verbose=True, decimal=\",\",\n",
    "                           dtype={\"contig\": bool, \"comlang_off\": bool,\n",
    "                                  \"comlang_ethno\": bool, \"colony\": bool,\n",
    "                                  \"smctry\": bool}\n",
    "                           )\n",
    "dist_cepii = dist_cepii.drop([\"comcol\", \"curcol\", \"col45\"], axis=1)\n",
    "dist_cepii = dist_cepii.rename(columns={\"iso_o\": \"origin\", \"iso_d\": \"destination\"})"
   ],
   "id": "fbc121e30a2defb3",
   "outputs": [
    {
     "name": "stdout",
     "output_type": "stream",
     "text": [
      "Reading sheet 0\n"
     ]
    }
   ],
   "execution_count": 721
  },
  {
   "metadata": {},
   "cell_type": "markdown",
   "source": "Inspect DataFrame properties",
   "id": "8379773b8555c80d"
  },
  {
   "metadata": {
    "ExecuteTime": {
     "end_time": "2025-03-16T16:36:44.463049Z",
     "start_time": "2025-03-16T16:36:44.457176Z"
    }
   },
   "cell_type": "code",
   "source": "dist_cepii.head(n=50)",
   "id": "522a3f983df7eab1",
   "outputs": [
    {
     "data": {
      "text/plain": [
       "   origin destination  contig  comlang_off  comlang_ethno  colony  smctry  \\\n",
       "0     ABW         ABW   False        False          False   False   False   \n",
       "1     ABW         AFG   False        False          False   False   False   \n",
       "2     ABW         AGO   False        False          False   False   False   \n",
       "3     ABW         AIA   False        False           True   False   False   \n",
       "4     ABW         ALB   False        False          False   False   False   \n",
       "5     ABW         AND   False         True          False   False   False   \n",
       "6     ABW         ANT   False         True           True   False    True   \n",
       "7     ABW         ARE   False        False          False   False   False   \n",
       "8     ABW         ARG   False         True          False   False   False   \n",
       "9     ABW         ARM   False        False          False   False   False   \n",
       "10    ABW         ATG   False        False           True   False   False   \n",
       "11    ABW         AUS   False        False           True   False   False   \n",
       "12    ABW         AUT   False        False          False   False   False   \n",
       "13    ABW         AZE   False        False          False   False   False   \n",
       "14    ABW         BDI   False        False          False   False   False   \n",
       "15    ABW         BEL   False         True           True   False   False   \n",
       "16    ABW         BEN   False        False          False   False   False   \n",
       "17    ABW         BFA   False        False          False   False   False   \n",
       "18    ABW         BGD   False        False          False   False   False   \n",
       "19    ABW         BGR   False        False          False   False   False   \n",
       "20    ABW         BHR   False        False          False   False   False   \n",
       "21    ABW         BHS   False        False           True   False   False   \n",
       "22    ABW         BIH   False        False          False   False   False   \n",
       "23    ABW         BLR   False        False          False   False   False   \n",
       "24    ABW         BLZ   False         True           True   False   False   \n",
       "25    ABW         BMU   False        False           True   False   False   \n",
       "26    ABW         BOL   False         True          False   False   False   \n",
       "27    ABW         BRA   False        False          False   False   False   \n",
       "28    ABW         BRB   False        False           True   False   False   \n",
       "29    ABW         BRN   False        False          False   False   False   \n",
       "30    ABW         BTN   False        False          False   False   False   \n",
       "31    ABW         BWA   False        False           True   False   False   \n",
       "32    ABW         CAF   False        False          False   False   False   \n",
       "33    ABW         CAN   False        False           True   False   False   \n",
       "34    ABW         CCK   False        False           True   False   False   \n",
       "35    ABW         CHE   False        False          False   False   False   \n",
       "36    ABW         CHL   False         True          False   False   False   \n",
       "37    ABW         CHN   False        False          False   False   False   \n",
       "38    ABW         CIV   False        False          False   False   False   \n",
       "39    ABW         CMR   False        False           True   False   False   \n",
       "40    ABW         COG   False        False          False   False   False   \n",
       "41    ABW         COK   False        False           True   False   False   \n",
       "42    ABW         COL   False         True          False   False   False   \n",
       "43    ABW         COM   False        False          False   False   False   \n",
       "44    ABW         CPV   False        False          False   False   False   \n",
       "45    ABW         CRI   False         True          False   False   False   \n",
       "46    ABW         CUB   False         True          False   False   False   \n",
       "47    ABW         CXR   False        False           True   False   False   \n",
       "48    ABW         CYM   False        False           True   False   False   \n",
       "49    ABW         CYP   False        False          False   False   False   \n",
       "\n",
       "            dist       distcap        distw     distwces  \n",
       "0       5.225315      5.225315     25.09354     23.04723  \n",
       "1   13257.810000  13257.810000  13168.22000  13166.37000  \n",
       "2    9516.913000   9516.913000   9587.31600   9584.19300  \n",
       "3     983.268200    983.268200    976.89740    976.89160  \n",
       "4    9091.742000   9091.742000   9091.57600   9091.46600  \n",
       "5    7572.788000   7572.788000   7570.08400   7570.08300  \n",
       "6     136.384800    136.384800    239.90640    142.85830  \n",
       "7   12735.010000  12735.010000  12773.08000  12772.95000  \n",
       "8    5396.220000   5396.220000   5187.78800   5157.12600  \n",
       "9   11107.780000  11107.780000  11106.96000  11106.76000  \n",
       "10   1024.995000   1024.995000   1011.00300   1010.38300  \n",
       "11  15237.500000  15354.320000  15670.46000  15638.10000  \n",
       "12   8719.130000   8719.130000   8632.97100   8631.02200  \n",
       "13  11503.000000  11503.000000  11421.98000  11420.91000  \n",
       "14  11120.470000  11120.470000  11138.74000  11138.61000  \n",
       "15   7847.070000   7847.070000   7843.25500   7843.00600  \n",
       "16   7979.945000   8006.697000   7915.63800   7915.21400  \n",
       "17   7414.016000   7414.016000   7348.56800   7346.22800  \n",
       "18  15473.460000  15473.460000  15486.16000  15485.50000  \n",
       "19   9348.039000   9348.039000   9471.46200   9469.65400  \n",
       "20  12308.360000  12308.360000  12296.99000  12296.99000  \n",
       "21   1588.515000   1588.515000   1634.51500   1628.14300  \n",
       "22   8936.664000   8936.664000   8888.42000   8887.93100  \n",
       "23   9382.626000   9382.626000   9417.68300   9415.66000  \n",
       "24   2076.216000   2076.216000   2062.07100   2061.48300  \n",
       "25   2263.787000   2263.787000   2275.43200   2275.41300  \n",
       "26   3240.231000   3560.684000   3366.75800   3353.86700  \n",
       "27   4759.608000   3988.915000   4431.57100   4272.20400  \n",
       "28   1139.240000   1139.240000   1127.65200   1127.61500  \n",
       "29  18008.870000  18008.870000  18042.75000  18042.71000  \n",
       "30  15070.870000  15070.870000  15106.37000  15106.25000  \n",
       "31  11196.280000  11196.280000  11178.83000  11177.61000  \n",
       "32   9771.960000   9771.960000   9729.20100   9725.60000  \n",
       "33   3573.887000   3696.783000   4316.01300   4100.32300  \n",
       "34  18614.290000  18614.290000          NaN          NaN  \n",
       "35   8056.332000   8056.332000   8074.21000   8073.51000  \n",
       "36   5125.680000   5125.680000   5093.85200   5028.64100  \n",
       "37  14155.350000  14155.350000  14590.92000  14560.28000  \n",
       "38   7293.883000   7124.627000   7194.49600   7192.19000  \n",
       "39   9014.291000   9014.291000   8947.10400   8944.59100  \n",
       "40   9613.901000   9613.901000   9476.89100   9474.11300  \n",
       "41  10484.670000  10484.670000  10477.74000  10477.08000  \n",
       "42   1036.634000   1036.634000    929.58870    861.24520  \n",
       "43  12802.650000  12802.650000  12839.00000  12838.67000  \n",
       "44   5036.386000   5036.386000   4961.88600   4960.57100  \n",
       "45   1550.772000   1550.772000   1572.26300   1570.80400  \n",
       "46   1754.738000   1754.738000   1485.84800   1417.22100  \n",
       "47  19519.520000  19519.520000          NaN          NaN  \n",
       "48   1421.378000   1421.378000   1436.75000   1436.67200  \n",
       "49  10403.220000  10403.220000  10398.70000  10398.61000  "
      ],
      "text/html": [
       "<div>\n",
       "<style scoped>\n",
       "    .dataframe tbody tr th:only-of-type {\n",
       "        vertical-align: middle;\n",
       "    }\n",
       "\n",
       "    .dataframe tbody tr th {\n",
       "        vertical-align: top;\n",
       "    }\n",
       "\n",
       "    .dataframe thead th {\n",
       "        text-align: right;\n",
       "    }\n",
       "</style>\n",
       "<table border=\"1\" class=\"dataframe\">\n",
       "  <thead>\n",
       "    <tr style=\"text-align: right;\">\n",
       "      <th></th>\n",
       "      <th>origin</th>\n",
       "      <th>destination</th>\n",
       "      <th>contig</th>\n",
       "      <th>comlang_off</th>\n",
       "      <th>comlang_ethno</th>\n",
       "      <th>colony</th>\n",
       "      <th>smctry</th>\n",
       "      <th>dist</th>\n",
       "      <th>distcap</th>\n",
       "      <th>distw</th>\n",
       "      <th>distwces</th>\n",
       "    </tr>\n",
       "  </thead>\n",
       "  <tbody>\n",
       "    <tr>\n",
       "      <th>0</th>\n",
       "      <td>ABW</td>\n",
       "      <td>ABW</td>\n",
       "      <td>False</td>\n",
       "      <td>False</td>\n",
       "      <td>False</td>\n",
       "      <td>False</td>\n",
       "      <td>False</td>\n",
       "      <td>5.225315</td>\n",
       "      <td>5.225315</td>\n",
       "      <td>25.09354</td>\n",
       "      <td>23.04723</td>\n",
       "    </tr>\n",
       "    <tr>\n",
       "      <th>1</th>\n",
       "      <td>ABW</td>\n",
       "      <td>AFG</td>\n",
       "      <td>False</td>\n",
       "      <td>False</td>\n",
       "      <td>False</td>\n",
       "      <td>False</td>\n",
       "      <td>False</td>\n",
       "      <td>13257.810000</td>\n",
       "      <td>13257.810000</td>\n",
       "      <td>13168.22000</td>\n",
       "      <td>13166.37000</td>\n",
       "    </tr>\n",
       "    <tr>\n",
       "      <th>2</th>\n",
       "      <td>ABW</td>\n",
       "      <td>AGO</td>\n",
       "      <td>False</td>\n",
       "      <td>False</td>\n",
       "      <td>False</td>\n",
       "      <td>False</td>\n",
       "      <td>False</td>\n",
       "      <td>9516.913000</td>\n",
       "      <td>9516.913000</td>\n",
       "      <td>9587.31600</td>\n",
       "      <td>9584.19300</td>\n",
       "    </tr>\n",
       "    <tr>\n",
       "      <th>3</th>\n",
       "      <td>ABW</td>\n",
       "      <td>AIA</td>\n",
       "      <td>False</td>\n",
       "      <td>False</td>\n",
       "      <td>True</td>\n",
       "      <td>False</td>\n",
       "      <td>False</td>\n",
       "      <td>983.268200</td>\n",
       "      <td>983.268200</td>\n",
       "      <td>976.89740</td>\n",
       "      <td>976.89160</td>\n",
       "    </tr>\n",
       "    <tr>\n",
       "      <th>4</th>\n",
       "      <td>ABW</td>\n",
       "      <td>ALB</td>\n",
       "      <td>False</td>\n",
       "      <td>False</td>\n",
       "      <td>False</td>\n",
       "      <td>False</td>\n",
       "      <td>False</td>\n",
       "      <td>9091.742000</td>\n",
       "      <td>9091.742000</td>\n",
       "      <td>9091.57600</td>\n",
       "      <td>9091.46600</td>\n",
       "    </tr>\n",
       "    <tr>\n",
       "      <th>5</th>\n",
       "      <td>ABW</td>\n",
       "      <td>AND</td>\n",
       "      <td>False</td>\n",
       "      <td>True</td>\n",
       "      <td>False</td>\n",
       "      <td>False</td>\n",
       "      <td>False</td>\n",
       "      <td>7572.788000</td>\n",
       "      <td>7572.788000</td>\n",
       "      <td>7570.08400</td>\n",
       "      <td>7570.08300</td>\n",
       "    </tr>\n",
       "    <tr>\n",
       "      <th>6</th>\n",
       "      <td>ABW</td>\n",
       "      <td>ANT</td>\n",
       "      <td>False</td>\n",
       "      <td>True</td>\n",
       "      <td>True</td>\n",
       "      <td>False</td>\n",
       "      <td>True</td>\n",
       "      <td>136.384800</td>\n",
       "      <td>136.384800</td>\n",
       "      <td>239.90640</td>\n",
       "      <td>142.85830</td>\n",
       "    </tr>\n",
       "    <tr>\n",
       "      <th>7</th>\n",
       "      <td>ABW</td>\n",
       "      <td>ARE</td>\n",
       "      <td>False</td>\n",
       "      <td>False</td>\n",
       "      <td>False</td>\n",
       "      <td>False</td>\n",
       "      <td>False</td>\n",
       "      <td>12735.010000</td>\n",
       "      <td>12735.010000</td>\n",
       "      <td>12773.08000</td>\n",
       "      <td>12772.95000</td>\n",
       "    </tr>\n",
       "    <tr>\n",
       "      <th>8</th>\n",
       "      <td>ABW</td>\n",
       "      <td>ARG</td>\n",
       "      <td>False</td>\n",
       "      <td>True</td>\n",
       "      <td>False</td>\n",
       "      <td>False</td>\n",
       "      <td>False</td>\n",
       "      <td>5396.220000</td>\n",
       "      <td>5396.220000</td>\n",
       "      <td>5187.78800</td>\n",
       "      <td>5157.12600</td>\n",
       "    </tr>\n",
       "    <tr>\n",
       "      <th>9</th>\n",
       "      <td>ABW</td>\n",
       "      <td>ARM</td>\n",
       "      <td>False</td>\n",
       "      <td>False</td>\n",
       "      <td>False</td>\n",
       "      <td>False</td>\n",
       "      <td>False</td>\n",
       "      <td>11107.780000</td>\n",
       "      <td>11107.780000</td>\n",
       "      <td>11106.96000</td>\n",
       "      <td>11106.76000</td>\n",
       "    </tr>\n",
       "    <tr>\n",
       "      <th>10</th>\n",
       "      <td>ABW</td>\n",
       "      <td>ATG</td>\n",
       "      <td>False</td>\n",
       "      <td>False</td>\n",
       "      <td>True</td>\n",
       "      <td>False</td>\n",
       "      <td>False</td>\n",
       "      <td>1024.995000</td>\n",
       "      <td>1024.995000</td>\n",
       "      <td>1011.00300</td>\n",
       "      <td>1010.38300</td>\n",
       "    </tr>\n",
       "    <tr>\n",
       "      <th>11</th>\n",
       "      <td>ABW</td>\n",
       "      <td>AUS</td>\n",
       "      <td>False</td>\n",
       "      <td>False</td>\n",
       "      <td>True</td>\n",
       "      <td>False</td>\n",
       "      <td>False</td>\n",
       "      <td>15237.500000</td>\n",
       "      <td>15354.320000</td>\n",
       "      <td>15670.46000</td>\n",
       "      <td>15638.10000</td>\n",
       "    </tr>\n",
       "    <tr>\n",
       "      <th>12</th>\n",
       "      <td>ABW</td>\n",
       "      <td>AUT</td>\n",
       "      <td>False</td>\n",
       "      <td>False</td>\n",
       "      <td>False</td>\n",
       "      <td>False</td>\n",
       "      <td>False</td>\n",
       "      <td>8719.130000</td>\n",
       "      <td>8719.130000</td>\n",
       "      <td>8632.97100</td>\n",
       "      <td>8631.02200</td>\n",
       "    </tr>\n",
       "    <tr>\n",
       "      <th>13</th>\n",
       "      <td>ABW</td>\n",
       "      <td>AZE</td>\n",
       "      <td>False</td>\n",
       "      <td>False</td>\n",
       "      <td>False</td>\n",
       "      <td>False</td>\n",
       "      <td>False</td>\n",
       "      <td>11503.000000</td>\n",
       "      <td>11503.000000</td>\n",
       "      <td>11421.98000</td>\n",
       "      <td>11420.91000</td>\n",
       "    </tr>\n",
       "    <tr>\n",
       "      <th>14</th>\n",
       "      <td>ABW</td>\n",
       "      <td>BDI</td>\n",
       "      <td>False</td>\n",
       "      <td>False</td>\n",
       "      <td>False</td>\n",
       "      <td>False</td>\n",
       "      <td>False</td>\n",
       "      <td>11120.470000</td>\n",
       "      <td>11120.470000</td>\n",
       "      <td>11138.74000</td>\n",
       "      <td>11138.61000</td>\n",
       "    </tr>\n",
       "    <tr>\n",
       "      <th>15</th>\n",
       "      <td>ABW</td>\n",
       "      <td>BEL</td>\n",
       "      <td>False</td>\n",
       "      <td>True</td>\n",
       "      <td>True</td>\n",
       "      <td>False</td>\n",
       "      <td>False</td>\n",
       "      <td>7847.070000</td>\n",
       "      <td>7847.070000</td>\n",
       "      <td>7843.25500</td>\n",
       "      <td>7843.00600</td>\n",
       "    </tr>\n",
       "    <tr>\n",
       "      <th>16</th>\n",
       "      <td>ABW</td>\n",
       "      <td>BEN</td>\n",
       "      <td>False</td>\n",
       "      <td>False</td>\n",
       "      <td>False</td>\n",
       "      <td>False</td>\n",
       "      <td>False</td>\n",
       "      <td>7979.945000</td>\n",
       "      <td>8006.697000</td>\n",
       "      <td>7915.63800</td>\n",
       "      <td>7915.21400</td>\n",
       "    </tr>\n",
       "    <tr>\n",
       "      <th>17</th>\n",
       "      <td>ABW</td>\n",
       "      <td>BFA</td>\n",
       "      <td>False</td>\n",
       "      <td>False</td>\n",
       "      <td>False</td>\n",
       "      <td>False</td>\n",
       "      <td>False</td>\n",
       "      <td>7414.016000</td>\n",
       "      <td>7414.016000</td>\n",
       "      <td>7348.56800</td>\n",
       "      <td>7346.22800</td>\n",
       "    </tr>\n",
       "    <tr>\n",
       "      <th>18</th>\n",
       "      <td>ABW</td>\n",
       "      <td>BGD</td>\n",
       "      <td>False</td>\n",
       "      <td>False</td>\n",
       "      <td>False</td>\n",
       "      <td>False</td>\n",
       "      <td>False</td>\n",
       "      <td>15473.460000</td>\n",
       "      <td>15473.460000</td>\n",
       "      <td>15486.16000</td>\n",
       "      <td>15485.50000</td>\n",
       "    </tr>\n",
       "    <tr>\n",
       "      <th>19</th>\n",
       "      <td>ABW</td>\n",
       "      <td>BGR</td>\n",
       "      <td>False</td>\n",
       "      <td>False</td>\n",
       "      <td>False</td>\n",
       "      <td>False</td>\n",
       "      <td>False</td>\n",
       "      <td>9348.039000</td>\n",
       "      <td>9348.039000</td>\n",
       "      <td>9471.46200</td>\n",
       "      <td>9469.65400</td>\n",
       "    </tr>\n",
       "    <tr>\n",
       "      <th>20</th>\n",
       "      <td>ABW</td>\n",
       "      <td>BHR</td>\n",
       "      <td>False</td>\n",
       "      <td>False</td>\n",
       "      <td>False</td>\n",
       "      <td>False</td>\n",
       "      <td>False</td>\n",
       "      <td>12308.360000</td>\n",
       "      <td>12308.360000</td>\n",
       "      <td>12296.99000</td>\n",
       "      <td>12296.99000</td>\n",
       "    </tr>\n",
       "    <tr>\n",
       "      <th>21</th>\n",
       "      <td>ABW</td>\n",
       "      <td>BHS</td>\n",
       "      <td>False</td>\n",
       "      <td>False</td>\n",
       "      <td>True</td>\n",
       "      <td>False</td>\n",
       "      <td>False</td>\n",
       "      <td>1588.515000</td>\n",
       "      <td>1588.515000</td>\n",
       "      <td>1634.51500</td>\n",
       "      <td>1628.14300</td>\n",
       "    </tr>\n",
       "    <tr>\n",
       "      <th>22</th>\n",
       "      <td>ABW</td>\n",
       "      <td>BIH</td>\n",
       "      <td>False</td>\n",
       "      <td>False</td>\n",
       "      <td>False</td>\n",
       "      <td>False</td>\n",
       "      <td>False</td>\n",
       "      <td>8936.664000</td>\n",
       "      <td>8936.664000</td>\n",
       "      <td>8888.42000</td>\n",
       "      <td>8887.93100</td>\n",
       "    </tr>\n",
       "    <tr>\n",
       "      <th>23</th>\n",
       "      <td>ABW</td>\n",
       "      <td>BLR</td>\n",
       "      <td>False</td>\n",
       "      <td>False</td>\n",
       "      <td>False</td>\n",
       "      <td>False</td>\n",
       "      <td>False</td>\n",
       "      <td>9382.626000</td>\n",
       "      <td>9382.626000</td>\n",
       "      <td>9417.68300</td>\n",
       "      <td>9415.66000</td>\n",
       "    </tr>\n",
       "    <tr>\n",
       "      <th>24</th>\n",
       "      <td>ABW</td>\n",
       "      <td>BLZ</td>\n",
       "      <td>False</td>\n",
       "      <td>True</td>\n",
       "      <td>True</td>\n",
       "      <td>False</td>\n",
       "      <td>False</td>\n",
       "      <td>2076.216000</td>\n",
       "      <td>2076.216000</td>\n",
       "      <td>2062.07100</td>\n",
       "      <td>2061.48300</td>\n",
       "    </tr>\n",
       "    <tr>\n",
       "      <th>25</th>\n",
       "      <td>ABW</td>\n",
       "      <td>BMU</td>\n",
       "      <td>False</td>\n",
       "      <td>False</td>\n",
       "      <td>True</td>\n",
       "      <td>False</td>\n",
       "      <td>False</td>\n",
       "      <td>2263.787000</td>\n",
       "      <td>2263.787000</td>\n",
       "      <td>2275.43200</td>\n",
       "      <td>2275.41300</td>\n",
       "    </tr>\n",
       "    <tr>\n",
       "      <th>26</th>\n",
       "      <td>ABW</td>\n",
       "      <td>BOL</td>\n",
       "      <td>False</td>\n",
       "      <td>True</td>\n",
       "      <td>False</td>\n",
       "      <td>False</td>\n",
       "      <td>False</td>\n",
       "      <td>3240.231000</td>\n",
       "      <td>3560.684000</td>\n",
       "      <td>3366.75800</td>\n",
       "      <td>3353.86700</td>\n",
       "    </tr>\n",
       "    <tr>\n",
       "      <th>27</th>\n",
       "      <td>ABW</td>\n",
       "      <td>BRA</td>\n",
       "      <td>False</td>\n",
       "      <td>False</td>\n",
       "      <td>False</td>\n",
       "      <td>False</td>\n",
       "      <td>False</td>\n",
       "      <td>4759.608000</td>\n",
       "      <td>3988.915000</td>\n",
       "      <td>4431.57100</td>\n",
       "      <td>4272.20400</td>\n",
       "    </tr>\n",
       "    <tr>\n",
       "      <th>28</th>\n",
       "      <td>ABW</td>\n",
       "      <td>BRB</td>\n",
       "      <td>False</td>\n",
       "      <td>False</td>\n",
       "      <td>True</td>\n",
       "      <td>False</td>\n",
       "      <td>False</td>\n",
       "      <td>1139.240000</td>\n",
       "      <td>1139.240000</td>\n",
       "      <td>1127.65200</td>\n",
       "      <td>1127.61500</td>\n",
       "    </tr>\n",
       "    <tr>\n",
       "      <th>29</th>\n",
       "      <td>ABW</td>\n",
       "      <td>BRN</td>\n",
       "      <td>False</td>\n",
       "      <td>False</td>\n",
       "      <td>False</td>\n",
       "      <td>False</td>\n",
       "      <td>False</td>\n",
       "      <td>18008.870000</td>\n",
       "      <td>18008.870000</td>\n",
       "      <td>18042.75000</td>\n",
       "      <td>18042.71000</td>\n",
       "    </tr>\n",
       "    <tr>\n",
       "      <th>30</th>\n",
       "      <td>ABW</td>\n",
       "      <td>BTN</td>\n",
       "      <td>False</td>\n",
       "      <td>False</td>\n",
       "      <td>False</td>\n",
       "      <td>False</td>\n",
       "      <td>False</td>\n",
       "      <td>15070.870000</td>\n",
       "      <td>15070.870000</td>\n",
       "      <td>15106.37000</td>\n",
       "      <td>15106.25000</td>\n",
       "    </tr>\n",
       "    <tr>\n",
       "      <th>31</th>\n",
       "      <td>ABW</td>\n",
       "      <td>BWA</td>\n",
       "      <td>False</td>\n",
       "      <td>False</td>\n",
       "      <td>True</td>\n",
       "      <td>False</td>\n",
       "      <td>False</td>\n",
       "      <td>11196.280000</td>\n",
       "      <td>11196.280000</td>\n",
       "      <td>11178.83000</td>\n",
       "      <td>11177.61000</td>\n",
       "    </tr>\n",
       "    <tr>\n",
       "      <th>32</th>\n",
       "      <td>ABW</td>\n",
       "      <td>CAF</td>\n",
       "      <td>False</td>\n",
       "      <td>False</td>\n",
       "      <td>False</td>\n",
       "      <td>False</td>\n",
       "      <td>False</td>\n",
       "      <td>9771.960000</td>\n",
       "      <td>9771.960000</td>\n",
       "      <td>9729.20100</td>\n",
       "      <td>9725.60000</td>\n",
       "    </tr>\n",
       "    <tr>\n",
       "      <th>33</th>\n",
       "      <td>ABW</td>\n",
       "      <td>CAN</td>\n",
       "      <td>False</td>\n",
       "      <td>False</td>\n",
       "      <td>True</td>\n",
       "      <td>False</td>\n",
       "      <td>False</td>\n",
       "      <td>3573.887000</td>\n",
       "      <td>3696.783000</td>\n",
       "      <td>4316.01300</td>\n",
       "      <td>4100.32300</td>\n",
       "    </tr>\n",
       "    <tr>\n",
       "      <th>34</th>\n",
       "      <td>ABW</td>\n",
       "      <td>CCK</td>\n",
       "      <td>False</td>\n",
       "      <td>False</td>\n",
       "      <td>True</td>\n",
       "      <td>False</td>\n",
       "      <td>False</td>\n",
       "      <td>18614.290000</td>\n",
       "      <td>18614.290000</td>\n",
       "      <td>NaN</td>\n",
       "      <td>NaN</td>\n",
       "    </tr>\n",
       "    <tr>\n",
       "      <th>35</th>\n",
       "      <td>ABW</td>\n",
       "      <td>CHE</td>\n",
       "      <td>False</td>\n",
       "      <td>False</td>\n",
       "      <td>False</td>\n",
       "      <td>False</td>\n",
       "      <td>False</td>\n",
       "      <td>8056.332000</td>\n",
       "      <td>8056.332000</td>\n",
       "      <td>8074.21000</td>\n",
       "      <td>8073.51000</td>\n",
       "    </tr>\n",
       "    <tr>\n",
       "      <th>36</th>\n",
       "      <td>ABW</td>\n",
       "      <td>CHL</td>\n",
       "      <td>False</td>\n",
       "      <td>True</td>\n",
       "      <td>False</td>\n",
       "      <td>False</td>\n",
       "      <td>False</td>\n",
       "      <td>5125.680000</td>\n",
       "      <td>5125.680000</td>\n",
       "      <td>5093.85200</td>\n",
       "      <td>5028.64100</td>\n",
       "    </tr>\n",
       "    <tr>\n",
       "      <th>37</th>\n",
       "      <td>ABW</td>\n",
       "      <td>CHN</td>\n",
       "      <td>False</td>\n",
       "      <td>False</td>\n",
       "      <td>False</td>\n",
       "      <td>False</td>\n",
       "      <td>False</td>\n",
       "      <td>14155.350000</td>\n",
       "      <td>14155.350000</td>\n",
       "      <td>14590.92000</td>\n",
       "      <td>14560.28000</td>\n",
       "    </tr>\n",
       "    <tr>\n",
       "      <th>38</th>\n",
       "      <td>ABW</td>\n",
       "      <td>CIV</td>\n",
       "      <td>False</td>\n",
       "      <td>False</td>\n",
       "      <td>False</td>\n",
       "      <td>False</td>\n",
       "      <td>False</td>\n",
       "      <td>7293.883000</td>\n",
       "      <td>7124.627000</td>\n",
       "      <td>7194.49600</td>\n",
       "      <td>7192.19000</td>\n",
       "    </tr>\n",
       "    <tr>\n",
       "      <th>39</th>\n",
       "      <td>ABW</td>\n",
       "      <td>CMR</td>\n",
       "      <td>False</td>\n",
       "      <td>False</td>\n",
       "      <td>True</td>\n",
       "      <td>False</td>\n",
       "      <td>False</td>\n",
       "      <td>9014.291000</td>\n",
       "      <td>9014.291000</td>\n",
       "      <td>8947.10400</td>\n",
       "      <td>8944.59100</td>\n",
       "    </tr>\n",
       "    <tr>\n",
       "      <th>40</th>\n",
       "      <td>ABW</td>\n",
       "      <td>COG</td>\n",
       "      <td>False</td>\n",
       "      <td>False</td>\n",
       "      <td>False</td>\n",
       "      <td>False</td>\n",
       "      <td>False</td>\n",
       "      <td>9613.901000</td>\n",
       "      <td>9613.901000</td>\n",
       "      <td>9476.89100</td>\n",
       "      <td>9474.11300</td>\n",
       "    </tr>\n",
       "    <tr>\n",
       "      <th>41</th>\n",
       "      <td>ABW</td>\n",
       "      <td>COK</td>\n",
       "      <td>False</td>\n",
       "      <td>False</td>\n",
       "      <td>True</td>\n",
       "      <td>False</td>\n",
       "      <td>False</td>\n",
       "      <td>10484.670000</td>\n",
       "      <td>10484.670000</td>\n",
       "      <td>10477.74000</td>\n",
       "      <td>10477.08000</td>\n",
       "    </tr>\n",
       "    <tr>\n",
       "      <th>42</th>\n",
       "      <td>ABW</td>\n",
       "      <td>COL</td>\n",
       "      <td>False</td>\n",
       "      <td>True</td>\n",
       "      <td>False</td>\n",
       "      <td>False</td>\n",
       "      <td>False</td>\n",
       "      <td>1036.634000</td>\n",
       "      <td>1036.634000</td>\n",
       "      <td>929.58870</td>\n",
       "      <td>861.24520</td>\n",
       "    </tr>\n",
       "    <tr>\n",
       "      <th>43</th>\n",
       "      <td>ABW</td>\n",
       "      <td>COM</td>\n",
       "      <td>False</td>\n",
       "      <td>False</td>\n",
       "      <td>False</td>\n",
       "      <td>False</td>\n",
       "      <td>False</td>\n",
       "      <td>12802.650000</td>\n",
       "      <td>12802.650000</td>\n",
       "      <td>12839.00000</td>\n",
       "      <td>12838.67000</td>\n",
       "    </tr>\n",
       "    <tr>\n",
       "      <th>44</th>\n",
       "      <td>ABW</td>\n",
       "      <td>CPV</td>\n",
       "      <td>False</td>\n",
       "      <td>False</td>\n",
       "      <td>False</td>\n",
       "      <td>False</td>\n",
       "      <td>False</td>\n",
       "      <td>5036.386000</td>\n",
       "      <td>5036.386000</td>\n",
       "      <td>4961.88600</td>\n",
       "      <td>4960.57100</td>\n",
       "    </tr>\n",
       "    <tr>\n",
       "      <th>45</th>\n",
       "      <td>ABW</td>\n",
       "      <td>CRI</td>\n",
       "      <td>False</td>\n",
       "      <td>True</td>\n",
       "      <td>False</td>\n",
       "      <td>False</td>\n",
       "      <td>False</td>\n",
       "      <td>1550.772000</td>\n",
       "      <td>1550.772000</td>\n",
       "      <td>1572.26300</td>\n",
       "      <td>1570.80400</td>\n",
       "    </tr>\n",
       "    <tr>\n",
       "      <th>46</th>\n",
       "      <td>ABW</td>\n",
       "      <td>CUB</td>\n",
       "      <td>False</td>\n",
       "      <td>True</td>\n",
       "      <td>False</td>\n",
       "      <td>False</td>\n",
       "      <td>False</td>\n",
       "      <td>1754.738000</td>\n",
       "      <td>1754.738000</td>\n",
       "      <td>1485.84800</td>\n",
       "      <td>1417.22100</td>\n",
       "    </tr>\n",
       "    <tr>\n",
       "      <th>47</th>\n",
       "      <td>ABW</td>\n",
       "      <td>CXR</td>\n",
       "      <td>False</td>\n",
       "      <td>False</td>\n",
       "      <td>True</td>\n",
       "      <td>False</td>\n",
       "      <td>False</td>\n",
       "      <td>19519.520000</td>\n",
       "      <td>19519.520000</td>\n",
       "      <td>NaN</td>\n",
       "      <td>NaN</td>\n",
       "    </tr>\n",
       "    <tr>\n",
       "      <th>48</th>\n",
       "      <td>ABW</td>\n",
       "      <td>CYM</td>\n",
       "      <td>False</td>\n",
       "      <td>False</td>\n",
       "      <td>True</td>\n",
       "      <td>False</td>\n",
       "      <td>False</td>\n",
       "      <td>1421.378000</td>\n",
       "      <td>1421.378000</td>\n",
       "      <td>1436.75000</td>\n",
       "      <td>1436.67200</td>\n",
       "    </tr>\n",
       "    <tr>\n",
       "      <th>49</th>\n",
       "      <td>ABW</td>\n",
       "      <td>CYP</td>\n",
       "      <td>False</td>\n",
       "      <td>False</td>\n",
       "      <td>False</td>\n",
       "      <td>False</td>\n",
       "      <td>False</td>\n",
       "      <td>10403.220000</td>\n",
       "      <td>10403.220000</td>\n",
       "      <td>10398.70000</td>\n",
       "      <td>10398.61000</td>\n",
       "    </tr>\n",
       "  </tbody>\n",
       "</table>\n",
       "</div>"
      ]
     },
     "execution_count": 722,
     "metadata": {},
     "output_type": "execute_result"
    }
   ],
   "execution_count": 722
  },
  {
   "metadata": {
    "ExecuteTime": {
     "end_time": "2025-03-16T16:36:44.524463Z",
     "start_time": "2025-03-16T16:36:44.520136Z"
    }
   },
   "cell_type": "code",
   "source": "dist_cepii.info()",
   "id": "f5064b669bca565",
   "outputs": [
    {
     "name": "stdout",
     "output_type": "stream",
     "text": [
      "<class 'pandas.core.frame.DataFrame'>\n",
      "RangeIndex: 50176 entries, 0 to 50175\n",
      "Data columns (total 11 columns):\n",
      " #   Column         Non-Null Count  Dtype  \n",
      "---  ------         --------------  -----  \n",
      " 0   origin         50176 non-null  object \n",
      " 1   destination    50176 non-null  object \n",
      " 2   contig         50176 non-null  bool   \n",
      " 3   comlang_off    50176 non-null  bool   \n",
      " 4   comlang_ethno  50176 non-null  bool   \n",
      " 5   colony         50176 non-null  bool   \n",
      " 6   smctry         50176 non-null  bool   \n",
      " 7   dist           50176 non-null  float64\n",
      " 8   distcap        50176 non-null  float64\n",
      " 9   distw          47961 non-null  float64\n",
      " 10  distwces       47961 non-null  float64\n",
      "dtypes: bool(5), float64(4), object(2)\n",
      "memory usage: 2.5+ MB\n"
     ]
    }
   ],
   "execution_count": 723
  },
  {
   "metadata": {
    "ExecuteTime": {
     "end_time": "2025-03-16T16:36:44.633871Z",
     "start_time": "2025-03-16T16:36:44.631589Z"
    }
   },
   "cell_type": "code",
   "source": "dist_cepii.dtypes",
   "id": "5f4f7df43f544710",
   "outputs": [
    {
     "data": {
      "text/plain": [
       "origin            object\n",
       "destination       object\n",
       "contig              bool\n",
       "comlang_off         bool\n",
       "comlang_ethno       bool\n",
       "colony              bool\n",
       "smctry              bool\n",
       "dist             float64\n",
       "distcap          float64\n",
       "distw            float64\n",
       "distwces         float64\n",
       "dtype: object"
      ]
     },
     "execution_count": 724,
     "metadata": {},
     "output_type": "execute_result"
    }
   ],
   "execution_count": 724
  },
  {
   "metadata": {},
   "cell_type": "markdown",
   "source": "Check how many rows have NaN",
   "id": "ec027622127e4f73"
  },
  {
   "metadata": {
    "ExecuteTime": {
     "end_time": "2025-03-16T16:36:44.701572Z",
     "start_time": "2025-03-16T16:36:44.697602Z"
    }
   },
   "cell_type": "code",
   "source": "dist_cepii.isna().sum()",
   "id": "9a9dcb49ff98cdbb",
   "outputs": [
    {
     "data": {
      "text/plain": [
       "origin              0\n",
       "destination         0\n",
       "contig              0\n",
       "comlang_off         0\n",
       "comlang_ethno       0\n",
       "colony              0\n",
       "smctry              0\n",
       "dist                0\n",
       "distcap             0\n",
       "distw            2215\n",
       "distwces         2215\n",
       "dtype: int64"
      ]
     },
     "execution_count": 725,
     "metadata": {},
     "output_type": "execute_result"
    }
   ],
   "execution_count": 725
  },
  {
   "metadata": {},
   "cell_type": "markdown",
   "source": "Count how many times a country has NaN in Origin and in Destination",
   "id": "debf556c7f0efd3a"
  },
  {
   "metadata": {
    "ExecuteTime": {
     "end_time": "2025-03-16T16:36:44.803970Z",
     "start_time": "2025-03-16T16:36:44.799413Z"
    }
   },
   "cell_type": "code",
   "source": [
    "na_rows = dist_cepii[dist_cepii.isna().any(axis=1)][[\"origin\", \"destination\"]]\n",
    "# Sanity check\n",
    "na_rows.isna().sum()"
   ],
   "id": "db33aa239cbc6b62",
   "outputs": [
    {
     "data": {
      "text/plain": [
       "origin         0\n",
       "destination    0\n",
       "dtype: int64"
      ]
     },
     "execution_count": 726,
     "metadata": {},
     "output_type": "execute_result"
    }
   ],
   "execution_count": 726
  },
  {
   "metadata": {
    "ExecuteTime": {
     "end_time": "2025-03-16T16:36:44.880673Z",
     "start_time": "2025-03-16T16:36:44.877743Z"
    }
   },
   "cell_type": "code",
   "source": "na_rows[[\"origin\"]].value_counts()",
   "id": "4139096cc701b274",
   "outputs": [
    {
     "data": {
      "text/plain": [
       "origin\n",
       "PCN       224\n",
       "CCK       224\n",
       "MAC       224\n",
       "MSR       224\n",
       "CXR       224\n",
       "         ... \n",
       "GNQ         5\n",
       "GRC         5\n",
       "GRD         5\n",
       "GRL         5\n",
       "ZWE         5\n",
       "Name: count, Length: 224, dtype: int64"
      ]
     },
     "execution_count": 727,
     "metadata": {},
     "output_type": "execute_result"
    }
   ],
   "execution_count": 727
  },
  {
   "metadata": {},
   "cell_type": "markdown",
   "source": "Check how much % of rows are NaN from the total amount",
   "id": "76348158b2e9d576"
  },
  {
   "metadata": {
    "ExecuteTime": {
     "end_time": "2025-03-16T16:36:45.012477Z",
     "start_time": "2025-03-16T16:36:45.010965Z"
    }
   },
   "cell_type": "code",
   "source": "print(\"Percentage of NaN rows: \", (na_rows.shape[0]/dist_cepii.shape[0])*100, \"%\")",
   "id": "ea3ca3ff2440d862",
   "outputs": [
    {
     "name": "stdout",
     "output_type": "stream",
     "text": [
      "Percentage of NaN rows:  4.414461096938775 %\n"
     ]
    }
   ],
   "execution_count": 728
  },
  {
   "metadata": {},
   "cell_type": "markdown",
   "source": "Drop NaN values",
   "id": "3184e8dd426936a3"
  },
  {
   "metadata": {
    "ExecuteTime": {
     "end_time": "2025-03-16T16:36:45.146487Z",
     "start_time": "2025-03-16T16:36:45.142758Z"
    }
   },
   "cell_type": "code",
   "source": "dist_cepii = dist_cepii.dropna()",
   "id": "45b1fae432b2d7e7",
   "outputs": [],
   "execution_count": 729
  },
  {
   "metadata": {
    "ExecuteTime": {
     "end_time": "2025-03-16T16:36:45.238001Z",
     "start_time": "2025-03-16T16:36:45.234478Z"
    }
   },
   "cell_type": "code",
   "source": [
    "# Sanity check\n",
    "dist_cepii.isna().any()"
   ],
   "id": "8128dda9557bf8e1",
   "outputs": [
    {
     "data": {
      "text/plain": [
       "origin           False\n",
       "destination      False\n",
       "contig           False\n",
       "comlang_off      False\n",
       "comlang_ethno    False\n",
       "colony           False\n",
       "smctry           False\n",
       "dist             False\n",
       "distcap          False\n",
       "distw            False\n",
       "distwces         False\n",
       "dtype: bool"
      ]
     },
     "execution_count": 730,
     "metadata": {},
     "output_type": "execute_result"
    }
   ],
   "execution_count": 730
  },
  {
   "metadata": {},
   "cell_type": "markdown",
   "source": "Check how many unique countries there are in both origin and destination. Numbers should match.",
   "id": "e72ccae5e849e9c8"
  },
  {
   "metadata": {
    "ExecuteTime": {
     "end_time": "2025-03-16T16:36:45.334027Z",
     "start_time": "2025-03-16T16:36:45.330890Z"
    }
   },
   "cell_type": "code",
   "source": [
    "print(\"Unique countries in origin column\", dist_cepii[\"origin\"].nunique())\n",
    "print(\"Unique countries in destination column\", dist_cepii[\"destination\"].nunique())"
   ],
   "id": "faede6275ce991bc",
   "outputs": [
    {
     "name": "stdout",
     "output_type": "stream",
     "text": [
      "Unique countries in origin column 219\n",
      "Unique countries in destination column 219\n"
     ]
    }
   ],
   "execution_count": 731
  },
  {
   "metadata": {},
   "cell_type": "markdown",
   "source": "Remove unwanted countries",
   "id": "9edf9521cbba4980"
  },
  {
   "metadata": {},
   "cell_type": "markdown",
   "source": [
    "### GSDB V4 Dyadic\n",
    "\n",
    "Inspect the `GSDB_V4_Dyadic.dta` - this should be a Stata file. What is the difference to `GSDB_V4.csv`?"
   ],
   "id": "d1916aa41d508cbc"
  },
  {
   "metadata": {
    "ExecuteTime": {
     "end_time": "2025-03-16T16:36:45.646605Z",
     "start_time": "2025-03-16T16:36:45.403235Z"
    }
   },
   "cell_type": "code",
   "source": [
    "gsdb_stata = pa.read_stata(\"data/sanctions/GSDB_V4_Dyadic.dta\")\n",
    "gsdb_csv = pa.read_csv(\"data/sanctions/GSDB_V4.csv\")"
   ],
   "id": "c84c3016641ddb27",
   "outputs": [],
   "execution_count": 732
  },
  {
   "metadata": {
    "ExecuteTime": {
     "end_time": "2025-03-16T16:36:45.660667Z",
     "start_time": "2025-03-16T16:36:45.648876Z"
    }
   },
   "cell_type": "code",
   "source": [
    "# Remove sanctions against terrorist organisations\n",
    "gsdb_stata = gsdb_stata[gsdb_stata[\"sanctioned_state_iso3\"].astype(str) != '']"
   ],
   "id": "c6a38ca294798b74",
   "outputs": [],
   "execution_count": 733
  },
  {
   "metadata": {},
   "cell_type": "markdown",
   "source": "Retrieve rows that include `case_id` **471**:",
   "id": "f39ddeb615b13131"
  },
  {
   "metadata": {
    "ExecuteTime": {
     "end_time": "2025-03-16T16:36:45.688408Z",
     "start_time": "2025-03-16T16:36:45.670259Z"
    }
   },
   "cell_type": "code",
   "source": "gsdb_stata[gsdb_stata[\"case_id\"].astype(str).str.contains(\"471\")]",
   "id": "65475e3127407af6",
   "outputs": [
    {
     "data": {
      "text/plain": [
       "            case_id sanctioning_state_iso3 sanctioning_state  \\\n",
       "0               471                    AFG       Afghanistan   \n",
       "1               471                    AFG       Afghanistan   \n",
       "2               471                    AFG       Afghanistan   \n",
       "3               471                    AFG       Afghanistan   \n",
       "4           471,574                    AFG       Afghanistan   \n",
       "...             ...                    ...               ...   \n",
       "158537  595,574,471                    ZWE          Zimbabwe   \n",
       "158538  574,595,471                    ZWE          Zimbabwe   \n",
       "158539  595,471,574                    ZWE          Zimbabwe   \n",
       "158540  471,595,574                    ZWE          Zimbabwe   \n",
       "158541  595,574,471                    ZWE          Zimbabwe   \n",
       "\n",
       "       sanctioned_state_iso3 sanctioned_state       year  arms  military  \\\n",
       "0                        AGO           Angola 1993-01-01     1         1   \n",
       "1                        AGO           Angola 1994-01-01     1         1   \n",
       "2                        AGO           Angola 1995-01-01     1         1   \n",
       "3                        AGO           Angola 1996-01-01     1         1   \n",
       "4                        AGO           Angola 1997-01-01     1         1   \n",
       "...                      ...              ...        ...   ...       ...   \n",
       "158537                   AGO           Angola 1998-01-01     1         1   \n",
       "158538                   AGO           Angola 1999-01-01     1         1   \n",
       "158539                   AGO           Angola 2000-01-01     1         1   \n",
       "158540                   AGO           Angola 2001-01-01     1         1   \n",
       "158541                   AGO           Angola 2002-01-01     1         1   \n",
       "\n",
       "        trade        descr_trade  financial  travel  other  target_mult  \\\n",
       "0           1           exp_part          0       0      0            0   \n",
       "1           1           exp_part          0       0      0            0   \n",
       "2           1           exp_part          0       0      0            0   \n",
       "3           1           exp_part          0       0      0            0   \n",
       "4           1           exp_part          0       1      1            0   \n",
       "...       ...                ...        ...     ...    ...          ...   \n",
       "158537      1  exp_part,imp_part          1       1      1            0   \n",
       "158538      1  exp_part,imp_part          1       1      1            0   \n",
       "158539      1  exp_part,imp_part          1       1      1            0   \n",
       "158540      1  exp_part,imp_part          1       1      1            0   \n",
       "158541      1  exp_part,imp_part          1       1      1            0   \n",
       "\n",
       "        sender_mult                objective  \\\n",
       "0                 1                  end_war   \n",
       "1                 1                  end_war   \n",
       "2                 1                  end_war   \n",
       "3                 1                  end_war   \n",
       "4                 1          end_war,end_war   \n",
       "...             ...                      ...   \n",
       "158537            1  end_war,end_war,end_war   \n",
       "158538            1  end_war,end_war,end_war   \n",
       "158539            1  end_war,end_war,end_war   \n",
       "158540            1  end_war,end_war,end_war   \n",
       "158541            1  end_war,end_war,end_war   \n",
       "\n",
       "                                          success  \n",
       "0                                   success_total  \n",
       "1                                   success_total  \n",
       "2                                   success_total  \n",
       "3                                   success_total  \n",
       "4                     success_total,success_total  \n",
       "...                                           ...  \n",
       "158537  success_total,success_total,success_total  \n",
       "158538  success_total,success_total,success_total  \n",
       "158539  success_total,success_total,success_total  \n",
       "158540  success_total,success_total,success_total  \n",
       "158541  success_total,success_total,success_total  \n",
       "\n",
       "[1850 rows x 17 columns]"
      ],
      "text/html": [
       "<div>\n",
       "<style scoped>\n",
       "    .dataframe tbody tr th:only-of-type {\n",
       "        vertical-align: middle;\n",
       "    }\n",
       "\n",
       "    .dataframe tbody tr th {\n",
       "        vertical-align: top;\n",
       "    }\n",
       "\n",
       "    .dataframe thead th {\n",
       "        text-align: right;\n",
       "    }\n",
       "</style>\n",
       "<table border=\"1\" class=\"dataframe\">\n",
       "  <thead>\n",
       "    <tr style=\"text-align: right;\">\n",
       "      <th></th>\n",
       "      <th>case_id</th>\n",
       "      <th>sanctioning_state_iso3</th>\n",
       "      <th>sanctioning_state</th>\n",
       "      <th>sanctioned_state_iso3</th>\n",
       "      <th>sanctioned_state</th>\n",
       "      <th>year</th>\n",
       "      <th>arms</th>\n",
       "      <th>military</th>\n",
       "      <th>trade</th>\n",
       "      <th>descr_trade</th>\n",
       "      <th>financial</th>\n",
       "      <th>travel</th>\n",
       "      <th>other</th>\n",
       "      <th>target_mult</th>\n",
       "      <th>sender_mult</th>\n",
       "      <th>objective</th>\n",
       "      <th>success</th>\n",
       "    </tr>\n",
       "  </thead>\n",
       "  <tbody>\n",
       "    <tr>\n",
       "      <th>0</th>\n",
       "      <td>471</td>\n",
       "      <td>AFG</td>\n",
       "      <td>Afghanistan</td>\n",
       "      <td>AGO</td>\n",
       "      <td>Angola</td>\n",
       "      <td>1993-01-01</td>\n",
       "      <td>1</td>\n",
       "      <td>1</td>\n",
       "      <td>1</td>\n",
       "      <td>exp_part</td>\n",
       "      <td>0</td>\n",
       "      <td>0</td>\n",
       "      <td>0</td>\n",
       "      <td>0</td>\n",
       "      <td>1</td>\n",
       "      <td>end_war</td>\n",
       "      <td>success_total</td>\n",
       "    </tr>\n",
       "    <tr>\n",
       "      <th>1</th>\n",
       "      <td>471</td>\n",
       "      <td>AFG</td>\n",
       "      <td>Afghanistan</td>\n",
       "      <td>AGO</td>\n",
       "      <td>Angola</td>\n",
       "      <td>1994-01-01</td>\n",
       "      <td>1</td>\n",
       "      <td>1</td>\n",
       "      <td>1</td>\n",
       "      <td>exp_part</td>\n",
       "      <td>0</td>\n",
       "      <td>0</td>\n",
       "      <td>0</td>\n",
       "      <td>0</td>\n",
       "      <td>1</td>\n",
       "      <td>end_war</td>\n",
       "      <td>success_total</td>\n",
       "    </tr>\n",
       "    <tr>\n",
       "      <th>2</th>\n",
       "      <td>471</td>\n",
       "      <td>AFG</td>\n",
       "      <td>Afghanistan</td>\n",
       "      <td>AGO</td>\n",
       "      <td>Angola</td>\n",
       "      <td>1995-01-01</td>\n",
       "      <td>1</td>\n",
       "      <td>1</td>\n",
       "      <td>1</td>\n",
       "      <td>exp_part</td>\n",
       "      <td>0</td>\n",
       "      <td>0</td>\n",
       "      <td>0</td>\n",
       "      <td>0</td>\n",
       "      <td>1</td>\n",
       "      <td>end_war</td>\n",
       "      <td>success_total</td>\n",
       "    </tr>\n",
       "    <tr>\n",
       "      <th>3</th>\n",
       "      <td>471</td>\n",
       "      <td>AFG</td>\n",
       "      <td>Afghanistan</td>\n",
       "      <td>AGO</td>\n",
       "      <td>Angola</td>\n",
       "      <td>1996-01-01</td>\n",
       "      <td>1</td>\n",
       "      <td>1</td>\n",
       "      <td>1</td>\n",
       "      <td>exp_part</td>\n",
       "      <td>0</td>\n",
       "      <td>0</td>\n",
       "      <td>0</td>\n",
       "      <td>0</td>\n",
       "      <td>1</td>\n",
       "      <td>end_war</td>\n",
       "      <td>success_total</td>\n",
       "    </tr>\n",
       "    <tr>\n",
       "      <th>4</th>\n",
       "      <td>471,574</td>\n",
       "      <td>AFG</td>\n",
       "      <td>Afghanistan</td>\n",
       "      <td>AGO</td>\n",
       "      <td>Angola</td>\n",
       "      <td>1997-01-01</td>\n",
       "      <td>1</td>\n",
       "      <td>1</td>\n",
       "      <td>1</td>\n",
       "      <td>exp_part</td>\n",
       "      <td>0</td>\n",
       "      <td>1</td>\n",
       "      <td>1</td>\n",
       "      <td>0</td>\n",
       "      <td>1</td>\n",
       "      <td>end_war,end_war</td>\n",
       "      <td>success_total,success_total</td>\n",
       "    </tr>\n",
       "    <tr>\n",
       "      <th>...</th>\n",
       "      <td>...</td>\n",
       "      <td>...</td>\n",
       "      <td>...</td>\n",
       "      <td>...</td>\n",
       "      <td>...</td>\n",
       "      <td>...</td>\n",
       "      <td>...</td>\n",
       "      <td>...</td>\n",
       "      <td>...</td>\n",
       "      <td>...</td>\n",
       "      <td>...</td>\n",
       "      <td>...</td>\n",
       "      <td>...</td>\n",
       "      <td>...</td>\n",
       "      <td>...</td>\n",
       "      <td>...</td>\n",
       "      <td>...</td>\n",
       "    </tr>\n",
       "    <tr>\n",
       "      <th>158537</th>\n",
       "      <td>595,574,471</td>\n",
       "      <td>ZWE</td>\n",
       "      <td>Zimbabwe</td>\n",
       "      <td>AGO</td>\n",
       "      <td>Angola</td>\n",
       "      <td>1998-01-01</td>\n",
       "      <td>1</td>\n",
       "      <td>1</td>\n",
       "      <td>1</td>\n",
       "      <td>exp_part,imp_part</td>\n",
       "      <td>1</td>\n",
       "      <td>1</td>\n",
       "      <td>1</td>\n",
       "      <td>0</td>\n",
       "      <td>1</td>\n",
       "      <td>end_war,end_war,end_war</td>\n",
       "      <td>success_total,success_total,success_total</td>\n",
       "    </tr>\n",
       "    <tr>\n",
       "      <th>158538</th>\n",
       "      <td>574,595,471</td>\n",
       "      <td>ZWE</td>\n",
       "      <td>Zimbabwe</td>\n",
       "      <td>AGO</td>\n",
       "      <td>Angola</td>\n",
       "      <td>1999-01-01</td>\n",
       "      <td>1</td>\n",
       "      <td>1</td>\n",
       "      <td>1</td>\n",
       "      <td>exp_part,imp_part</td>\n",
       "      <td>1</td>\n",
       "      <td>1</td>\n",
       "      <td>1</td>\n",
       "      <td>0</td>\n",
       "      <td>1</td>\n",
       "      <td>end_war,end_war,end_war</td>\n",
       "      <td>success_total,success_total,success_total</td>\n",
       "    </tr>\n",
       "    <tr>\n",
       "      <th>158539</th>\n",
       "      <td>595,471,574</td>\n",
       "      <td>ZWE</td>\n",
       "      <td>Zimbabwe</td>\n",
       "      <td>AGO</td>\n",
       "      <td>Angola</td>\n",
       "      <td>2000-01-01</td>\n",
       "      <td>1</td>\n",
       "      <td>1</td>\n",
       "      <td>1</td>\n",
       "      <td>exp_part,imp_part</td>\n",
       "      <td>1</td>\n",
       "      <td>1</td>\n",
       "      <td>1</td>\n",
       "      <td>0</td>\n",
       "      <td>1</td>\n",
       "      <td>end_war,end_war,end_war</td>\n",
       "      <td>success_total,success_total,success_total</td>\n",
       "    </tr>\n",
       "    <tr>\n",
       "      <th>158540</th>\n",
       "      <td>471,595,574</td>\n",
       "      <td>ZWE</td>\n",
       "      <td>Zimbabwe</td>\n",
       "      <td>AGO</td>\n",
       "      <td>Angola</td>\n",
       "      <td>2001-01-01</td>\n",
       "      <td>1</td>\n",
       "      <td>1</td>\n",
       "      <td>1</td>\n",
       "      <td>exp_part,imp_part</td>\n",
       "      <td>1</td>\n",
       "      <td>1</td>\n",
       "      <td>1</td>\n",
       "      <td>0</td>\n",
       "      <td>1</td>\n",
       "      <td>end_war,end_war,end_war</td>\n",
       "      <td>success_total,success_total,success_total</td>\n",
       "    </tr>\n",
       "    <tr>\n",
       "      <th>158541</th>\n",
       "      <td>595,574,471</td>\n",
       "      <td>ZWE</td>\n",
       "      <td>Zimbabwe</td>\n",
       "      <td>AGO</td>\n",
       "      <td>Angola</td>\n",
       "      <td>2002-01-01</td>\n",
       "      <td>1</td>\n",
       "      <td>1</td>\n",
       "      <td>1</td>\n",
       "      <td>exp_part,imp_part</td>\n",
       "      <td>1</td>\n",
       "      <td>1</td>\n",
       "      <td>1</td>\n",
       "      <td>0</td>\n",
       "      <td>1</td>\n",
       "      <td>end_war,end_war,end_war</td>\n",
       "      <td>success_total,success_total,success_total</td>\n",
       "    </tr>\n",
       "  </tbody>\n",
       "</table>\n",
       "<p>1850 rows × 17 columns</p>\n",
       "</div>"
      ]
     },
     "execution_count": 734,
     "metadata": {},
     "output_type": "execute_result"
    }
   ],
   "execution_count": 734
  },
  {
   "metadata": {
    "ExecuteTime": {
     "end_time": "2025-03-16T16:36:45.728587Z",
     "start_time": "2025-03-16T16:36:45.724193Z"
    }
   },
   "cell_type": "code",
   "source": "gsdb_stata.head(500)",
   "id": "8085e999a2f9879b",
   "outputs": [
    {
     "data": {
      "text/plain": [
       "         case_id sanctioning_state_iso3 sanctioning_state  \\\n",
       "0            471                    AFG       Afghanistan   \n",
       "1            471                    AFG       Afghanistan   \n",
       "2            471                    AFG       Afghanistan   \n",
       "3            471                    AFG       Afghanistan   \n",
       "4        471,574                    AFG       Afghanistan   \n",
       "..           ...                    ...               ...   \n",
       "495  300,217,321                    AFG       Afghanistan   \n",
       "496  321,300,217                    AFG       Afghanistan   \n",
       "497  300,321,217                    AFG       Afghanistan   \n",
       "498  300,321,217                    AFG       Afghanistan   \n",
       "499  321,300,217                    AFG       Afghanistan   \n",
       "\n",
       "    sanctioned_state_iso3 sanctioned_state       year  arms  military  trade  \\\n",
       "0                     AGO           Angola 1993-01-01     1         1      1   \n",
       "1                     AGO           Angola 1994-01-01     1         1      1   \n",
       "2                     AGO           Angola 1995-01-01     1         1      1   \n",
       "3                     AGO           Angola 1996-01-01     1         1      1   \n",
       "4                     AGO           Angola 1997-01-01     1         1      1   \n",
       "..                    ...              ...        ...   ...       ...    ...   \n",
       "495                   ZAF     South Africa 1987-01-01     1         1      1   \n",
       "496                   ZAF     South Africa 1988-01-01     1         1      1   \n",
       "497                   ZAF     South Africa 1989-01-01     1         1      1   \n",
       "498                   ZAF     South Africa 1990-01-01     1         1      1   \n",
       "499                   ZAF     South Africa 1991-01-01     1         1      1   \n",
       "\n",
       "    descr_trade  financial  travel  other  target_mult  sender_mult  \\\n",
       "0      exp_part          0       0      0            0            1   \n",
       "1      exp_part          0       0      0            0            1   \n",
       "2      exp_part          0       0      0            0            1   \n",
       "3      exp_part          0       0      0            0            1   \n",
       "4      exp_part          0       1      1            0            1   \n",
       "..          ...        ...     ...    ...          ...          ...   \n",
       "495    exp_part          0       0      0            0            1   \n",
       "496    exp_part          0       0      0            0            1   \n",
       "497    exp_part          0       0      0            0            1   \n",
       "498    exp_part          0       0      0            0            1   \n",
       "499    exp_part          0       0      0            0            1   \n",
       "\n",
       "                                             objective  \\\n",
       "0                                              end_war   \n",
       "1                                              end_war   \n",
       "2                                              end_war   \n",
       "3                                              end_war   \n",
       "4                                      end_war,end_war   \n",
       "..                                                 ...   \n",
       "495  policy_change,prevent_war,policy_change,preven...   \n",
       "496  policy_change,democracy,human_rights,policy_ch...   \n",
       "497  policy_change,prevent_war,policy_change,democr...   \n",
       "498  policy_change,prevent_war,policy_change,democr...   \n",
       "499  policy_change,democracy,human_rights,policy_ch...   \n",
       "\n",
       "                                               success  \n",
       "0                                        success_total  \n",
       "1                                        success_total  \n",
       "2                                        success_total  \n",
       "3                                        success_total  \n",
       "4                          success_total,success_total  \n",
       "..                                                 ...  \n",
       "495  success_total,success_total,success_total,succ...  \n",
       "496  success_total,success_total,success_total,succ...  \n",
       "497  success_total,success_total,success_total,succ...  \n",
       "498  success_total,success_total,success_total,succ...  \n",
       "499  success_total,success_total,success_total,succ...  \n",
       "\n",
       "[500 rows x 17 columns]"
      ],
      "text/html": [
       "<div>\n",
       "<style scoped>\n",
       "    .dataframe tbody tr th:only-of-type {\n",
       "        vertical-align: middle;\n",
       "    }\n",
       "\n",
       "    .dataframe tbody tr th {\n",
       "        vertical-align: top;\n",
       "    }\n",
       "\n",
       "    .dataframe thead th {\n",
       "        text-align: right;\n",
       "    }\n",
       "</style>\n",
       "<table border=\"1\" class=\"dataframe\">\n",
       "  <thead>\n",
       "    <tr style=\"text-align: right;\">\n",
       "      <th></th>\n",
       "      <th>case_id</th>\n",
       "      <th>sanctioning_state_iso3</th>\n",
       "      <th>sanctioning_state</th>\n",
       "      <th>sanctioned_state_iso3</th>\n",
       "      <th>sanctioned_state</th>\n",
       "      <th>year</th>\n",
       "      <th>arms</th>\n",
       "      <th>military</th>\n",
       "      <th>trade</th>\n",
       "      <th>descr_trade</th>\n",
       "      <th>financial</th>\n",
       "      <th>travel</th>\n",
       "      <th>other</th>\n",
       "      <th>target_mult</th>\n",
       "      <th>sender_mult</th>\n",
       "      <th>objective</th>\n",
       "      <th>success</th>\n",
       "    </tr>\n",
       "  </thead>\n",
       "  <tbody>\n",
       "    <tr>\n",
       "      <th>0</th>\n",
       "      <td>471</td>\n",
       "      <td>AFG</td>\n",
       "      <td>Afghanistan</td>\n",
       "      <td>AGO</td>\n",
       "      <td>Angola</td>\n",
       "      <td>1993-01-01</td>\n",
       "      <td>1</td>\n",
       "      <td>1</td>\n",
       "      <td>1</td>\n",
       "      <td>exp_part</td>\n",
       "      <td>0</td>\n",
       "      <td>0</td>\n",
       "      <td>0</td>\n",
       "      <td>0</td>\n",
       "      <td>1</td>\n",
       "      <td>end_war</td>\n",
       "      <td>success_total</td>\n",
       "    </tr>\n",
       "    <tr>\n",
       "      <th>1</th>\n",
       "      <td>471</td>\n",
       "      <td>AFG</td>\n",
       "      <td>Afghanistan</td>\n",
       "      <td>AGO</td>\n",
       "      <td>Angola</td>\n",
       "      <td>1994-01-01</td>\n",
       "      <td>1</td>\n",
       "      <td>1</td>\n",
       "      <td>1</td>\n",
       "      <td>exp_part</td>\n",
       "      <td>0</td>\n",
       "      <td>0</td>\n",
       "      <td>0</td>\n",
       "      <td>0</td>\n",
       "      <td>1</td>\n",
       "      <td>end_war</td>\n",
       "      <td>success_total</td>\n",
       "    </tr>\n",
       "    <tr>\n",
       "      <th>2</th>\n",
       "      <td>471</td>\n",
       "      <td>AFG</td>\n",
       "      <td>Afghanistan</td>\n",
       "      <td>AGO</td>\n",
       "      <td>Angola</td>\n",
       "      <td>1995-01-01</td>\n",
       "      <td>1</td>\n",
       "      <td>1</td>\n",
       "      <td>1</td>\n",
       "      <td>exp_part</td>\n",
       "      <td>0</td>\n",
       "      <td>0</td>\n",
       "      <td>0</td>\n",
       "      <td>0</td>\n",
       "      <td>1</td>\n",
       "      <td>end_war</td>\n",
       "      <td>success_total</td>\n",
       "    </tr>\n",
       "    <tr>\n",
       "      <th>3</th>\n",
       "      <td>471</td>\n",
       "      <td>AFG</td>\n",
       "      <td>Afghanistan</td>\n",
       "      <td>AGO</td>\n",
       "      <td>Angola</td>\n",
       "      <td>1996-01-01</td>\n",
       "      <td>1</td>\n",
       "      <td>1</td>\n",
       "      <td>1</td>\n",
       "      <td>exp_part</td>\n",
       "      <td>0</td>\n",
       "      <td>0</td>\n",
       "      <td>0</td>\n",
       "      <td>0</td>\n",
       "      <td>1</td>\n",
       "      <td>end_war</td>\n",
       "      <td>success_total</td>\n",
       "    </tr>\n",
       "    <tr>\n",
       "      <th>4</th>\n",
       "      <td>471,574</td>\n",
       "      <td>AFG</td>\n",
       "      <td>Afghanistan</td>\n",
       "      <td>AGO</td>\n",
       "      <td>Angola</td>\n",
       "      <td>1997-01-01</td>\n",
       "      <td>1</td>\n",
       "      <td>1</td>\n",
       "      <td>1</td>\n",
       "      <td>exp_part</td>\n",
       "      <td>0</td>\n",
       "      <td>1</td>\n",
       "      <td>1</td>\n",
       "      <td>0</td>\n",
       "      <td>1</td>\n",
       "      <td>end_war,end_war</td>\n",
       "      <td>success_total,success_total</td>\n",
       "    </tr>\n",
       "    <tr>\n",
       "      <th>...</th>\n",
       "      <td>...</td>\n",
       "      <td>...</td>\n",
       "      <td>...</td>\n",
       "      <td>...</td>\n",
       "      <td>...</td>\n",
       "      <td>...</td>\n",
       "      <td>...</td>\n",
       "      <td>...</td>\n",
       "      <td>...</td>\n",
       "      <td>...</td>\n",
       "      <td>...</td>\n",
       "      <td>...</td>\n",
       "      <td>...</td>\n",
       "      <td>...</td>\n",
       "      <td>...</td>\n",
       "      <td>...</td>\n",
       "      <td>...</td>\n",
       "    </tr>\n",
       "    <tr>\n",
       "      <th>495</th>\n",
       "      <td>300,217,321</td>\n",
       "      <td>AFG</td>\n",
       "      <td>Afghanistan</td>\n",
       "      <td>ZAF</td>\n",
       "      <td>South Africa</td>\n",
       "      <td>1987-01-01</td>\n",
       "      <td>1</td>\n",
       "      <td>1</td>\n",
       "      <td>1</td>\n",
       "      <td>exp_part</td>\n",
       "      <td>0</td>\n",
       "      <td>0</td>\n",
       "      <td>0</td>\n",
       "      <td>0</td>\n",
       "      <td>1</td>\n",
       "      <td>policy_change,prevent_war,policy_change,preven...</td>\n",
       "      <td>success_total,success_total,success_total,succ...</td>\n",
       "    </tr>\n",
       "    <tr>\n",
       "      <th>496</th>\n",
       "      <td>321,300,217</td>\n",
       "      <td>AFG</td>\n",
       "      <td>Afghanistan</td>\n",
       "      <td>ZAF</td>\n",
       "      <td>South Africa</td>\n",
       "      <td>1988-01-01</td>\n",
       "      <td>1</td>\n",
       "      <td>1</td>\n",
       "      <td>1</td>\n",
       "      <td>exp_part</td>\n",
       "      <td>0</td>\n",
       "      <td>0</td>\n",
       "      <td>0</td>\n",
       "      <td>0</td>\n",
       "      <td>1</td>\n",
       "      <td>policy_change,democracy,human_rights,policy_ch...</td>\n",
       "      <td>success_total,success_total,success_total,succ...</td>\n",
       "    </tr>\n",
       "    <tr>\n",
       "      <th>497</th>\n",
       "      <td>300,321,217</td>\n",
       "      <td>AFG</td>\n",
       "      <td>Afghanistan</td>\n",
       "      <td>ZAF</td>\n",
       "      <td>South Africa</td>\n",
       "      <td>1989-01-01</td>\n",
       "      <td>1</td>\n",
       "      <td>1</td>\n",
       "      <td>1</td>\n",
       "      <td>exp_part</td>\n",
       "      <td>0</td>\n",
       "      <td>0</td>\n",
       "      <td>0</td>\n",
       "      <td>0</td>\n",
       "      <td>1</td>\n",
       "      <td>policy_change,prevent_war,policy_change,democr...</td>\n",
       "      <td>success_total,success_total,success_total,succ...</td>\n",
       "    </tr>\n",
       "    <tr>\n",
       "      <th>498</th>\n",
       "      <td>300,321,217</td>\n",
       "      <td>AFG</td>\n",
       "      <td>Afghanistan</td>\n",
       "      <td>ZAF</td>\n",
       "      <td>South Africa</td>\n",
       "      <td>1990-01-01</td>\n",
       "      <td>1</td>\n",
       "      <td>1</td>\n",
       "      <td>1</td>\n",
       "      <td>exp_part</td>\n",
       "      <td>0</td>\n",
       "      <td>0</td>\n",
       "      <td>0</td>\n",
       "      <td>0</td>\n",
       "      <td>1</td>\n",
       "      <td>policy_change,prevent_war,policy_change,democr...</td>\n",
       "      <td>success_total,success_total,success_total,succ...</td>\n",
       "    </tr>\n",
       "    <tr>\n",
       "      <th>499</th>\n",
       "      <td>321,300,217</td>\n",
       "      <td>AFG</td>\n",
       "      <td>Afghanistan</td>\n",
       "      <td>ZAF</td>\n",
       "      <td>South Africa</td>\n",
       "      <td>1991-01-01</td>\n",
       "      <td>1</td>\n",
       "      <td>1</td>\n",
       "      <td>1</td>\n",
       "      <td>exp_part</td>\n",
       "      <td>0</td>\n",
       "      <td>0</td>\n",
       "      <td>0</td>\n",
       "      <td>0</td>\n",
       "      <td>1</td>\n",
       "      <td>policy_change,democracy,human_rights,policy_ch...</td>\n",
       "      <td>success_total,success_total,success_total,succ...</td>\n",
       "    </tr>\n",
       "  </tbody>\n",
       "</table>\n",
       "<p>500 rows × 17 columns</p>\n",
       "</div>"
      ]
     },
     "execution_count": 735,
     "metadata": {},
     "output_type": "execute_result"
    }
   ],
   "execution_count": 735
  },
  {
   "metadata": {
    "ExecuteTime": {
     "end_time": "2025-03-16T16:36:45.809668Z",
     "start_time": "2025-03-16T16:36:45.805416Z"
    }
   },
   "cell_type": "code",
   "source": "gsdb_csv.head(500)",
   "id": "46ff8b38be3d65c8",
   "outputs": [
    {
     "data": {
      "text/plain": [
       "     case_id            sanctioned_state sanctioning_state  begin   end  \\\n",
       "0          1  German Democratic Republic           Germany   1949  1973   \n",
       "1          2                    Pakistan             India   1949  1951   \n",
       "2          3                    Bulgaria     United States   1950  1963   \n",
       "3          4                    Bulgaria     United States   1950  1966   \n",
       "4          5                    Bulgaria     United States   1950  1959   \n",
       "..       ...                         ...               ...    ...   ...   \n",
       "495      496                      Russia           Ukraine   1993  1996   \n",
       "496      497                       Sudan     United States   1993  2020   \n",
       "497      498                        Togo                EU   1993  2007   \n",
       "498      499                        Togo            France   1993  2008   \n",
       "499      500                        Togo           Germany   1993  2011   \n",
       "\n",
       "     trade          descr_trade  arms  military  financial  travel  other  \\\n",
       "0        0                  NaN     0         0          0       0      1   \n",
       "1        1  exp_compl,imp_compl     0         0          0       0      0   \n",
       "2        0                  NaN     0         0          1       0      0   \n",
       "3        0                  NaN     0         0          0       0      1   \n",
       "4        0                  NaN     0         0          0       1      0   \n",
       "..     ...                  ...   ...       ...        ...     ...    ...   \n",
       "495      1             imp_part     0         1          0       0      0   \n",
       "496      0                  NaN     0         0          1       0      0   \n",
       "497      0                  NaN     0         0          1       0      0   \n",
       "498      0                  NaN     0         0          1       0      0   \n",
       "499      0                  NaN     0         0          1       0      0   \n",
       "\n",
       "     target_mult  sender_mult                       objective  \\\n",
       "0              0            0            territorial_conflict   \n",
       "1              0            0                   policy_change   \n",
       "2              0            0                   destab_regime   \n",
       "3              0            0                   destab_regime   \n",
       "4              0            0                   destab_regime   \n",
       "..           ...          ...                             ...   \n",
       "495            0            0                   policy_change   \n",
       "496            0            0                       terrorism   \n",
       "497            0            1          democracy,human_rights   \n",
       "498            0            0  human_rights,democracy,end_war   \n",
       "499            0            0                       democracy   \n",
       "\n",
       "                                       success  \n",
       "0                                success_total  \n",
       "1                              nego_settlement  \n",
       "2                                 success_part  \n",
       "3                                       failed  \n",
       "4                                 success_part  \n",
       "..                                         ...  \n",
       "495                            nego_settlement  \n",
       "496                               success_part  \n",
       "497                success_total,success_total  \n",
       "498  success_total,success_total,success_total  \n",
       "499                              success_total  \n",
       "\n",
       "[500 rows x 16 columns]"
      ],
      "text/html": [
       "<div>\n",
       "<style scoped>\n",
       "    .dataframe tbody tr th:only-of-type {\n",
       "        vertical-align: middle;\n",
       "    }\n",
       "\n",
       "    .dataframe tbody tr th {\n",
       "        vertical-align: top;\n",
       "    }\n",
       "\n",
       "    .dataframe thead th {\n",
       "        text-align: right;\n",
       "    }\n",
       "</style>\n",
       "<table border=\"1\" class=\"dataframe\">\n",
       "  <thead>\n",
       "    <tr style=\"text-align: right;\">\n",
       "      <th></th>\n",
       "      <th>case_id</th>\n",
       "      <th>sanctioned_state</th>\n",
       "      <th>sanctioning_state</th>\n",
       "      <th>begin</th>\n",
       "      <th>end</th>\n",
       "      <th>trade</th>\n",
       "      <th>descr_trade</th>\n",
       "      <th>arms</th>\n",
       "      <th>military</th>\n",
       "      <th>financial</th>\n",
       "      <th>travel</th>\n",
       "      <th>other</th>\n",
       "      <th>target_mult</th>\n",
       "      <th>sender_mult</th>\n",
       "      <th>objective</th>\n",
       "      <th>success</th>\n",
       "    </tr>\n",
       "  </thead>\n",
       "  <tbody>\n",
       "    <tr>\n",
       "      <th>0</th>\n",
       "      <td>1</td>\n",
       "      <td>German Democratic Republic</td>\n",
       "      <td>Germany</td>\n",
       "      <td>1949</td>\n",
       "      <td>1973</td>\n",
       "      <td>0</td>\n",
       "      <td>NaN</td>\n",
       "      <td>0</td>\n",
       "      <td>0</td>\n",
       "      <td>0</td>\n",
       "      <td>0</td>\n",
       "      <td>1</td>\n",
       "      <td>0</td>\n",
       "      <td>0</td>\n",
       "      <td>territorial_conflict</td>\n",
       "      <td>success_total</td>\n",
       "    </tr>\n",
       "    <tr>\n",
       "      <th>1</th>\n",
       "      <td>2</td>\n",
       "      <td>Pakistan</td>\n",
       "      <td>India</td>\n",
       "      <td>1949</td>\n",
       "      <td>1951</td>\n",
       "      <td>1</td>\n",
       "      <td>exp_compl,imp_compl</td>\n",
       "      <td>0</td>\n",
       "      <td>0</td>\n",
       "      <td>0</td>\n",
       "      <td>0</td>\n",
       "      <td>0</td>\n",
       "      <td>0</td>\n",
       "      <td>0</td>\n",
       "      <td>policy_change</td>\n",
       "      <td>nego_settlement</td>\n",
       "    </tr>\n",
       "    <tr>\n",
       "      <th>2</th>\n",
       "      <td>3</td>\n",
       "      <td>Bulgaria</td>\n",
       "      <td>United States</td>\n",
       "      <td>1950</td>\n",
       "      <td>1963</td>\n",
       "      <td>0</td>\n",
       "      <td>NaN</td>\n",
       "      <td>0</td>\n",
       "      <td>0</td>\n",
       "      <td>1</td>\n",
       "      <td>0</td>\n",
       "      <td>0</td>\n",
       "      <td>0</td>\n",
       "      <td>0</td>\n",
       "      <td>destab_regime</td>\n",
       "      <td>success_part</td>\n",
       "    </tr>\n",
       "    <tr>\n",
       "      <th>3</th>\n",
       "      <td>4</td>\n",
       "      <td>Bulgaria</td>\n",
       "      <td>United States</td>\n",
       "      <td>1950</td>\n",
       "      <td>1966</td>\n",
       "      <td>0</td>\n",
       "      <td>NaN</td>\n",
       "      <td>0</td>\n",
       "      <td>0</td>\n",
       "      <td>0</td>\n",
       "      <td>0</td>\n",
       "      <td>1</td>\n",
       "      <td>0</td>\n",
       "      <td>0</td>\n",
       "      <td>destab_regime</td>\n",
       "      <td>failed</td>\n",
       "    </tr>\n",
       "    <tr>\n",
       "      <th>4</th>\n",
       "      <td>5</td>\n",
       "      <td>Bulgaria</td>\n",
       "      <td>United States</td>\n",
       "      <td>1950</td>\n",
       "      <td>1959</td>\n",
       "      <td>0</td>\n",
       "      <td>NaN</td>\n",
       "      <td>0</td>\n",
       "      <td>0</td>\n",
       "      <td>0</td>\n",
       "      <td>1</td>\n",
       "      <td>0</td>\n",
       "      <td>0</td>\n",
       "      <td>0</td>\n",
       "      <td>destab_regime</td>\n",
       "      <td>success_part</td>\n",
       "    </tr>\n",
       "    <tr>\n",
       "      <th>...</th>\n",
       "      <td>...</td>\n",
       "      <td>...</td>\n",
       "      <td>...</td>\n",
       "      <td>...</td>\n",
       "      <td>...</td>\n",
       "      <td>...</td>\n",
       "      <td>...</td>\n",
       "      <td>...</td>\n",
       "      <td>...</td>\n",
       "      <td>...</td>\n",
       "      <td>...</td>\n",
       "      <td>...</td>\n",
       "      <td>...</td>\n",
       "      <td>...</td>\n",
       "      <td>...</td>\n",
       "      <td>...</td>\n",
       "    </tr>\n",
       "    <tr>\n",
       "      <th>495</th>\n",
       "      <td>496</td>\n",
       "      <td>Russia</td>\n",
       "      <td>Ukraine</td>\n",
       "      <td>1993</td>\n",
       "      <td>1996</td>\n",
       "      <td>1</td>\n",
       "      <td>imp_part</td>\n",
       "      <td>0</td>\n",
       "      <td>1</td>\n",
       "      <td>0</td>\n",
       "      <td>0</td>\n",
       "      <td>0</td>\n",
       "      <td>0</td>\n",
       "      <td>0</td>\n",
       "      <td>policy_change</td>\n",
       "      <td>nego_settlement</td>\n",
       "    </tr>\n",
       "    <tr>\n",
       "      <th>496</th>\n",
       "      <td>497</td>\n",
       "      <td>Sudan</td>\n",
       "      <td>United States</td>\n",
       "      <td>1993</td>\n",
       "      <td>2020</td>\n",
       "      <td>0</td>\n",
       "      <td>NaN</td>\n",
       "      <td>0</td>\n",
       "      <td>0</td>\n",
       "      <td>1</td>\n",
       "      <td>0</td>\n",
       "      <td>0</td>\n",
       "      <td>0</td>\n",
       "      <td>0</td>\n",
       "      <td>terrorism</td>\n",
       "      <td>success_part</td>\n",
       "    </tr>\n",
       "    <tr>\n",
       "      <th>497</th>\n",
       "      <td>498</td>\n",
       "      <td>Togo</td>\n",
       "      <td>EU</td>\n",
       "      <td>1993</td>\n",
       "      <td>2007</td>\n",
       "      <td>0</td>\n",
       "      <td>NaN</td>\n",
       "      <td>0</td>\n",
       "      <td>0</td>\n",
       "      <td>1</td>\n",
       "      <td>0</td>\n",
       "      <td>0</td>\n",
       "      <td>0</td>\n",
       "      <td>1</td>\n",
       "      <td>democracy,human_rights</td>\n",
       "      <td>success_total,success_total</td>\n",
       "    </tr>\n",
       "    <tr>\n",
       "      <th>498</th>\n",
       "      <td>499</td>\n",
       "      <td>Togo</td>\n",
       "      <td>France</td>\n",
       "      <td>1993</td>\n",
       "      <td>2008</td>\n",
       "      <td>0</td>\n",
       "      <td>NaN</td>\n",
       "      <td>0</td>\n",
       "      <td>0</td>\n",
       "      <td>1</td>\n",
       "      <td>0</td>\n",
       "      <td>0</td>\n",
       "      <td>0</td>\n",
       "      <td>0</td>\n",
       "      <td>human_rights,democracy,end_war</td>\n",
       "      <td>success_total,success_total,success_total</td>\n",
       "    </tr>\n",
       "    <tr>\n",
       "      <th>499</th>\n",
       "      <td>500</td>\n",
       "      <td>Togo</td>\n",
       "      <td>Germany</td>\n",
       "      <td>1993</td>\n",
       "      <td>2011</td>\n",
       "      <td>0</td>\n",
       "      <td>NaN</td>\n",
       "      <td>0</td>\n",
       "      <td>0</td>\n",
       "      <td>1</td>\n",
       "      <td>0</td>\n",
       "      <td>0</td>\n",
       "      <td>0</td>\n",
       "      <td>0</td>\n",
       "      <td>democracy</td>\n",
       "      <td>success_total</td>\n",
       "    </tr>\n",
       "  </tbody>\n",
       "</table>\n",
       "<p>500 rows × 16 columns</p>\n",
       "</div>"
      ]
     },
     "execution_count": 736,
     "metadata": {},
     "output_type": "execute_result"
    }
   ],
   "execution_count": 736
  },
  {
   "metadata": {
    "ExecuteTime": {
     "end_time": "2025-03-16T16:36:45.952056Z",
     "start_time": "2025-03-16T16:36:45.950462Z"
    }
   },
   "cell_type": "code",
   "source": [
    "print(\"Shape for Stata data: \", gsdb_stata.shape)\n",
    "print(\"Shape for XLS data:\", gsdb_csv.shape)"
   ],
   "id": "db9287a7979edbfe",
   "outputs": [
    {
     "name": "stdout",
     "output_type": "stream",
     "text": [
      "Shape for Stata data:  (150200, 17)\n",
      "Shape for XLS data: (1547, 16)\n"
     ]
    }
   ],
   "execution_count": 737
  },
  {
   "metadata": {
    "ExecuteTime": {
     "end_time": "2025-03-16T16:36:46.136808Z",
     "start_time": "2025-03-16T16:36:46.116187Z"
    }
   },
   "cell_type": "code",
   "source": [
    "# Column names Stata\n",
    "gsdb_stata.info()"
   ],
   "id": "142975e10ebb061e",
   "outputs": [
    {
     "name": "stdout",
     "output_type": "stream",
     "text": [
      "<class 'pandas.core.frame.DataFrame'>\n",
      "Index: 150200 entries, 0 to 159064\n",
      "Data columns (total 17 columns):\n",
      " #   Column                  Non-Null Count   Dtype         \n",
      "---  ------                  --------------   -----         \n",
      " 0   case_id                 150200 non-null  object        \n",
      " 1   sanctioning_state_iso3  150200 non-null  object        \n",
      " 2   sanctioning_state       150200 non-null  object        \n",
      " 3   sanctioned_state_iso3   150200 non-null  object        \n",
      " 4   sanctioned_state        150200 non-null  object        \n",
      " 5   year                    150200 non-null  datetime64[ns]\n",
      " 6   arms                    150200 non-null  int8          \n",
      " 7   military                150200 non-null  int8          \n",
      " 8   trade                   150200 non-null  int8          \n",
      " 9   descr_trade             150200 non-null  object        \n",
      " 10  financial               150200 non-null  int8          \n",
      " 11  travel                  150200 non-null  int8          \n",
      " 12  other                   150200 non-null  int8          \n",
      " 13  target_mult             150200 non-null  int8          \n",
      " 14  sender_mult             150200 non-null  int8          \n",
      " 15  objective               150200 non-null  object        \n",
      " 16  success                 150200 non-null  object        \n",
      "dtypes: datetime64[ns](1), int8(8), object(8)\n",
      "memory usage: 12.6+ MB\n"
     ]
    }
   ],
   "execution_count": 738
  },
  {
   "metadata": {
    "ExecuteTime": {
     "end_time": "2025-03-16T16:36:46.297274Z",
     "start_time": "2025-03-16T16:36:46.294931Z"
    }
   },
   "cell_type": "code",
   "source": "gsdb_stata.dtypes",
   "id": "8c1779a73cf85d79",
   "outputs": [
    {
     "data": {
      "text/plain": [
       "case_id                           object\n",
       "sanctioning_state_iso3            object\n",
       "sanctioning_state                 object\n",
       "sanctioned_state_iso3             object\n",
       "sanctioned_state                  object\n",
       "year                      datetime64[ns]\n",
       "arms                                int8\n",
       "military                            int8\n",
       "trade                               int8\n",
       "descr_trade                       object\n",
       "financial                           int8\n",
       "travel                              int8\n",
       "other                               int8\n",
       "target_mult                         int8\n",
       "sender_mult                         int8\n",
       "objective                         object\n",
       "success                           object\n",
       "dtype: object"
      ]
     },
     "execution_count": 739,
     "metadata": {},
     "output_type": "execute_result"
    }
   ],
   "execution_count": 739
  },
  {
   "metadata": {
    "ExecuteTime": {
     "end_time": "2025-03-16T16:36:46.369776Z",
     "start_time": "2025-03-16T16:36:46.366743Z"
    }
   },
   "cell_type": "code",
   "source": [
    "# Column names XLS\n",
    "gsdb_csv.info()"
   ],
   "id": "298ad50a509fb007",
   "outputs": [
    {
     "name": "stdout",
     "output_type": "stream",
     "text": [
      "<class 'pandas.core.frame.DataFrame'>\n",
      "RangeIndex: 1547 entries, 0 to 1546\n",
      "Data columns (total 16 columns):\n",
      " #   Column             Non-Null Count  Dtype \n",
      "---  ------             --------------  ----- \n",
      " 0   case_id            1547 non-null   int64 \n",
      " 1   sanctioned_state   1547 non-null   object\n",
      " 2   sanctioning_state  1547 non-null   object\n",
      " 3   begin              1547 non-null   int64 \n",
      " 4   end                1547 non-null   int64 \n",
      " 5   trade              1547 non-null   int64 \n",
      " 6   descr_trade        588 non-null    object\n",
      " 7   arms               1547 non-null   int64 \n",
      " 8   military           1547 non-null   int64 \n",
      " 9   financial          1547 non-null   int64 \n",
      " 10  travel             1547 non-null   int64 \n",
      " 11  other              1547 non-null   int64 \n",
      " 12  target_mult        1547 non-null   int64 \n",
      " 13  sender_mult        1547 non-null   int64 \n",
      " 14  objective          1547 non-null   object\n",
      " 15  success            1547 non-null   object\n",
      "dtypes: int64(11), object(5)\n",
      "memory usage: 193.5+ KB\n"
     ]
    }
   ],
   "execution_count": 740
  },
  {
   "metadata": {
    "ExecuteTime": {
     "end_time": "2025-03-16T16:36:46.473764Z",
     "start_time": "2025-03-16T16:36:46.471474Z"
    }
   },
   "cell_type": "code",
   "source": "gsdb_csv.dtypes",
   "id": "2db29271bdfd4ef9",
   "outputs": [
    {
     "data": {
      "text/plain": [
       "case_id               int64\n",
       "sanctioned_state     object\n",
       "sanctioning_state    object\n",
       "begin                 int64\n",
       "end                   int64\n",
       "trade                 int64\n",
       "descr_trade          object\n",
       "arms                  int64\n",
       "military              int64\n",
       "financial             int64\n",
       "travel                int64\n",
       "other                 int64\n",
       "target_mult           int64\n",
       "sender_mult           int64\n",
       "objective            object\n",
       "success              object\n",
       "dtype: object"
      ]
     },
     "execution_count": 741,
     "metadata": {},
     "output_type": "execute_result"
    }
   ],
   "execution_count": 741
  },
  {
   "metadata": {
    "ExecuteTime": {
     "end_time": "2025-03-16T16:36:46.574130Z",
     "start_time": "2025-03-16T16:36:46.555673Z"
    }
   },
   "cell_type": "code",
   "source": "gsdb_stata.isna().any()",
   "id": "92f4ee6122ff7c0d",
   "outputs": [
    {
     "data": {
      "text/plain": [
       "case_id                   False\n",
       "sanctioning_state_iso3    False\n",
       "sanctioning_state         False\n",
       "sanctioned_state_iso3     False\n",
       "sanctioned_state          False\n",
       "year                      False\n",
       "arms                      False\n",
       "military                  False\n",
       "trade                     False\n",
       "descr_trade               False\n",
       "financial                 False\n",
       "travel                    False\n",
       "other                     False\n",
       "target_mult               False\n",
       "sender_mult               False\n",
       "objective                 False\n",
       "success                   False\n",
       "dtype: bool"
      ]
     },
     "execution_count": 742,
     "metadata": {},
     "output_type": "execute_result"
    }
   ],
   "execution_count": 742
  },
  {
   "metadata": {
    "ExecuteTime": {
     "end_time": "2025-03-16T16:36:46.682452Z",
     "start_time": "2025-03-16T16:36:46.676747Z"
    }
   },
   "cell_type": "code",
   "source": "(gsdb_stata[\"sanctioned_state_iso3\"].astype(str) == '').sum()",
   "id": "8f899427b55f5f39",
   "outputs": [
    {
     "data": {
      "text/plain": [
       "np.int64(0)"
      ]
     },
     "execution_count": 743,
     "metadata": {},
     "output_type": "execute_result"
    }
   ],
   "execution_count": 743
  },
  {
   "metadata": {
    "ExecuteTime": {
     "end_time": "2025-03-16T16:37:21.972634Z",
     "start_time": "2025-03-16T16:37:21.964430Z"
    }
   },
   "cell_type": "code",
   "source": "gsdb_stata[gsdb_stata[\"sanctioning_state_iso3\"] == \"YUG\"]",
   "id": "686f5f1b71965fc5",
   "outputs": [
    {
     "data": {
      "text/plain": [
       "            case_id sanctioning_state_iso3 sanctioning_state  \\\n",
       "157697          420                    YUG        Yugoslavia   \n",
       "157698           22                    YUG        Yugoslavia   \n",
       "157699           22                    YUG        Yugoslavia   \n",
       "157700           22                    YUG        Yugoslavia   \n",
       "157701          420                    YUG        Yugoslavia   \n",
       "...             ...                    ...               ...   \n",
       "157820  300,217,321                    YUG        Yugoslavia   \n",
       "157821  300,217,321                    YUG        Yugoslavia   \n",
       "157822  300,217,321                    YUG        Yugoslavia   \n",
       "157823  300,217,321                    YUG        Yugoslavia   \n",
       "157824  300,217,321                    YUG        Yugoslavia   \n",
       "\n",
       "       sanctioned_state_iso3        sanctioned_state       year  arms  \\\n",
       "157697                   BIH  Bosnia and Herzegovina 1991-01-01     1   \n",
       "157698                   CHN                   China 1951-01-01     1   \n",
       "157699                   CHN                   China 1952-01-01     1   \n",
       "157700                   CHN                   China 1953-01-01     1   \n",
       "157701                   HRV                 Croatia 1991-01-01     1   \n",
       "...                      ...                     ...        ...   ...   \n",
       "157820                   ZAF            South Africa 1987-01-01     1   \n",
       "157821                   ZAF            South Africa 1988-01-01     1   \n",
       "157822                   ZAF            South Africa 1989-01-01     1   \n",
       "157823                   ZAF            South Africa 1990-01-01     1   \n",
       "157824                   ZAF            South Africa 1991-01-01     1   \n",
       "\n",
       "        military  trade descr_trade  financial  travel  other  target_mult  \\\n",
       "157697         0      0                      0       0      0            1   \n",
       "157698         0      0                      0       0      0            0   \n",
       "157699         0      0                      0       0      0            0   \n",
       "157700         0      0                      0       0      0            0   \n",
       "157701         0      0                      0       0      0            1   \n",
       "...          ...    ...         ...        ...     ...    ...          ...   \n",
       "157820         1      1    exp_part          0       0      0            0   \n",
       "157821         1      1    exp_part          0       0      0            0   \n",
       "157822         1      1    exp_part          0       0      0            0   \n",
       "157823         1      1    exp_part          0       0      0            0   \n",
       "157824         1      1    exp_part          0       0      0            0   \n",
       "\n",
       "        sender_mult                                          objective  \\\n",
       "157697            1                                            end_war   \n",
       "157698            1                              end_war,destab_regime   \n",
       "157699            1                              end_war,destab_regime   \n",
       "157700            1                              end_war,destab_regime   \n",
       "157701            1                                            end_war   \n",
       "...             ...                                                ...   \n",
       "157820            1  policy_change,prevent_war,policy_change,preven...   \n",
       "157821            1  policy_change,prevent_war,policy_change,preven...   \n",
       "157822            1  policy_change,prevent_war,policy_change,preven...   \n",
       "157823            1  policy_change,prevent_war,policy_change,preven...   \n",
       "157824            1  policy_change,prevent_war,policy_change,preven...   \n",
       "\n",
       "                                                  success  \n",
       "157697                                      success_total  \n",
       "157698                               success_total,failed  \n",
       "157699                               success_total,failed  \n",
       "157700                               success_total,failed  \n",
       "157701                                      success_total  \n",
       "...                                                   ...  \n",
       "157820  success_total,success_total,success_total,succ...  \n",
       "157821  success_total,success_total,success_total,succ...  \n",
       "157822  success_total,success_total,success_total,succ...  \n",
       "157823  success_total,success_total,success_total,succ...  \n",
       "157824  success_total,success_total,success_total,succ...  \n",
       "\n",
       "[113 rows x 17 columns]"
      ],
      "text/html": [
       "<div>\n",
       "<style scoped>\n",
       "    .dataframe tbody tr th:only-of-type {\n",
       "        vertical-align: middle;\n",
       "    }\n",
       "\n",
       "    .dataframe tbody tr th {\n",
       "        vertical-align: top;\n",
       "    }\n",
       "\n",
       "    .dataframe thead th {\n",
       "        text-align: right;\n",
       "    }\n",
       "</style>\n",
       "<table border=\"1\" class=\"dataframe\">\n",
       "  <thead>\n",
       "    <tr style=\"text-align: right;\">\n",
       "      <th></th>\n",
       "      <th>case_id</th>\n",
       "      <th>sanctioning_state_iso3</th>\n",
       "      <th>sanctioning_state</th>\n",
       "      <th>sanctioned_state_iso3</th>\n",
       "      <th>sanctioned_state</th>\n",
       "      <th>year</th>\n",
       "      <th>arms</th>\n",
       "      <th>military</th>\n",
       "      <th>trade</th>\n",
       "      <th>descr_trade</th>\n",
       "      <th>financial</th>\n",
       "      <th>travel</th>\n",
       "      <th>other</th>\n",
       "      <th>target_mult</th>\n",
       "      <th>sender_mult</th>\n",
       "      <th>objective</th>\n",
       "      <th>success</th>\n",
       "    </tr>\n",
       "  </thead>\n",
       "  <tbody>\n",
       "    <tr>\n",
       "      <th>157697</th>\n",
       "      <td>420</td>\n",
       "      <td>YUG</td>\n",
       "      <td>Yugoslavia</td>\n",
       "      <td>BIH</td>\n",
       "      <td>Bosnia and Herzegovina</td>\n",
       "      <td>1991-01-01</td>\n",
       "      <td>1</td>\n",
       "      <td>0</td>\n",
       "      <td>0</td>\n",
       "      <td></td>\n",
       "      <td>0</td>\n",
       "      <td>0</td>\n",
       "      <td>0</td>\n",
       "      <td>1</td>\n",
       "      <td>1</td>\n",
       "      <td>end_war</td>\n",
       "      <td>success_total</td>\n",
       "    </tr>\n",
       "    <tr>\n",
       "      <th>157698</th>\n",
       "      <td>22</td>\n",
       "      <td>YUG</td>\n",
       "      <td>Yugoslavia</td>\n",
       "      <td>CHN</td>\n",
       "      <td>China</td>\n",
       "      <td>1951-01-01</td>\n",
       "      <td>1</td>\n",
       "      <td>0</td>\n",
       "      <td>0</td>\n",
       "      <td></td>\n",
       "      <td>0</td>\n",
       "      <td>0</td>\n",
       "      <td>0</td>\n",
       "      <td>0</td>\n",
       "      <td>1</td>\n",
       "      <td>end_war,destab_regime</td>\n",
       "      <td>success_total,failed</td>\n",
       "    </tr>\n",
       "    <tr>\n",
       "      <th>157699</th>\n",
       "      <td>22</td>\n",
       "      <td>YUG</td>\n",
       "      <td>Yugoslavia</td>\n",
       "      <td>CHN</td>\n",
       "      <td>China</td>\n",
       "      <td>1952-01-01</td>\n",
       "      <td>1</td>\n",
       "      <td>0</td>\n",
       "      <td>0</td>\n",
       "      <td></td>\n",
       "      <td>0</td>\n",
       "      <td>0</td>\n",
       "      <td>0</td>\n",
       "      <td>0</td>\n",
       "      <td>1</td>\n",
       "      <td>end_war,destab_regime</td>\n",
       "      <td>success_total,failed</td>\n",
       "    </tr>\n",
       "    <tr>\n",
       "      <th>157700</th>\n",
       "      <td>22</td>\n",
       "      <td>YUG</td>\n",
       "      <td>Yugoslavia</td>\n",
       "      <td>CHN</td>\n",
       "      <td>China</td>\n",
       "      <td>1953-01-01</td>\n",
       "      <td>1</td>\n",
       "      <td>0</td>\n",
       "      <td>0</td>\n",
       "      <td></td>\n",
       "      <td>0</td>\n",
       "      <td>0</td>\n",
       "      <td>0</td>\n",
       "      <td>0</td>\n",
       "      <td>1</td>\n",
       "      <td>end_war,destab_regime</td>\n",
       "      <td>success_total,failed</td>\n",
       "    </tr>\n",
       "    <tr>\n",
       "      <th>157701</th>\n",
       "      <td>420</td>\n",
       "      <td>YUG</td>\n",
       "      <td>Yugoslavia</td>\n",
       "      <td>HRV</td>\n",
       "      <td>Croatia</td>\n",
       "      <td>1991-01-01</td>\n",
       "      <td>1</td>\n",
       "      <td>0</td>\n",
       "      <td>0</td>\n",
       "      <td></td>\n",
       "      <td>0</td>\n",
       "      <td>0</td>\n",
       "      <td>0</td>\n",
       "      <td>1</td>\n",
       "      <td>1</td>\n",
       "      <td>end_war</td>\n",
       "      <td>success_total</td>\n",
       "    </tr>\n",
       "    <tr>\n",
       "      <th>...</th>\n",
       "      <td>...</td>\n",
       "      <td>...</td>\n",
       "      <td>...</td>\n",
       "      <td>...</td>\n",
       "      <td>...</td>\n",
       "      <td>...</td>\n",
       "      <td>...</td>\n",
       "      <td>...</td>\n",
       "      <td>...</td>\n",
       "      <td>...</td>\n",
       "      <td>...</td>\n",
       "      <td>...</td>\n",
       "      <td>...</td>\n",
       "      <td>...</td>\n",
       "      <td>...</td>\n",
       "      <td>...</td>\n",
       "      <td>...</td>\n",
       "    </tr>\n",
       "    <tr>\n",
       "      <th>157820</th>\n",
       "      <td>300,217,321</td>\n",
       "      <td>YUG</td>\n",
       "      <td>Yugoslavia</td>\n",
       "      <td>ZAF</td>\n",
       "      <td>South Africa</td>\n",
       "      <td>1987-01-01</td>\n",
       "      <td>1</td>\n",
       "      <td>1</td>\n",
       "      <td>1</td>\n",
       "      <td>exp_part</td>\n",
       "      <td>0</td>\n",
       "      <td>0</td>\n",
       "      <td>0</td>\n",
       "      <td>0</td>\n",
       "      <td>1</td>\n",
       "      <td>policy_change,prevent_war,policy_change,preven...</td>\n",
       "      <td>success_total,success_total,success_total,succ...</td>\n",
       "    </tr>\n",
       "    <tr>\n",
       "      <th>157821</th>\n",
       "      <td>300,217,321</td>\n",
       "      <td>YUG</td>\n",
       "      <td>Yugoslavia</td>\n",
       "      <td>ZAF</td>\n",
       "      <td>South Africa</td>\n",
       "      <td>1988-01-01</td>\n",
       "      <td>1</td>\n",
       "      <td>1</td>\n",
       "      <td>1</td>\n",
       "      <td>exp_part</td>\n",
       "      <td>0</td>\n",
       "      <td>0</td>\n",
       "      <td>0</td>\n",
       "      <td>0</td>\n",
       "      <td>1</td>\n",
       "      <td>policy_change,prevent_war,policy_change,preven...</td>\n",
       "      <td>success_total,success_total,success_total,succ...</td>\n",
       "    </tr>\n",
       "    <tr>\n",
       "      <th>157822</th>\n",
       "      <td>300,217,321</td>\n",
       "      <td>YUG</td>\n",
       "      <td>Yugoslavia</td>\n",
       "      <td>ZAF</td>\n",
       "      <td>South Africa</td>\n",
       "      <td>1989-01-01</td>\n",
       "      <td>1</td>\n",
       "      <td>1</td>\n",
       "      <td>1</td>\n",
       "      <td>exp_part</td>\n",
       "      <td>0</td>\n",
       "      <td>0</td>\n",
       "      <td>0</td>\n",
       "      <td>0</td>\n",
       "      <td>1</td>\n",
       "      <td>policy_change,prevent_war,policy_change,preven...</td>\n",
       "      <td>success_total,success_total,success_total,succ...</td>\n",
       "    </tr>\n",
       "    <tr>\n",
       "      <th>157823</th>\n",
       "      <td>300,217,321</td>\n",
       "      <td>YUG</td>\n",
       "      <td>Yugoslavia</td>\n",
       "      <td>ZAF</td>\n",
       "      <td>South Africa</td>\n",
       "      <td>1990-01-01</td>\n",
       "      <td>1</td>\n",
       "      <td>1</td>\n",
       "      <td>1</td>\n",
       "      <td>exp_part</td>\n",
       "      <td>0</td>\n",
       "      <td>0</td>\n",
       "      <td>0</td>\n",
       "      <td>0</td>\n",
       "      <td>1</td>\n",
       "      <td>policy_change,prevent_war,policy_change,preven...</td>\n",
       "      <td>success_total,success_total,success_total,succ...</td>\n",
       "    </tr>\n",
       "    <tr>\n",
       "      <th>157824</th>\n",
       "      <td>300,217,321</td>\n",
       "      <td>YUG</td>\n",
       "      <td>Yugoslavia</td>\n",
       "      <td>ZAF</td>\n",
       "      <td>South Africa</td>\n",
       "      <td>1991-01-01</td>\n",
       "      <td>1</td>\n",
       "      <td>1</td>\n",
       "      <td>1</td>\n",
       "      <td>exp_part</td>\n",
       "      <td>0</td>\n",
       "      <td>0</td>\n",
       "      <td>0</td>\n",
       "      <td>0</td>\n",
       "      <td>1</td>\n",
       "      <td>policy_change,prevent_war,policy_change,preven...</td>\n",
       "      <td>success_total,success_total,success_total,succ...</td>\n",
       "    </tr>\n",
       "  </tbody>\n",
       "</table>\n",
       "<p>113 rows × 17 columns</p>\n",
       "</div>"
      ]
     },
     "execution_count": 785,
     "metadata": {},
     "output_type": "execute_result"
    }
   ],
   "execution_count": 785
  },
  {
   "metadata": {},
   "cell_type": "markdown",
   "source": "Try to unify names",
   "id": "d3ec1e9d441078bc"
  },
  {
   "metadata": {},
   "cell_type": "markdown",
   "source": "### GDP Data",
   "id": "7769b020192c0c67"
  },
  {
   "metadata": {
    "ExecuteTime": {
     "end_time": "2025-03-16T16:36:46.935066Z",
     "start_time": "2025-03-16T16:36:46.931032Z"
    }
   },
   "cell_type": "code",
   "source": "gdp = pa.read_csv(filepath_or_buffer=\"data/economic/GDP(currentUSD)_1974-2023.csv\", sep=\",\", na_values=[\"..\", \"nan\"])",
   "id": "c1a99a411cb19d09",
   "outputs": [],
   "execution_count": 745
  },
  {
   "metadata": {
    "ExecuteTime": {
     "end_time": "2025-03-16T16:36:47.031630Z",
     "start_time": "2025-03-16T16:36:47.029850Z"
    }
   },
   "cell_type": "code",
   "source": "gdp = gdp.drop([\"Series Name\", \"Series Code\", \"Country Name\"], axis=1)",
   "id": "c023fe3179e97ef8",
   "outputs": [],
   "execution_count": 746
  },
  {
   "metadata": {
    "ExecuteTime": {
     "end_time": "2025-03-16T16:36:47.103985Z",
     "start_time": "2025-03-16T16:36:47.102127Z"
    }
   },
   "cell_type": "code",
   "source": "gdp = gdp.rename(columns=lambda x: x if not x.endswith(\"]\") else x.split(\" \")[0])",
   "id": "caee66f64af9c305",
   "outputs": [],
   "execution_count": 747
  },
  {
   "metadata": {
    "ExecuteTime": {
     "end_time": "2025-03-16T16:36:47.190616Z",
     "start_time": "2025-03-16T16:36:47.183612Z"
    }
   },
   "cell_type": "code",
   "source": "gdp.head(10)",
   "id": "3777cdaaa266592f",
   "outputs": [
    {
     "data": {
      "text/plain": [
       "  Country Code          1974          1975          1976          1977  \\\n",
       "0          AFG           NaN           NaN           NaN           NaN   \n",
       "1          ALB           NaN           NaN           NaN           NaN   \n",
       "2          DZA  1.320987e+10  1.555790e+10  1.772824e+10  2.097211e+10   \n",
       "3          ASM           NaN           NaN           NaN           NaN   \n",
       "4          AND  1.865571e+08  2.201126e+08  2.272839e+08  2.539979e+08   \n",
       "5          AGO           NaN           NaN           NaN           NaN   \n",
       "6          ATG           NaN           NaN           NaN  7.749630e+07   \n",
       "7          ARG  7.243678e+10  5.243865e+10  5.116950e+10  5.678100e+10   \n",
       "8          ARM           NaN           NaN           NaN           NaN   \n",
       "9          ABW           NaN           NaN           NaN           NaN   \n",
       "\n",
       "           1978          1979          1980          1981          1982  ...  \\\n",
       "0           NaN           NaN           NaN           NaN           NaN  ...   \n",
       "1           NaN           NaN  1.578102e+09  1.808177e+09  1.861163e+09  ...   \n",
       "2  2.636449e+10  3.324371e+10  4.234583e+10  4.434859e+10  4.520717e+10  ...   \n",
       "3           NaN           NaN           NaN           NaN           NaN  ...   \n",
       "4  3.080203e+08  4.115487e+08  4.463778e+08  3.889833e+08  3.759147e+08  ...   \n",
       "5           NaN           NaN  5.930503e+09  5.550483e+09  5.550483e+09  ...   \n",
       "6  8.803333e+07  1.095852e+08  1.324407e+08  1.493778e+08  1.664259e+08  ...   \n",
       "7  8.904945e+10  6.925233e+10  7.696192e+10  7.867684e+10  8.430749e+10  ...   \n",
       "8           NaN           NaN           NaN           NaN           NaN  ...   \n",
       "9           NaN           NaN           NaN           NaN           NaN  ...   \n",
       "\n",
       "           2014          2015          2016          2017          2018  \\\n",
       "0  2.049713e+10  1.913422e+10  1.811657e+10  1.875346e+10  1.805322e+10   \n",
       "1  1.322815e+10  1.138685e+10  1.186120e+10  1.301973e+10  1.537951e+10   \n",
       "2  2.389427e+11  1.874939e+11  1.807638e+11  1.898809e+11  1.945545e+11   \n",
       "3  6.430000e+08  6.730000e+08  6.710000e+08  6.120000e+08  6.390000e+08   \n",
       "4  3.271686e+09  2.789881e+09  2.896610e+09  3.000162e+09  3.218420e+09   \n",
       "5  1.359668e+11  9.049642e+10  5.276162e+10  7.369015e+10  7.945069e+10   \n",
       "6  1.378830e+09  1.437756e+09  1.489693e+09  1.531152e+09  1.661530e+09   \n",
       "7  5.263197e+11  5.947493e+11  5.575323e+11  6.436284e+11  5.248199e+11   \n",
       "8  1.160951e+10  1.055334e+10  1.054614e+10  1.152746e+10  1.245794e+10   \n",
       "9  2.790850e+09  2.962907e+09  2.983635e+09  3.092429e+09  3.276184e+09   \n",
       "\n",
       "           2019          2020          2021          2022          2023  \n",
       "0  1.879944e+10  1.995593e+10  1.426000e+10  1.449724e+10  1.723305e+10  \n",
       "1  1.558511e+10  1.524146e+10  1.803201e+10  1.901724e+10  2.354718e+10  \n",
       "2  1.934597e+11  1.648734e+11  1.862312e+11  2.256385e+11  2.476262e+11  \n",
       "3  6.470000e+08  7.210000e+08  7.500000e+08  8.710000e+08           NaN  \n",
       "4  3.155149e+09  2.891001e+09  3.324648e+09  3.380613e+09  3.785067e+09  \n",
       "5  7.089796e+10  4.850156e+10  6.650513e+10  1.043997e+11  8.482465e+10  \n",
       "6  1.725352e+09  1.410796e+09  1.601367e+09  1.867733e+09  2.033085e+09  \n",
       "7  4.477547e+11  3.857405e+11  4.865641e+11  6.327901e+11  6.460753e+11  \n",
       "8  1.361929e+10  1.264170e+10  1.387891e+10  1.951351e+10  2.408575e+10  \n",
       "9  3.395799e+09  2.481857e+09  2.929447e+09  3.279344e+09  3.648573e+09  \n",
       "\n",
       "[10 rows x 51 columns]"
      ],
      "text/html": [
       "<div>\n",
       "<style scoped>\n",
       "    .dataframe tbody tr th:only-of-type {\n",
       "        vertical-align: middle;\n",
       "    }\n",
       "\n",
       "    .dataframe tbody tr th {\n",
       "        vertical-align: top;\n",
       "    }\n",
       "\n",
       "    .dataframe thead th {\n",
       "        text-align: right;\n",
       "    }\n",
       "</style>\n",
       "<table border=\"1\" class=\"dataframe\">\n",
       "  <thead>\n",
       "    <tr style=\"text-align: right;\">\n",
       "      <th></th>\n",
       "      <th>Country Code</th>\n",
       "      <th>1974</th>\n",
       "      <th>1975</th>\n",
       "      <th>1976</th>\n",
       "      <th>1977</th>\n",
       "      <th>1978</th>\n",
       "      <th>1979</th>\n",
       "      <th>1980</th>\n",
       "      <th>1981</th>\n",
       "      <th>1982</th>\n",
       "      <th>...</th>\n",
       "      <th>2014</th>\n",
       "      <th>2015</th>\n",
       "      <th>2016</th>\n",
       "      <th>2017</th>\n",
       "      <th>2018</th>\n",
       "      <th>2019</th>\n",
       "      <th>2020</th>\n",
       "      <th>2021</th>\n",
       "      <th>2022</th>\n",
       "      <th>2023</th>\n",
       "    </tr>\n",
       "  </thead>\n",
       "  <tbody>\n",
       "    <tr>\n",
       "      <th>0</th>\n",
       "      <td>AFG</td>\n",
       "      <td>NaN</td>\n",
       "      <td>NaN</td>\n",
       "      <td>NaN</td>\n",
       "      <td>NaN</td>\n",
       "      <td>NaN</td>\n",
       "      <td>NaN</td>\n",
       "      <td>NaN</td>\n",
       "      <td>NaN</td>\n",
       "      <td>NaN</td>\n",
       "      <td>...</td>\n",
       "      <td>2.049713e+10</td>\n",
       "      <td>1.913422e+10</td>\n",
       "      <td>1.811657e+10</td>\n",
       "      <td>1.875346e+10</td>\n",
       "      <td>1.805322e+10</td>\n",
       "      <td>1.879944e+10</td>\n",
       "      <td>1.995593e+10</td>\n",
       "      <td>1.426000e+10</td>\n",
       "      <td>1.449724e+10</td>\n",
       "      <td>1.723305e+10</td>\n",
       "    </tr>\n",
       "    <tr>\n",
       "      <th>1</th>\n",
       "      <td>ALB</td>\n",
       "      <td>NaN</td>\n",
       "      <td>NaN</td>\n",
       "      <td>NaN</td>\n",
       "      <td>NaN</td>\n",
       "      <td>NaN</td>\n",
       "      <td>NaN</td>\n",
       "      <td>1.578102e+09</td>\n",
       "      <td>1.808177e+09</td>\n",
       "      <td>1.861163e+09</td>\n",
       "      <td>...</td>\n",
       "      <td>1.322815e+10</td>\n",
       "      <td>1.138685e+10</td>\n",
       "      <td>1.186120e+10</td>\n",
       "      <td>1.301973e+10</td>\n",
       "      <td>1.537951e+10</td>\n",
       "      <td>1.558511e+10</td>\n",
       "      <td>1.524146e+10</td>\n",
       "      <td>1.803201e+10</td>\n",
       "      <td>1.901724e+10</td>\n",
       "      <td>2.354718e+10</td>\n",
       "    </tr>\n",
       "    <tr>\n",
       "      <th>2</th>\n",
       "      <td>DZA</td>\n",
       "      <td>1.320987e+10</td>\n",
       "      <td>1.555790e+10</td>\n",
       "      <td>1.772824e+10</td>\n",
       "      <td>2.097211e+10</td>\n",
       "      <td>2.636449e+10</td>\n",
       "      <td>3.324371e+10</td>\n",
       "      <td>4.234583e+10</td>\n",
       "      <td>4.434859e+10</td>\n",
       "      <td>4.520717e+10</td>\n",
       "      <td>...</td>\n",
       "      <td>2.389427e+11</td>\n",
       "      <td>1.874939e+11</td>\n",
       "      <td>1.807638e+11</td>\n",
       "      <td>1.898809e+11</td>\n",
       "      <td>1.945545e+11</td>\n",
       "      <td>1.934597e+11</td>\n",
       "      <td>1.648734e+11</td>\n",
       "      <td>1.862312e+11</td>\n",
       "      <td>2.256385e+11</td>\n",
       "      <td>2.476262e+11</td>\n",
       "    </tr>\n",
       "    <tr>\n",
       "      <th>3</th>\n",
       "      <td>ASM</td>\n",
       "      <td>NaN</td>\n",
       "      <td>NaN</td>\n",
       "      <td>NaN</td>\n",
       "      <td>NaN</td>\n",
       "      <td>NaN</td>\n",
       "      <td>NaN</td>\n",
       "      <td>NaN</td>\n",
       "      <td>NaN</td>\n",
       "      <td>NaN</td>\n",
       "      <td>...</td>\n",
       "      <td>6.430000e+08</td>\n",
       "      <td>6.730000e+08</td>\n",
       "      <td>6.710000e+08</td>\n",
       "      <td>6.120000e+08</td>\n",
       "      <td>6.390000e+08</td>\n",
       "      <td>6.470000e+08</td>\n",
       "      <td>7.210000e+08</td>\n",
       "      <td>7.500000e+08</td>\n",
       "      <td>8.710000e+08</td>\n",
       "      <td>NaN</td>\n",
       "    </tr>\n",
       "    <tr>\n",
       "      <th>4</th>\n",
       "      <td>AND</td>\n",
       "      <td>1.865571e+08</td>\n",
       "      <td>2.201126e+08</td>\n",
       "      <td>2.272839e+08</td>\n",
       "      <td>2.539979e+08</td>\n",
       "      <td>3.080203e+08</td>\n",
       "      <td>4.115487e+08</td>\n",
       "      <td>4.463778e+08</td>\n",
       "      <td>3.889833e+08</td>\n",
       "      <td>3.759147e+08</td>\n",
       "      <td>...</td>\n",
       "      <td>3.271686e+09</td>\n",
       "      <td>2.789881e+09</td>\n",
       "      <td>2.896610e+09</td>\n",
       "      <td>3.000162e+09</td>\n",
       "      <td>3.218420e+09</td>\n",
       "      <td>3.155149e+09</td>\n",
       "      <td>2.891001e+09</td>\n",
       "      <td>3.324648e+09</td>\n",
       "      <td>3.380613e+09</td>\n",
       "      <td>3.785067e+09</td>\n",
       "    </tr>\n",
       "    <tr>\n",
       "      <th>5</th>\n",
       "      <td>AGO</td>\n",
       "      <td>NaN</td>\n",
       "      <td>NaN</td>\n",
       "      <td>NaN</td>\n",
       "      <td>NaN</td>\n",
       "      <td>NaN</td>\n",
       "      <td>NaN</td>\n",
       "      <td>5.930503e+09</td>\n",
       "      <td>5.550483e+09</td>\n",
       "      <td>5.550483e+09</td>\n",
       "      <td>...</td>\n",
       "      <td>1.359668e+11</td>\n",
       "      <td>9.049642e+10</td>\n",
       "      <td>5.276162e+10</td>\n",
       "      <td>7.369015e+10</td>\n",
       "      <td>7.945069e+10</td>\n",
       "      <td>7.089796e+10</td>\n",
       "      <td>4.850156e+10</td>\n",
       "      <td>6.650513e+10</td>\n",
       "      <td>1.043997e+11</td>\n",
       "      <td>8.482465e+10</td>\n",
       "    </tr>\n",
       "    <tr>\n",
       "      <th>6</th>\n",
       "      <td>ATG</td>\n",
       "      <td>NaN</td>\n",
       "      <td>NaN</td>\n",
       "      <td>NaN</td>\n",
       "      <td>7.749630e+07</td>\n",
       "      <td>8.803333e+07</td>\n",
       "      <td>1.095852e+08</td>\n",
       "      <td>1.324407e+08</td>\n",
       "      <td>1.493778e+08</td>\n",
       "      <td>1.664259e+08</td>\n",
       "      <td>...</td>\n",
       "      <td>1.378830e+09</td>\n",
       "      <td>1.437756e+09</td>\n",
       "      <td>1.489693e+09</td>\n",
       "      <td>1.531152e+09</td>\n",
       "      <td>1.661530e+09</td>\n",
       "      <td>1.725352e+09</td>\n",
       "      <td>1.410796e+09</td>\n",
       "      <td>1.601367e+09</td>\n",
       "      <td>1.867733e+09</td>\n",
       "      <td>2.033085e+09</td>\n",
       "    </tr>\n",
       "    <tr>\n",
       "      <th>7</th>\n",
       "      <td>ARG</td>\n",
       "      <td>7.243678e+10</td>\n",
       "      <td>5.243865e+10</td>\n",
       "      <td>5.116950e+10</td>\n",
       "      <td>5.678100e+10</td>\n",
       "      <td>8.904945e+10</td>\n",
       "      <td>6.925233e+10</td>\n",
       "      <td>7.696192e+10</td>\n",
       "      <td>7.867684e+10</td>\n",
       "      <td>8.430749e+10</td>\n",
       "      <td>...</td>\n",
       "      <td>5.263197e+11</td>\n",
       "      <td>5.947493e+11</td>\n",
       "      <td>5.575323e+11</td>\n",
       "      <td>6.436284e+11</td>\n",
       "      <td>5.248199e+11</td>\n",
       "      <td>4.477547e+11</td>\n",
       "      <td>3.857405e+11</td>\n",
       "      <td>4.865641e+11</td>\n",
       "      <td>6.327901e+11</td>\n",
       "      <td>6.460753e+11</td>\n",
       "    </tr>\n",
       "    <tr>\n",
       "      <th>8</th>\n",
       "      <td>ARM</td>\n",
       "      <td>NaN</td>\n",
       "      <td>NaN</td>\n",
       "      <td>NaN</td>\n",
       "      <td>NaN</td>\n",
       "      <td>NaN</td>\n",
       "      <td>NaN</td>\n",
       "      <td>NaN</td>\n",
       "      <td>NaN</td>\n",
       "      <td>NaN</td>\n",
       "      <td>...</td>\n",
       "      <td>1.160951e+10</td>\n",
       "      <td>1.055334e+10</td>\n",
       "      <td>1.054614e+10</td>\n",
       "      <td>1.152746e+10</td>\n",
       "      <td>1.245794e+10</td>\n",
       "      <td>1.361929e+10</td>\n",
       "      <td>1.264170e+10</td>\n",
       "      <td>1.387891e+10</td>\n",
       "      <td>1.951351e+10</td>\n",
       "      <td>2.408575e+10</td>\n",
       "    </tr>\n",
       "    <tr>\n",
       "      <th>9</th>\n",
       "      <td>ABW</td>\n",
       "      <td>NaN</td>\n",
       "      <td>NaN</td>\n",
       "      <td>NaN</td>\n",
       "      <td>NaN</td>\n",
       "      <td>NaN</td>\n",
       "      <td>NaN</td>\n",
       "      <td>NaN</td>\n",
       "      <td>NaN</td>\n",
       "      <td>NaN</td>\n",
       "      <td>...</td>\n",
       "      <td>2.790850e+09</td>\n",
       "      <td>2.962907e+09</td>\n",
       "      <td>2.983635e+09</td>\n",
       "      <td>3.092429e+09</td>\n",
       "      <td>3.276184e+09</td>\n",
       "      <td>3.395799e+09</td>\n",
       "      <td>2.481857e+09</td>\n",
       "      <td>2.929447e+09</td>\n",
       "      <td>3.279344e+09</td>\n",
       "      <td>3.648573e+09</td>\n",
       "    </tr>\n",
       "  </tbody>\n",
       "</table>\n",
       "<p>10 rows × 51 columns</p>\n",
       "</div>"
      ]
     },
     "execution_count": 748,
     "metadata": {},
     "output_type": "execute_result"
    }
   ],
   "execution_count": 748
  },
  {
   "metadata": {
    "ExecuteTime": {
     "end_time": "2025-03-16T16:36:47.255967Z",
     "start_time": "2025-03-16T16:36:47.252793Z"
    }
   },
   "cell_type": "code",
   "source": "gdp.info()",
   "id": "b46b22be25d27d14",
   "outputs": [
    {
     "name": "stdout",
     "output_type": "stream",
     "text": [
      "<class 'pandas.core.frame.DataFrame'>\n",
      "RangeIndex: 222 entries, 0 to 221\n",
      "Data columns (total 51 columns):\n",
      " #   Column        Non-Null Count  Dtype  \n",
      "---  ------        --------------  -----  \n",
      " 0   Country Code  217 non-null    object \n",
      " 1   1974          147 non-null    float64\n",
      " 2   1975          150 non-null    float64\n",
      " 3   1976          150 non-null    float64\n",
      " 4   1977          153 non-null    float64\n",
      " 5   1978          152 non-null    float64\n",
      " 6   1979          153 non-null    float64\n",
      " 7   1980          163 non-null    float64\n",
      " 8   1981          163 non-null    float64\n",
      " 9   1982          164 non-null    float64\n",
      " 10  1983          164 non-null    float64\n",
      " 11  1984          166 non-null    float64\n",
      " 12  1985          168 non-null    float64\n",
      " 13  1986          168 non-null    float64\n",
      " 14  1987          174 non-null    float64\n",
      " 15  1988          176 non-null    float64\n",
      " 16  1989          176 non-null    float64\n",
      " 17  1990          192 non-null    float64\n",
      " 18  1991          193 non-null    float64\n",
      " 19  1992          194 non-null    float64\n",
      " 20  1993          195 non-null    float64\n",
      " 21  1994          196 non-null    float64\n",
      " 22  1995          199 non-null    float64\n",
      " 23  1996          199 non-null    float64\n",
      " 24  1997          201 non-null    float64\n",
      " 25  1998          202 non-null    float64\n",
      " 26  1999          202 non-null    float64\n",
      " 27  2000          204 non-null    float64\n",
      " 28  2001          205 non-null    float64\n",
      " 29  2002          209 non-null    float64\n",
      " 30  2003          209 non-null    float64\n",
      " 31  2004          209 non-null    float64\n",
      " 32  2005          209 non-null    float64\n",
      " 33  2006          210 non-null    float64\n",
      " 34  2007          210 non-null    float64\n",
      " 35  2008          211 non-null    float64\n",
      " 36  2009          213 non-null    float64\n",
      " 37  2010          213 non-null    float64\n",
      " 38  2011          214 non-null    float64\n",
      " 39  2012          212 non-null    float64\n",
      " 40  2013          212 non-null    float64\n",
      " 41  2014          213 non-null    float64\n",
      " 42  2015          211 non-null    float64\n",
      " 43  2016          210 non-null    float64\n",
      " 44  2017          210 non-null    float64\n",
      " 45  2018          210 non-null    float64\n",
      " 46  2019          210 non-null    float64\n",
      " 47  2020          209 non-null    float64\n",
      " 48  2021          209 non-null    float64\n",
      " 49  2022          206 non-null    float64\n",
      " 50  2023          194 non-null    float64\n",
      "dtypes: float64(50), object(1)\n",
      "memory usage: 88.6+ KB\n"
     ]
    }
   ],
   "execution_count": 749
  },
  {
   "metadata": {
    "ExecuteTime": {
     "end_time": "2025-03-16T16:36:47.362554Z",
     "start_time": "2025-03-16T16:36:47.360696Z"
    }
   },
   "cell_type": "code",
   "source": "gdp.shape",
   "id": "5ddb113ac27addf1",
   "outputs": [
    {
     "data": {
      "text/plain": [
       "(222, 51)"
      ]
     },
     "execution_count": 750,
     "metadata": {},
     "output_type": "execute_result"
    }
   ],
   "execution_count": 750
  },
  {
   "metadata": {},
   "cell_type": "markdown",
   "source": "Check how many countries there are in the dataset.",
   "id": "f3b4708bff84d9a2"
  },
  {
   "metadata": {
    "ExecuteTime": {
     "end_time": "2025-03-16T16:36:47.446220Z",
     "start_time": "2025-03-16T16:36:47.444033Z"
    }
   },
   "cell_type": "code",
   "source": "gdp[\"Country Code\"].nunique()",
   "id": "839f4906073bf8cf",
   "outputs": [
    {
     "data": {
      "text/plain": [
       "217"
      ]
     },
     "execution_count": 751,
     "metadata": {},
     "output_type": "execute_result"
    }
   ],
   "execution_count": 751
  },
  {
   "metadata": {
    "ExecuteTime": {
     "end_time": "2025-03-16T16:36:47.530216Z",
     "start_time": "2025-03-16T16:36:47.527979Z"
    }
   },
   "cell_type": "code",
   "source": "gdp[\"Country Code\"].isna().sum()",
   "id": "38dcd69bdcf0a4af",
   "outputs": [
    {
     "data": {
      "text/plain": [
       "np.int64(5)"
      ]
     },
     "execution_count": 752,
     "metadata": {},
     "output_type": "execute_result"
    }
   ],
   "execution_count": 752
  },
  {
   "metadata": {
    "ExecuteTime": {
     "end_time": "2025-03-16T16:36:47.578940Z",
     "start_time": "2025-03-16T16:36:47.577032Z"
    }
   },
   "cell_type": "code",
   "source": [
    "gdp = gdp[~gdp[\"Country Code\"].isna()]\n",
    "print(\"Shape after removing NaN: \", gdp.shape)"
   ],
   "id": "4ca963a39c58c571",
   "outputs": [
    {
     "name": "stdout",
     "output_type": "stream",
     "text": [
      "Shape after removing NaN:  (217, 51)\n"
     ]
    }
   ],
   "execution_count": 753
  },
  {
   "metadata": {},
   "cell_type": "markdown",
   "source": "Check countries that are in CEPII, but not in GDP dataset.",
   "id": "ffeecf5358f4dbb5"
  },
  {
   "metadata": {
    "ExecuteTime": {
     "end_time": "2025-03-16T16:36:47.617922Z",
     "start_time": "2025-03-16T16:36:47.615187Z"
    }
   },
   "cell_type": "code",
   "source": [
    "countries_unique_to_cepii = list(set(dist_cepii[\"origin\"].unique()) - set(gdp[\"Country Code\"].unique()))\n",
    "countries_unique_to_cepii"
   ],
   "id": "8eeee573efa42312",
   "outputs": [
    {
     "data": {
      "text/plain": [
       "['TMP',\n",
       " 'WLF',\n",
       " 'REU',\n",
       " 'ZAR',\n",
       " 'ANT',\n",
       " 'GLP',\n",
       " 'SPM',\n",
       " 'NIU',\n",
       " 'TWN',\n",
       " 'TKL',\n",
       " 'PAL',\n",
       " 'ROM',\n",
       " 'YUG',\n",
       " 'GUF',\n",
       " 'FLK',\n",
       " 'AIA',\n",
       " 'ESH',\n",
       " 'COK',\n",
       " 'NFK',\n",
       " 'MTQ',\n",
       " 'SHN']"
      ]
     },
     "execution_count": 754,
     "metadata": {},
     "output_type": "execute_result"
    }
   ],
   "execution_count": 754
  },
  {
   "metadata": {},
   "cell_type": "markdown",
   "source": "Check countries that are in GDP, but not in CEPII dataset.",
   "id": "76d387c41c38d692"
  },
  {
   "metadata": {
    "ExecuteTime": {
     "end_time": "2025-03-16T16:36:47.675946Z",
     "start_time": "2025-03-16T16:36:47.672890Z"
    }
   },
   "cell_type": "code",
   "source": [
    "countries_unique_to_gdp = list(set(gdp[\"Country Code\"].unique()) - set(dist_cepii[\"origin\"].unique()))\n",
    "countries_unique_to_gdp"
   ],
   "id": "2a1a2b1d5e476d0e",
   "outputs": [
    {
     "data": {
      "text/plain": [
       "['XKX',\n",
       " 'MNE',\n",
       " 'TLS',\n",
       " 'MAF',\n",
       " 'IMN',\n",
       " 'MAC',\n",
       " 'SXM',\n",
       " 'LIE',\n",
       " 'CUW',\n",
       " 'PSE',\n",
       " 'ROU',\n",
       " 'GUM',\n",
       " 'ASM',\n",
       " 'CHI',\n",
       " 'SRB',\n",
       " 'MCO',\n",
       " 'SSD',\n",
       " 'VIR',\n",
       " 'COD']"
      ]
     },
     "execution_count": 755,
     "metadata": {},
     "output_type": "execute_result"
    }
   ],
   "execution_count": 755
  },
  {
   "metadata": {},
   "cell_type": "markdown",
   "source": "### UN Comtrade",
   "id": "6480361673a0570a"
  },
  {
   "metadata": {
    "ExecuteTime": {
     "end_time": "2025-03-16T16:36:47.716672Z",
     "start_time": "2025-03-16T16:36:47.714524Z"
    }
   },
   "cell_type": "code",
   "source": [
    "import pandas as pd\n",
    "import os\n",
    "\n",
    "# Specify the input and output file paths\n",
    "input_file = \"data/trade/Romania_2020_Plus\"  # Update with your input file's path\n",
    "output_file = \"data/trade/Romania_2020_Plus.xlsx\"  # Desired output Excel file path\n",
    "\n",
    "# Determine the file extension to decide how to read the input file\n",
    "_, ext = os.path.splitext(input_file)\n",
    "ext = ext.lower()\n",
    "\n",
    "df = None  # Initialize df\n",
    "def convert(active):\n",
    "    if active:\n",
    "        return\n",
    "    try:\n",
    "        if ext in ['.csv', '']:\n",
    "            # Assume the file is tab-delimited (TSV)\n",
    "            df = pd.read_csv(input_file, sep='\\t', low_memory=False)\n",
    "        elif ext in ['.xls', '.xlsx']:\n",
    "            df = pd.read_excel(input_file)\n",
    "        else:\n",
    "            raise ValueError(f\"Unsupported file extension: {ext}\")\n",
    "        print(\"File read successfully!\")\n",
    "    except Exception as e:\n",
    "        print(f\"Error reading the input file: {e}\")\n",
    "\n",
    "    # Only attempt conversion if the DataFrame was successfully created\n",
    "    if df is not None:\n",
    "        try:\n",
    "            df.to_excel(output_file, index=False)\n",
    "            print(f\"Conversion successful! The Excel file is saved as: {output_file}\")\n",
    "        except Exception as e:\n",
    "            print(f\"Error writing to Excel: {e}\")\n",
    "    else:\n",
    "        print(\"Skipping conversion to Excel because the input file could not be read.\")\n",
    "\n",
    "# Read the input file into a DataFrame\n",
    "convert(True)\n"
   ],
   "id": "5f06186cdb5b6818",
   "outputs": [],
   "execution_count": 756
  },
  {
   "metadata": {},
   "cell_type": "markdown",
   "source": "### Rename and remove countries",
   "id": "15754d67d15071b9"
  },
  {
   "metadata": {
    "ExecuteTime": {
     "end_time": "2025-03-16T16:36:49.560328Z",
     "start_time": "2025-03-16T16:36:47.748278Z"
    }
   },
   "cell_type": "code",
   "source": [
    "for key in replace_country_codes.keys():\n",
    "    for value in replace_country_codes[key][\"values\"]:\n",
    "        dist_cepii = dist_cepii.replace(value, key)\n",
    "        gdp = gdp.replace(value, key)\n",
    "        gsdb_stata = gsdb_stata.replace(value, key)\n",
    "        print(\"Replacing\", value, \"with\", key)\n",
    "\n",
    "dist_cepii = dist_cepii[~dist_cepii.isin(excluded_country_codes).any(axis=1)]\n",
    "gsdb_stata = gsdb_stata[~gsdb_stata.isin(excluded_country_codes).any(axis=1)]\n",
    "gdp = gdp[~gdp.isin(excluded_country_codes).any(axis=1)]\n",
    "\n",
    "# Set distance for SER to the distance of YUG\n",
    "yug_rows = dist_cepii[dist_cepii.apply(lambda row: row.astype(str).str.contains(\"YUG\").any(), axis=1)].copy()\n",
    "yug_rows = yug_rows.replace(\"YUG\", \"SER\")\n",
    "dist_cepii = pd.concat([dist_cepii, yug_rows], ignore_index=True)"
   ],
   "id": "c421380c016062ec",
   "outputs": [
    {
     "name": "stdout",
     "output_type": "stream",
     "text": [
      "Replacing ROU with ROM\n",
      "Replacing SRB with SER\n",
      "Replacing COD with COG\n",
      "Replacing CHI with CHL\n"
     ]
    }
   ],
   "execution_count": 757
  },
  {
   "metadata": {},
   "cell_type": "markdown",
   "source": [
    "\n",
    "\n",
    "## Collect and analyze country labels in all the data sets\n",
    "\n",
    "### Country codes"
   ],
   "id": "202b7d9769e0a962"
  },
  {
   "metadata": {
    "ExecuteTime": {
     "end_time": "2025-03-16T16:36:49.575323Z",
     "start_time": "2025-03-16T16:36:49.570870Z"
    }
   },
   "cell_type": "code",
   "source": [
    "country_codes = pa.read_excel(\"./data/geographic/country_codes.xls\",\n",
    "                              dtype={\n",
    "                                  \"CountryCode\": object,\n",
    "                              })\n",
    "country_codes = country_codes[~country_codes.isin(excluded_country_codes).any(axis = 1)]"
   ],
   "id": "924cbfdc11bc2c40",
   "outputs": [],
   "execution_count": 758
  },
  {
   "metadata": {
    "ExecuteTime": {
     "end_time": "2025-03-16T16:36:49.587393Z",
     "start_time": "2025-03-16T16:36:49.585732Z"
    }
   },
   "cell_type": "code",
   "source": "country_codes.shape",
   "id": "5387467cd117f799",
   "outputs": [
    {
     "data": {
      "text/plain": [
       "(198, 3)"
      ]
     },
     "execution_count": 759,
     "metadata": {},
     "output_type": "execute_result"
    }
   ],
   "execution_count": 759
  },
  {
   "metadata": {
    "ExecuteTime": {
     "end_time": "2025-03-16T16:36:49.637444Z",
     "start_time": "2025-03-16T16:36:49.635774Z"
    }
   },
   "cell_type": "code",
   "source": [
    "# Check if all unique\n",
    "print(\"All Unique ?: \", country_codes.shape[0] == len(country_codes[\"ISO3\"].unique()))"
   ],
   "id": "119214b5fbaa785a",
   "outputs": [
    {
     "name": "stdout",
     "output_type": "stream",
     "text": [
      "All Unique ?:  True\n"
     ]
    }
   ],
   "execution_count": 760
  },
  {
   "metadata": {
    "ExecuteTime": {
     "end_time": "2025-03-16T16:36:49.669541Z",
     "start_time": "2025-03-16T16:36:49.668163Z"
    }
   },
   "cell_type": "code",
   "source": "country_codes_labels = country_codes[\"ISO3\"]",
   "id": "31212e3d9a45d418",
   "outputs": [],
   "execution_count": 761
  },
  {
   "metadata": {
    "ExecuteTime": {
     "end_time": "2025-03-16T16:36:49.700995Z",
     "start_time": "2025-03-16T16:36:49.699224Z"
    }
   },
   "cell_type": "code",
   "source": "np.array(country_codes_labels)",
   "id": "29190a65fde254ad",
   "outputs": [
    {
     "data": {
      "text/plain": [
       "array(['ABW', 'AFG', 'AGO', 'ALB', 'AND', 'ARE', 'ARG', 'ARM', 'ATG',\n",
       "       'AUS', 'AUT', 'AZE', 'BDI', 'BEL', 'BEN', 'BFA', 'BGD', 'BGR',\n",
       "       'BHR', 'BHS', 'BIH', 'BLR', 'BLZ', 'BOL', 'BRA', 'BRB', 'BRN',\n",
       "       'BTN', 'BWA', 'CAF', 'CAN', 'CHE', 'CHL', 'CHN', 'CIV', 'CMR',\n",
       "       'COG', 'COL', 'COM', 'CPV', 'CRI', 'CUB', 'CYP', 'CZE', 'DEU',\n",
       "       'DJI', 'DMA', 'DNK', 'DOM', 'DZA', 'ECU', 'EGY', 'ERI', 'ESH',\n",
       "       'ESP', 'EST', 'ETH', 'EUN', 'FIN', 'FJI', 'FRA', 'FRO', 'FSM',\n",
       "       'GAB', 'GBR', 'GEO', 'GHA', 'GIB', 'GIN', 'GMB', 'GNB', 'GNQ',\n",
       "       'GRC', 'GRD', 'GRL', 'GTM', 'GUY', 'HKG', 'HND', 'HRV', 'HTI',\n",
       "       'HUN', 'IDN', 'IND', 'IRL', 'IRN', 'IRQ', 'ISL', 'ISR', 'ITA',\n",
       "       'JAM', 'JOR', 'JPN', 'KAZ', 'KEN', 'KGZ', 'KHM', 'KIR', 'KNA',\n",
       "       'KOR', 'KWT', 'LAO', 'LBN', 'LBR', 'LBY', 'LCA', 'LKA', 'LSO',\n",
       "       'LTU', 'LUX', 'LVA', 'MAR', 'MDA', 'MDG', 'MDV', 'MEX', 'MHL',\n",
       "       'MKD', 'MLI', 'MLT', 'MMR', 'MNG', 'MOZ', 'MRT', 'MUS', 'MWI',\n",
       "       'MYS', 'NAM', 'NER', 'NGA', 'NIC', 'NLD', 'NOR', 'NPL', 'NRU',\n",
       "       'NZL', 'OMN', 'PAK', 'PAN', 'PER', 'PHL', 'PLW', 'PNG', 'POL',\n",
       "       'PRI', 'PRK', 'PRT', 'PRY', 'QAT', 'ROM', 'RUS', 'RWA', 'SAU',\n",
       "       'SDN', 'SEN', 'SER', 'SGP', 'SLB', 'SLE', 'SLV', 'SMR', 'SOM',\n",
       "       'STP', 'SUR', 'SVK', 'SVN', 'SWE', 'SWZ', 'SYC', 'SYR', 'TCD',\n",
       "       'TGO', 'THA', 'TJK', 'TKM', 'TON', 'TTO', 'TUN', 'TUR', 'TUV',\n",
       "       'TWN', 'TZA', 'UGA', 'UKR', 'URY', 'USA', 'UZB', 'VCT', 'VEN',\n",
       "       'VNM', 'VUT', 'WLD', 'WSM', 'YEM', 'YUG', 'ZAF', 'ZMB', 'ZWE'],\n",
       "      dtype=object)"
      ]
     },
     "execution_count": 762,
     "metadata": {},
     "output_type": "execute_result"
    }
   ],
   "execution_count": 762
  },
  {
   "metadata": {},
   "cell_type": "markdown",
   "source": "### DIST CEPII Labels",
   "id": "f386646fc3421901"
  },
  {
   "metadata": {
    "ExecuteTime": {
     "end_time": "2025-03-16T16:36:49.736953Z",
     "start_time": "2025-03-16T16:36:49.734141Z"
    }
   },
   "cell_type": "code",
   "source": [
    "dist_labels_origin = dist_cepii[\"origin\"].unique()\n",
    "print(len(dist_labels_origin))\n",
    "dist_labels_origin"
   ],
   "id": "1907d732f25ef96f",
   "outputs": [
    {
     "name": "stdout",
     "output_type": "stream",
     "text": [
      "196\n"
     ]
    },
    {
     "data": {
      "text/plain": [
       "array(['ABW', 'AFG', 'AGO', 'ALB', 'AND', 'ARE', 'ARG', 'ARM', 'ATG',\n",
       "       'AUS', 'AUT', 'AZE', 'BDI', 'BEL', 'BEN', 'BFA', 'BGD', 'BGR',\n",
       "       'BHR', 'BHS', 'BIH', 'BLR', 'BLZ', 'BOL', 'BRA', 'BRB', 'BRN',\n",
       "       'BTN', 'BWA', 'CAF', 'CAN', 'CHE', 'CHL', 'CHN', 'CIV', 'CMR',\n",
       "       'COG', 'COL', 'COM', 'CPV', 'CRI', 'CUB', 'CYP', 'CZE', 'DEU',\n",
       "       'DJI', 'DMA', 'DNK', 'DOM', 'DZA', 'ECU', 'EGY', 'ERI', 'ESH',\n",
       "       'ESP', 'EST', 'ETH', 'FIN', 'FJI', 'FRA', 'FRO', 'FSM', 'GAB',\n",
       "       'GBR', 'GEO', 'GHA', 'GIB', 'GIN', 'GMB', 'GNB', 'GNQ', 'GRC',\n",
       "       'GRD', 'GRL', 'GTM', 'GUY', 'HKG', 'HND', 'HRV', 'HTI', 'HUN',\n",
       "       'IDN', 'IND', 'IRL', 'IRN', 'IRQ', 'ISL', 'ISR', 'ITA', 'JAM',\n",
       "       'JOR', 'JPN', 'KAZ', 'KEN', 'KGZ', 'KHM', 'KIR', 'KNA', 'KOR',\n",
       "       'KWT', 'LAO', 'LBN', 'LBR', 'LBY', 'LCA', 'LKA', 'LSO', 'LTU',\n",
       "       'LUX', 'LVA', 'MAR', 'MDA', 'MDG', 'MDV', 'MEX', 'MHL', 'MKD',\n",
       "       'MLI', 'MLT', 'MMR', 'MNG', 'MOZ', 'MRT', 'MUS', 'MWI', 'MYS',\n",
       "       'NAM', 'NER', 'NGA', 'NIC', 'NLD', 'NOR', 'NPL', 'NRU', 'NZL',\n",
       "       'OMN', 'PAK', 'PAN', 'PER', 'PHL', 'PLW', 'PNG', 'POL', 'PRI',\n",
       "       'PRK', 'PRT', 'PRY', 'QAT', 'ROM', 'RUS', 'RWA', 'SAU', 'SDN',\n",
       "       'SEN', 'SGP', 'SLB', 'SLE', 'SLV', 'SMR', 'SOM', 'STP', 'SUR',\n",
       "       'SVK', 'SVN', 'SWE', 'SWZ', 'SYC', 'SYR', 'TCD', 'TGO', 'THA',\n",
       "       'TJK', 'TKM', 'TON', 'TTO', 'TUN', 'TUR', 'TUV', 'TWN', 'TZA',\n",
       "       'UGA', 'UKR', 'URY', 'USA', 'UZB', 'VCT', 'VEN', 'VNM', 'VUT',\n",
       "       'WSM', 'YEM', 'YUG', 'ZAF', 'ZMB', 'ZWE', 'SER'], dtype=object)"
      ]
     },
     "execution_count": 763,
     "metadata": {},
     "output_type": "execute_result"
    }
   ],
   "execution_count": 763
  },
  {
   "metadata": {
    "ExecuteTime": {
     "end_time": "2025-03-16T16:36:49.769820Z",
     "start_time": "2025-03-16T16:36:49.766822Z"
    }
   },
   "cell_type": "code",
   "source": [
    "dist_cepii[\"origin\"].unique()\n",
    "dist_cepii[\"origin\"].isna().sum()"
   ],
   "id": "ff05af130c2d7bba",
   "outputs": [
    {
     "data": {
      "text/plain": [
       "np.int64(0)"
      ]
     },
     "execution_count": 764,
     "metadata": {},
     "output_type": "execute_result"
    }
   ],
   "execution_count": 764
  },
  {
   "metadata": {
    "ExecuteTime": {
     "end_time": "2025-03-16T16:36:49.806777Z",
     "start_time": "2025-03-16T16:36:49.803954Z"
    }
   },
   "cell_type": "code",
   "source": [
    "dist_labels_dest = dist_cepii[\"destination\"].unique()\n",
    "print(len(dist_labels_dest))\n",
    "dist_labels_dest"
   ],
   "id": "f70e8d59e4974466",
   "outputs": [
    {
     "name": "stdout",
     "output_type": "stream",
     "text": [
      "196\n"
     ]
    },
    {
     "data": {
      "text/plain": [
       "array(['ABW', 'AFG', 'AGO', 'ALB', 'AND', 'ARE', 'ARG', 'ARM', 'ATG',\n",
       "       'AUS', 'AUT', 'AZE', 'BDI', 'BEL', 'BEN', 'BFA', 'BGD', 'BGR',\n",
       "       'BHR', 'BHS', 'BIH', 'BLR', 'BLZ', 'BOL', 'BRA', 'BRB', 'BRN',\n",
       "       'BTN', 'BWA', 'CAF', 'CAN', 'CHE', 'CHL', 'CHN', 'CIV', 'CMR',\n",
       "       'COG', 'COL', 'COM', 'CPV', 'CRI', 'CUB', 'CYP', 'CZE', 'DEU',\n",
       "       'DJI', 'DMA', 'DNK', 'DOM', 'DZA', 'ECU', 'EGY', 'ERI', 'ESH',\n",
       "       'ESP', 'EST', 'ETH', 'FIN', 'FJI', 'FRA', 'FRO', 'FSM', 'GAB',\n",
       "       'GBR', 'GEO', 'GHA', 'GIB', 'GIN', 'GMB', 'GNB', 'GNQ', 'GRC',\n",
       "       'GRD', 'GRL', 'GTM', 'GUY', 'HKG', 'HND', 'HRV', 'HTI', 'HUN',\n",
       "       'IDN', 'IND', 'IRL', 'IRN', 'IRQ', 'ISL', 'ISR', 'ITA', 'JAM',\n",
       "       'JOR', 'JPN', 'KAZ', 'KEN', 'KGZ', 'KHM', 'KIR', 'KNA', 'KOR',\n",
       "       'KWT', 'LAO', 'LBN', 'LBR', 'LBY', 'LCA', 'LKA', 'LSO', 'LTU',\n",
       "       'LUX', 'LVA', 'MAR', 'MDA', 'MDG', 'MDV', 'MEX', 'MHL', 'MKD',\n",
       "       'MLI', 'MLT', 'MMR', 'MNG', 'MOZ', 'MRT', 'MUS', 'MWI', 'MYS',\n",
       "       'NAM', 'NER', 'NGA', 'NIC', 'NLD', 'NOR', 'NPL', 'NRU', 'NZL',\n",
       "       'OMN', 'PAK', 'PAN', 'PER', 'PHL', 'PLW', 'PNG', 'POL', 'PRI',\n",
       "       'PRK', 'PRT', 'PRY', 'QAT', 'ROM', 'RUS', 'RWA', 'SAU', 'SDN',\n",
       "       'SEN', 'SGP', 'SLB', 'SLE', 'SLV', 'SMR', 'SOM', 'STP', 'SUR',\n",
       "       'SVK', 'SVN', 'SWE', 'SWZ', 'SYC', 'SYR', 'TCD', 'TGO', 'THA',\n",
       "       'TJK', 'TKM', 'TON', 'TTO', 'TUN', 'TUR', 'TUV', 'TWN', 'TZA',\n",
       "       'UGA', 'UKR', 'URY', 'USA', 'UZB', 'VCT', 'VEN', 'VNM', 'VUT',\n",
       "       'WSM', 'YEM', 'YUG', 'ZAF', 'ZMB', 'ZWE', 'SER'], dtype=object)"
      ]
     },
     "execution_count": 765,
     "metadata": {},
     "output_type": "execute_result"
    }
   ],
   "execution_count": 765
  },
  {
   "metadata": {
    "ExecuteTime": {
     "end_time": "2025-03-16T16:36:49.844622Z",
     "start_time": "2025-03-16T16:36:49.842334Z"
    }
   },
   "cell_type": "code",
   "source": "dist_cepii[\"destination\"]",
   "id": "5e49ebc5ad86c631",
   "outputs": [
    {
     "data": {
      "text/plain": [
       "0        ABW\n",
       "1        AFG\n",
       "2        AGO\n",
       "3        ALB\n",
       "4        AND\n",
       "        ... \n",
       "38409    ZMB\n",
       "38410    ZWE\n",
       "38411    SER\n",
       "38412    SER\n",
       "38413    SER\n",
       "Name: destination, Length: 38414, dtype: object"
      ]
     },
     "execution_count": 766,
     "metadata": {},
     "output_type": "execute_result"
    }
   ],
   "execution_count": 766
  },
  {
   "metadata": {
    "ExecuteTime": {
     "end_time": "2025-03-16T16:36:49.909768Z",
     "start_time": "2025-03-16T16:36:49.908287Z"
    }
   },
   "cell_type": "code",
   "source": [
    "# Check if there are any differences\n",
    "dist_labels_check = np.array(dist_labels_origin == dist_labels_dest)\n",
    "print(\"Any false:\", np.any(~dist_labels_check))"
   ],
   "id": "f3d4e76b19574d04",
   "outputs": [
    {
     "name": "stdout",
     "output_type": "stream",
     "text": [
      "Any false: False\n"
     ]
    }
   ],
   "execution_count": 767
  },
  {
   "metadata": {
    "ExecuteTime": {
     "end_time": "2025-03-16T16:36:49.972477Z",
     "start_time": "2025-03-16T16:36:49.970873Z"
    }
   },
   "cell_type": "code",
   "source": [
    "# Sanity check\n",
    "print(\"Sum of TRUE values: \", sum(dist_labels_check))\n",
    "print(\"Lenght of ALL values: \", len(dist_labels_check))"
   ],
   "id": "9c5aceab98cbb09f",
   "outputs": [
    {
     "name": "stdout",
     "output_type": "stream",
     "text": [
      "Sum of TRUE values:  196\n",
      "Lenght of ALL values:  196\n"
     ]
    }
   ],
   "execution_count": 768
  },
  {
   "metadata": {
    "ExecuteTime": {
     "end_time": "2025-03-16T16:36:50.040701Z",
     "start_time": "2025-03-16T16:36:50.039197Z"
    }
   },
   "cell_type": "code",
   "source": "dist_labels = dist_labels_origin",
   "id": "cb819691ecf311a8",
   "outputs": [],
   "execution_count": 769
  },
  {
   "metadata": {
    "ExecuteTime": {
     "end_time": "2025-03-16T16:36:50.097128Z",
     "start_time": "2025-03-16T16:36:50.095369Z"
    }
   },
   "cell_type": "code",
   "source": "len(dist_labels)",
   "id": "b9fe1ef432938451",
   "outputs": [
    {
     "data": {
      "text/plain": [
       "196"
      ]
     },
     "execution_count": 770,
     "metadata": {},
     "output_type": "execute_result"
    }
   ],
   "execution_count": 770
  },
  {
   "metadata": {
    "ExecuteTime": {
     "end_time": "2025-03-16T16:36:50.128398Z",
     "start_time": "2025-03-16T16:36:50.126241Z"
    }
   },
   "cell_type": "code",
   "source": "len(np.unique(dist_labels))",
   "id": "fcc8f147e8693906",
   "outputs": [
    {
     "data": {
      "text/plain": [
       "196"
      ]
     },
     "execution_count": 771,
     "metadata": {},
     "output_type": "execute_result"
    }
   ],
   "execution_count": 771
  },
  {
   "metadata": {},
   "cell_type": "markdown",
   "source": "### GSDB Labels",
   "id": "d27c0f8205e7e794"
  },
  {
   "metadata": {
    "ExecuteTime": {
     "end_time": "2025-03-16T16:36:50.172785Z",
     "start_time": "2025-03-16T16:36:50.166740Z"
    }
   },
   "cell_type": "code",
   "source": [
    "gsdb_sanctioning_labels = gsdb_stata[\"sanctioning_state_iso3\"].unique()\n",
    "gsdb_sanctioned_labels = gsdb_stata[\"sanctioned_state_iso3\"].unique()"
   ],
   "id": "dbb9453e2d5dd4d9",
   "outputs": [],
   "execution_count": 772
  },
  {
   "metadata": {
    "ExecuteTime": {
     "end_time": "2025-03-16T16:36:50.201527Z",
     "start_time": "2025-03-16T16:36:50.200046Z"
    }
   },
   "cell_type": "code",
   "source": [
    "print(\"Number of unique sanctioning: \", len(gsdb_sanctioning_labels))\n",
    "print(\"Number of unique sanctioned: \", len(gsdb_sanctioned_labels))"
   ],
   "id": "e2945c4afd1b6312",
   "outputs": [
    {
     "name": "stdout",
     "output_type": "stream",
     "text": [
      "Number of unique sanctioning:  191\n",
      "Number of unique sanctioned:  176\n"
     ]
    }
   ],
   "execution_count": 773
  },
  {
   "metadata": {
    "ExecuteTime": {
     "end_time": "2025-03-16T16:36:50.233709Z",
     "start_time": "2025-03-16T16:36:50.231924Z"
    }
   },
   "cell_type": "code",
   "source": [
    "unique_to_sanctioning = list(set(gsdb_sanctioning_labels) - set(gsdb_sanctioned_labels))\n",
    "print(\"Unique to SANCTIONING:\", unique_to_sanctioning)\n",
    "\n",
    "unique_to_sanctioned = list(set(gsdb_sanctioned_labels) - set(gsdb_sanctioning_labels))\n",
    "print(\"Unique to SANCTIONED: \", unique_to_sanctioned)"
   ],
   "id": "e12b2d44b8722091",
   "outputs": [
    {
     "name": "stdout",
     "output_type": "stream",
     "text": [
      "Unique to SANCTIONING: ['VCT', 'TON', 'PLW', 'STP', 'VUT', 'KNA', 'TUV', 'SWZ', 'KIR', 'SLB', 'BHS', 'ESH', 'BRN', 'FSM', 'BTN', 'PNG']\n",
      "Unique to SANCTIONED:  ['GIB']\n"
     ]
    }
   ],
   "execution_count": 774
  },
  {
   "metadata": {
    "ExecuteTime": {
     "end_time": "2025-03-16T16:36:50.263492Z",
     "start_time": "2025-03-16T16:36:50.261769Z"
    }
   },
   "cell_type": "code",
   "source": [
    "gsdb_labels = np.union1d(gsdb_sanctioned_labels, gsdb_sanctioning_labels)\n",
    "print(\"Total numbers of GSDB labels: \", len(gsdb_labels))"
   ],
   "id": "1a8cefb76953da39",
   "outputs": [
    {
     "name": "stdout",
     "output_type": "stream",
     "text": [
      "Total numbers of GSDB labels:  192\n"
     ]
    }
   ],
   "execution_count": 775
  },
  {
   "metadata": {},
   "cell_type": "markdown",
   "source": "### GDP Labels",
   "id": "1994d45ffa75d90b"
  },
  {
   "metadata": {
    "ExecuteTime": {
     "end_time": "2025-03-16T16:36:50.297389Z",
     "start_time": "2025-03-16T16:36:50.295380Z"
    }
   },
   "cell_type": "code",
   "source": [
    "gdp_labels = gdp[\"Country Code\"].unique()\n",
    "gdp_labels"
   ],
   "id": "9c1ea64bc72aa88d",
   "outputs": [
    {
     "data": {
      "text/plain": [
       "array(['AFG', 'ALB', 'DZA', 'AND', 'AGO', 'ATG', 'ARG', 'ARM', 'ABW',\n",
       "       'AUS', 'AUT', 'AZE', 'BHS', 'BHR', 'BGD', 'BRB', 'BLR', 'BEL',\n",
       "       'BLZ', 'BEN', 'BTN', 'BOL', 'BIH', 'BWA', 'BRA', 'BRN', 'BGR',\n",
       "       'BFA', 'BDI', 'CPV', 'KHM', 'CMR', 'CAN', 'CAF', 'TCD', 'CHL',\n",
       "       'CHN', 'COL', 'COM', 'COG', 'CRI', 'CIV', 'HRV', 'CUB', 'CYP',\n",
       "       'CZE', 'DNK', 'DJI', 'DMA', 'DOM', 'ECU', 'EGY', 'SLV', 'GNQ',\n",
       "       'ERI', 'EST', 'SWZ', 'ETH', 'FRO', 'FJI', 'FIN', 'FRA', 'GAB',\n",
       "       'GMB', 'GEO', 'DEU', 'GHA', 'GIB', 'GRC', 'GRL', 'GRD', 'GTM',\n",
       "       'GIN', 'GNB', 'GUY', 'HTI', 'HND', 'HKG', 'HUN', 'ISL', 'IND',\n",
       "       'IDN', 'IRN', 'IRQ', 'IRL', 'ISR', 'ITA', 'JAM', 'JPN', 'JOR',\n",
       "       'KAZ', 'KEN', 'KIR', 'PRK', 'KOR', 'KWT', 'KGZ', 'LAO', 'LVA',\n",
       "       'LBN', 'LSO', 'LBR', 'LBY', 'LTU', 'LUX', 'MDG', 'MWI', 'MYS',\n",
       "       'MDV', 'MLI', 'MLT', 'MHL', 'MRT', 'MUS', 'MEX', 'FSM', 'MDA',\n",
       "       'MNG', 'MAR', 'MOZ', 'MMR', 'NAM', 'NRU', 'NPL', 'NLD', 'NZL',\n",
       "       'NIC', 'NER', 'NGA', 'MKD', 'NOR', 'OMN', 'PAK', 'PLW', 'PAN',\n",
       "       'PNG', 'PRY', 'PER', 'PHL', 'POL', 'PRT', 'PRI', 'QAT', 'ROM',\n",
       "       'RUS', 'RWA', 'WSM', 'SMR', 'STP', 'SAU', 'SEN', 'SER', 'SYC',\n",
       "       'SLE', 'SGP', 'SVK', 'SVN', 'SLB', 'SOM', 'ZAF', 'ESP', 'LKA',\n",
       "       'KNA', 'LCA', 'VCT', 'SDN', 'SUR', 'SWE', 'CHE', 'SYR', 'TJK',\n",
       "       'TZA', 'THA', 'TGO', 'TON', 'TTO', 'TUN', 'TUR', 'TKM', 'TUV',\n",
       "       'UGA', 'UKR', 'ARE', 'GBR', 'USA', 'URY', 'UZB', 'VUT', 'VEN',\n",
       "       'VNM', 'YEM', 'ZMB', 'ZWE'], dtype=object)"
      ]
     },
     "execution_count": 776,
     "metadata": {},
     "output_type": "execute_result"
    }
   ],
   "execution_count": 776
  },
  {
   "metadata": {},
   "cell_type": "markdown",
   "source": "### Matching",
   "id": "e766d3dba1659939"
  },
  {
   "metadata": {
    "ExecuteTime": {
     "end_time": "2025-03-16T16:36:50.332808Z",
     "start_time": "2025-03-16T16:36:50.330620Z"
    }
   },
   "cell_type": "code",
   "source": [
    "print(\"Number of DIST CEPII labels: \", len(dist_labels))\n",
    "print(\"Number of GSDB labels: \", len(gsdb_labels))\n",
    "print(\"Number of GDP labels: \", len(gdp_labels))\n",
    "print(\"Number of country codes: \", len(country_codes_labels))\n",
    "\n",
    "label_arrays = [dist_labels, gsdb_labels, gdp_labels, country_codes_labels]\n",
    "\n",
    "intersection_labels = ft.reduce(np.intersect1d, label_arrays)\n",
    "\n",
    "print(\"Total number of intersect labels: \", len(intersection_labels))"
   ],
   "id": "fda5b336ed8f631b",
   "outputs": [
    {
     "name": "stdout",
     "output_type": "stream",
     "text": [
      "Number of DIST CEPII labels:  196\n",
      "Number of GSDB labels:  192\n",
      "Number of GDP labels:  193\n",
      "Number of country codes:  198\n",
      "Total number of intersect labels:  189\n"
     ]
    }
   ],
   "execution_count": 777
  },
  {
   "metadata": {
    "ExecuteTime": {
     "end_time": "2025-03-16T16:36:50.418085Z",
     "start_time": "2025-03-16T16:36:50.416223Z"
    }
   },
   "cell_type": "code",
   "source": "intersection_labels",
   "id": "3ea60d8e50145525",
   "outputs": [
    {
     "data": {
      "text/plain": [
       "array(['AFG', 'AGO', 'ALB', 'AND', 'ARE', 'ARG', 'ARM', 'ATG', 'AUS',\n",
       "       'AUT', 'AZE', 'BDI', 'BEL', 'BEN', 'BFA', 'BGD', 'BGR', 'BHR',\n",
       "       'BHS', 'BIH', 'BLR', 'BLZ', 'BOL', 'BRA', 'BRB', 'BRN', 'BTN',\n",
       "       'BWA', 'CAF', 'CAN', 'CHE', 'CHL', 'CHN', 'CIV', 'CMR', 'COG',\n",
       "       'COL', 'COM', 'CPV', 'CRI', 'CUB', 'CYP', 'CZE', 'DEU', 'DJI',\n",
       "       'DMA', 'DNK', 'DOM', 'DZA', 'ECU', 'EGY', 'ERI', 'ESP', 'EST',\n",
       "       'ETH', 'FIN', 'FJI', 'FRA', 'FSM', 'GAB', 'GBR', 'GEO', 'GHA',\n",
       "       'GIB', 'GIN', 'GMB', 'GNB', 'GNQ', 'GRC', 'GRD', 'GTM', 'GUY',\n",
       "       'HKG', 'HND', 'HRV', 'HTI', 'HUN', 'IDN', 'IND', 'IRL', 'IRN',\n",
       "       'IRQ', 'ISL', 'ISR', 'ITA', 'JAM', 'JOR', 'JPN', 'KAZ', 'KEN',\n",
       "       'KGZ', 'KHM', 'KIR', 'KNA', 'KOR', 'KWT', 'LAO', 'LBN', 'LBR',\n",
       "       'LBY', 'LCA', 'LKA', 'LSO', 'LTU', 'LUX', 'LVA', 'MAR', 'MDA',\n",
       "       'MDG', 'MDV', 'MEX', 'MHL', 'MKD', 'MLI', 'MLT', 'MMR', 'MNG',\n",
       "       'MOZ', 'MRT', 'MUS', 'MWI', 'MYS', 'NAM', 'NER', 'NGA', 'NIC',\n",
       "       'NLD', 'NOR', 'NPL', 'NRU', 'NZL', 'OMN', 'PAK', 'PAN', 'PER',\n",
       "       'PHL', 'PLW', 'PNG', 'POL', 'PRK', 'PRT', 'PRY', 'QAT', 'ROM',\n",
       "       'RUS', 'RWA', 'SAU', 'SDN', 'SEN', 'SER', 'SGP', 'SLB', 'SLE',\n",
       "       'SLV', 'SMR', 'SOM', 'STP', 'SUR', 'SVK', 'SVN', 'SWE', 'SWZ',\n",
       "       'SYC', 'SYR', 'TCD', 'TGO', 'THA', 'TJK', 'TKM', 'TON', 'TTO',\n",
       "       'TUN', 'TUR', 'TUV', 'TZA', 'UGA', 'UKR', 'URY', 'USA', 'UZB',\n",
       "       'VCT', 'VEN', 'VNM', 'VUT', 'WSM', 'YEM', 'ZAF', 'ZMB', 'ZWE'],\n",
       "      dtype=object)"
      ]
     },
     "execution_count": 778,
     "metadata": {},
     "output_type": "execute_result"
    }
   ],
   "execution_count": 778
  },
  {
   "metadata": {
    "ExecuteTime": {
     "end_time": "2025-03-16T16:36:50.533940Z",
     "start_time": "2025-03-16T16:36:50.531425Z"
    }
   },
   "cell_type": "code",
   "source": [
    "# Intersection of each set with each other\n",
    "inter_dist_gsdb = np.intersect1d(gsdb_labels, dist_labels)\n",
    "print(\"Intersect DIST CEPII and GSDB labels: \", len(inter_dist_gsdb))\n",
    "list(set(gsdb_labels) - set(inter_dist_gsdb))"
   ],
   "id": "9cffd8ba2fc97144",
   "outputs": [
    {
     "name": "stdout",
     "output_type": "stream",
     "text": [
      "Intersect DIST CEPII and GSDB labels:  192\n"
     ]
    },
    {
     "data": {
      "text/plain": [
       "[]"
      ]
     },
     "execution_count": 779,
     "metadata": {},
     "output_type": "execute_result"
    }
   ],
   "execution_count": 779
  },
  {
   "metadata": {
    "ExecuteTime": {
     "end_time": "2025-03-16T16:36:50.630677Z",
     "start_time": "2025-03-16T16:36:50.628691Z"
    }
   },
   "cell_type": "code",
   "source": "list(set(dist_labels) - set(intersection_labels))",
   "id": "a09e87d11a673c9a",
   "outputs": [
    {
     "data": {
      "text/plain": [
       "['PRI', 'FRO', 'ABW', 'YUG', 'TWN', 'GRL', 'ESH']"
      ]
     },
     "execution_count": 780,
     "metadata": {},
     "output_type": "execute_result"
    }
   ],
   "execution_count": 780
  },
  {
   "metadata": {
    "ExecuteTime": {
     "end_time": "2025-03-16T16:36:50.709216Z",
     "start_time": "2025-03-16T16:36:50.707366Z"
    }
   },
   "cell_type": "code",
   "source": "list(set(gsdb_labels) - set(intersection_labels))",
   "id": "7a66b532a6d07c2b",
   "outputs": [
    {
     "data": {
      "text/plain": [
       "['ESH', 'YUG', 'TWN']"
      ]
     },
     "execution_count": 781,
     "metadata": {},
     "output_type": "execute_result"
    }
   ],
   "execution_count": 781
  },
  {
   "metadata": {
    "ExecuteTime": {
     "end_time": "2025-03-16T16:36:50.776726Z",
     "start_time": "2025-03-16T16:36:50.774934Z"
    }
   },
   "cell_type": "code",
   "source": "list(set(gdp_labels) - set(intersection_labels))",
   "id": "8df81476cb1b6e37",
   "outputs": [
    {
     "data": {
      "text/plain": [
       "['FRO', 'GRL', 'PRI', 'ABW']"
      ]
     },
     "execution_count": 782,
     "metadata": {},
     "output_type": "execute_result"
    }
   ],
   "execution_count": 782
  },
  {
   "metadata": {
    "ExecuteTime": {
     "end_time": "2025-03-16T16:36:50.838739Z",
     "start_time": "2025-03-16T16:36:50.836610Z"
    }
   },
   "cell_type": "code",
   "source": "list(set(country_codes_labels) - set(intersection_labels))",
   "id": "66b18e2dfb568730",
   "outputs": [
    {
     "data": {
      "text/plain": [
       "['WLD', 'PRI', 'EUN', 'FRO', 'ABW', 'YUG', 'TWN', 'GRL', 'ESH']"
      ]
     },
     "execution_count": 783,
     "metadata": {},
     "output_type": "execute_result"
    }
   ],
   "execution_count": 783
  },
  {
   "metadata": {
    "ExecuteTime": {
     "end_time": "2025-03-16T16:36:50.894797Z",
     "start_time": "2025-03-16T16:36:50.893468Z"
    }
   },
   "cell_type": "code",
   "source": [
    "############\n",
    "############\n",
    "############"
   ],
   "id": "89a8dec2ee4ec7e3",
   "outputs": [],
   "execution_count": 784
  },
  {
   "metadata": {},
   "cell_type": "markdown",
   "source": [
    "---\n",
    "\n",
    "\n",
    "\n",
    "\n",
    "\n",
    "\n",
    "\n",
    "# --- ENDE GELÄNDE ---"
   ],
   "id": "391beb3192022e6d"
  },
  {
   "metadata": {
    "ExecuteTime": {
     "end_time": "2025-03-16T16:36:50.917752Z",
     "start_time": "2025-03-16T16:36:50.916534Z"
    }
   },
   "cell_type": "code",
   "source": "",
   "id": "c8f7f67e3af3cabf",
   "outputs": [],
   "execution_count": null
  }
 ],
 "metadata": {
  "kernelspec": {
   "display_name": "Python 3",
   "language": "python",
   "name": "python3"
  },
  "language_info": {
   "codemirror_mode": {
    "name": "ipython",
    "version": 2
   },
   "file_extension": ".py",
   "mimetype": "text/x-python",
   "name": "python",
   "nbconvert_exporter": "python",
   "pygments_lexer": "ipython2",
   "version": "2.7.6"
  }
 },
 "nbformat": 4,
 "nbformat_minor": 5
}
