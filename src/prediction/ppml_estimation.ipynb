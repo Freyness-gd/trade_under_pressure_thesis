{
 "cells": [
  {
   "cell_type": "markdown",
   "id": "cb770601c2007551",
   "metadata": {},
   "source": [
    "# Gravity Model PPML Estimation"
   ]
  },
  {
   "cell_type": "markdown",
   "id": "18ac266753da3055",
   "metadata": {},
   "source": [
    "## Formalization of the gravity model equation\n",
    "### with origin-destination (importer-exporter) fixed effects and lagged independent variables\n",
    "\n",
    "\\begin{equation}\n",
    "\\begin{split}\n",
    "EXPORT_{ij,t} =\\; &\\exp\\Bigl[\\hat{\\alpha}_{ij}\n",
    "+ \\sum_{k=1}^5 \\hat{\\beta}_{1k}\\,GDP_{i,t-k}\n",
    "+ \\sum_{l=1}^5 \\hat{\\beta}_{2l}\\,GDP_{j,t-l} \\\\\n",
    "&\\quad\n",
    "+ \\sum_{m=1}^5 \\hat{\\beta}_{3m}\\,SANCT_{ij,t-m}\\Bigr]\n",
    "\\times \\epsilon_{ij,t}\n",
    "\\end{split}\n",
    "\\end{equation}\n",
    "\n",
    "Where:\n",
    "- $\\hat\\alpha_{ij}$ - time-invariant fixed effects\n",
    "- $GDP_{i,t}$ - size of origin country $i$ at time $t$\n",
    "- $GDP_{j,t}$ - size of destination country $j$ at time $t$\n",
    "- $SANCT_{ij,t}$ - unilateral sanction relationship $i \\rightarrow j$ at time $t$\n",
    "- $\\hat\\beta_{1k}$, $\\hat\\beta_{2l}$, $\\hat\\beta_{3m}$ - estimated coefficients for the respective lagged variables\n",
    "- $\\epsilon_{ij,t}$ - error term\n"
   ]
  },
  {
   "cell_type": "code",
   "id": "44c5bd96ca9f1b48",
   "metadata": {
    "ExecuteTime": {
     "end_time": "2025-06-30T11:30:21.021341Z",
     "start_time": "2025-06-30T11:30:21.018678Z"
    }
   },
   "source": [
    "import gme\n",
    "import numpy as np\n",
    "import pandas as pd\n",
    "from pandas import DataFrame\n",
    "from scipy import sparse\n",
    "from sklearn.model_selection import GroupShuffleSplit\n",
    "\n",
    "import thesis_utils as tu"
   ],
   "outputs": [],
   "execution_count": 151
  },
  {
   "cell_type": "code",
   "id": "aeb14e9bd6f7e41",
   "metadata": {
    "ExecuteTime": {
     "end_time": "2025-06-30T11:30:21.026231Z",
     "start_time": "2025-06-30T11:30:21.024254Z"
    }
   },
   "source": [
    "# Config for saving outputs\n",
    "SAVE_ENABLED = True\n",
    "SERIAL_NUMBER = \"NOT_SET\"\n",
    "VERBOSE = 0\n",
    "\n",
    "# Model parameters\n",
    "N_LAGS = 5\n",
    "N_DYADS = 5000\n",
    "MAX_ITERATIONS = 5000\n",
    "SUBSAMPLE_ENABLED = False\n",
    "\n",
    "# Train parameters\n",
    "TARGET = \"EXPORT\"\n",
    "RANDOM_SEED = 16\n",
    "\n",
    "SANCTION_COLS = [\"arms\", \"military\", \"trade\", \"travel\", \"other\"]"
   ],
   "outputs": [],
   "execution_count": 152
  },
  {
   "cell_type": "code",
   "id": "9c7e84773570b343",
   "metadata": {
    "ExecuteTime": {
     "end_time": "2025-06-30T11:30:21.515125Z",
     "start_time": "2025-06-30T11:30:21.046284Z"
    }
   },
   "source": [
    "processed = pd.read_parquet(path=\"../../data/model/processed.parquet\", engine=\"fastparquet\")\n",
    "df: DataFrame = processed.copy(deep=True)"
   ],
   "outputs": [],
   "execution_count": 153
  },
  {
   "cell_type": "code",
   "id": "d0d5accc73f50b2f",
   "metadata": {
    "ExecuteTime": {
     "end_time": "2025-06-30T11:30:22.051707Z",
     "start_time": "2025-06-30T11:30:21.536016Z"
    }
   },
   "source": [
    "# Sort data by Report + Partner + Year\n",
    "df[\"dyad_id\"] = df[\"ISO3_reporter\"] + \"_\" + df[\"ISO3_partner\"]\n",
    "df = df.sort_values(by=[\"dyad_id\", \"Year\"]).reset_index(drop=True)"
   ],
   "outputs": [],
   "execution_count": 154
  },
  {
   "cell_type": "code",
   "id": "ec47950264a5027a",
   "metadata": {
    "ExecuteTime": {
     "end_time": "2025-06-30T11:30:22.200698Z",
     "start_time": "2025-06-30T11:30:22.073484Z"
    }
   },
   "source": [
    "if SUBSAMPLE_ENABLED:\n",
    "  dyad_subsample = pd.Series(df[\"dyad_id\"].unique()).sample(n=N_DYADS, random_state=RANDOM_SEED, replace=False)\n",
    "  df = df[df[\"dyad_id\"].isin(dyad_subsample)]\n",
    "print(df[\"dyad_id\"].nunique())\n",
    "df[\"sanction\"] = (df[SANCTION_COLS]\n",
    "                  .sum(axis=1)).astype(int)"
   ],
   "outputs": [
    {
     "name": "stdout",
     "output_type": "stream",
     "text": [
      "33672\n"
     ]
    }
   ],
   "execution_count": 155
  },
  {
   "cell_type": "code",
   "id": "723c4924cb3ea776",
   "metadata": {
    "ExecuteTime": {
     "end_time": "2025-06-30T11:30:22.223265Z",
     "start_time": "2025-06-30T11:30:22.221521Z"
    }
   },
   "source": [
    "lag_cols = [\"GDP_reporter\", \"GDP_partner\", \"sanction\"]\n",
    "invariant_cols = [\"contig\", \"comlang_off\", \"colony\", \"smctry\", \"distw\"]"
   ],
   "outputs": [],
   "execution_count": 156
  },
  {
   "metadata": {
    "ExecuteTime": {
     "end_time": "2025-06-30T11:30:22.265146Z",
     "start_time": "2025-06-30T11:30:22.263139Z"
    }
   },
   "cell_type": "code",
   "source": [
    "# cont_vars = lag_cols\n",
    "# p = len(cont_vars)\n",
    "# mu = df[cont_vars].mean()\n",
    "#\n",
    "# # 3. subtract dyad‐specific means\n",
    "# df_within = df.copy()\n",
    "# df_within[cont_vars] = (df_within.groupby('dyad_id')[cont_vars]\n",
    "#                         .transform(lambda x: x - x.mean()))\n",
    "#\n",
    "# # 4. add back global mean * (p - 1)\n",
    "# df_within[cont_vars] += mu * (p - 1)\n",
    "# df = df_within.copy()"
   ],
   "id": "4961608f7e2e3629",
   "outputs": [],
   "execution_count": 157
  },
  {
   "metadata": {
    "ExecuteTime": {
     "end_time": "2025-06-30T11:30:22.411270Z",
     "start_time": "2025-06-30T11:30:22.272892Z"
    }
   },
   "cell_type": "code",
   "source": [
    "all_cols = lag_cols + [TARGET]\n",
    "\n",
    "# 1) compute each row’s dyad mean for those columns\n",
    "mean_data = df.groupby(\"dyad_id\")[all_cols].transform(\"mean\")\n",
    "\n",
    "# 2) subtract it in‐place\n",
    "df[all_cols] = df[all_cols] - mean_data"
   ],
   "id": "b797011927aca815",
   "outputs": [],
   "execution_count": 158
  },
  {
   "metadata": {
    "ExecuteTime": {
     "end_time": "2025-06-30T11:30:22.460694Z",
     "start_time": "2025-06-30T11:30:22.433048Z"
    }
   },
   "cell_type": "code",
   "source": [
    "df[\"GDP_reporter\"] = np.log1p(df[\"GDP_reporter\"]).astype(float)\n",
    "df[\"GDP_partner\"] = np.log1p(df[\"GDP_partner\"]).astype(float)\n",
    "df[\"EXPORT\"] = np.log1p(df[\"EXPORT\"])\n",
    "df[\"distw\"] = np.log1p(df[\"distw\"]).astype(float)"
   ],
   "id": "e07f246e64a4440a",
   "outputs": [
    {
     "name": "stderr",
     "output_type": "stream",
     "text": [
      "/opt/homebrew/Caskroom/miniconda/base/envs/thesis_env/lib/python3.13/site-packages/pandas/core/arraylike.py:399: RuntimeWarning: invalid value encountered in log1p\n",
      "  result = getattr(ufunc, method)(*inputs, **kwargs)\n",
      "/opt/homebrew/Caskroom/miniconda/base/envs/thesis_env/lib/python3.13/site-packages/pandas/core/arraylike.py:399: RuntimeWarning: invalid value encountered in log1p\n",
      "  result = getattr(ufunc, method)(*inputs, **kwargs)\n",
      "/opt/homebrew/Caskroom/miniconda/base/envs/thesis_env/lib/python3.13/site-packages/pandas/core/arraylike.py:399: RuntimeWarning: invalid value encountered in log1p\n",
      "  result = getattr(ufunc, method)(*inputs, **kwargs)\n"
     ]
    }
   ],
   "execution_count": 159
  },
  {
   "metadata": {
    "ExecuteTime": {
     "end_time": "2025-06-30T11:30:22.616205Z",
     "start_time": "2025-06-30T11:30:22.479787Z"
    }
   },
   "cell_type": "code",
   "source": [
    "# Coerce numerical values\n",
    "num_cols = [\"distw\", \"GDP_reporter\", \"GDP_partner\", \"sanction\", \"contig\",\n",
    "            \"comlang_off\", \"colony\", \"smctry\", \"Year\", ]\n",
    "df[num_cols] = df[num_cols].apply(pd.to_numeric, errors=\"coerce\").astype(float)\n",
    "df = df.dropna(subset=num_cols)"
   ],
   "id": "96b1c4ad31c42a0e",
   "outputs": [],
   "execution_count": 160
  },
  {
   "cell_type": "code",
   "id": "34dc1bb044c0f60a",
   "metadata": {
    "ExecuteTime": {
     "end_time": "2025-06-30T11:30:23.378791Z",
     "start_time": "2025-06-30T11:30:22.637331Z"
    }
   },
   "source": [
    "for col in lag_cols:\n",
    "  for index in range(1, N_LAGS + 1):\n",
    "    df[f\"{col}_lag{index}\"] = df.groupby(\"dyad_id\")[col].shift(index)\n",
    "\n",
    "df = df.dropna()\n",
    "\n",
    "df[\"Year\"] = df[\"Year\"].astype(int)\n",
    "for col in [\"dyad_id\"]:\n",
    "  df[col] = pd.Categorical(df[col], categories=sorted(df[col].unique()))\n",
    "df[(\"dyad_id\")] = df[\"dyad_id\"].astype(\"category\").cat.codes"
   ],
   "outputs": [],
   "execution_count": 161
  },
  {
   "cell_type": "code",
   "id": "c35312f6ff6973d7",
   "metadata": {
    "ExecuteTime": {
     "end_time": "2025-06-30T11:30:23.399816Z",
     "start_time": "2025-06-30T11:30:23.397996Z"
    }
   },
   "source": "# df = tu.add_fixed_effects(df)",
   "outputs": [],
   "execution_count": 162
  },
  {
   "cell_type": "code",
   "id": "e39b4db5c994ae7f",
   "metadata": {
    "ExecuteTime": {
     "end_time": "2025-06-30T11:30:23.505165Z",
     "start_time": "2025-06-30T11:30:23.418565Z"
    }
   },
   "source": [
    "gss = GroupShuffleSplit(n_splits=1, test_size=0.2, random_state=RANDOM_SEED)\n",
    "\n",
    "train_df_idx, test_df_idx = next(gss.split(df, groups=df[\"dyad_id\"]))\n",
    "test_df = df.iloc[test_df_idx]\n",
    "train_df = df.iloc[train_df_idx]"
   ],
   "outputs": [],
   "execution_count": 163
  },
  {
   "cell_type": "code",
   "id": "b74290554d1c2777",
   "metadata": {
    "ExecuteTime": {
     "end_time": "2025-06-30T11:30:23.545381Z",
     "start_time": "2025-06-30T11:30:23.527422Z"
    }
   },
   "source": [
    "rhs_cols = [f\"{c}_lag{index}\" for c in lag_cols for index in range(1, N_LAGS + 1)]\n",
    "fe_columns = [col for col in train_df.columns if col.startswith(\"fe_dyad_id_\")]\n",
    "convert_to_float_columns = rhs_cols + invariant_cols\n",
    "train_df.loc[:, convert_to_float_columns] = train_df.loc[:, convert_to_float_columns].astype(\n",
    "  \"float32\",\n",
    "  copy=False\n",
    ")\n",
    "rhs_cols = rhs_cols + invariant_cols + fe_columns\n",
    "\n",
    "print(\"Fixed effects columns:\", fe_columns[:10])\n",
    "print(\"Lagged columns:\", rhs_cols[:10])"
   ],
   "outputs": [
    {
     "name": "stdout",
     "output_type": "stream",
     "text": [
      "Fixed effects columns: []\n",
      "Lagged columns: ['GDP_reporter_lag1', 'GDP_reporter_lag2', 'GDP_reporter_lag3', 'GDP_reporter_lag4', 'GDP_reporter_lag5', 'GDP_partner_lag1', 'GDP_partner_lag2', 'GDP_partner_lag3', 'GDP_partner_lag4', 'GDP_partner_lag5']\n"
     ]
    }
   ],
   "execution_count": 164
  },
  {
   "cell_type": "code",
   "id": "3dee58d52ceffbf9",
   "metadata": {
    "ExecuteTime": {
     "end_time": "2025-06-30T11:30:23.587602Z",
     "start_time": "2025-06-30T11:30:23.585406Z"
    }
   },
   "source": [
    "# Prepare data\n",
    "print(\"Selecting columns based on rhs_cols...\")\n",
    "col_idx = [train_df.columns.get_loc(c) for c in rhs_cols]\n",
    "print(\"Finished extracting raw features.\")"
   ],
   "outputs": [
    {
     "name": "stdout",
     "output_type": "stream",
     "text": [
      "Selecting columns based on rhs_cols...\n",
      "Finished extracting raw features.\n"
     ]
    }
   ],
   "execution_count": 165
  },
  {
   "cell_type": "code",
   "id": "b63df77ad158fd48",
   "metadata": {
    "ExecuteTime": {
     "end_time": "2025-06-30T11:30:23.658247Z",
     "start_time": "2025-06-30T11:30:23.594269Z"
    }
   },
   "source": [
    "print(\"Extracting features from train_df...\", flush=True)\n",
    "X = train_df.iloc[:, col_idx].to_numpy(dtype=float, copy=False)\n",
    "print(\"Finished extracting features.\")\n",
    "print(\"Creating sparse matrix from features...\")\n",
    "X = sparse.csr_matrix(X, dtype=float)\n",
    "print(\"Finished creating sparse matrix from features.\")"
   ],
   "outputs": [
    {
     "name": "stdout",
     "output_type": "stream",
     "text": [
      "Extracting features from train_df...\n",
      "Finished extracting features.\n",
      "Creating sparse matrix from features...\n",
      "Finished creating sparse matrix from features.\n"
     ]
    }
   ],
   "execution_count": 166
  },
  {
   "cell_type": "code",
   "id": "bf8ee25fcab6533d",
   "metadata": {
    "ExecuteTime": {
     "end_time": "2025-06-30T11:30:23.682869Z",
     "start_time": "2025-06-30T11:30:23.679455Z"
    }
   },
   "source": [
    "y = train_df[\"EXPORT\"].to_numpy(dtype=np.float32)\n",
    "print(\"Finished extracting target variable.\")"
   ],
   "outputs": [
    {
     "name": "stdout",
     "output_type": "stream",
     "text": [
      "Finished extracting target variable.\n"
     ]
    }
   ],
   "execution_count": 167
  },
  {
   "cell_type": "code",
   "id": "9aad16cfa9bf1869",
   "metadata": {
    "ExecuteTime": {
     "end_time": "2025-06-30T11:30:23.705415Z",
     "start_time": "2025-06-30T11:30:23.703642Z"
    }
   },
   "source": [
    "# 1) Cross-validated Lasso to pick alpha\n",
    "# lasso_cv = LassoCV(cv=5, max_iter=MAX_ITERATIONS, tol=1e-4,\n",
    "#                    verbose=VERBOSE, n_jobs=-1)\n",
    "# print(\"Fitting celer.LassoCV (5-fold, all CPUs)…\")\n",
    "# lasso_cv.fit(X, y)\n",
    "# cv_coef = lasso_cv.coef_"
   ],
   "outputs": [],
   "execution_count": 168
  },
  {
   "metadata": {
    "ExecuteTime": {
     "end_time": "2025-06-30T11:30:23.726611Z",
     "start_time": "2025-06-30T11:30:23.724805Z"
    }
   },
   "cell_type": "code",
   "source": [
    "# Scale down the chosen alpha if desired\n",
    "# best_alpha = lasso_cv.alpha_\n",
    "# print(f\"Selected alpha from CV: {best_alpha:.3e}\")"
   ],
   "id": "46ec8f64869737a",
   "outputs": [],
   "execution_count": 169
  },
  {
   "cell_type": "code",
   "id": "96d4c5c2199ac5fa",
   "metadata": {
    "ExecuteTime": {
     "end_time": "2025-06-30T11:30:23.749333Z",
     "start_time": "2025-06-30T11:30:23.747461Z"
    }
   },
   "source": [
    "# 2) Build threshold grid from non-zero CV coefficients\n",
    "# nz = np.abs(cv_coef[cv_coef != 0])\n",
    "# if nz.size == 0:\n",
    "#   print(\"Warning: no non-zero coefficients found! Using fallback.\")\n",
    "#   nz = np.array([1e-5])\n",
    "# min_c, max_c = nz.min(), nz.max()\n",
    "# threshold_grid = np.logspace(np.log10(min_c / 10),\n",
    "#                              np.log10(max_c / 10), 10)\n",
    "# print(\"Threshold grid:\", threshold_grid)\n",
    "#\n",
    "# # 3) Fit final Lasso at best_alpha\n",
    "# print(\"Fitting final celer.Lasso…\")\n",
    "# lasso_full = Lasso(alpha=best_alpha, max_iter=MAX_ITERATIONS,\n",
    "#                    tol=1e-4,\n",
    "#                    verbose=VERBOSE)\n",
    "# lasso_full.fit(X, y)\n",
    "# full_coef = lasso_full.coef_"
   ],
   "outputs": [],
   "execution_count": 170
  },
  {
   "cell_type": "code",
   "id": "78b0dfbc82f4d2de",
   "metadata": {
    "ExecuteTime": {
     "end_time": "2025-06-30T11:30:23.787642Z",
     "start_time": "2025-06-30T11:30:23.785863Z"
    }
   },
   "source": [
    "# 4) Loop over thresholds, refit on selected features, and compute RMSE\n",
    "# results_threshold = {\n",
    "#   \"thresholds\": [],\n",
    "#   \"errors\": [],\n",
    "#   \"n_columns\": [],\n",
    "#   \"selected_columns\": []\n",
    "# }\n",
    "#\n",
    "# for thr in threshold_grid:\n",
    "#   print(f\"\\nThreshold {thr:.5f}\")\n",
    "#   idx = np.where(np.abs(full_coef) >= thr)[0]\n",
    "#   cols = [rhs_cols[i] for i in idx]\n",
    "#   print(f\"  -> {len(cols)} features selected\")\n",
    "#\n",
    "#   Xr = X[:, idx]\n",
    "#   lasso_sub = Lasso(alpha=best_alpha, max_iter=MAX_ITERATIONS,\n",
    "#                     tol=1e-4, verbose=VERBOSE)\n",
    "#   lasso_sub.fit(Xr, y)\n",
    "#   y_pred = lasso_sub.predict(Xr)\n",
    "#   err = tu.rmse(y, y_pred)\n",
    "#\n",
    "#   results_threshold[\"thresholds\"].append(thr)\n",
    "#   results_threshold[\"errors\"].append(err)\n",
    "#   results_threshold[\"n_columns\"].append(len(cols))\n",
    "#   results_threshold[\"selected_columns\"].append(cols)"
   ],
   "outputs": [],
   "execution_count": 171
  },
  {
   "cell_type": "code",
   "id": "b6c67814d3c0b935",
   "metadata": {
    "ExecuteTime": {
     "end_time": "2025-06-30T11:30:23.791369Z",
     "start_time": "2025-06-30T11:30:23.789778Z"
    }
   },
   "source": [
    "# best_idx = np.argmin(results_threshold[\"errors\"])\n",
    "#\n",
    "# best_rmse = results_threshold[\"errors\"][best_idx]\n",
    "# best_columns = results_threshold[\"selected_columns\"][best_idx]\n",
    "#\n",
    "# print(f\"Best RMSE: {best_rmse}\")\n",
    "# print(f\"Best columns ({len(best_columns)}):\")\n",
    "# print(best_columns)"
   ],
   "outputs": [],
   "execution_count": 172
  },
  {
   "cell_type": "code",
   "id": "3de76e1c2d2db024",
   "metadata": {
    "ExecuteTime": {
     "end_time": "2025-06-30T11:30:23.820127Z",
     "start_time": "2025-06-30T11:30:23.809711Z"
    }
   },
   "source": [
    "train_df.loc[:, 'ISO3_reporter'] = pd.Series(train_df['ISO3_reporter'].values, index=train_df.index).astype(str)\n",
    "train_df.loc[:, 'ISO3_partner'] = pd.Series(train_df['ISO3_partner'].values, index=train_df.index).astype(str)\n",
    "train_df.loc[:, 'Year'] = pd.to_numeric(train_df['Year'], errors='coerce')"
   ],
   "outputs": [],
   "execution_count": 173
  },
  {
   "cell_type": "code",
   "id": "256b826aec5db043",
   "metadata": {
    "ExecuteTime": {
     "end_time": "2025-06-30T11:30:23.860166Z",
     "start_time": "2025-06-30T11:30:23.838466Z"
    }
   },
   "source": [
    "for col in rhs_cols:\n",
    "  if col == \"dyad_id\":\n",
    "    continue\n",
    "  train_df.loc[:, col] = pd.to_numeric(train_df[col], errors='coerce', downcast=\"float\")"
   ],
   "outputs": [],
   "execution_count": 174
  },
  {
   "metadata": {
    "ExecuteTime": {
     "end_time": "2025-06-30T11:30:23.882692Z",
     "start_time": "2025-06-30T11:30:23.880087Z"
    }
   },
   "cell_type": "code",
   "source": "train_df.columns",
   "id": "871018a195b8bb3b",
   "outputs": [
    {
     "data": {
      "text/plain": [
       "Index(['ISO3_reporter', 'UNDS_reporter', 'CNAME_reporter', 'ISO3_partner',\n",
       "       'UNDS_partner', 'CNAME_partner', 'Year', 'GDP_reporter', 'GDP_partner',\n",
       "       'contig', 'comlang_off', 'comlang_ethno', 'colony', 'smctry', 'distcap',\n",
       "       'distw', 'IMPORT', 'EXPORT', 'arms', 'military', 'trade', 'descr_trade',\n",
       "       'financial', 'travel', 'other', 'target_mult', 'sender_mult',\n",
       "       'GDP_yearly_average', 'dyad_id', 'sanction', 'GDP_reporter_lag1',\n",
       "       'GDP_reporter_lag2', 'GDP_reporter_lag3', 'GDP_reporter_lag4',\n",
       "       'GDP_reporter_lag5', 'GDP_partner_lag1', 'GDP_partner_lag2',\n",
       "       'GDP_partner_lag3', 'GDP_partner_lag4', 'GDP_partner_lag5',\n",
       "       'sanction_lag1', 'sanction_lag2', 'sanction_lag3', 'sanction_lag4',\n",
       "       'sanction_lag5'],\n",
       "      dtype='object')"
      ]
     },
     "execution_count": 175,
     "metadata": {},
     "output_type": "execute_result"
    }
   ],
   "execution_count": 175
  },
  {
   "cell_type": "code",
   "id": "cbb5bc251d71ddcc",
   "metadata": {
    "ExecuteTime": {
     "end_time": "2025-06-30T11:30:23.945560Z",
     "start_time": "2025-06-30T11:30:23.901827Z"
    }
   },
   "source": [
    "# Create estimation object\n",
    "gme_data = gme.EstimationData(\n",
    "  data_frame=train_df,\n",
    "  imp_var_name=\"ISO3_reporter\",\n",
    "  exp_var_name=\"ISO3_partner\",\n",
    "  output_var_name=TARGET,\n",
    "  year_var_name=\"Year\"\n",
    ")\n",
    "gme_data"
   ],
   "outputs": [
    {
     "data": {
      "text/plain": [
       "number of countries: 179 \n",
       "number of exporters: 179 \n",
       "number of importers: 179 \n",
       "number of years: 15 \n",
       "number of sectors: not_applicable \n",
       "dimensions: (166398, 45)"
      ]
     },
     "execution_count": 176,
     "metadata": {},
     "output_type": "execute_result"
    }
   ],
   "execution_count": 176
  },
  {
   "cell_type": "code",
   "id": "edf85329a8236b60",
   "metadata": {
    "ExecuteTime": {
     "end_time": "2025-06-30T11:30:23.969170Z",
     "start_time": "2025-06-30T11:30:23.965077Z"
    }
   },
   "source": [
    "# Create GME model\n",
    "gme_model = gme.EstimationModel(\n",
    "  estimation_data=gme_data,\n",
    "  lhs_var=TARGET,\n",
    "  rhs_var=rhs_cols,\n",
    "  drop_intratrade=True,\n",
    ")"
   ],
   "outputs": [],
   "execution_count": 177
  },
  {
   "cell_type": "code",
   "id": "3f3616ba690fe4e3",
   "metadata": {
    "ExecuteTime": {
     "end_time": "2025-06-30T11:30:24.625691Z",
     "start_time": "2025-06-30T11:30:23.989067Z"
    }
   },
   "source": [
    "# Conduct PPML estimation of coefficients\n",
    "estimates = gme_model.estimate()"
   ],
   "outputs": [
    {
     "name": "stdout",
     "output_type": "stream",
     "text": [
      "Estimation began at 01:30 PM  on Jun 30, 2025\n",
      "Omitted Regressors: []\n",
      "Estimation completed at 01:30 PM  on Jun 30, 2025\n"
     ]
    }
   ],
   "execution_count": 178
  },
  {
   "cell_type": "code",
   "id": "78f1b6270ca65dbf",
   "metadata": {
    "ExecuteTime": {
     "end_time": "2025-06-30T11:30:24.649296Z",
     "start_time": "2025-06-30T11:30:24.646270Z"
    }
   },
   "source": [
    "gme_model.ppml_diagnostics"
   ],
   "outputs": [
    {
     "data": {
      "text/plain": [
       "Overfit Warning                             No\n",
       "Number of Regressors Dropped                 0\n",
       "Regressors with Zero Trade                  []\n",
       "Regressors from User                        []\n",
       "Regressors Perfectly Collinear              []\n",
       "Completion Time                   0.01 minutes\n",
       "dtype: object"
      ]
     },
     "execution_count": 179,
     "metadata": {},
     "output_type": "execute_result"
    }
   ],
   "execution_count": 179
  },
  {
   "cell_type": "code",
   "id": "8e6578db95427f51",
   "metadata": {
    "ExecuteTime": {
     "end_time": "2025-06-30T11:30:24.724952Z",
     "start_time": "2025-06-30T11:30:24.690450Z"
    }
   },
   "source": [
    "# estimates.keys()\n",
    "results = estimates['all']\n",
    "results.summary()"
   ],
   "outputs": [
    {
     "data": {
      "text/plain": [
       "<class 'statsmodels.iolib.summary.Summary'>\n",
       "\"\"\"\n",
       "                 Generalized Linear Model Regression Results                  \n",
       "==============================================================================\n",
       "Dep. Variable:                 EXPORT   No. Observations:               166398\n",
       "Model:                            GLM   Df Residuals:                   166378\n",
       "Model Family:                 Poisson   Df Model:                           19\n",
       "Link Function:                    Log   Scale:                          1.0000\n",
       "Method:                          IRLS   Log-Likelihood:            -5.1450e+05\n",
       "Date:                Mon, 30 Jun 2025   Deviance:                   1.1714e+06\n",
       "Time:                        13:30:24   Pearson chi2:                 4.71e+05\n",
       "No. Iterations:                     6   Pseudo R-squ. (CS):             0.9445\n",
       "Covariance Type:                  HC1                                         \n",
       "=====================================================================================\n",
       "                        coef    std err          z      P>|z|      [0.025      0.975]\n",
       "-------------------------------------------------------------------------------------\n",
       "GDP_reporter_lag1     0.1334      0.006     24.185      0.000       0.123       0.144\n",
       "GDP_reporter_lag2     0.0140      0.007      1.916      0.055      -0.000       0.028\n",
       "GDP_reporter_lag3     0.0163      0.007      2.286      0.022       0.002       0.030\n",
       "GDP_reporter_lag4     0.0142      0.006      2.427      0.015       0.003       0.026\n",
       "GDP_reporter_lag5    -0.0011      0.003     -0.324      0.746      -0.008       0.006\n",
       "GDP_partner_lag1      0.0379      0.005      8.306      0.000       0.029       0.047\n",
       "GDP_partner_lag2      0.0195      0.006      3.180      0.001       0.007       0.031\n",
       "GDP_partner_lag3      0.0211      0.006      3.393      0.001       0.009       0.033\n",
       "GDP_partner_lag4      0.0021      0.005      0.387      0.699      -0.008       0.012\n",
       "GDP_partner_lag5     -0.0093      0.003     -2.914      0.004      -0.016      -0.003\n",
       "sanction_lag1         0.0333      0.006      5.609      0.000       0.022       0.045\n",
       "sanction_lag2         0.0094      0.008      1.196      0.232      -0.006       0.025\n",
       "sanction_lag3        -0.0021      0.008     -0.281      0.779      -0.017       0.013\n",
       "sanction_lag4         0.0006      0.008      0.073      0.942      -0.014       0.016\n",
       "sanction_lag5         0.0542      0.006      9.664      0.000       0.043       0.065\n",
       "contig               -0.4399      0.010    -46.251      0.000      -0.459      -0.421\n",
       "comlang_off          -0.0299      0.005     -6.473      0.000      -0.039      -0.021\n",
       "colony                0.1707      0.011     15.653      0.000       0.149       0.192\n",
       "smctry               -0.2500      0.014    -17.684      0.000      -0.278      -0.222\n",
       "distw                -0.4905      0.002   -296.905      0.000      -0.494      -0.487\n",
       "=====================================================================================\n",
       "\"\"\""
      ],
      "text/html": [
       "<table class=\"simpletable\">\n",
       "<caption>Generalized Linear Model Regression Results</caption>\n",
       "<tr>\n",
       "  <th>Dep. Variable:</th>        <td>EXPORT</td>      <th>  No. Observations:  </th>   <td>166398</td>   \n",
       "</tr>\n",
       "<tr>\n",
       "  <th>Model:</th>                  <td>GLM</td>       <th>  Df Residuals:      </th>   <td>166378</td>   \n",
       "</tr>\n",
       "<tr>\n",
       "  <th>Model Family:</th>         <td>Poisson</td>     <th>  Df Model:          </th>   <td>    19</td>   \n",
       "</tr>\n",
       "<tr>\n",
       "  <th>Link Function:</th>          <td>Log</td>       <th>  Scale:             </th>  <td>  1.0000</td>  \n",
       "</tr>\n",
       "<tr>\n",
       "  <th>Method:</th>                <td>IRLS</td>       <th>  Log-Likelihood:    </th> <td>-5.1450e+05</td>\n",
       "</tr>\n",
       "<tr>\n",
       "  <th>Date:</th>            <td>Mon, 30 Jun 2025</td> <th>  Deviance:          </th> <td>1.1714e+06</td> \n",
       "</tr>\n",
       "<tr>\n",
       "  <th>Time:</th>                <td>13:30:24</td>     <th>  Pearson chi2:      </th>  <td>4.71e+05</td>  \n",
       "</tr>\n",
       "<tr>\n",
       "  <th>No. Iterations:</th>          <td>6</td>        <th>  Pseudo R-squ. (CS):</th>   <td>0.9445</td>   \n",
       "</tr>\n",
       "<tr>\n",
       "  <th>Covariance Type:</th>        <td>HC1</td>       <th>                     </th>      <td> </td>     \n",
       "</tr>\n",
       "</table>\n",
       "<table class=\"simpletable\">\n",
       "<tr>\n",
       "          <td></td>             <th>coef</th>     <th>std err</th>      <th>z</th>      <th>P>|z|</th>  <th>[0.025</th>    <th>0.975]</th>  \n",
       "</tr>\n",
       "<tr>\n",
       "  <th>GDP_reporter_lag1</th> <td>    0.1334</td> <td>    0.006</td> <td>   24.185</td> <td> 0.000</td> <td>    0.123</td> <td>    0.144</td>\n",
       "</tr>\n",
       "<tr>\n",
       "  <th>GDP_reporter_lag2</th> <td>    0.0140</td> <td>    0.007</td> <td>    1.916</td> <td> 0.055</td> <td>   -0.000</td> <td>    0.028</td>\n",
       "</tr>\n",
       "<tr>\n",
       "  <th>GDP_reporter_lag3</th> <td>    0.0163</td> <td>    0.007</td> <td>    2.286</td> <td> 0.022</td> <td>    0.002</td> <td>    0.030</td>\n",
       "</tr>\n",
       "<tr>\n",
       "  <th>GDP_reporter_lag4</th> <td>    0.0142</td> <td>    0.006</td> <td>    2.427</td> <td> 0.015</td> <td>    0.003</td> <td>    0.026</td>\n",
       "</tr>\n",
       "<tr>\n",
       "  <th>GDP_reporter_lag5</th> <td>   -0.0011</td> <td>    0.003</td> <td>   -0.324</td> <td> 0.746</td> <td>   -0.008</td> <td>    0.006</td>\n",
       "</tr>\n",
       "<tr>\n",
       "  <th>GDP_partner_lag1</th>  <td>    0.0379</td> <td>    0.005</td> <td>    8.306</td> <td> 0.000</td> <td>    0.029</td> <td>    0.047</td>\n",
       "</tr>\n",
       "<tr>\n",
       "  <th>GDP_partner_lag2</th>  <td>    0.0195</td> <td>    0.006</td> <td>    3.180</td> <td> 0.001</td> <td>    0.007</td> <td>    0.031</td>\n",
       "</tr>\n",
       "<tr>\n",
       "  <th>GDP_partner_lag3</th>  <td>    0.0211</td> <td>    0.006</td> <td>    3.393</td> <td> 0.001</td> <td>    0.009</td> <td>    0.033</td>\n",
       "</tr>\n",
       "<tr>\n",
       "  <th>GDP_partner_lag4</th>  <td>    0.0021</td> <td>    0.005</td> <td>    0.387</td> <td> 0.699</td> <td>   -0.008</td> <td>    0.012</td>\n",
       "</tr>\n",
       "<tr>\n",
       "  <th>GDP_partner_lag5</th>  <td>   -0.0093</td> <td>    0.003</td> <td>   -2.914</td> <td> 0.004</td> <td>   -0.016</td> <td>   -0.003</td>\n",
       "</tr>\n",
       "<tr>\n",
       "  <th>sanction_lag1</th>     <td>    0.0333</td> <td>    0.006</td> <td>    5.609</td> <td> 0.000</td> <td>    0.022</td> <td>    0.045</td>\n",
       "</tr>\n",
       "<tr>\n",
       "  <th>sanction_lag2</th>     <td>    0.0094</td> <td>    0.008</td> <td>    1.196</td> <td> 0.232</td> <td>   -0.006</td> <td>    0.025</td>\n",
       "</tr>\n",
       "<tr>\n",
       "  <th>sanction_lag3</th>     <td>   -0.0021</td> <td>    0.008</td> <td>   -0.281</td> <td> 0.779</td> <td>   -0.017</td> <td>    0.013</td>\n",
       "</tr>\n",
       "<tr>\n",
       "  <th>sanction_lag4</th>     <td>    0.0006</td> <td>    0.008</td> <td>    0.073</td> <td> 0.942</td> <td>   -0.014</td> <td>    0.016</td>\n",
       "</tr>\n",
       "<tr>\n",
       "  <th>sanction_lag5</th>     <td>    0.0542</td> <td>    0.006</td> <td>    9.664</td> <td> 0.000</td> <td>    0.043</td> <td>    0.065</td>\n",
       "</tr>\n",
       "<tr>\n",
       "  <th>contig</th>            <td>   -0.4399</td> <td>    0.010</td> <td>  -46.251</td> <td> 0.000</td> <td>   -0.459</td> <td>   -0.421</td>\n",
       "</tr>\n",
       "<tr>\n",
       "  <th>comlang_off</th>       <td>   -0.0299</td> <td>    0.005</td> <td>   -6.473</td> <td> 0.000</td> <td>   -0.039</td> <td>   -0.021</td>\n",
       "</tr>\n",
       "<tr>\n",
       "  <th>colony</th>            <td>    0.1707</td> <td>    0.011</td> <td>   15.653</td> <td> 0.000</td> <td>    0.149</td> <td>    0.192</td>\n",
       "</tr>\n",
       "<tr>\n",
       "  <th>smctry</th>            <td>   -0.2500</td> <td>    0.014</td> <td>  -17.684</td> <td> 0.000</td> <td>   -0.278</td> <td>   -0.222</td>\n",
       "</tr>\n",
       "<tr>\n",
       "  <th>distw</th>             <td>   -0.4905</td> <td>    0.002</td> <td> -296.905</td> <td> 0.000</td> <td>   -0.494</td> <td>   -0.487</td>\n",
       "</tr>\n",
       "</table>"
      ],
      "text/latex": "\\begin{center}\n\\begin{tabular}{lclc}\n\\toprule\n\\textbf{Dep. Variable:}      &      EXPORT      & \\textbf{  No. Observations:  } &    166398    \\\\\n\\textbf{Model:}              &       GLM        & \\textbf{  Df Residuals:      } &    166378    \\\\\n\\textbf{Model Family:}       &     Poisson      & \\textbf{  Df Model:          } &        19    \\\\\n\\textbf{Link Function:}      &       Log        & \\textbf{  Scale:             } &     1.0000   \\\\\n\\textbf{Method:}             &       IRLS       & \\textbf{  Log-Likelihood:    } & -5.1450e+05  \\\\\n\\textbf{Date:}               & Mon, 30 Jun 2025 & \\textbf{  Deviance:          } &  1.1714e+06  \\\\\n\\textbf{Time:}               &     13:30:24     & \\textbf{  Pearson chi2:      } &   4.71e+05   \\\\\n\\textbf{No. Iterations:}     &        6         & \\textbf{  Pseudo R-squ. (CS):} &    0.9445    \\\\\n\\textbf{Covariance Type:}    &       HC1        & \\textbf{                     } &              \\\\\n\\bottomrule\n\\end{tabular}\n\\begin{tabular}{lcccccc}\n                             & \\textbf{coef} & \\textbf{std err} & \\textbf{z} & \\textbf{P$> |$z$|$} & \\textbf{[0.025} & \\textbf{0.975]}  \\\\\n\\midrule\n\\textbf{GDP\\_reporter\\_lag1} &       0.1334  &        0.006     &    24.185  &         0.000        &        0.123    &        0.144     \\\\\n\\textbf{GDP\\_reporter\\_lag2} &       0.0140  &        0.007     &     1.916  &         0.055        &       -0.000    &        0.028     \\\\\n\\textbf{GDP\\_reporter\\_lag3} &       0.0163  &        0.007     &     2.286  &         0.022        &        0.002    &        0.030     \\\\\n\\textbf{GDP\\_reporter\\_lag4} &       0.0142  &        0.006     &     2.427  &         0.015        &        0.003    &        0.026     \\\\\n\\textbf{GDP\\_reporter\\_lag5} &      -0.0011  &        0.003     &    -0.324  &         0.746        &       -0.008    &        0.006     \\\\\n\\textbf{GDP\\_partner\\_lag1}  &       0.0379  &        0.005     &     8.306  &         0.000        &        0.029    &        0.047     \\\\\n\\textbf{GDP\\_partner\\_lag2}  &       0.0195  &        0.006     &     3.180  &         0.001        &        0.007    &        0.031     \\\\\n\\textbf{GDP\\_partner\\_lag3}  &       0.0211  &        0.006     &     3.393  &         0.001        &        0.009    &        0.033     \\\\\n\\textbf{GDP\\_partner\\_lag4}  &       0.0021  &        0.005     &     0.387  &         0.699        &       -0.008    &        0.012     \\\\\n\\textbf{GDP\\_partner\\_lag5}  &      -0.0093  &        0.003     &    -2.914  &         0.004        &       -0.016    &       -0.003     \\\\\n\\textbf{sanction\\_lag1}      &       0.0333  &        0.006     &     5.609  &         0.000        &        0.022    &        0.045     \\\\\n\\textbf{sanction\\_lag2}      &       0.0094  &        0.008     &     1.196  &         0.232        &       -0.006    &        0.025     \\\\\n\\textbf{sanction\\_lag3}      &      -0.0021  &        0.008     &    -0.281  &         0.779        &       -0.017    &        0.013     \\\\\n\\textbf{sanction\\_lag4}      &       0.0006  &        0.008     &     0.073  &         0.942        &       -0.014    &        0.016     \\\\\n\\textbf{sanction\\_lag5}      &       0.0542  &        0.006     &     9.664  &         0.000        &        0.043    &        0.065     \\\\\n\\textbf{contig}              &      -0.4399  &        0.010     &   -46.251  &         0.000        &       -0.459    &       -0.421     \\\\\n\\textbf{comlang\\_off}        &      -0.0299  &        0.005     &    -6.473  &         0.000        &       -0.039    &       -0.021     \\\\\n\\textbf{colony}              &       0.1707  &        0.011     &    15.653  &         0.000        &        0.149    &        0.192     \\\\\n\\textbf{smctry}              &      -0.2500  &        0.014     &   -17.684  &         0.000        &       -0.278    &       -0.222     \\\\\n\\textbf{distw}               &      -0.4905  &        0.002     &  -296.905  &         0.000        &       -0.494    &       -0.487     \\\\\n\\bottomrule\n\\end{tabular}\n%\\caption{Generalized Linear Model Regression Results}\n\\end{center}"
     },
     "execution_count": 180,
     "metadata": {},
     "output_type": "execute_result"
    }
   ],
   "execution_count": 180
  },
  {
   "cell_type": "code",
   "id": "553c94212eb5273c",
   "metadata": {
    "ExecuteTime": {
     "end_time": "2025-06-30T11:30:24.755727Z",
     "start_time": "2025-06-30T11:30:24.752450Z"
    }
   },
   "source": [
    "betas = results.params\n",
    "betas"
   ],
   "outputs": [
    {
     "data": {
      "text/plain": [
       "GDP_reporter_lag1    0.133425\n",
       "GDP_reporter_lag2    0.014028\n",
       "GDP_reporter_lag3    0.016282\n",
       "GDP_reporter_lag4    0.014240\n",
       "GDP_reporter_lag5   -0.001125\n",
       "GDP_partner_lag1     0.037938\n",
       "GDP_partner_lag2     0.019484\n",
       "GDP_partner_lag3     0.021123\n",
       "GDP_partner_lag4     0.002051\n",
       "GDP_partner_lag5    -0.009324\n",
       "sanction_lag1        0.033255\n",
       "sanction_lag2        0.009391\n",
       "sanction_lag3       -0.002131\n",
       "sanction_lag4        0.000560\n",
       "sanction_lag5        0.054189\n",
       "contig              -0.439925\n",
       "comlang_off         -0.029910\n",
       "colony               0.170720\n",
       "smctry              -0.250011\n",
       "distw               -0.490493\n",
       "dtype: float64"
      ]
     },
     "execution_count": 181,
     "metadata": {},
     "output_type": "execute_result"
    }
   ],
   "execution_count": 181
  },
  {
   "cell_type": "code",
   "id": "749d850cb40936eb",
   "metadata": {
    "ExecuteTime": {
     "end_time": "2025-06-30T11:30:24.795088Z",
     "start_time": "2025-06-30T11:30:24.793460Z"
    }
   },
   "source": [
    "# plt.figure(figsize=(8, 5))\n",
    "# plt.plot(results_threshold[\"n_columns\"], results_threshold[\"errors\"])\n",
    "# plt.xlabel(\"Number of columns selected\")\n",
    "# plt.ylabel(\"RMSE\")\n",
    "# plt.title(\"Model performance vs sparsity\")\n",
    "# plt.grid()\n",
    "# plt.show()"
   ],
   "outputs": [],
   "execution_count": 182
  },
  {
   "cell_type": "code",
   "id": "e847568dcd919b61",
   "metadata": {
    "ExecuteTime": {
     "end_time": "2025-06-30T11:30:24.864450Z",
     "start_time": "2025-06-30T11:30:24.844323Z"
    }
   },
   "source": [
    "betas = gme_model.results_dict[\"all\"].params\n",
    "\n",
    "for col in rhs_cols:\n",
    "  test_df.loc[:, col] = pd.to_numeric(test_df[col], errors=\"coerce\")\n",
    "test_df = test_df.dropna(subset=rhs_cols)\n",
    "model_columns = betas.index.tolist()"
   ],
   "outputs": [],
   "execution_count": 183
  },
  {
   "cell_type": "code",
   "id": "c8ae71291af0a649",
   "metadata": {
    "ExecuteTime": {
     "end_time": "2025-06-30T11:30:24.904890Z",
     "start_time": "2025-06-30T11:30:24.902562Z"
    }
   },
   "source": [
    "missing_cols = [col for col in model_columns if col not in test_df.columns]\n",
    "if missing_cols:\n",
    "  print(f\"Warning: The following columns are missing in test_df: {missing_cols}\")\n",
    "  for col in missing_cols:\n",
    "    test_df[col] = 0.0"
   ],
   "outputs": [],
   "execution_count": 184
  },
  {
   "cell_type": "code",
   "id": "41fc0aa2e7964f58",
   "metadata": {
    "ExecuteTime": {
     "end_time": "2025-06-30T11:30:24.961605Z",
     "start_time": "2025-06-30T11:30:24.958160Z"
    }
   },
   "source": [
    "X_test = test_df[model_columns].values\n",
    "beta_values = betas[model_columns].values\n",
    "linear_combination = X_test @ beta_values\n",
    "test_df[\"EXPORT_hat\"] = np.exp(linear_combination)"
   ],
   "outputs": [],
   "execution_count": 185
  },
  {
   "cell_type": "code",
   "id": "84d4bad2db4b6db5",
   "metadata": {
    "ExecuteTime": {
     "end_time": "2025-06-30T11:30:25.005788Z",
     "start_time": "2025-06-30T11:30:25.000182Z"
    }
   },
   "source": [
    "y_true = test_df[\"EXPORT\"].values\n",
    "y_pred = test_df[\"EXPORT_hat\"].values\n",
    "\n",
    "print(f\"RMSE: {tu.rmse(y_true, y_pred):.4f}\")\n",
    "print(f\"MAE: {tu.mae(y_true, y_pred):.4f}\")\n",
    "print(f\"RMAE: {tu.rmae(y_true, y_pred):.4f}\")\n",
    "print(f\"Pseudo R²: {tu.pseudo_r2(y_true, y_pred):.4f}\")\n",
    "print(f\"Within R²: {tu.within_r2(y_true, y_pred, test_df['dyad_id'].values):.4f}\")"
   ],
   "outputs": [
    {
     "name": "stdout",
     "output_type": "stream",
     "text": [
      "RMSE: 3.7885\n",
      "MAE: 3.0832\n",
      "RMAE: 0.5610\n",
      "Pseudo R²: 0.4783\n",
      "Within R²: -22.5117\n"
     ]
    }
   ],
   "execution_count": 186
  },
  {
   "metadata": {
    "ExecuteTime": {
     "end_time": "2025-06-30T11:30:25.011460Z",
     "start_time": "2025-06-30T11:30:25.008727Z"
    }
   },
   "cell_type": "code",
   "source": [
    "# Save betas\n",
    "beta_df = pd.DataFrame(beta_values, index=model_columns, columns=[\"beta\"])\n",
    "beta_df.to_csv(\"../../models/ppml_beta_values.csv\")"
   ],
   "id": "3b83f7983557a87e",
   "outputs": [],
   "execution_count": 187
  }
 ],
 "metadata": {
  "kernelspec": {
   "display_name": "Python 3 (ipykernel)",
   "language": "python",
   "name": "python3"
  },
  "language_info": {
   "codemirror_mode": {
    "name": "ipython",
    "version": 3
   },
   "file_extension": ".py",
   "mimetype": "text/x-python",
   "name": "python",
   "nbconvert_exporter": "python",
   "pygments_lexer": "ipython3",
   "version": "3.13.2"
  }
 },
 "nbformat": 4,
 "nbformat_minor": 5
}
