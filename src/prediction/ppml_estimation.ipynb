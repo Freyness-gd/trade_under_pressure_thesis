{
 "cells": [
  {
   "cell_type": "markdown",
   "id": "cb770601c2007551",
   "metadata": {},
   "source": [
    "# Gravity Model PPML Estimation"
   ]
  },
  {
   "cell_type": "markdown",
   "id": "18ac266753da3055",
   "metadata": {},
   "source": [
    "## Formalization of the gravity model equation\n",
    "### with origin-destination (importer-exporter) fixed effects and lagged independent variables\n",
    "\n",
    "\\begin{equation}\n",
    "\\begin{split}\n",
    "EXPORT_{ij,t} =\\; &\\exp\\Bigl[\\hat{\\alpha}_{ij}\n",
    "+ \\sum_{k=1}^5 \\hat{\\beta}_{1k}\\,GDP_{i,t-k}\n",
    "+ \\sum_{l=1}^5 \\hat{\\beta}_{2l}\\,GDP_{j,t-l} \\\\\n",
    "&\\quad\n",
    "+ \\sum_{m=1}^5 \\hat{\\beta}_{3m}\\,SANCT_{ij,t-m}\\Bigr]\n",
    "\\times \\epsilon_{ij,t}\n",
    "\\end{split}\n",
    "\\end{equation}\n",
    "\n",
    "Where:\n",
    "- $\\hat\\alpha_{ij}$ - time-invariant fixed effects\n",
    "- $GDP_{i,t}$ - size of origin country $i$ at time $t$\n",
    "- $GDP_{j,t}$ - size of destination country $j$ at time $t$\n",
    "- $SANCT_{ij,t}$ - unilateral sanction relationship $i \\rightarrow j$ at time $t$\n",
    "- $\\hat\\beta_{1k}$, $\\hat\\beta_{2l}$, $\\hat\\beta_{3m}$ - estimated coefficients for the respective lagged variables\n",
    "- $\\epsilon_{ij,t}$ - error term\n"
   ]
  },
  {
   "cell_type": "code",
   "id": "44c5bd96ca9f1b48",
   "metadata": {
    "ExecuteTime": {
     "end_time": "2025-06-28T09:48:05.886339Z",
     "start_time": "2025-06-28T09:48:05.883712Z"
    }
   },
   "source": [
    "import gme\n",
    "import matplotlib.pyplot as plt\n",
    "import numpy as np\n",
    "import pandas as pd\n",
    "from celer import Lasso, LassoCV\n",
    "from pandas import DataFrame\n",
    "from scipy import sparse\n",
    "from sklearn.model_selection import GroupShuffleSplit\n",
    "\n",
    "import thesis_utils as tu"
   ],
   "outputs": [],
   "execution_count": 50
  },
  {
   "cell_type": "code",
   "id": "aeb14e9bd6f7e41",
   "metadata": {
    "ExecuteTime": {
     "end_time": "2025-06-28T09:48:05.907161Z",
     "start_time": "2025-06-28T09:48:05.905231Z"
    }
   },
   "source": [
    "# Config for saving outputs\n",
    "SAVE_ENABLED = True\n",
    "SERIAL_NUMBER = \"NOT_SET\"\n",
    "VERBOSE = 0\n",
    "\n",
    "# Model parameters\n",
    "N_LAGS = 2\n",
    "N_DYADS = 1000\n",
    "MAX_ITERATIONS = 5000\n",
    "SUBSAMPLE_ENABLED = False\n",
    "\n",
    "# Train parameters\n",
    "TARGET = \"EXPORT\"\n",
    "PATIENCE = 15\n",
    "RANDOM_SEED = 16\n",
    "\n",
    "SANCTION_COLS = [\"arms\", \"military\", \"trade\", \"travel\", \"other\"]"
   ],
   "outputs": [],
   "execution_count": 51
  },
  {
   "cell_type": "code",
   "id": "9c7e84773570b343",
   "metadata": {
    "ExecuteTime": {
     "end_time": "2025-06-28T09:48:06.236261Z",
     "start_time": "2025-06-28T09:48:05.910186Z"
    }
   },
   "source": [
    "processed = pd.read_parquet(path=\"../../data/model/processed.parquet\", engine=\"fastparquet\")\n",
    "df: DataFrame = processed.copy(deep=True)"
   ],
   "outputs": [],
   "execution_count": 52
  },
  {
   "cell_type": "code",
   "id": "d0d5accc73f50b2f",
   "metadata": {
    "ExecuteTime": {
     "end_time": "2025-06-28T09:48:06.578055Z",
     "start_time": "2025-06-28T09:48:06.247114Z"
    }
   },
   "source": [
    "# Sort data by Report + Partner + Year\n",
    "df[\"dyad_id\"] = df[\"ISO3_reporter\"] + \"_\" + df[\"ISO3_partner\"]\n",
    "df = df.sort_values(by=[\"dyad_id\", \"Year\"]).reset_index(drop=True)"
   ],
   "outputs": [],
   "execution_count": 53
  },
  {
   "cell_type": "code",
   "id": "ec47950264a5027a",
   "metadata": {
    "ExecuteTime": {
     "end_time": "2025-06-28T09:48:06.616814Z",
     "start_time": "2025-06-28T09:48:06.589430Z"
    }
   },
   "source": [
    "if SUBSAMPLE_ENABLED:\n",
    "  dyad_subsample = pd.Series(df[\"dyad_id\"].unique()).sample(n=N_DYADS, random_state=RANDOM_SEED, replace=False)\n",
    "  df = df[df[\"dyad_id\"].isin(dyad_subsample)]\n",
    "print(df[\"dyad_id\"].nunique())"
   ],
   "outputs": [
    {
     "name": "stdout",
     "output_type": "stream",
     "text": [
      "33672\n"
     ]
    }
   ],
   "execution_count": 54
  },
  {
   "cell_type": "code",
   "id": "e07f246e64a4440a",
   "metadata": {
    "ExecuteTime": {
     "end_time": "2025-06-28T09:48:06.704453Z",
     "start_time": "2025-06-28T09:48:06.628408Z"
    }
   },
   "source": [
    "df[\"GDP_reporter\"] = np.log1p(df[\"GDP_reporter\"]).astype(float)\n",
    "df[\"GDP_partner\"] = np.log1p(df[\"GDP_partner\"]).astype(float)\n",
    "df[\"EXPORT\"] = np.log1p(df[\"EXPORT\"])\n",
    "df[\"sanction\"] = (df[SANCTION_COLS]\n",
    "                  .sum(axis=1)).astype(int)\n",
    "df[\"distw\"] = np.log1p(df[\"distw\"]).astype(float)"
   ],
   "outputs": [],
   "execution_count": 55
  },
  {
   "cell_type": "code",
   "id": "96b1c4ad31c42a0e",
   "metadata": {
    "ExecuteTime": {
     "end_time": "2025-06-28T09:48:06.865883Z",
     "start_time": "2025-06-28T09:48:06.714723Z"
    }
   },
   "source": [
    "# Coerce numerical values\n",
    "num_cols = [\"distw\", \"GDP_reporter\", \"GDP_partner\", \"sanction\", \"contig\",\n",
    "            \"comlang_off\", \"colony\", \"smctry\", \"Year\", ]\n",
    "df[num_cols] = df[num_cols].apply(pd.to_numeric, errors=\"coerce\").astype(float)\n",
    "df = df.dropna(subset=num_cols)"
   ],
   "outputs": [],
   "execution_count": 56
  },
  {
   "cell_type": "code",
   "id": "4961608f7e2e3629",
   "metadata": {
    "ExecuteTime": {
     "end_time": "2025-06-28T09:48:06.877851Z",
     "start_time": "2025-06-28T09:48:06.876166Z"
    }
   },
   "source": [
    "lag_cols = [\"GDP_reporter\", \"GDP_partner\", \"sanction\"]\n",
    "invariant_cols = [\"contig\", \"comlang_off\", \"colony\", \"smctry\", \"distw\"]"
   ],
   "outputs": [],
   "execution_count": 57
  },
  {
   "cell_type": "code",
   "id": "34dc1bb044c0f60a",
   "metadata": {
    "ExecuteTime": {
     "end_time": "2025-06-28T09:48:07.374414Z",
     "start_time": "2025-06-28T09:48:06.887813Z"
    }
   },
   "source": [
    "for col in lag_cols:\n",
    "  for index in range(1, N_LAGS + 1):\n",
    "    df[f\"{col}_lag{index}\"] = df.groupby(\"dyad_id\")[col].shift(index)\n",
    "\n",
    "df = df.dropna()\n",
    "\n",
    "df[\"Year\"] = df[\"Year\"].astype(int)\n",
    "for col in [\"dyad_id\"]:\n",
    "  df[col] = pd.Categorical(df[col], categories=sorted(df[col].unique()))"
   ],
   "outputs": [],
   "execution_count": 58
  },
  {
   "cell_type": "code",
   "id": "c35312f6ff6973d7",
   "metadata": {
    "ExecuteTime": {
     "end_time": "2025-06-28T09:48:40.197270Z",
     "start_time": "2025-06-28T09:48:07.386052Z"
    }
   },
   "source": "df = tu.add_fixed_effects(df)",
   "outputs": [
    {
     "name": "stdout",
     "output_type": "stream",
     "text": [
      "Df Shape:  (1111203, 36)\n",
      "Dummies Shape:  (1111203, 33671)\n",
      "Final Df Shape:  (1111203, 33707)\n"
     ]
    }
   ],
   "execution_count": 59
  },
  {
   "cell_type": "code",
   "id": "e39b4db5c994ae7f",
   "metadata": {
    "ExecuteTime": {
     "end_time": "2025-06-28T09:50:06.171383Z",
     "start_time": "2025-06-28T09:48:40.246412Z"
    }
   },
   "source": [
    "gss = GroupShuffleSplit(n_splits=1, test_size=0.2, random_state=RANDOM_SEED)\n",
    "\n",
    "train_df_idx, test_df_idx = next(gss.split(df, groups=df[\"dyad_id\"]))\n",
    "test_df = df.iloc[test_df_idx]\n",
    "train_df = df.iloc[train_df_idx]"
   ],
   "outputs": [],
   "execution_count": 60
  },
  {
   "cell_type": "code",
   "id": "b74290554d1c2777",
   "metadata": {
    "ExecuteTime": {
     "end_time": "2025-06-28T09:50:06.332938Z",
     "start_time": "2025-06-28T09:50:06.296171Z"
    }
   },
   "source": [
    "rhs_cols = [f\"{c}_lag{index}\" for c in lag_cols for index in range(1, N_LAGS + 1)]\n",
    "fe_columns = [col for col in train_df.columns if col.startswith(\"fe_dyad_id_\")]\n",
    "convert_to_float_columns = rhs_cols + invariant_cols\n",
    "train_df.loc[:, convert_to_float_columns] = train_df.loc[:, convert_to_float_columns].astype(\n",
    "  \"float32\",\n",
    "  copy=False\n",
    ")\n",
    "rhs_cols = rhs_cols + invariant_cols + fe_columns\n",
    "\n",
    "print(\"Fixed effects columns:\", fe_columns[:10])\n",
    "print(\"Lagged columns:\", rhs_cols[:15])"
   ],
   "outputs": [
    {
     "name": "stdout",
     "output_type": "stream",
     "text": [
      "Fixed effects columns: ['fe_dyad_id_AGO_AND', 'fe_dyad_id_AGO_ARE', 'fe_dyad_id_AGO_ARG', 'fe_dyad_id_AGO_ARM', 'fe_dyad_id_AGO_ATG', 'fe_dyad_id_AGO_AUS', 'fe_dyad_id_AGO_AUT', 'fe_dyad_id_AGO_AZE', 'fe_dyad_id_AGO_BDI', 'fe_dyad_id_AGO_BEL']\n",
      "Lagged columns: ['GDP_reporter_lag1', 'GDP_reporter_lag2', 'GDP_partner_lag1', 'GDP_partner_lag2', 'sanction_lag1', 'sanction_lag2', 'contig', 'comlang_off', 'colony', 'smctry', 'distw', 'fe_dyad_id_AGO_AND', 'fe_dyad_id_AGO_ARE', 'fe_dyad_id_AGO_ARG', 'fe_dyad_id_AGO_ARM']\n"
     ]
    }
   ],
   "execution_count": 61
  },
  {
   "cell_type": "code",
   "id": "3dee58d52ceffbf9",
   "metadata": {
    "ExecuteTime": {
     "end_time": "2025-06-28T09:50:06.344711Z",
     "start_time": "2025-06-28T09:50:06.336231Z"
    }
   },
   "source": [
    "# Prepare data\n",
    "print(\"Selecting columns based on rhs_cols...\")\n",
    "col_idx = [train_df.columns.get_loc(c) for c in rhs_cols]\n",
    "print(\"Finished extracting raw features.\")"
   ],
   "outputs": [
    {
     "name": "stdout",
     "output_type": "stream",
     "text": [
      "Selecting columns based on rhs_cols...\n",
      "Finished extracting raw features.\n"
     ]
    }
   ],
   "execution_count": 62
  },
  {
   "cell_type": "code",
   "id": "b63df77ad158fd48",
   "metadata": {
    "jupyter": {
     "is_executing": true
    },
    "ExecuteTime": {
     "start_time": "2025-06-28T09:50:06.365843Z"
    }
   },
   "source": [
    "print(\"Extracting features from train_df...\", flush=True)\n",
    "X = train_df.iloc[:, col_idx].to_numpy(dtype=float, copy=False)\n",
    "print(\"Finished extracting features.\")\n",
    "print(\"Creating sparse matrix from features...\")\n",
    "X = sparse.csr_matrix(X, dtype=float)\n",
    "print(\"Finished creating sparse matrix from features.\")"
   ],
   "outputs": [
    {
     "name": "stdout",
     "output_type": "stream",
     "text": [
      "Extracting features from train_df...\n"
     ]
    }
   ],
   "execution_count": null
  },
  {
   "cell_type": "code",
   "id": "bf8ee25fcab6533d",
   "metadata": {
    "ExecuteTime": {
     "end_time": "2025-06-28T09:52:26.382277Z",
     "start_time": "2025-06-28T09:46:42.089225Z"
    }
   },
   "source": [
    "y = train_df[\"EXPORT\"].to_numpy(dtype=np.float32)\n",
    "print(\"Finished extracting target variable.\")"
   ],
   "outputs": [
    {
     "name": "stdout",
     "output_type": "stream",
     "text": [
      "Finished extracting target variable.\n"
     ]
    }
   ],
   "execution_count": 46
  },
  {
   "cell_type": "code",
   "id": "9aad16cfa9bf1869",
   "metadata": {
    "ExecuteTime": {
     "end_time": "2025-06-28T09:52:26.383774Z",
     "start_time": "2025-06-28T09:46:42.604852Z"
    }
   },
   "source": [
    "# 1) Cross-validated Lasso to pick alpha\n",
    "lasso_cv = LassoCV(cv=5, max_iter=MAX_ITERATIONS, tol=1e-4,\n",
    "                   verbose=VERBOSE, n_jobs=-1)\n",
    "print(\"Fitting celer.LassoCV (5-fold, all CPUs)…\")\n",
    "lasso_cv.fit(X, y)\n",
    "cv_coef = lasso_cv.coef_"
   ],
   "outputs": [
    {
     "name": "stdout",
     "output_type": "stream",
     "text": [
      "Fitting celer.LassoCV (5-fold, all CPUs)…\n"
     ]
    }
   ],
   "execution_count": 47
  },
  {
   "metadata": {
    "ExecuteTime": {
     "end_time": "2025-06-28T09:52:26.389524Z",
     "start_time": "2025-06-28T09:46:47.228321Z"
    }
   },
   "cell_type": "code",
   "source": [
    "# Scale down the chosen alpha if desired\n",
    "best_alpha = lasso_cv.alpha_\n",
    "print(f\"Selected alpha from CV: {best_alpha:.3e}\")"
   ],
   "id": "46ec8f64869737a",
   "outputs": [
    {
     "name": "stdout",
     "output_type": "stream",
     "text": [
      "Selected alpha from CV: 9.561e-03\n"
     ]
    }
   ],
   "execution_count": 48
  },
  {
   "cell_type": "code",
   "id": "96d4c5c2199ac5fa",
   "metadata": {
    "ExecuteTime": {
     "end_time": "2025-06-28T09:52:26.389680Z",
     "start_time": "2025-06-22T13:48:50.742153Z"
    }
   },
   "source": [
    "# 2) Build threshold grid from non-zero CV coefficients\n",
    "nz = np.abs(cv_coef[cv_coef != 0])\n",
    "if nz.size == 0:\n",
    "  print(\"Warning: no non-zero coefficients found! Using fallback.\")\n",
    "  nz = np.array([1e-5])\n",
    "min_c, max_c = nz.min(), nz.max()\n",
    "threshold_grid = np.logspace(np.log10(min_c / 10),\n",
    "                             np.log10(max_c / 10), 10)\n",
    "print(\"Threshold grid:\", threshold_grid)\n",
    "\n",
    "# 3) Fit final Lasso at best_alpha\n",
    "print(\"Fitting final celer.Lasso…\")\n",
    "lasso_full = Lasso(alpha=best_alpha, max_iter=MAX_ITERATIONS,\n",
    "                   tol=1e-4,\n",
    "                   verbose=VERBOSE)\n",
    "lasso_full.fit(X, y)\n",
    "full_coef = lasso_full.coef_"
   ],
   "outputs": [
    {
     "name": "stdout",
     "output_type": "stream",
     "text": [
      "Threshold grid: [6.61181054e-05 1.50141256e-04 3.40941358e-04 7.74210986e-04\n",
      " 1.75808137e-03 3.99225815e-03 9.06563562e-03 2.05862813e-02\n",
      " 4.67474091e-02 1.06154202e-01]\n",
      "Fitting final celer.Lasso…\n"
     ]
    }
   ],
   "execution_count": 20
  },
  {
   "cell_type": "code",
   "id": "78b0dfbc82f4d2de",
   "metadata": {
    "ExecuteTime": {
     "end_time": "2025-06-28T09:52:26.390406Z",
     "start_time": "2025-06-22T13:49:06.572021Z"
    }
   },
   "source": [
    "# 4) Loop over thresholds, refit on selected features, and compute RMSE\n",
    "results_threshold = {\n",
    "  \"thresholds\": [],\n",
    "  \"errors\": [],\n",
    "  \"n_columns\": [],\n",
    "  \"selected_columns\": []\n",
    "}\n",
    "\n",
    "for thr in threshold_grid:\n",
    "  print(f\"\\nThreshold {thr:.5f}\")\n",
    "  idx = np.where(np.abs(full_coef) >= thr)[0]\n",
    "  cols = [rhs_cols[i] for i in idx]\n",
    "  print(f\"  -> {len(cols)} features selected\")\n",
    "\n",
    "  Xr = X[:, idx]\n",
    "  lasso_sub = Lasso(alpha=best_alpha, max_iter=MAX_ITERATIONS,\n",
    "                    tol=1e-4, verbose=VERBOSE)\n",
    "  lasso_sub.fit(Xr, y)\n",
    "  y_pred = lasso_sub.predict(Xr)\n",
    "  err = tu.rmse(y, y_pred)\n",
    "\n",
    "  results_threshold[\"thresholds\"].append(thr)\n",
    "  results_threshold[\"errors\"].append(err)\n",
    "  results_threshold[\"n_columns\"].append(len(cols))\n",
    "  results_threshold[\"selected_columns\"].append(cols)"
   ],
   "outputs": [
    {
     "name": "stdout",
     "output_type": "stream",
     "text": [
      "\n",
      "Threshold 0.00007\n",
      "  -> 17 features selected\n",
      "\n",
      "Threshold 0.00015\n",
      "  -> 17 features selected\n",
      "\n",
      "Threshold 0.00034\n",
      "  -> 17 features selected\n",
      "\n",
      "Threshold 0.00077\n",
      "  -> 16 features selected\n",
      "\n",
      "Threshold 0.00176\n",
      "  -> 16 features selected\n",
      "\n",
      "Threshold 0.00399\n",
      "  -> 16 features selected\n",
      "\n",
      "Threshold 0.00907\n",
      "  -> 16 features selected\n",
      "\n",
      "Threshold 0.02059\n",
      "  -> 16 features selected\n",
      "\n",
      "Threshold 0.04675\n",
      "  -> 14 features selected\n",
      "\n",
      "Threshold 0.10615\n",
      "  -> 11 features selected\n"
     ]
    }
   ],
   "execution_count": 21
  },
  {
   "cell_type": "code",
   "id": "b6c67814d3c0b935",
   "metadata": {
    "ExecuteTime": {
     "end_time": "2025-06-28T09:52:26.390732Z",
     "start_time": "2025-06-22T13:50:52.512681Z"
    }
   },
   "source": [
    "best_idx = np.argmin(results_threshold[\"errors\"])\n",
    "\n",
    "best_rmse = results_threshold[\"errors\"][best_idx]\n",
    "best_columns = results_threshold[\"selected_columns\"][best_idx]\n",
    "\n",
    "print(f\"Best RMSE: {best_rmse}\")\n",
    "print(f\"Best columns ({len(best_columns)}):\")\n",
    "print(best_columns)"
   ],
   "outputs": [
    {
     "name": "stdout",
     "output_type": "stream",
     "text": [
      "Best RMSE: 3.288249774498468\n",
      "Best columns (17):\n",
      "['GDP_reporter_lag1', 'GDP_reporter_lag2', 'GDP_reporter_lag3', 'GDP_reporter_lag4', 'GDP_reporter_lag5', 'GDP_partner_lag1', 'GDP_partner_lag3', 'GDP_partner_lag4', 'GDP_partner_lag5', 'sanction_lag1', 'sanction_lag2', 'sanction_lag3', 'contig', 'comlang_off', 'colony', 'smctry', 'distw']\n"
     ]
    }
   ],
   "execution_count": 22
  },
  {
   "cell_type": "code",
   "id": "3de76e1c2d2db024",
   "metadata": {
    "ExecuteTime": {
     "end_time": "2025-06-28T09:52:26.390971Z",
     "start_time": "2025-06-22T13:50:52.536995Z"
    }
   },
   "source": [
    "train_df.loc[:, 'ISO3_reporter'] = pd.Series(train_df['ISO3_reporter'].values, index=train_df.index).astype(str)\n",
    "train_df.loc[:, 'ISO3_partner'] = pd.Series(train_df['ISO3_partner'].values, index=train_df.index).astype(str)\n",
    "train_df.loc[:, 'Year'] = pd.to_numeric(train_df['Year'], errors='coerce')"
   ],
   "outputs": [],
   "execution_count": 23
  },
  {
   "cell_type": "code",
   "id": "256b826aec5db043",
   "metadata": {
    "ExecuteTime": {
     "end_time": "2025-06-28T09:52:26.391200Z",
     "start_time": "2025-06-22T13:50:52.606568Z"
    }
   },
   "source": [
    "for col in best_columns:\n",
    "  train_df.loc[:, col] = pd.to_numeric(train_df[col], errors='coerce', downcast=\"float\")"
   ],
   "outputs": [],
   "execution_count": 24
  },
  {
   "cell_type": "code",
   "id": "cbb5bc251d71ddcc",
   "metadata": {
    "ExecuteTime": {
     "end_time": "2025-06-28T09:52:26.391431Z",
     "start_time": "2025-06-22T13:50:52.706556Z"
    }
   },
   "source": [
    "# Create estimation object\n",
    "gme_data = gme.EstimationData(\n",
    "  data_frame=train_df,\n",
    "  imp_var_name=\"ISO3_reporter\",\n",
    "  exp_var_name=\"ISO3_partner\",\n",
    "  trade_var_name=TARGET,\n",
    "  year_var_name=\"Year\"\n",
    ")\n",
    "gme_data"
   ],
   "outputs": [
    {
     "data": {
      "text/plain": [
       "number of countries: 184 \n",
       "number of exporters: 184 \n",
       "number of importers: 184 \n",
       "number of years: 30 \n",
       "number of sectors: not_applicable \n",
       "dimensions: (781195, 33717)"
      ]
     },
     "execution_count": 25,
     "metadata": {},
     "output_type": "execute_result"
    }
   ],
   "execution_count": 25
  },
  {
   "cell_type": "code",
   "id": "edf85329a8236b60",
   "metadata": {
    "ExecuteTime": {
     "end_time": "2025-06-28T09:52:26.391690Z",
     "start_time": "2025-06-22T13:50:58.435429Z"
    }
   },
   "source": [
    "# Create GME model\n",
    "gme_model = gme.EstimationModel(\n",
    "  estimation_data=gme_data,\n",
    "  lhs_var=\"EXPORT\",\n",
    "  rhs_var=best_columns,\n",
    "  drop_intratrade=True\n",
    ")"
   ],
   "outputs": [],
   "execution_count": 26
  },
  {
   "cell_type": "code",
   "id": "3f3616ba690fe4e3",
   "metadata": {
    "ExecuteTime": {
     "end_time": "2025-06-28T09:52:26.391916Z",
     "start_time": "2025-06-22T13:50:58.440771Z"
    }
   },
   "source": [
    "# Conduct PPML estimation of coefficients\n",
    "estimates = gme_model.estimate()"
   ],
   "outputs": [
    {
     "name": "stdout",
     "output_type": "stream",
     "text": [
      "Estimation began at 03:50 PM  on Jun 22, 2025\n",
      "Omitted Regressors: []\n",
      "Estimation completed at 03:51 PM  on Jun 22, 2025\n"
     ]
    }
   ],
   "execution_count": 27
  },
  {
   "cell_type": "code",
   "id": "78f1b6270ca65dbf",
   "metadata": {
    "ExecuteTime": {
     "end_time": "2025-06-28T09:52:26.392126Z",
     "start_time": "2025-06-22T13:51:00.403691Z"
    }
   },
   "source": [
    "gme_model.ppml_diagnostics"
   ],
   "outputs": [
    {
     "data": {
      "text/plain": [
       "Overfit Warning                             No\n",
       "Number of Regressors Dropped                 0\n",
       "Regressors with Zero Trade                  []\n",
       "Regressors from User                        []\n",
       "Regressors Perfectly Collinear              []\n",
       "Completion Time                   0.03 minutes\n",
       "dtype: object"
      ]
     },
     "execution_count": 28,
     "metadata": {},
     "output_type": "execute_result"
    }
   ],
   "execution_count": 28
  },
  {
   "cell_type": "code",
   "id": "8e6578db95427f51",
   "metadata": {
    "ExecuteTime": {
     "end_time": "2025-06-28T09:52:26.392392Z",
     "start_time": "2025-06-22T13:51:00.468039Z"
    }
   },
   "source": [
    "# estimates.keys()\n",
    "results = estimates['all']\n",
    "results.summary()"
   ],
   "outputs": [
    {
     "data": {
      "text/plain": [
       "<class 'statsmodels.iolib.summary.Summary'>\n",
       "\"\"\"\n",
       "                 Generalized Linear Model Regression Results                  \n",
       "==============================================================================\n",
       "Dep. Variable:                 EXPORT   No. Observations:               781195\n",
       "Model:                            GLM   Df Residuals:                   781178\n",
       "Model Family:                 Poisson   Df Model:                           16\n",
       "Link Function:                    Log   Scale:                          1.0000\n",
       "Method:                          IRLS   Log-Likelihood:            -2.3426e+06\n",
       "Date:                Sun, 22 Jun 2025   Deviance:                   3.3945e+06\n",
       "Time:                        15:51:00   Pearson chi2:                 2.90e+06\n",
       "No. Iterations:                     6   Pseudo R-squ. (CS):             0.9169\n",
       "Covariance Type:                  HC1                                         \n",
       "=====================================================================================\n",
       "                        coef    std err          z      P>|z|      [0.025      0.975]\n",
       "-------------------------------------------------------------------------------------\n",
       "GDP_reporter_lag1    -0.0015      0.007     -0.202      0.840      -0.016       0.013\n",
       "GDP_reporter_lag2     0.1174      0.012      9.857      0.000       0.094       0.141\n",
       "GDP_reporter_lag3    -0.0171      0.013     -1.306      0.192      -0.043       0.009\n",
       "GDP_reporter_lag4     0.1425      0.014     10.205      0.000       0.115       0.170\n",
       "GDP_reporter_lag5    -0.0291      0.009     -3.120      0.002      -0.047      -0.011\n",
       "GDP_partner_lag1     -0.0414      0.005     -7.751      0.000      -0.052      -0.031\n",
       "GDP_partner_lag3      0.0799      0.011      7.279      0.000       0.058       0.101\n",
       "GDP_partner_lag4      0.0872      0.014      6.276      0.000       0.060       0.114\n",
       "GDP_partner_lag5     -0.0672      0.009     -7.322      0.000      -0.085      -0.049\n",
       "sanction_lag1        -0.0241      0.004     -6.418      0.000      -0.031      -0.017\n",
       "sanction_lag2        -0.0092      0.005     -1.798      0.072      -0.019       0.001\n",
       "sanction_lag3        -0.0633      0.004    -16.646      0.000      -0.071      -0.056\n",
       "contig               -0.5377      0.008    -67.567      0.000      -0.553      -0.522\n",
       "comlang_off           0.0163      0.003      4.752      0.000       0.010       0.023\n",
       "colony                0.2687      0.009     31.413      0.000       0.252       0.286\n",
       "smctry               -0.3649      0.012    -31.280      0.000      -0.388      -0.342\n",
       "distw                -0.6141      0.001   -555.074      0.000      -0.616      -0.612\n",
       "=====================================================================================\n",
       "\"\"\""
      ],
      "text/html": [
       "<table class=\"simpletable\">\n",
       "<caption>Generalized Linear Model Regression Results</caption>\n",
       "<tr>\n",
       "  <th>Dep. Variable:</th>        <td>EXPORT</td>      <th>  No. Observations:  </th>   <td>781195</td>   \n",
       "</tr>\n",
       "<tr>\n",
       "  <th>Model:</th>                  <td>GLM</td>       <th>  Df Residuals:      </th>   <td>781178</td>   \n",
       "</tr>\n",
       "<tr>\n",
       "  <th>Model Family:</th>         <td>Poisson</td>     <th>  Df Model:          </th>   <td>    16</td>   \n",
       "</tr>\n",
       "<tr>\n",
       "  <th>Link Function:</th>          <td>Log</td>       <th>  Scale:             </th>  <td>  1.0000</td>  \n",
       "</tr>\n",
       "<tr>\n",
       "  <th>Method:</th>                <td>IRLS</td>       <th>  Log-Likelihood:    </th> <td>-2.3426e+06</td>\n",
       "</tr>\n",
       "<tr>\n",
       "  <th>Date:</th>            <td>Sun, 22 Jun 2025</td> <th>  Deviance:          </th> <td>3.3945e+06</td> \n",
       "</tr>\n",
       "<tr>\n",
       "  <th>Time:</th>                <td>15:51:00</td>     <th>  Pearson chi2:      </th>  <td>2.90e+06</td>  \n",
       "</tr>\n",
       "<tr>\n",
       "  <th>No. Iterations:</th>          <td>6</td>        <th>  Pseudo R-squ. (CS):</th>   <td>0.9169</td>   \n",
       "</tr>\n",
       "<tr>\n",
       "  <th>Covariance Type:</th>        <td>HC1</td>       <th>                     </th>      <td> </td>     \n",
       "</tr>\n",
       "</table>\n",
       "<table class=\"simpletable\">\n",
       "<tr>\n",
       "          <td></td>             <th>coef</th>     <th>std err</th>      <th>z</th>      <th>P>|z|</th>  <th>[0.025</th>    <th>0.975]</th>  \n",
       "</tr>\n",
       "<tr>\n",
       "  <th>GDP_reporter_lag1</th> <td>   -0.0015</td> <td>    0.007</td> <td>   -0.202</td> <td> 0.840</td> <td>   -0.016</td> <td>    0.013</td>\n",
       "</tr>\n",
       "<tr>\n",
       "  <th>GDP_reporter_lag2</th> <td>    0.1174</td> <td>    0.012</td> <td>    9.857</td> <td> 0.000</td> <td>    0.094</td> <td>    0.141</td>\n",
       "</tr>\n",
       "<tr>\n",
       "  <th>GDP_reporter_lag3</th> <td>   -0.0171</td> <td>    0.013</td> <td>   -1.306</td> <td> 0.192</td> <td>   -0.043</td> <td>    0.009</td>\n",
       "</tr>\n",
       "<tr>\n",
       "  <th>GDP_reporter_lag4</th> <td>    0.1425</td> <td>    0.014</td> <td>   10.205</td> <td> 0.000</td> <td>    0.115</td> <td>    0.170</td>\n",
       "</tr>\n",
       "<tr>\n",
       "  <th>GDP_reporter_lag5</th> <td>   -0.0291</td> <td>    0.009</td> <td>   -3.120</td> <td> 0.002</td> <td>   -0.047</td> <td>   -0.011</td>\n",
       "</tr>\n",
       "<tr>\n",
       "  <th>GDP_partner_lag1</th>  <td>   -0.0414</td> <td>    0.005</td> <td>   -7.751</td> <td> 0.000</td> <td>   -0.052</td> <td>   -0.031</td>\n",
       "</tr>\n",
       "<tr>\n",
       "  <th>GDP_partner_lag3</th>  <td>    0.0799</td> <td>    0.011</td> <td>    7.279</td> <td> 0.000</td> <td>    0.058</td> <td>    0.101</td>\n",
       "</tr>\n",
       "<tr>\n",
       "  <th>GDP_partner_lag4</th>  <td>    0.0872</td> <td>    0.014</td> <td>    6.276</td> <td> 0.000</td> <td>    0.060</td> <td>    0.114</td>\n",
       "</tr>\n",
       "<tr>\n",
       "  <th>GDP_partner_lag5</th>  <td>   -0.0672</td> <td>    0.009</td> <td>   -7.322</td> <td> 0.000</td> <td>   -0.085</td> <td>   -0.049</td>\n",
       "</tr>\n",
       "<tr>\n",
       "  <th>sanction_lag1</th>     <td>   -0.0241</td> <td>    0.004</td> <td>   -6.418</td> <td> 0.000</td> <td>   -0.031</td> <td>   -0.017</td>\n",
       "</tr>\n",
       "<tr>\n",
       "  <th>sanction_lag2</th>     <td>   -0.0092</td> <td>    0.005</td> <td>   -1.798</td> <td> 0.072</td> <td>   -0.019</td> <td>    0.001</td>\n",
       "</tr>\n",
       "<tr>\n",
       "  <th>sanction_lag3</th>     <td>   -0.0633</td> <td>    0.004</td> <td>  -16.646</td> <td> 0.000</td> <td>   -0.071</td> <td>   -0.056</td>\n",
       "</tr>\n",
       "<tr>\n",
       "  <th>contig</th>            <td>   -0.5377</td> <td>    0.008</td> <td>  -67.567</td> <td> 0.000</td> <td>   -0.553</td> <td>   -0.522</td>\n",
       "</tr>\n",
       "<tr>\n",
       "  <th>comlang_off</th>       <td>    0.0163</td> <td>    0.003</td> <td>    4.752</td> <td> 0.000</td> <td>    0.010</td> <td>    0.023</td>\n",
       "</tr>\n",
       "<tr>\n",
       "  <th>colony</th>            <td>    0.2687</td> <td>    0.009</td> <td>   31.413</td> <td> 0.000</td> <td>    0.252</td> <td>    0.286</td>\n",
       "</tr>\n",
       "<tr>\n",
       "  <th>smctry</th>            <td>   -0.3649</td> <td>    0.012</td> <td>  -31.280</td> <td> 0.000</td> <td>   -0.388</td> <td>   -0.342</td>\n",
       "</tr>\n",
       "<tr>\n",
       "  <th>distw</th>             <td>   -0.6141</td> <td>    0.001</td> <td> -555.074</td> <td> 0.000</td> <td>   -0.616</td> <td>   -0.612</td>\n",
       "</tr>\n",
       "</table>"
      ],
      "text/latex": "\\begin{center}\n\\begin{tabular}{lclc}\n\\toprule\n\\textbf{Dep. Variable:}      &      EXPORT      & \\textbf{  No. Observations:  } &    781195    \\\\\n\\textbf{Model:}              &       GLM        & \\textbf{  Df Residuals:      } &    781178    \\\\\n\\textbf{Model Family:}       &     Poisson      & \\textbf{  Df Model:          } &        16    \\\\\n\\textbf{Link Function:}      &       Log        & \\textbf{  Scale:             } &     1.0000   \\\\\n\\textbf{Method:}             &       IRLS       & \\textbf{  Log-Likelihood:    } & -2.3426e+06  \\\\\n\\textbf{Date:}               & Sun, 22 Jun 2025 & \\textbf{  Deviance:          } &  3.3945e+06  \\\\\n\\textbf{Time:}               &     15:51:00     & \\textbf{  Pearson chi2:      } &   2.90e+06   \\\\\n\\textbf{No. Iterations:}     &        6         & \\textbf{  Pseudo R-squ. (CS):} &    0.9169    \\\\\n\\textbf{Covariance Type:}    &       HC1        & \\textbf{                     } &              \\\\\n\\bottomrule\n\\end{tabular}\n\\begin{tabular}{lcccccc}\n                             & \\textbf{coef} & \\textbf{std err} & \\textbf{z} & \\textbf{P$> |$z$|$} & \\textbf{[0.025} & \\textbf{0.975]}  \\\\\n\\midrule\n\\textbf{GDP\\_reporter\\_lag1} &      -0.0015  &        0.007     &    -0.202  &         0.840        &       -0.016    &        0.013     \\\\\n\\textbf{GDP\\_reporter\\_lag2} &       0.1174  &        0.012     &     9.857  &         0.000        &        0.094    &        0.141     \\\\\n\\textbf{GDP\\_reporter\\_lag3} &      -0.0171  &        0.013     &    -1.306  &         0.192        &       -0.043    &        0.009     \\\\\n\\textbf{GDP\\_reporter\\_lag4} &       0.1425  &        0.014     &    10.205  &         0.000        &        0.115    &        0.170     \\\\\n\\textbf{GDP\\_reporter\\_lag5} &      -0.0291  &        0.009     &    -3.120  &         0.002        &       -0.047    &       -0.011     \\\\\n\\textbf{GDP\\_partner\\_lag1}  &      -0.0414  &        0.005     &    -7.751  &         0.000        &       -0.052    &       -0.031     \\\\\n\\textbf{GDP\\_partner\\_lag3}  &       0.0799  &        0.011     &     7.279  &         0.000        &        0.058    &        0.101     \\\\\n\\textbf{GDP\\_partner\\_lag4}  &       0.0872  &        0.014     &     6.276  &         0.000        &        0.060    &        0.114     \\\\\n\\textbf{GDP\\_partner\\_lag5}  &      -0.0672  &        0.009     &    -7.322  &         0.000        &       -0.085    &       -0.049     \\\\\n\\textbf{sanction\\_lag1}      &      -0.0241  &        0.004     &    -6.418  &         0.000        &       -0.031    &       -0.017     \\\\\n\\textbf{sanction\\_lag2}      &      -0.0092  &        0.005     &    -1.798  &         0.072        &       -0.019    &        0.001     \\\\\n\\textbf{sanction\\_lag3}      &      -0.0633  &        0.004     &   -16.646  &         0.000        &       -0.071    &       -0.056     \\\\\n\\textbf{contig}              &      -0.5377  &        0.008     &   -67.567  &         0.000        &       -0.553    &       -0.522     \\\\\n\\textbf{comlang\\_off}        &       0.0163  &        0.003     &     4.752  &         0.000        &        0.010    &        0.023     \\\\\n\\textbf{colony}              &       0.2687  &        0.009     &    31.413  &         0.000        &        0.252    &        0.286     \\\\\n\\textbf{smctry}              &      -0.3649  &        0.012     &   -31.280  &         0.000        &       -0.388    &       -0.342     \\\\\n\\textbf{distw}               &      -0.6141  &        0.001     &  -555.074  &         0.000        &       -0.616    &       -0.612     \\\\\n\\bottomrule\n\\end{tabular}\n%\\caption{Generalized Linear Model Regression Results}\n\\end{center}"
     },
     "execution_count": 29,
     "metadata": {},
     "output_type": "execute_result"
    }
   ],
   "execution_count": 29
  },
  {
   "cell_type": "code",
   "id": "553c94212eb5273c",
   "metadata": {
    "ExecuteTime": {
     "end_time": "2025-06-28T09:52:26.393007Z",
     "start_time": "2025-06-22T13:51:00.805659Z"
    }
   },
   "source": [
    "betas = results.params\n",
    "betas"
   ],
   "outputs": [
    {
     "data": {
      "text/plain": [
       "GDP_reporter_lag1   -0.001491\n",
       "GDP_reporter_lag2    0.117420\n",
       "GDP_reporter_lag3   -0.017066\n",
       "GDP_reporter_lag4    0.142482\n",
       "GDP_reporter_lag5   -0.029060\n",
       "GDP_partner_lag1    -0.041441\n",
       "GDP_partner_lag3     0.079912\n",
       "GDP_partner_lag4     0.087227\n",
       "GDP_partner_lag5    -0.067219\n",
       "sanction_lag1       -0.024054\n",
       "sanction_lag2       -0.009183\n",
       "sanction_lag3       -0.063329\n",
       "contig              -0.537657\n",
       "comlang_off          0.016255\n",
       "colony               0.268738\n",
       "smctry              -0.364904\n",
       "distw               -0.614142\n",
       "dtype: float64"
      ]
     },
     "execution_count": 30,
     "metadata": {},
     "output_type": "execute_result"
    }
   ],
   "execution_count": 30
  },
  {
   "cell_type": "code",
   "id": "749d850cb40936eb",
   "metadata": {
    "ExecuteTime": {
     "end_time": "2025-06-28T09:52:26.393730Z",
     "start_time": "2025-06-22T13:51:00.839003Z"
    }
   },
   "source": [
    "plt.figure(figsize=(8, 5))\n",
    "plt.plot(results_threshold[\"n_columns\"], results_threshold[\"errors\"])\n",
    "plt.xlabel(\"Number of columns selected\")\n",
    "plt.ylabel(\"RMSE\")\n",
    "plt.title(\"Model performance vs sparsity\")\n",
    "plt.grid()\n",
    "plt.show()"
   ],
   "outputs": [
    {
     "data": {
      "text/plain": [
       "<Figure size 800x500 with 1 Axes>"
      ],
      "image/png": "[encoded data removed]"
     },
     "metadata": {},
     "output_type": "display_data"
    }
   ],
   "execution_count": 31
  },
  {
   "cell_type": "code",
   "id": "e847568dcd919b61",
   "metadata": {
    "ExecuteTime": {
     "end_time": "2025-06-28T09:52:26.394056Z",
     "start_time": "2025-06-22T13:51:01.038504Z"
    }
   },
   "source": [
    "betas = gme_model.results_dict[\"all\"].params\n",
    "\n",
    "for col in best_columns:\n",
    "  test_df.loc[:, col] = pd.to_numeric(test_df[col], errors=\"coerce\")\n",
    "test_df = test_df.dropna(subset=best_columns)\n",
    "model_columns = betas.index.tolist()"
   ],
   "outputs": [],
   "execution_count": 32
  },
  {
   "cell_type": "code",
   "id": "c8ae71291af0a649",
   "metadata": {
    "ExecuteTime": {
     "end_time": "2025-06-28T09:52:26.394302Z",
     "start_time": "2025-06-22T13:51:03.042501Z"
    }
   },
   "source": [
    "missing_cols = [col for col in model_columns if col not in test_df.columns]\n",
    "if missing_cols:\n",
    "  print(f\"Warning: The following columns are missing in test_df: {missing_cols}\")\n",
    "  for col in missing_cols:\n",
    "    test_df[col] = 0.0"
   ],
   "outputs": [],
   "execution_count": 33
  },
  {
   "cell_type": "code",
   "id": "41fc0aa2e7964f58",
   "metadata": {
    "ExecuteTime": {
     "end_time": "2025-06-28T09:52:26.394508Z",
     "start_time": "2025-06-22T13:51:03.107177Z"
    }
   },
   "source": [
    "X_test = test_df[model_columns].values\n",
    "beta_values = betas[model_columns].values\n",
    "linear_combination = X_test @ beta_values\n",
    "test_df[\"EXPORT_hat\"] = np.exp(linear_combination)"
   ],
   "outputs": [],
   "execution_count": 34
  },
  {
   "cell_type": "code",
   "id": "84d4bad2db4b6db5",
   "metadata": {
    "ExecuteTime": {
     "end_time": "2025-06-28T09:52:26.394716Z",
     "start_time": "2025-06-22T13:51:03.137564Z"
    }
   },
   "source": [
    "y_true = test_df[\"EXPORT\"].values\n",
    "y_pred = test_df[\"EXPORT_hat\"].values\n",
    "\n",
    "print(f\"RMSE: {tu.rmse(y_true, y_pred):.4f}\")\n",
    "print(f\"MAE: {tu.mae(y_true, y_pred):.4f}\")\n",
    "print(f\"RMAE: {tu.rmae(y_true, y_pred):.4f}\")\n",
    "print(f\"Pseudo R²: {tu.pseudo_r2(y_true, y_pred):.4f}\")\n",
    "print(f\"Within R²: {tu.within_r2(y_true, y_pred, test_df['dyad_id'].values):.4f}\")"
   ],
   "outputs": [
    {
     "name": "stdout",
     "output_type": "stream",
     "text": [
      "RMSE: 3.8394\n",
      "MAE: 3.0154\n",
      "RMAE: 0.8388\n",
      "Pseudo R²: 0.3589\n",
      "Within R²: -1.2297\n"
     ]
    }
   ],
   "execution_count": 35
  }
 ],
 "metadata": {
  "kernelspec": {
   "display_name": "Python 3 (ipykernel)",
   "language": "python",
   "name": "python3"
  },
  "language_info": {
   "codemirror_mode": {
    "name": "ipython",
    "version": 3
   },
   "file_extension": ".py",
   "mimetype": "text/x-python",
   "name": "python",
   "nbconvert_exporter": "python",
   "pygments_lexer": "ipython3",
   "version": "3.13.2"
  }
 },
 "nbformat": 4,
 "nbformat_minor": 5
}
