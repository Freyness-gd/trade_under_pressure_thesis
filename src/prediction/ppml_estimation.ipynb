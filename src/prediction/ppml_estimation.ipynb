{
 "cells": [
  {
   "cell_type": "markdown",
   "id": "cb770601c2007551",
   "metadata": {},
   "source": [
    "# Gravity Model PPML Estimation"
   ]
  },
  {
   "cell_type": "markdown",
   "id": "18ac266753da3055",
   "metadata": {},
   "source": [
    "## Formalization of the gravity model equation\n",
    "### with origin-destination (importer-exporter) fixed effects and lagged independent variables\n",
    "\n",
    "\\begin{equation}\n",
    "\\begin{split}\n",
    "EXPORT_{ij,t} =\\; &\\exp\\Bigl[\\hat{\\alpha}_{ij}\n",
    "+ \\sum_{k=1}^5 \\hat{\\beta}_{1k}\\,GDP_{i,t-k}\n",
    "+ \\sum_{l=1}^5 \\hat{\\beta}_{2l}\\,GDP_{j,t-l} \\\\\n",
    "&\\quad\n",
    "+ \\sum_{m=1}^5 \\hat{\\beta}_{3m}\\,SANCT_{ij,t-m}\\Bigr]\n",
    "\\times \\epsilon_{ij,t}\n",
    "\\end{split}\n",
    "\\end{equation}\n",
    "\n",
    "Where:\n",
    "- $\\hat\\alpha_{ij}$ - time-invariant fixed effects\n",
    "- $GDP_{i,t}$ - size of origin country $i$ at time $t$\n",
    "- $GDP_{j,t}$ - size of destination country $j$ at time $t$\n",
    "- $SANCT_{ij,t}$ - unilateral sanction relationship $i \\rightarrow j$ at time $t$\n",
    "- $\\hat\\beta_{1k}$, $\\hat\\beta_{2l}$, $\\hat\\beta_{3m}$ - estimated coefficients for the respective lagged variables\n",
    "- $\\epsilon_{ij,t}$ - error term\n"
   ]
  },
  {
   "cell_type": "code",
   "id": "44c5bd96ca9f1b48",
   "metadata": {
    "ExecuteTime": {
     "end_time": "2025-06-28T10:03:12.914740Z",
     "start_time": "2025-06-28T10:03:12.912816Z"
    }
   },
   "source": [
    "import gme\n",
    "import matplotlib.pyplot as plt\n",
    "import numpy as np\n",
    "import pandas as pd\n",
    "from celer import Lasso, LassoCV\n",
    "from pandas import DataFrame\n",
    "from scipy import sparse\n",
    "from sklearn.model_selection import GroupShuffleSplit\n",
    "\n",
    "import thesis_utils as tu"
   ],
   "outputs": [],
   "execution_count": 103
  },
  {
   "cell_type": "code",
   "id": "aeb14e9bd6f7e41",
   "metadata": {
    "ExecuteTime": {
     "end_time": "2025-06-28T10:03:12.937127Z",
     "start_time": "2025-06-28T10:03:12.935475Z"
    }
   },
   "source": [
    "# Config for saving outputs\n",
    "SAVE_ENABLED = True\n",
    "SERIAL_NUMBER = \"NOT_SET\"\n",
    "VERBOSE = 0\n",
    "\n",
    "# Model parameters\n",
    "N_LAGS = 5\n",
    "N_DYADS = 5000\n",
    "MAX_ITERATIONS = 5000\n",
    "SUBSAMPLE_ENABLED = False\n",
    "\n",
    "# Train parameters\n",
    "TARGET = \"EXPORT\"\n",
    "RANDOM_SEED = 16\n",
    "\n",
    "SANCTION_COLS = [\"arms\", \"military\", \"trade\", \"travel\", \"other\"]"
   ],
   "outputs": [],
   "execution_count": 104
  },
  {
   "cell_type": "code",
   "id": "9c7e84773570b343",
   "metadata": {
    "ExecuteTime": {
     "end_time": "2025-06-28T10:03:13.207121Z",
     "start_time": "2025-06-28T10:03:12.939327Z"
    }
   },
   "source": [
    "processed = pd.read_parquet(path=\"../../data/model/processed.parquet\", engine=\"fastparquet\")\n",
    "df: DataFrame = processed.copy(deep=True)"
   ],
   "outputs": [],
   "execution_count": 105
  },
  {
   "cell_type": "code",
   "id": "d0d5accc73f50b2f",
   "metadata": {
    "ExecuteTime": {
     "end_time": "2025-06-28T10:03:13.488666Z",
     "start_time": "2025-06-28T10:03:13.221357Z"
    }
   },
   "source": [
    "# Sort data by Report + Partner + Year\n",
    "df[\"dyad_id\"] = df[\"ISO3_reporter\"] + \"_\" + df[\"ISO3_partner\"]\n",
    "df = df.sort_values(by=[\"dyad_id\", \"Year\"]).reset_index(drop=True)"
   ],
   "outputs": [],
   "execution_count": 106
  },
  {
   "cell_type": "code",
   "id": "ec47950264a5027a",
   "metadata": {
    "ExecuteTime": {
     "end_time": "2025-06-28T10:03:13.598356Z",
     "start_time": "2025-06-28T10:03:13.504136Z"
    }
   },
   "source": [
    "if SUBSAMPLE_ENABLED:\n",
    "  dyad_subsample = pd.Series(df[\"dyad_id\"].unique()).sample(n=N_DYADS, random_state=RANDOM_SEED, replace=False)\n",
    "  df = df[df[\"dyad_id\"].isin(dyad_subsample)]\n",
    "print(df[\"dyad_id\"].nunique())"
   ],
   "outputs": [
    {
     "name": "stdout",
     "output_type": "stream",
     "text": [
      "5000\n"
     ]
    }
   ],
   "execution_count": 107
  },
  {
   "cell_type": "code",
   "id": "e07f246e64a4440a",
   "metadata": {
    "ExecuteTime": {
     "end_time": "2025-06-28T10:03:13.689740Z",
     "start_time": "2025-06-28T10:03:13.676592Z"
    }
   },
   "source": [
    "df[\"GDP_reporter\"] = np.log1p(df[\"GDP_reporter\"]).astype(float)\n",
    "df[\"GDP_partner\"] = np.log1p(df[\"GDP_partner\"]).astype(float)\n",
    "df[\"EXPORT\"] = np.log1p(df[\"EXPORT\"])\n",
    "df[\"sanction\"] = (df[SANCTION_COLS]\n",
    "                  .sum(axis=1)).astype(int)\n",
    "df[\"distw\"] = np.log1p(df[\"distw\"]).astype(float)"
   ],
   "outputs": [],
   "execution_count": 108
  },
  {
   "cell_type": "code",
   "id": "96b1c4ad31c42a0e",
   "metadata": {
    "ExecuteTime": {
     "end_time": "2025-06-28T10:03:13.738315Z",
     "start_time": "2025-06-28T10:03:13.706458Z"
    }
   },
   "source": [
    "# Coerce numerical values\n",
    "num_cols = [\"distw\", \"GDP_reporter\", \"GDP_partner\", \"sanction\", \"contig\",\n",
    "            \"comlang_off\", \"colony\", \"smctry\", \"Year\", ]\n",
    "df[num_cols] = df[num_cols].apply(pd.to_numeric, errors=\"coerce\").astype(float)\n",
    "df = df.dropna(subset=num_cols)"
   ],
   "outputs": [],
   "execution_count": 109
  },
  {
   "cell_type": "code",
   "id": "4961608f7e2e3629",
   "metadata": {
    "ExecuteTime": {
     "end_time": "2025-06-28T10:03:13.761242Z",
     "start_time": "2025-06-28T10:03:13.759792Z"
    }
   },
   "source": [
    "lag_cols = [\"GDP_reporter\", \"GDP_partner\", \"sanction\"]\n",
    "invariant_cols = [\"contig\", \"comlang_off\", \"colony\", \"smctry\", \"distw\"]"
   ],
   "outputs": [],
   "execution_count": 110
  },
  {
   "cell_type": "code",
   "id": "34dc1bb044c0f60a",
   "metadata": {
    "ExecuteTime": {
     "end_time": "2025-06-28T10:03:13.938149Z",
     "start_time": "2025-06-28T10:03:13.780600Z"
    }
   },
   "source": [
    "for col in lag_cols:\n",
    "  for index in range(1, N_LAGS + 1):\n",
    "    df[f\"{col}_lag{index}\"] = df.groupby(\"dyad_id\")[col].shift(index)\n",
    "\n",
    "df = df.dropna()\n",
    "\n",
    "df[\"Year\"] = df[\"Year\"].astype(int)\n",
    "for col in [\"dyad_id\"]:\n",
    "  df[col] = pd.Categorical(df[col], categories=sorted(df[col].unique()))"
   ],
   "outputs": [],
   "execution_count": 111
  },
  {
   "cell_type": "code",
   "id": "c35312f6ff6973d7",
   "metadata": {
    "ExecuteTime": {
     "end_time": "2025-06-28T10:03:14.295885Z",
     "start_time": "2025-06-28T10:03:13.942214Z"
    }
   },
   "source": "df = tu.add_fixed_effects(df)",
   "outputs": [
    {
     "name": "stdout",
     "output_type": "stream",
     "text": [
      "Df Shape:  (150003, 45)\n",
      "Dummies Shape:  (150003, 4999)\n",
      "Final Df Shape:  (150003, 5044)\n"
     ]
    }
   ],
   "execution_count": 112
  },
  {
   "cell_type": "code",
   "id": "e39b4db5c994ae7f",
   "metadata": {
    "ExecuteTime": {
     "end_time": "2025-06-28T10:03:15.492597Z",
     "start_time": "2025-06-28T10:03:14.314725Z"
    }
   },
   "source": [
    "gss = GroupShuffleSplit(n_splits=1, test_size=0.2, random_state=RANDOM_SEED)\n",
    "\n",
    "train_df_idx, test_df_idx = next(gss.split(df, groups=df[\"dyad_id\"]))\n",
    "test_df = df.iloc[test_df_idx]\n",
    "train_df = df.iloc[train_df_idx]"
   ],
   "outputs": [],
   "execution_count": 113
  },
  {
   "cell_type": "code",
   "id": "b74290554d1c2777",
   "metadata": {
    "ExecuteTime": {
     "end_time": "2025-06-28T10:03:15.517910Z",
     "start_time": "2025-06-28T10:03:15.509690Z"
    }
   },
   "source": [
    "rhs_cols = [f\"{c}_lag{index}\" for c in lag_cols for index in range(1, N_LAGS + 1)]\n",
    "fe_columns = [col for col in train_df.columns if col.startswith(\"fe_dyad_id_\")]\n",
    "convert_to_float_columns = rhs_cols + invariant_cols\n",
    "train_df.loc[:, convert_to_float_columns] = train_df.loc[:, convert_to_float_columns].astype(\n",
    "  \"float32\",\n",
    "  copy=False\n",
    ")\n",
    "rhs_cols = rhs_cols + invariant_cols + fe_columns\n",
    "\n",
    "print(\"Fixed effects columns:\", fe_columns[:10])\n",
    "print(\"Lagged columns:\", rhs_cols[:15])"
   ],
   "outputs": [
    {
     "name": "stdout",
     "output_type": "stream",
     "text": [
      "Fixed effects columns: ['fe_dyad_id_AGO_ARM', 'fe_dyad_id_AGO_BEL', 'fe_dyad_id_AGO_BGD', 'fe_dyad_id_AGO_CMR', 'fe_dyad_id_AGO_CRI', 'fe_dyad_id_AGO_DJI', 'fe_dyad_id_AGO_GRD', 'fe_dyad_id_AGO_IDN', 'fe_dyad_id_AGO_IRN', 'fe_dyad_id_AGO_ISL']\n",
      "Lagged columns: ['GDP_reporter_lag1', 'GDP_reporter_lag2', 'GDP_reporter_lag3', 'GDP_reporter_lag4', 'GDP_reporter_lag5', 'GDP_partner_lag1', 'GDP_partner_lag2', 'GDP_partner_lag3', 'GDP_partner_lag4', 'GDP_partner_lag5', 'sanction_lag1', 'sanction_lag2', 'sanction_lag3', 'sanction_lag4', 'sanction_lag5']\n"
     ]
    }
   ],
   "execution_count": 114
  },
  {
   "cell_type": "code",
   "id": "3dee58d52ceffbf9",
   "metadata": {
    "ExecuteTime": {
     "end_time": "2025-06-28T10:03:15.536420Z",
     "start_time": "2025-06-28T10:03:15.533359Z"
    }
   },
   "source": [
    "# Prepare data\n",
    "print(\"Selecting columns based on rhs_cols...\")\n",
    "col_idx = [train_df.columns.get_loc(c) for c in rhs_cols]\n",
    "print(\"Finished extracting raw features.\")"
   ],
   "outputs": [
    {
     "name": "stdout",
     "output_type": "stream",
     "text": [
      "Selecting columns based on rhs_cols...\n",
      "Finished extracting raw features.\n"
     ]
    }
   ],
   "execution_count": 115
  },
  {
   "cell_type": "code",
   "id": "b63df77ad158fd48",
   "metadata": {
    "ExecuteTime": {
     "end_time": "2025-06-28T10:03:18.965592Z",
     "start_time": "2025-06-28T10:03:15.553331Z"
    }
   },
   "source": [
    "print(\"Extracting features from train_df...\", flush=True)\n",
    "X = train_df.iloc[:, col_idx].to_numpy(dtype=float, copy=False)\n",
    "print(\"Finished extracting features.\")\n",
    "print(\"Creating sparse matrix from features...\")\n",
    "X = sparse.csr_matrix(X, dtype=float)\n",
    "print(\"Finished creating sparse matrix from features.\")"
   ],
   "outputs": [
    {
     "name": "stdout",
     "output_type": "stream",
     "text": [
      "Extracting features from train_df...\n",
      "Finished extracting features.\n",
      "Creating sparse matrix from features...\n",
      "Finished creating sparse matrix from features.\n"
     ]
    }
   ],
   "execution_count": 116
  },
  {
   "cell_type": "code",
   "id": "bf8ee25fcab6533d",
   "metadata": {
    "ExecuteTime": {
     "end_time": "2025-06-28T10:03:25.830863Z",
     "start_time": "2025-06-28T10:03:25.828427Z"
    }
   },
   "source": [
    "y = train_df[\"EXPORT\"].to_numpy(dtype=np.float32)\n",
    "print(\"Finished extracting target variable.\")"
   ],
   "outputs": [
    {
     "name": "stdout",
     "output_type": "stream",
     "text": [
      "Finished extracting target variable.\n"
     ]
    }
   ],
   "execution_count": 117
  },
  {
   "cell_type": "code",
   "id": "9aad16cfa9bf1869",
   "metadata": {
    "ExecuteTime": {
     "end_time": "2025-06-28T10:03:40.220451Z",
     "start_time": "2025-06-28T10:03:25.851542Z"
    }
   },
   "source": [
    "# 1) Cross-validated Lasso to pick alpha\n",
    "lasso_cv = LassoCV(cv=5, max_iter=MAX_ITERATIONS, tol=1e-4,\n",
    "                   verbose=VERBOSE, n_jobs=-1)\n",
    "print(\"Fitting celer.LassoCV (5-fold, all CPUs)…\")\n",
    "lasso_cv.fit(X, y)\n",
    "cv_coef = lasso_cv.coef_"
   ],
   "outputs": [
    {
     "name": "stdout",
     "output_type": "stream",
     "text": [
      "Fitting celer.LassoCV (5-fold, all CPUs)…\n"
     ]
    }
   ],
   "execution_count": 118
  },
  {
   "metadata": {
    "ExecuteTime": {
     "end_time": "2025-06-28T10:03:40.238185Z",
     "start_time": "2025-06-28T10:03:40.236576Z"
    }
   },
   "cell_type": "code",
   "source": [
    "# Scale down the chosen alpha if desired\n",
    "best_alpha = lasso_cv.alpha_\n",
    "print(f\"Selected alpha from CV: {best_alpha:.3e}\")"
   ],
   "id": "46ec8f64869737a",
   "outputs": [
    {
     "name": "stdout",
     "output_type": "stream",
     "text": [
      "Selected alpha from CV: 7.709e-03\n"
     ]
    }
   ],
   "execution_count": 119
  },
  {
   "cell_type": "code",
   "id": "96d4c5c2199ac5fa",
   "metadata": {
    "ExecuteTime": {
     "end_time": "2025-06-28T10:03:40.948998Z",
     "start_time": "2025-06-28T10:03:40.253728Z"
    }
   },
   "source": [
    "# 2) Build threshold grid from non-zero CV coefficients\n",
    "nz = np.abs(cv_coef[cv_coef != 0])\n",
    "if nz.size == 0:\n",
    "  print(\"Warning: no non-zero coefficients found! Using fallback.\")\n",
    "  nz = np.array([1e-5])\n",
    "min_c, max_c = nz.min(), nz.max()\n",
    "threshold_grid = np.logspace(np.log10(min_c / 10),\n",
    "                             np.log10(max_c / 10), 10)\n",
    "print(\"Threshold grid:\", threshold_grid)\n",
    "\n",
    "# 3) Fit final Lasso at best_alpha\n",
    "print(\"Fitting final celer.Lasso…\")\n",
    "lasso_full = Lasso(alpha=best_alpha, max_iter=MAX_ITERATIONS,\n",
    "                   tol=1e-4,\n",
    "                   verbose=VERBOSE)\n",
    "lasso_full.fit(X, y)\n",
    "full_coef = lasso_full.coef_"
   ],
   "outputs": [
    {
     "name": "stdout",
     "output_type": "stream",
     "text": [
      "Threshold grid: [0.00274779 0.00423239 0.00651909 0.01004127 0.01546644 0.02382275\n",
      " 0.03669387 0.05651908 0.08705559 0.13409056]\n",
      "Fitting final celer.Lasso…\n"
     ]
    }
   ],
   "execution_count": 120
  },
  {
   "cell_type": "code",
   "id": "78b0dfbc82f4d2de",
   "metadata": {
    "ExecuteTime": {
     "end_time": "2025-06-28T10:03:44.579342Z",
     "start_time": "2025-06-28T10:03:40.965908Z"
    }
   },
   "source": [
    "# 4) Loop over thresholds, refit on selected features, and compute RMSE\n",
    "results_threshold = {\n",
    "  \"thresholds\": [],\n",
    "  \"errors\": [],\n",
    "  \"n_columns\": [],\n",
    "  \"selected_columns\": []\n",
    "}\n",
    "\n",
    "for thr in threshold_grid:\n",
    "  print(f\"\\nThreshold {thr:.5f}\")\n",
    "  idx = np.where(np.abs(full_coef) >= thr)[0]\n",
    "  cols = [rhs_cols[i] for i in idx]\n",
    "  print(f\"  -> {len(cols)} features selected\")\n",
    "\n",
    "  Xr = X[:, idx]\n",
    "  lasso_sub = Lasso(alpha=best_alpha, max_iter=MAX_ITERATIONS,\n",
    "                    tol=1e-4, verbose=VERBOSE)\n",
    "  lasso_sub.fit(Xr, y)\n",
    "  y_pred = lasso_sub.predict(Xr)\n",
    "  err = tu.rmse(y, y_pred)\n",
    "\n",
    "  results_threshold[\"thresholds\"].append(thr)\n",
    "  results_threshold[\"errors\"].append(err)\n",
    "  results_threshold[\"n_columns\"].append(len(cols))\n",
    "  results_threshold[\"selected_columns\"].append(cols)"
   ],
   "outputs": [
    {
     "name": "stdout",
     "output_type": "stream",
     "text": [
      "\n",
      "Threshold 0.00275\n",
      "  -> 13 features selected\n",
      "\n",
      "Threshold 0.00423\n",
      "  -> 13 features selected\n",
      "\n",
      "Threshold 0.00652\n",
      "  -> 13 features selected\n",
      "\n",
      "Threshold 0.01004\n",
      "  -> 13 features selected\n",
      "\n",
      "Threshold 0.01547\n",
      "  -> 13 features selected\n",
      "\n",
      "Threshold 0.02382\n",
      "  -> 13 features selected\n",
      "\n",
      "Threshold 0.03669\n",
      "  -> 11 features selected\n",
      "\n",
      "Threshold 0.05652\n",
      "  -> 10 features selected\n",
      "\n",
      "Threshold 0.08706\n",
      "  -> 9 features selected\n",
      "\n",
      "Threshold 0.13409\n",
      "  -> 7 features selected\n"
     ]
    }
   ],
   "execution_count": 121
  },
  {
   "cell_type": "code",
   "id": "b6c67814d3c0b935",
   "metadata": {
    "ExecuteTime": {
     "end_time": "2025-06-28T10:03:44.597632Z",
     "start_time": "2025-06-28T10:03:44.595720Z"
    }
   },
   "source": [
    "best_idx = np.argmin(results_threshold[\"errors\"])\n",
    "\n",
    "best_rmse = results_threshold[\"errors\"][best_idx]\n",
    "best_columns = results_threshold[\"selected_columns\"][best_idx]\n",
    "\n",
    "print(f\"Best RMSE: {best_rmse}\")\n",
    "print(f\"Best columns ({len(best_columns)}):\")\n",
    "print(best_columns)"
   ],
   "outputs": [
    {
     "name": "stdout",
     "output_type": "stream",
     "text": [
      "Best RMSE: 3.2704871956053063\n",
      "Best columns (10):\n",
      "['GDP_reporter_lag1', 'GDP_reporter_lag5', 'GDP_partner_lag1', 'sanction_lag1', 'sanction_lag5', 'contig', 'comlang_off', 'colony', 'smctry', 'distw']\n"
     ]
    }
   ],
   "execution_count": 122
  },
  {
   "cell_type": "code",
   "id": "3de76e1c2d2db024",
   "metadata": {
    "ExecuteTime": {
     "end_time": "2025-06-28T10:03:44.619301Z",
     "start_time": "2025-06-28T10:03:44.612712Z"
    }
   },
   "source": [
    "train_df.loc[:, 'ISO3_reporter'] = pd.Series(train_df['ISO3_reporter'].values, index=train_df.index).astype(str)\n",
    "train_df.loc[:, 'ISO3_partner'] = pd.Series(train_df['ISO3_partner'].values, index=train_df.index).astype(str)\n",
    "train_df.loc[:, 'Year'] = pd.to_numeric(train_df['Year'], errors='coerce')"
   ],
   "outputs": [],
   "execution_count": 123
  },
  {
   "cell_type": "code",
   "id": "256b826aec5db043",
   "metadata": {
    "ExecuteTime": {
     "end_time": "2025-06-28T10:03:44.643555Z",
     "start_time": "2025-06-28T10:03:44.634458Z"
    }
   },
   "source": [
    "for col in best_columns:\n",
    "  train_df.loc[:, col] = pd.to_numeric(train_df[col], errors='coerce', downcast=\"float\")"
   ],
   "outputs": [],
   "execution_count": 124
  },
  {
   "cell_type": "code",
   "id": "cbb5bc251d71ddcc",
   "metadata": {
    "ExecuteTime": {
     "end_time": "2025-06-28T10:03:44.713224Z",
     "start_time": "2025-06-28T10:03:44.658386Z"
    }
   },
   "source": [
    "# Create estimation object\n",
    "gme_data = gme.EstimationData(\n",
    "  data_frame=train_df,\n",
    "  imp_var_name=\"ISO3_reporter\",\n",
    "  exp_var_name=\"ISO3_partner\",\n",
    "  trade_var_name=TARGET,\n",
    "  year_var_name=\"Year\"\n",
    ")\n",
    "gme_data"
   ],
   "outputs": [
    {
     "data": {
      "text/plain": [
       "number of countries: 184 \n",
       "number of exporters: 184 \n",
       "number of importers: 184 \n",
       "number of years: 32 \n",
       "number of sectors: not_applicable \n",
       "dimensions: (120003, 5044)"
      ]
     },
     "execution_count": 125,
     "metadata": {},
     "output_type": "execute_result"
    }
   ],
   "execution_count": 125
  },
  {
   "cell_type": "code",
   "id": "edf85329a8236b60",
   "metadata": {
    "ExecuteTime": {
     "end_time": "2025-06-28T10:03:44.731789Z",
     "start_time": "2025-06-28T10:03:44.728835Z"
    }
   },
   "source": [
    "# Create GME model\n",
    "gme_model = gme.EstimationModel(\n",
    "  estimation_data=gme_data,\n",
    "  lhs_var=\"EXPORT\",\n",
    "  rhs_var=best_columns,\n",
    "  drop_intratrade=True\n",
    ")"
   ],
   "outputs": [],
   "execution_count": 126
  },
  {
   "cell_type": "code",
   "id": "3f3616ba690fe4e3",
   "metadata": {
    "ExecuteTime": {
     "end_time": "2025-06-28T10:03:44.910226Z",
     "start_time": "2025-06-28T10:03:44.747246Z"
    }
   },
   "source": [
    "# Conduct PPML estimation of coefficients\n",
    "estimates = gme_model.estimate()"
   ],
   "outputs": [
    {
     "name": "stdout",
     "output_type": "stream",
     "text": [
      "Estimation began at 12:03 PM  on Jun 28, 2025\n",
      "Omitted Regressors: []\n",
      "Estimation completed at 12:03 PM  on Jun 28, 2025\n"
     ]
    }
   ],
   "execution_count": 127
  },
  {
   "cell_type": "code",
   "id": "78f1b6270ca65dbf",
   "metadata": {
    "ExecuteTime": {
     "end_time": "2025-06-28T10:03:44.928733Z",
     "start_time": "2025-06-28T10:03:44.926097Z"
    }
   },
   "source": [
    "gme_model.ppml_diagnostics"
   ],
   "outputs": [
    {
     "data": {
      "text/plain": [
       "Overfit Warning                            No\n",
       "Number of Regressors Dropped                0\n",
       "Regressors with Zero Trade                 []\n",
       "Regressors from User                       []\n",
       "Regressors Perfectly Collinear             []\n",
       "Completion Time                   0.0 minutes\n",
       "dtype: object"
      ]
     },
     "execution_count": 128,
     "metadata": {},
     "output_type": "execute_result"
    }
   ],
   "execution_count": 128
  },
  {
   "cell_type": "code",
   "id": "8e6578db95427f51",
   "metadata": {
    "ExecuteTime": {
     "end_time": "2025-06-28T10:03:44.976115Z",
     "start_time": "2025-06-28T10:03:44.958163Z"
    }
   },
   "source": [
    "# estimates.keys()\n",
    "results = estimates['all']\n",
    "results.summary()"
   ],
   "outputs": [
    {
     "data": {
      "text/plain": [
       "<class 'statsmodels.iolib.summary.Summary'>\n",
       "\"\"\"\n",
       "                 Generalized Linear Model Regression Results                  \n",
       "==============================================================================\n",
       "Dep. Variable:                 EXPORT   No. Observations:               120003\n",
       "Model:                            GLM   Df Residuals:                   119993\n",
       "Model Family:                 Poisson   Df Model:                            9\n",
       "Link Function:                    Log   Scale:                          1.0000\n",
       "Method:                          IRLS   Log-Likelihood:            -3.6592e+05\n",
       "Date:                Sat, 28 Jun 2025   Deviance:                   5.0438e+05\n",
       "Time:                        12:03:44   Pearson chi2:                 4.16e+05\n",
       "No. Iterations:                     5   Pseudo R-squ. (CS):             0.9235\n",
       "Covariance Type:                  HC1                                         \n",
       "=====================================================================================\n",
       "                        coef    std err          z      P>|z|      [0.025      0.975]\n",
       "-------------------------------------------------------------------------------------\n",
       "GDP_reporter_lag1     0.2396      0.007     35.169      0.000       0.226       0.253\n",
       "GDP_reporter_lag5    -0.0392      0.007     -5.787      0.000      -0.052      -0.026\n",
       "GDP_partner_lag1      0.0684      0.001     73.418      0.000       0.067       0.070\n",
       "sanction_lag1        -0.0605      0.005    -13.150      0.000      -0.070      -0.052\n",
       "sanction_lag5        -0.0266      0.005     -5.705      0.000      -0.036      -0.017\n",
       "contig               -0.5295      0.015    -34.198      0.000      -0.560      -0.499\n",
       "comlang_off           0.0689      0.007      9.188      0.000       0.054       0.084\n",
       "colony                0.2138      0.017     12.522      0.000       0.180       0.247\n",
       "smctry               -0.2487      0.023    -10.842      0.000      -0.294      -0.204\n",
       "distw                -0.5920      0.003   -229.093      0.000      -0.597      -0.587\n",
       "=====================================================================================\n",
       "\"\"\""
      ],
      "text/html": [
       "<table class=\"simpletable\">\n",
       "<caption>Generalized Linear Model Regression Results</caption>\n",
       "<tr>\n",
       "  <th>Dep. Variable:</th>        <td>EXPORT</td>      <th>  No. Observations:  </th>   <td>120003</td>   \n",
       "</tr>\n",
       "<tr>\n",
       "  <th>Model:</th>                  <td>GLM</td>       <th>  Df Residuals:      </th>   <td>119993</td>   \n",
       "</tr>\n",
       "<tr>\n",
       "  <th>Model Family:</th>         <td>Poisson</td>     <th>  Df Model:          </th>   <td>     9</td>   \n",
       "</tr>\n",
       "<tr>\n",
       "  <th>Link Function:</th>          <td>Log</td>       <th>  Scale:             </th>  <td>  1.0000</td>  \n",
       "</tr>\n",
       "<tr>\n",
       "  <th>Method:</th>                <td>IRLS</td>       <th>  Log-Likelihood:    </th> <td>-3.6592e+05</td>\n",
       "</tr>\n",
       "<tr>\n",
       "  <th>Date:</th>            <td>Sat, 28 Jun 2025</td> <th>  Deviance:          </th> <td>5.0438e+05</td> \n",
       "</tr>\n",
       "<tr>\n",
       "  <th>Time:</th>                <td>12:03:44</td>     <th>  Pearson chi2:      </th>  <td>4.16e+05</td>  \n",
       "</tr>\n",
       "<tr>\n",
       "  <th>No. Iterations:</th>          <td>5</td>        <th>  Pseudo R-squ. (CS):</th>   <td>0.9235</td>   \n",
       "</tr>\n",
       "<tr>\n",
       "  <th>Covariance Type:</th>        <td>HC1</td>       <th>                     </th>      <td> </td>     \n",
       "</tr>\n",
       "</table>\n",
       "<table class=\"simpletable\">\n",
       "<tr>\n",
       "          <td></td>             <th>coef</th>     <th>std err</th>      <th>z</th>      <th>P>|z|</th>  <th>[0.025</th>    <th>0.975]</th>  \n",
       "</tr>\n",
       "<tr>\n",
       "  <th>GDP_reporter_lag1</th> <td>    0.2396</td> <td>    0.007</td> <td>   35.169</td> <td> 0.000</td> <td>    0.226</td> <td>    0.253</td>\n",
       "</tr>\n",
       "<tr>\n",
       "  <th>GDP_reporter_lag5</th> <td>   -0.0392</td> <td>    0.007</td> <td>   -5.787</td> <td> 0.000</td> <td>   -0.052</td> <td>   -0.026</td>\n",
       "</tr>\n",
       "<tr>\n",
       "  <th>GDP_partner_lag1</th>  <td>    0.0684</td> <td>    0.001</td> <td>   73.418</td> <td> 0.000</td> <td>    0.067</td> <td>    0.070</td>\n",
       "</tr>\n",
       "<tr>\n",
       "  <th>sanction_lag1</th>     <td>   -0.0605</td> <td>    0.005</td> <td>  -13.150</td> <td> 0.000</td> <td>   -0.070</td> <td>   -0.052</td>\n",
       "</tr>\n",
       "<tr>\n",
       "  <th>sanction_lag5</th>     <td>   -0.0266</td> <td>    0.005</td> <td>   -5.705</td> <td> 0.000</td> <td>   -0.036</td> <td>   -0.017</td>\n",
       "</tr>\n",
       "<tr>\n",
       "  <th>contig</th>            <td>   -0.5295</td> <td>    0.015</td> <td>  -34.198</td> <td> 0.000</td> <td>   -0.560</td> <td>   -0.499</td>\n",
       "</tr>\n",
       "<tr>\n",
       "  <th>comlang_off</th>       <td>    0.0689</td> <td>    0.007</td> <td>    9.188</td> <td> 0.000</td> <td>    0.054</td> <td>    0.084</td>\n",
       "</tr>\n",
       "<tr>\n",
       "  <th>colony</th>            <td>    0.2138</td> <td>    0.017</td> <td>   12.522</td> <td> 0.000</td> <td>    0.180</td> <td>    0.247</td>\n",
       "</tr>\n",
       "<tr>\n",
       "  <th>smctry</th>            <td>   -0.2487</td> <td>    0.023</td> <td>  -10.842</td> <td> 0.000</td> <td>   -0.294</td> <td>   -0.204</td>\n",
       "</tr>\n",
       "<tr>\n",
       "  <th>distw</th>             <td>   -0.5920</td> <td>    0.003</td> <td> -229.093</td> <td> 0.000</td> <td>   -0.597</td> <td>   -0.587</td>\n",
       "</tr>\n",
       "</table>"
      ],
      "text/latex": "\\begin{center}\n\\begin{tabular}{lclc}\n\\toprule\n\\textbf{Dep. Variable:}      &      EXPORT      & \\textbf{  No. Observations:  } &    120003    \\\\\n\\textbf{Model:}              &       GLM        & \\textbf{  Df Residuals:      } &    119993    \\\\\n\\textbf{Model Family:}       &     Poisson      & \\textbf{  Df Model:          } &         9    \\\\\n\\textbf{Link Function:}      &       Log        & \\textbf{  Scale:             } &     1.0000   \\\\\n\\textbf{Method:}             &       IRLS       & \\textbf{  Log-Likelihood:    } & -3.6592e+05  \\\\\n\\textbf{Date:}               & Sat, 28 Jun 2025 & \\textbf{  Deviance:          } &  5.0438e+05  \\\\\n\\textbf{Time:}               &     12:03:44     & \\textbf{  Pearson chi2:      } &   4.16e+05   \\\\\n\\textbf{No. Iterations:}     &        5         & \\textbf{  Pseudo R-squ. (CS):} &    0.9235    \\\\\n\\textbf{Covariance Type:}    &       HC1        & \\textbf{                     } &              \\\\\n\\bottomrule\n\\end{tabular}\n\\begin{tabular}{lcccccc}\n                             & \\textbf{coef} & \\textbf{std err} & \\textbf{z} & \\textbf{P$> |$z$|$} & \\textbf{[0.025} & \\textbf{0.975]}  \\\\\n\\midrule\n\\textbf{GDP\\_reporter\\_lag1} &       0.2396  &        0.007     &    35.169  &         0.000        &        0.226    &        0.253     \\\\\n\\textbf{GDP\\_reporter\\_lag5} &      -0.0392  &        0.007     &    -5.787  &         0.000        &       -0.052    &       -0.026     \\\\\n\\textbf{GDP\\_partner\\_lag1}  &       0.0684  &        0.001     &    73.418  &         0.000        &        0.067    &        0.070     \\\\\n\\textbf{sanction\\_lag1}      &      -0.0605  &        0.005     &   -13.150  &         0.000        &       -0.070    &       -0.052     \\\\\n\\textbf{sanction\\_lag5}      &      -0.0266  &        0.005     &    -5.705  &         0.000        &       -0.036    &       -0.017     \\\\\n\\textbf{contig}              &      -0.5295  &        0.015     &   -34.198  &         0.000        &       -0.560    &       -0.499     \\\\\n\\textbf{comlang\\_off}        &       0.0689  &        0.007     &     9.188  &         0.000        &        0.054    &        0.084     \\\\\n\\textbf{colony}              &       0.2138  &        0.017     &    12.522  &         0.000        &        0.180    &        0.247     \\\\\n\\textbf{smctry}              &      -0.2487  &        0.023     &   -10.842  &         0.000        &       -0.294    &       -0.204     \\\\\n\\textbf{distw}               &      -0.5920  &        0.003     &  -229.093  &         0.000        &       -0.597    &       -0.587     \\\\\n\\bottomrule\n\\end{tabular}\n%\\caption{Generalized Linear Model Regression Results}\n\\end{center}"
     },
     "execution_count": 129,
     "metadata": {},
     "output_type": "execute_result"
    }
   ],
   "execution_count": 129
  },
  {
   "cell_type": "code",
   "id": "553c94212eb5273c",
   "metadata": {
    "ExecuteTime": {
     "end_time": "2025-06-28T10:03:45.008689Z",
     "start_time": "2025-06-28T10:03:45.006321Z"
    }
   },
   "source": [
    "betas = results.params\n",
    "betas"
   ],
   "outputs": [
    {
     "data": {
      "text/plain": [
       "GDP_reporter_lag1    0.239575\n",
       "GDP_reporter_lag5   -0.039179\n",
       "GDP_partner_lag1     0.068365\n",
       "sanction_lag1       -0.060537\n",
       "sanction_lag5       -0.026559\n",
       "contig              -0.529506\n",
       "comlang_off          0.068879\n",
       "colony               0.213818\n",
       "smctry              -0.248730\n",
       "distw               -0.591994\n",
       "dtype: float64"
      ]
     },
     "execution_count": 130,
     "metadata": {},
     "output_type": "execute_result"
    }
   ],
   "execution_count": 130
  },
  {
   "cell_type": "code",
   "id": "749d850cb40936eb",
   "metadata": {
    "ExecuteTime": {
     "end_time": "2025-06-28T10:03:45.066684Z",
     "start_time": "2025-06-28T10:03:45.026022Z"
    }
   },
   "source": [
    "plt.figure(figsize=(8, 5))\n",
    "plt.plot(results_threshold[\"n_columns\"], results_threshold[\"errors\"])\n",
    "plt.xlabel(\"Number of columns selected\")\n",
    "plt.ylabel(\"RMSE\")\n",
    "plt.title(\"Model performance vs sparsity\")\n",
    "plt.grid()\n",
    "plt.show()"
   ],
   "outputs": [
    {
     "data": {
      "text/plain": [
       "<Figure size 800x500 with 1 Axes>"
      ],
      "image/png": "[encoded data removed]"
     },
     "metadata": {},
     "output_type": "display_data"
    }
   ],
   "execution_count": 131
  },
  {
   "cell_type": "code",
   "id": "e847568dcd919b61",
   "metadata": {
    "ExecuteTime": {
     "end_time": "2025-06-28T10:03:45.122037Z",
     "start_time": "2025-06-28T10:03:45.101189Z"
    }
   },
   "source": [
    "betas = gme_model.results_dict[\"all\"].params\n",
    "\n",
    "for col in best_columns:\n",
    "  test_df.loc[:, col] = pd.to_numeric(test_df[col], errors=\"coerce\")\n",
    "test_df = test_df.dropna(subset=best_columns)\n",
    "model_columns = betas.index.tolist()"
   ],
   "outputs": [],
   "execution_count": 132
  },
  {
   "cell_type": "code",
   "id": "c8ae71291af0a649",
   "metadata": {
    "ExecuteTime": {
     "end_time": "2025-06-28T10:03:45.157746Z",
     "start_time": "2025-06-28T10:03:45.155981Z"
    }
   },
   "source": [
    "missing_cols = [col for col in model_columns if col not in test_df.columns]\n",
    "if missing_cols:\n",
    "  print(f\"Warning: The following columns are missing in test_df: {missing_cols}\")\n",
    "  for col in missing_cols:\n",
    "    test_df[col] = 0.0"
   ],
   "outputs": [],
   "execution_count": 133
  },
  {
   "cell_type": "code",
   "id": "41fc0aa2e7964f58",
   "metadata": {
    "ExecuteTime": {
     "end_time": "2025-06-28T10:03:45.176449Z",
     "start_time": "2025-06-28T10:03:45.173632Z"
    }
   },
   "source": [
    "X_test = test_df[model_columns].values\n",
    "beta_values = betas[model_columns].values\n",
    "linear_combination = X_test @ beta_values\n",
    "test_df[\"EXPORT_hat\"] = np.exp(linear_combination)"
   ],
   "outputs": [],
   "execution_count": 134
  },
  {
   "cell_type": "code",
   "id": "84d4bad2db4b6db5",
   "metadata": {
    "ExecuteTime": {
     "end_time": "2025-06-28T10:03:45.197476Z",
     "start_time": "2025-06-28T10:03:45.192120Z"
    }
   },
   "source": [
    "y_true = test_df[\"EXPORT\"].values\n",
    "y_pred = test_df[\"EXPORT_hat\"].values\n",
    "\n",
    "print(f\"RMSE: {tu.rmse(y_true, y_pred):.4f}\")\n",
    "print(f\"MAE: {tu.mae(y_true, y_pred):.4f}\")\n",
    "print(f\"RMAE: {tu.rmae(y_true, y_pred):.4f}\")\n",
    "print(f\"Pseudo R²: {tu.pseudo_r2(y_true, y_pred):.4f}\")\n",
    "print(f\"Within R²: {tu.within_r2(y_true, y_pred, test_df['dyad_id'].values):.4f}\")"
   ],
   "outputs": [
    {
     "name": "stdout",
     "output_type": "stream",
     "text": [
      "RMSE: 3.8285\n",
      "MAE: 3.0210\n",
      "RMAE: 0.7669\n",
      "Pseudo R²: 0.3783\n",
      "Within R²: -2.2453\n"
     ]
    }
   ],
   "execution_count": 135
  },
  {
   "metadata": {
    "ExecuteTime": {
     "end_time": "2025-06-28T10:03:45.214596Z",
     "start_time": "2025-06-28T10:03:45.212700Z"
    }
   },
   "cell_type": "code",
   "source": [
    "# Save betas\n",
    "beta_df = pd.DataFrame(beta_values, index=model_columns, columns=[\"beta\"])\n",
    "beta_df.to_csv(\"../../models/ppml_beta_values.csv\")"
   ],
   "id": "3b83f7983557a87e",
   "outputs": [],
   "execution_count": 136
  }
 ],
 "metadata": {
  "kernelspec": {
   "display_name": "Python 3 (ipykernel)",
   "language": "python",
   "name": "python3"
  },
  "language_info": {
   "codemirror_mode": {
    "name": "ipython",
    "version": 3
   },
   "file_extension": ".py",
   "mimetype": "text/x-python",
   "name": "python",
   "nbconvert_exporter": "python",
   "pygments_lexer": "ipython3",
   "version": "3.13.2"
  }
 },
 "nbformat": 4,
 "nbformat_minor": 5
}
