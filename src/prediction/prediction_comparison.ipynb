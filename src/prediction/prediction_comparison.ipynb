{
 "cells": [
  {
   "metadata": {},
   "cell_type": "markdown",
   "source": "# Predicted vs Actual",
   "id": "58a91a60872943c3"
  },
  {
   "cell_type": "code",
   "id": "6562f5ed0064784d",
   "metadata": {
    "ExecuteTime": {
     "end_time": "2025-06-29T19:42:16.870838Z",
     "start_time": "2025-06-29T19:42:16.868814Z"
    }
   },
   "source": [
    "import matplotlib.pyplot as plt\n",
    "import numpy as np\n",
    "import pandas as pd\n",
    "import seaborn as sns\n",
    "import torch\n",
    "from pandas import DataFrame\n",
    "from sklearn.preprocessing import RobustScaler\n",
    "from torch.utils.data import DataLoader\n",
    "from tqdm import tqdm\n",
    "\n",
    "import thesis_utils.datastruc as tuds\n",
    "import thesis_utils.models as tum"
   ],
   "outputs": [],
   "execution_count": 67
  },
  {
   "metadata": {
    "ExecuteTime": {
     "end_time": "2025-06-29T19:42:16.877480Z",
     "start_time": "2025-06-29T19:42:16.872923Z"
    }
   },
   "cell_type": "code",
   "source": [
    "# Model parameters\n",
    "HORIZON = 1\n",
    "BATCH_SIZE = 128\n",
    "NUM_EPOCHS = 25\n",
    "HIDDEN_SIZE = 128\n",
    "N_LAYERS = 3\n",
    "DROPOUT = 0.3\n",
    "EMBEDDING_SIZE = 32\n",
    "\n",
    "# Train parameters\n",
    "TARGET = \"EXPORT_centered\"\n",
    "FEATURES = [\n",
    "  \"contig\", \"comlang_off\", \"colony\", \"smctry\",  # dist cepii categorical\n",
    "]\n",
    "N_SPLITS = 5\n",
    "PATIENCE = 5\n",
    "LEARNING_RATE = 0.01\n",
    "WEIGHT_DECAY = 0.01\n",
    "RANDOM_SEED = 16\n",
    "KEEP_FRAC = 1.0\n",
    "N_LAGS = 5\n",
    "SUBSAMPLE_ENABLED = False\n",
    "N_DYADS = 1000\n",
    "\n",
    "SANCTION_COLS = [\"arms\", \"military\", \"trade\", \"travel\", \"other\"]\n",
    "\n",
    "# Torch config\n",
    "torch.manual_seed(RANDOM_SEED)\n",
    "device = (\n",
    "  torch.device(\"mps\") if torch.backends.mps.is_available()\n",
    "  else torch.device(\"cpu\")\n",
    ")"
   ],
   "id": "353e5db3475b77a5",
   "outputs": [],
   "execution_count": 68
  },
  {
   "metadata": {
    "collapsed": true,
    "ExecuteTime": {
     "end_time": "2025-06-29T19:42:16.897292Z",
     "start_time": "2025-06-29T19:42:16.881780Z"
    }
   },
   "cell_type": "code",
   "source": [
    "# GRU lr=0.01, dropout=0.2, hidden_size=128\n",
    "checkpoint_gru = torch.load(\"../../models/GRU-0_01lr-0_2d-128hs.pt\", map_location=torch.device(\"cpu\"))\n",
    "\n",
    "gru_model = tum.DyadGRU(**checkpoint_gru[\"model_hyperparams\"])\n",
    "gru_model.to(device)"
   ],
   "id": "initial_id",
   "outputs": [
    {
     "data": {
      "text/plain": [
       "DyadGRU(\n",
       "  (dyad_embed): Embedding(1000, 32)\n",
       "  (gru): GRU(52, 128, num_layers=3, batch_first=True, dropout=0.2)\n",
       "  (fc): Linear(in_features=128, out_features=1, bias=True)\n",
       ")"
      ]
     },
     "execution_count": 69,
     "metadata": {},
     "output_type": "execute_result"
    }
   ],
   "execution_count": 69
  },
  {
   "metadata": {
    "ExecuteTime": {
     "end_time": "2025-06-29T19:42:17.283727Z",
     "start_time": "2025-06-29T19:42:16.901879Z"
    }
   },
   "cell_type": "code",
   "source": [
    "processed = pd.read_parquet(path=\"../../data/model/processed.parquet\", engine=\"fastparquet\")\n",
    "df: DataFrame = processed.copy(deep=True)"
   ],
   "id": "fbf8fe4879416806",
   "outputs": [],
   "execution_count": 70
  },
  {
   "metadata": {
    "ExecuteTime": {
     "end_time": "2025-06-29T19:42:17.599034Z",
     "start_time": "2025-06-29T19:42:17.285930Z"
    }
   },
   "cell_type": "code",
   "source": [
    "df[\"dyad_id\"] = df[\"ISO3_reporter\"] + \"_\" + df[\"ISO3_partner\"]\n",
    "df = df.sort_values(by=[\"dyad_id\", \"Year\"], ignore_index=True)"
   ],
   "id": "ae40a36fe062db72",
   "outputs": [],
   "execution_count": 71
  },
  {
   "metadata": {
    "ExecuteTime": {
     "end_time": "2025-06-29T19:42:17.664399Z",
     "start_time": "2025-06-29T19:42:17.601348Z"
    }
   },
   "cell_type": "code",
   "source": [
    "df[\"sanction\"] = (df[SANCTION_COLS]\n",
    "                  .sum(axis=1)).astype(int)"
   ],
   "id": "c8eef9e823f0dd36",
   "outputs": [],
   "execution_count": 72
  },
  {
   "metadata": {
    "ExecuteTime": {
     "end_time": "2025-06-29T19:42:17.848670Z",
     "start_time": "2025-06-29T19:42:17.666663Z"
    }
   },
   "cell_type": "code",
   "source": [
    "num_cols = [\"distw\", \"GDP_reporter\", \"GDP_partner\", \"sanction\", \"contig\",\n",
    "            \"comlang_off\", \"colony\", \"smctry\", \"Year\", ]\n",
    "df[num_cols] = df[num_cols].apply(pd.to_numeric, errors=\"coerce\").astype(float)\n",
    "df = df.dropna(subset=num_cols)"
   ],
   "id": "ac007ddae1b8a189",
   "outputs": [],
   "execution_count": 73
  },
  {
   "metadata": {
    "ExecuteTime": {
     "end_time": "2025-06-29T19:42:17.916142Z",
     "start_time": "2025-06-29T19:42:17.851068Z"
    }
   },
   "cell_type": "code",
   "source": [
    "df[\"Year\"] = df[\"Year\"].astype(int)\n",
    "for col in [\"dyad_id\"]:\n",
    "  df[col] = pd.Categorical(df[col], categories=sorted(df[col].unique()))"
   ],
   "id": "8867c23e810176be",
   "outputs": [],
   "execution_count": 74
  },
  {
   "metadata": {
    "ExecuteTime": {
     "end_time": "2025-06-29T19:42:17.958540Z",
     "start_time": "2025-06-29T19:42:17.918289Z"
    }
   },
   "cell_type": "code",
   "source": [
    "center_columns = [\"distw\", \"GDP_reporter\", \"GDP_partner\", \"EXPORT\"]\n",
    "for col in center_columns:\n",
    "  # col_max = df[col].max()\n",
    "  # col_min = df[col].min()\n",
    "  # df[col + \"_centered\"] = (df[col] - col_min) / (col_max - col_min) - 0.5\n",
    "  col_max = df[col].max()\n",
    "  col_min = df[col].min()\n",
    "  median = df[col].median()\n",
    "  std_df = df[col].std()\n",
    "  df[col + \"_centered\"] = (df[col] - median) / std_df\n",
    "\n",
    "FEATURES += [\"distw_centered\"]"
   ],
   "id": "5904c8bb17367828",
   "outputs": [],
   "execution_count": 75
  },
  {
   "metadata": {
    "ExecuteTime": {
     "end_time": "2025-06-29T19:42:18.187540Z",
     "start_time": "2025-06-29T19:42:17.960571Z"
    }
   },
   "cell_type": "code",
   "source": [
    "lag_cols = [\"GDP_reporter_centered\", \"GDP_partner_centered\", \"sanction\"]\n",
    "for col in lag_cols:\n",
    "  for index in range(1, N_LAGS + 1):\n",
    "    df[f\"{col}_lag{index}\"] = df.groupby(\"dyad_id\", observed=True)[col].shift(index)"
   ],
   "id": "1400ca0b351b1a4e",
   "outputs": [],
   "execution_count": 76
  },
  {
   "metadata": {
    "ExecuteTime": {
     "end_time": "2025-06-29T19:42:18.431285Z",
     "start_time": "2025-06-29T19:42:18.189700Z"
    }
   },
   "cell_type": "code",
   "source": [
    "df = df.dropna()\n",
    "FEATURES += [f\"{c}_lag{index}\" for c in lag_cols for index in range(1, N_LAGS + 1)]"
   ],
   "id": "dd8542cf1420b0ba",
   "outputs": [],
   "execution_count": 77
  },
  {
   "metadata": {
    "ExecuteTime": {
     "end_time": "2025-06-29T19:42:18.443814Z",
     "start_time": "2025-06-29T19:42:18.434982Z"
    }
   },
   "cell_type": "code",
   "source": "gru_model.load_state_dict(checkpoint_gru[\"model_state_dict\"])",
   "id": "703ca213f90ea1fa",
   "outputs": [
    {
     "data": {
      "text/plain": [
       "<All keys matched successfully>"
      ]
     },
     "execution_count": 78,
     "metadata": {},
     "output_type": "execute_result"
    }
   ],
   "execution_count": 78
  },
  {
   "metadata": {
    "ExecuteTime": {
     "end_time": "2025-06-29T19:42:18.675804Z",
     "start_time": "2025-06-29T19:42:18.446940Z"
    }
   },
   "cell_type": "code",
   "source": [
    "dataset, dyad_to_idx = tuds.make_panel_datasets_dyad_year(\n",
    "  data=df,\n",
    "  features=FEATURES,\n",
    "  target=TARGET,\n",
    "  horizon=HORIZON,\n",
    ")"
   ],
   "id": "dc15fe3ba7e51bf1",
   "outputs": [],
   "execution_count": 79
  },
  {
   "metadata": {
    "ExecuteTime": {
     "end_time": "2025-06-29T19:42:18.972452Z",
     "start_time": "2025-06-29T19:42:18.741100Z"
    }
   },
   "cell_type": "code",
   "source": "df",
   "id": "474c4dd8a5c000b",
   "outputs": [
    {
     "data": {
      "text/plain": [
       "        ISO3_reporter UNDS_reporter CNAME_reporter ISO3_partner UNDS_partner  \\\n",
       "5                 AGO           024         Angola          ALB          008   \n",
       "6                 AGO           024         Angola          ALB          008   \n",
       "7                 AGO           024         Angola          ALB          008   \n",
       "8                 AGO           024         Angola          ALB          008   \n",
       "9                 AGO           024         Angola          ALB          008   \n",
       "...               ...           ...            ...          ...          ...   \n",
       "1178542           ZWE           716       Zimbabwe          ZMB          894   \n",
       "1178543           ZWE           716       Zimbabwe          ZMB          894   \n",
       "1178544           ZWE           716       Zimbabwe          ZMB          894   \n",
       "1178545           ZWE           716       Zimbabwe          ZMB          894   \n",
       "1178546           ZWE           716       Zimbabwe          ZMB          894   \n",
       "\n",
       "        CNAME_partner  Year  GDP_reporter   GDP_partner  contig  ...  \\\n",
       "5             Albania  1993  5.768720e+09  1.185315e+09     0.0  ...   \n",
       "6             Albania  1994  4.438321e+09  1.880951e+09     0.0  ...   \n",
       "7             Albania  1995  5.538749e+09  2.392765e+09     0.0  ...   \n",
       "8             Albania  1996  7.526447e+09  3.199641e+09     0.0  ...   \n",
       "9             Albania  1997  7.648377e+09  2.258514e+09     0.0  ...   \n",
       "...               ...   ...           ...           ...     ...  ...   \n",
       "1178542        Zambia  2018  3.415607e+10  2.631151e+10     1.0  ...   \n",
       "1178543        Zambia  2019  2.571741e+10  2.330867e+10     1.0  ...   \n",
       "1178544        Zambia  2020  2.686794e+10  1.813776e+10     1.0  ...   \n",
       "1178545        Zambia  2021  2.724052e+10  2.209642e+10     1.0  ...   \n",
       "1178546        Zambia  2022  3.278975e+10  2.916378e+10     1.0  ...   \n",
       "\n",
       "         GDP_partner_centered_lag1  GDP_partner_centered_lag2  \\\n",
       "5                        -0.012576                  -0.012233   \n",
       "6                        -0.012167                  -0.012576   \n",
       "7                        -0.011635                  -0.012167   \n",
       "8                        -0.011243                  -0.011635   \n",
       "9                        -0.010624                  -0.011243   \n",
       "...                            ...                        ...   \n",
       "1178542                   0.006744                   0.002979   \n",
       "1178543                   0.007080                   0.006744   \n",
       "1178544                   0.004780                   0.007080   \n",
       "1178545                   0.000819                   0.004780   \n",
       "1178546                   0.003851                   0.000819   \n",
       "\n",
       "         GDP_partner_centered_lag3  GDP_partner_centered_lag4  \\\n",
       "5                        -0.011522                  -0.011350   \n",
       "6                        -0.012233                  -0.011522   \n",
       "7                        -0.012576                  -0.012233   \n",
       "8                        -0.012167                  -0.012576   \n",
       "9                        -0.011635                  -0.012167   \n",
       "...                            ...                        ...   \n",
       "1178542                   0.003204                   0.007715   \n",
       "1178543                   0.002979                   0.003204   \n",
       "1178544                   0.006744                   0.002979   \n",
       "1178545                   0.007080                   0.006744   \n",
       "1178546                   0.004780                   0.007080   \n",
       "\n",
       "         GDP_partner_centered_lag5  sanction_lag1  sanction_lag2  \\\n",
       "5                        -0.011504            0.0            0.0   \n",
       "6                        -0.011350            0.0            0.0   \n",
       "7                        -0.011522            0.0            0.0   \n",
       "8                        -0.012233            0.0            0.0   \n",
       "9                        -0.012576            0.0            0.0   \n",
       "...                            ...            ...            ...   \n",
       "1178542                   0.008402            0.0            0.0   \n",
       "1178543                   0.007715            0.0            0.0   \n",
       "1178544                   0.003204            0.0            0.0   \n",
       "1178545                   0.002979            0.0            0.0   \n",
       "1178546                   0.006744            0.0            0.0   \n",
       "\n",
       "         sanction_lag3  sanction_lag4  sanction_lag5  \n",
       "5                  0.0            0.0            0.0  \n",
       "6                  0.0            0.0            0.0  \n",
       "7                  0.0            0.0            0.0  \n",
       "8                  0.0            0.0            0.0  \n",
       "9                  0.0            0.0            0.0  \n",
       "...                ...            ...            ...  \n",
       "1178542            0.0            0.0            0.0  \n",
       "1178543            0.0            0.0            0.0  \n",
       "1178544            0.0            0.0            0.0  \n",
       "1178545            0.0            0.0            0.0  \n",
       "1178546            0.0            0.0            0.0  \n",
       "\n",
       "[1010187 rows x 49 columns]"
      ],
      "text/html": [
       "<div>\n",
       "<style scoped>\n",
       "    .dataframe tbody tr th:only-of-type {\n",
       "        vertical-align: middle;\n",
       "    }\n",
       "\n",
       "    .dataframe tbody tr th {\n",
       "        vertical-align: top;\n",
       "    }\n",
       "\n",
       "    .dataframe thead th {\n",
       "        text-align: right;\n",
       "    }\n",
       "</style>\n",
       "<table border=\"1\" class=\"dataframe\">\n",
       "  <thead>\n",
       "    <tr style=\"text-align: right;\">\n",
       "      <th></th>\n",
       "      <th>ISO3_reporter</th>\n",
       "      <th>UNDS_reporter</th>\n",
       "      <th>CNAME_reporter</th>\n",
       "      <th>ISO3_partner</th>\n",
       "      <th>UNDS_partner</th>\n",
       "      <th>CNAME_partner</th>\n",
       "      <th>Year</th>\n",
       "      <th>GDP_reporter</th>\n",
       "      <th>GDP_partner</th>\n",
       "      <th>contig</th>\n",
       "      <th>...</th>\n",
       "      <th>GDP_partner_centered_lag1</th>\n",
       "      <th>GDP_partner_centered_lag2</th>\n",
       "      <th>GDP_partner_centered_lag3</th>\n",
       "      <th>GDP_partner_centered_lag4</th>\n",
       "      <th>GDP_partner_centered_lag5</th>\n",
       "      <th>sanction_lag1</th>\n",
       "      <th>sanction_lag2</th>\n",
       "      <th>sanction_lag3</th>\n",
       "      <th>sanction_lag4</th>\n",
       "      <th>sanction_lag5</th>\n",
       "    </tr>\n",
       "  </thead>\n",
       "  <tbody>\n",
       "    <tr>\n",
       "      <th>5</th>\n",
       "      <td>AGO</td>\n",
       "      <td>024</td>\n",
       "      <td>Angola</td>\n",
       "      <td>ALB</td>\n",
       "      <td>008</td>\n",
       "      <td>Albania</td>\n",
       "      <td>1993</td>\n",
       "      <td>5.768720e+09</td>\n",
       "      <td>1.185315e+09</td>\n",
       "      <td>0.0</td>\n",
       "      <td>...</td>\n",
       "      <td>-0.012576</td>\n",
       "      <td>-0.012233</td>\n",
       "      <td>-0.011522</td>\n",
       "      <td>-0.011350</td>\n",
       "      <td>-0.011504</td>\n",
       "      <td>0.0</td>\n",
       "      <td>0.0</td>\n",
       "      <td>0.0</td>\n",
       "      <td>0.0</td>\n",
       "      <td>0.0</td>\n",
       "    </tr>\n",
       "    <tr>\n",
       "      <th>6</th>\n",
       "      <td>AGO</td>\n",
       "      <td>024</td>\n",
       "      <td>Angola</td>\n",
       "      <td>ALB</td>\n",
       "      <td>008</td>\n",
       "      <td>Albania</td>\n",
       "      <td>1994</td>\n",
       "      <td>4.438321e+09</td>\n",
       "      <td>1.880951e+09</td>\n",
       "      <td>0.0</td>\n",
       "      <td>...</td>\n",
       "      <td>-0.012167</td>\n",
       "      <td>-0.012576</td>\n",
       "      <td>-0.012233</td>\n",
       "      <td>-0.011522</td>\n",
       "      <td>-0.011350</td>\n",
       "      <td>0.0</td>\n",
       "      <td>0.0</td>\n",
       "      <td>0.0</td>\n",
       "      <td>0.0</td>\n",
       "      <td>0.0</td>\n",
       "    </tr>\n",
       "    <tr>\n",
       "      <th>7</th>\n",
       "      <td>AGO</td>\n",
       "      <td>024</td>\n",
       "      <td>Angola</td>\n",
       "      <td>ALB</td>\n",
       "      <td>008</td>\n",
       "      <td>Albania</td>\n",
       "      <td>1995</td>\n",
       "      <td>5.538749e+09</td>\n",
       "      <td>2.392765e+09</td>\n",
       "      <td>0.0</td>\n",
       "      <td>...</td>\n",
       "      <td>-0.011635</td>\n",
       "      <td>-0.012167</td>\n",
       "      <td>-0.012576</td>\n",
       "      <td>-0.012233</td>\n",
       "      <td>-0.011522</td>\n",
       "      <td>0.0</td>\n",
       "      <td>0.0</td>\n",
       "      <td>0.0</td>\n",
       "      <td>0.0</td>\n",
       "      <td>0.0</td>\n",
       "    </tr>\n",
       "    <tr>\n",
       "      <th>8</th>\n",
       "      <td>AGO</td>\n",
       "      <td>024</td>\n",
       "      <td>Angola</td>\n",
       "      <td>ALB</td>\n",
       "      <td>008</td>\n",
       "      <td>Albania</td>\n",
       "      <td>1996</td>\n",
       "      <td>7.526447e+09</td>\n",
       "      <td>3.199641e+09</td>\n",
       "      <td>0.0</td>\n",
       "      <td>...</td>\n",
       "      <td>-0.011243</td>\n",
       "      <td>-0.011635</td>\n",
       "      <td>-0.012167</td>\n",
       "      <td>-0.012576</td>\n",
       "      <td>-0.012233</td>\n",
       "      <td>0.0</td>\n",
       "      <td>0.0</td>\n",
       "      <td>0.0</td>\n",
       "      <td>0.0</td>\n",
       "      <td>0.0</td>\n",
       "    </tr>\n",
       "    <tr>\n",
       "      <th>9</th>\n",
       "      <td>AGO</td>\n",
       "      <td>024</td>\n",
       "      <td>Angola</td>\n",
       "      <td>ALB</td>\n",
       "      <td>008</td>\n",
       "      <td>Albania</td>\n",
       "      <td>1997</td>\n",
       "      <td>7.648377e+09</td>\n",
       "      <td>2.258514e+09</td>\n",
       "      <td>0.0</td>\n",
       "      <td>...</td>\n",
       "      <td>-0.010624</td>\n",
       "      <td>-0.011243</td>\n",
       "      <td>-0.011635</td>\n",
       "      <td>-0.012167</td>\n",
       "      <td>-0.012576</td>\n",
       "      <td>0.0</td>\n",
       "      <td>0.0</td>\n",
       "      <td>0.0</td>\n",
       "      <td>0.0</td>\n",
       "      <td>0.0</td>\n",
       "    </tr>\n",
       "    <tr>\n",
       "      <th>...</th>\n",
       "      <td>...</td>\n",
       "      <td>...</td>\n",
       "      <td>...</td>\n",
       "      <td>...</td>\n",
       "      <td>...</td>\n",
       "      <td>...</td>\n",
       "      <td>...</td>\n",
       "      <td>...</td>\n",
       "      <td>...</td>\n",
       "      <td>...</td>\n",
       "      <td>...</td>\n",
       "      <td>...</td>\n",
       "      <td>...</td>\n",
       "      <td>...</td>\n",
       "      <td>...</td>\n",
       "      <td>...</td>\n",
       "      <td>...</td>\n",
       "      <td>...</td>\n",
       "      <td>...</td>\n",
       "      <td>...</td>\n",
       "      <td>...</td>\n",
       "    </tr>\n",
       "    <tr>\n",
       "      <th>1178542</th>\n",
       "      <td>ZWE</td>\n",
       "      <td>716</td>\n",
       "      <td>Zimbabwe</td>\n",
       "      <td>ZMB</td>\n",
       "      <td>894</td>\n",
       "      <td>Zambia</td>\n",
       "      <td>2018</td>\n",
       "      <td>3.415607e+10</td>\n",
       "      <td>2.631151e+10</td>\n",
       "      <td>1.0</td>\n",
       "      <td>...</td>\n",
       "      <td>0.006744</td>\n",
       "      <td>0.002979</td>\n",
       "      <td>0.003204</td>\n",
       "      <td>0.007715</td>\n",
       "      <td>0.008402</td>\n",
       "      <td>0.0</td>\n",
       "      <td>0.0</td>\n",
       "      <td>0.0</td>\n",
       "      <td>0.0</td>\n",
       "      <td>0.0</td>\n",
       "    </tr>\n",
       "    <tr>\n",
       "      <th>1178543</th>\n",
       "      <td>ZWE</td>\n",
       "      <td>716</td>\n",
       "      <td>Zimbabwe</td>\n",
       "      <td>ZMB</td>\n",
       "      <td>894</td>\n",
       "      <td>Zambia</td>\n",
       "      <td>2019</td>\n",
       "      <td>2.571741e+10</td>\n",
       "      <td>2.330867e+10</td>\n",
       "      <td>1.0</td>\n",
       "      <td>...</td>\n",
       "      <td>0.007080</td>\n",
       "      <td>0.006744</td>\n",
       "      <td>0.002979</td>\n",
       "      <td>0.003204</td>\n",
       "      <td>0.007715</td>\n",
       "      <td>0.0</td>\n",
       "      <td>0.0</td>\n",
       "      <td>0.0</td>\n",
       "      <td>0.0</td>\n",
       "      <td>0.0</td>\n",
       "    </tr>\n",
       "    <tr>\n",
       "      <th>1178544</th>\n",
       "      <td>ZWE</td>\n",
       "      <td>716</td>\n",
       "      <td>Zimbabwe</td>\n",
       "      <td>ZMB</td>\n",
       "      <td>894</td>\n",
       "      <td>Zambia</td>\n",
       "      <td>2020</td>\n",
       "      <td>2.686794e+10</td>\n",
       "      <td>1.813776e+10</td>\n",
       "      <td>1.0</td>\n",
       "      <td>...</td>\n",
       "      <td>0.004780</td>\n",
       "      <td>0.007080</td>\n",
       "      <td>0.006744</td>\n",
       "      <td>0.002979</td>\n",
       "      <td>0.003204</td>\n",
       "      <td>0.0</td>\n",
       "      <td>0.0</td>\n",
       "      <td>0.0</td>\n",
       "      <td>0.0</td>\n",
       "      <td>0.0</td>\n",
       "    </tr>\n",
       "    <tr>\n",
       "      <th>1178545</th>\n",
       "      <td>ZWE</td>\n",
       "      <td>716</td>\n",
       "      <td>Zimbabwe</td>\n",
       "      <td>ZMB</td>\n",
       "      <td>894</td>\n",
       "      <td>Zambia</td>\n",
       "      <td>2021</td>\n",
       "      <td>2.724052e+10</td>\n",
       "      <td>2.209642e+10</td>\n",
       "      <td>1.0</td>\n",
       "      <td>...</td>\n",
       "      <td>0.000819</td>\n",
       "      <td>0.004780</td>\n",
       "      <td>0.007080</td>\n",
       "      <td>0.006744</td>\n",
       "      <td>0.002979</td>\n",
       "      <td>0.0</td>\n",
       "      <td>0.0</td>\n",
       "      <td>0.0</td>\n",
       "      <td>0.0</td>\n",
       "      <td>0.0</td>\n",
       "    </tr>\n",
       "    <tr>\n",
       "      <th>1178546</th>\n",
       "      <td>ZWE</td>\n",
       "      <td>716</td>\n",
       "      <td>Zimbabwe</td>\n",
       "      <td>ZMB</td>\n",
       "      <td>894</td>\n",
       "      <td>Zambia</td>\n",
       "      <td>2022</td>\n",
       "      <td>3.278975e+10</td>\n",
       "      <td>2.916378e+10</td>\n",
       "      <td>1.0</td>\n",
       "      <td>...</td>\n",
       "      <td>0.003851</td>\n",
       "      <td>0.000819</td>\n",
       "      <td>0.004780</td>\n",
       "      <td>0.007080</td>\n",
       "      <td>0.006744</td>\n",
       "      <td>0.0</td>\n",
       "      <td>0.0</td>\n",
       "      <td>0.0</td>\n",
       "      <td>0.0</td>\n",
       "      <td>0.0</td>\n",
       "    </tr>\n",
       "  </tbody>\n",
       "</table>\n",
       "<p>1010187 rows × 49 columns</p>\n",
       "</div>"
      ]
     },
     "execution_count": 80,
     "metadata": {},
     "output_type": "execute_result"
    }
   ],
   "execution_count": 80
  },
  {
   "metadata": {
    "ExecuteTime": {
     "end_time": "2025-06-29T19:42:19.532065Z",
     "start_time": "2025-06-29T19:42:18.992808Z"
    }
   },
   "cell_type": "code",
   "source": [
    "data_loader = DataLoader(\n",
    "  dataset,\n",
    "  batch_size=BATCH_SIZE,\n",
    "  shuffle=False,\n",
    "  num_workers=10,\n",
    "  persistent_workers=True,\n",
    "  prefetch_factor=2,\n",
    "  pin_memory=False\n",
    ")"
   ],
   "id": "867f28a689fddae4",
   "outputs": [],
   "execution_count": 81
  },
  {
   "metadata": {
    "ExecuteTime": {
     "end_time": "2025-06-29T19:42:32.438130Z",
     "start_time": "2025-06-29T19:42:19.546413Z"
    }
   },
   "cell_type": "code",
   "source": [
    "gru_model.eval()\n",
    "preds, truth, years_collected = [], [], []\n",
    "with torch.no_grad():\n",
    "  for X, y, di, yr in tqdm(data_loader, desc=\"Predicting\", unit=\"batch\"):\n",
    "    X, di = map(lambda t: t.to(device, non_blocking=True), (X, di))\n",
    "    y_hat = gru_model(X, di).cpu()\n",
    "    preds.append(y_hat)\n",
    "    truth.append(y)\n",
    "    years_collected.append(yr)\n",
    "\n",
    "preds = torch.cat(preds).numpy()\n",
    "truth = torch.cat(truth).numpy()\n",
    "years = torch.cat(years_collected).numpy()"
   ],
   "id": "31667fe03b666925",
   "outputs": [
    {
     "name": "stderr",
     "output_type": "stream",
     "text": [
      "Predicting: 100%|██████████| 7893/7893 [00:12<00:00, 615.70batch/s]\n"
     ]
    }
   ],
   "execution_count": 82
  },
  {
   "metadata": {
    "ExecuteTime": {
     "end_time": "2025-06-29T19:42:34.075003Z",
     "start_time": "2025-06-29T19:42:34.072117Z"
    }
   },
   "cell_type": "code",
   "source": [
    "print(\"Preds stats (raw):\", preds.min(), preds.max(), preds.mean())\n",
    "print(\"Truth stats (raw):\", truth.min(), truth.max(), truth.mean())"
   ],
   "id": "5410d76162f732ba",
   "outputs": [
    {
     "name": "stdout",
     "output_type": "stream",
     "text": [
      "Preds stats (raw): -0.0055396557 25.977049 0.1450887\n",
      "Truth stats (raw): 0.0 138.23305 0.07904376\n"
     ]
    }
   ],
   "execution_count": 83
  },
  {
   "metadata": {
    "ExecuteTime": {
     "end_time": "2025-06-29T19:42:34.083681Z",
     "start_time": "2025-06-29T19:42:34.079687Z"
    }
   },
   "cell_type": "code",
   "source": [
    "plot_df = pd.DataFrame({\n",
    "  \"Year\": years.flatten(),\n",
    "  \"Prediction\": preds.flatten(),\n",
    "  \"Truth\": truth.flatten()\n",
    "})"
   ],
   "id": "6c3e82d68e5f7c68",
   "outputs": [],
   "execution_count": 84
  },
  {
   "metadata": {
    "ExecuteTime": {
     "end_time": "2025-06-29T19:42:34.280578Z",
     "start_time": "2025-06-29T19:42:34.260203Z"
    }
   },
   "cell_type": "code",
   "source": [
    "robust_scalar = RobustScaler()\n",
    "print(robust_scalar.fit_transform(df[[\"EXPORT\"]]))"
   ],
   "id": "f84aadbc0abb691a",
   "outputs": [
    {
     "name": "stdout",
     "output_type": "stream",
     "text": [
      "[[ 0.        ]\n",
      " [ 0.        ]\n",
      " [ 0.        ]\n",
      " ...\n",
      " [11.33310457]\n",
      " [12.95991877]\n",
      " [19.40603015]]\n"
     ]
    }
   ],
   "execution_count": 85
  },
  {
   "metadata": {
    "ExecuteTime": {
     "end_time": "2025-06-29T19:42:43.351425Z",
     "start_time": "2025-06-29T19:42:34.286373Z"
    }
   },
   "cell_type": "code",
   "source": [
    "plot_df_melted = plot_df.melt(id_vars=\"Year\", value_vars=[\"Prediction\", \"Truth\"],\n",
    "                              var_name=\"Type\", value_name=\"Value\")\n",
    "\n",
    "sns.lineplot(data=plot_df_melted, x=\"Year\", y=\"Value\", hue=\"Type\")\n",
    "plt.title(\"Predictions vs. Truth over Time\")\n",
    "plt.ylabel(\"Export Value\")\n",
    "plt.show()"
   ],
   "id": "950b601eee9b347a",
   "outputs": [
    {
     "data": {
      "text/plain": [
       "<Figure size 640x480 with 1 Axes>"
      ],
      "image/png": "[encoded data removed]"
     },
     "metadata": {},
     "output_type": "display_data"
    }
   ],
   "execution_count": 86
  },
  {
   "metadata": {
    "ExecuteTime": {
     "end_time": "2025-06-29T19:42:43.656835Z",
     "start_time": "2025-06-29T19:42:43.411116Z"
    }
   },
   "cell_type": "code",
   "source": "df",
   "id": "59a5df1cc738db24",
   "outputs": [
    {
     "data": {
      "text/plain": [
       "        ISO3_reporter UNDS_reporter CNAME_reporter ISO3_partner UNDS_partner  \\\n",
       "5                 AGO           024         Angola          ALB          008   \n",
       "6                 AGO           024         Angola          ALB          008   \n",
       "7                 AGO           024         Angola          ALB          008   \n",
       "8                 AGO           024         Angola          ALB          008   \n",
       "9                 AGO           024         Angola          ALB          008   \n",
       "...               ...           ...            ...          ...          ...   \n",
       "1178542           ZWE           716       Zimbabwe          ZMB          894   \n",
       "1178543           ZWE           716       Zimbabwe          ZMB          894   \n",
       "1178544           ZWE           716       Zimbabwe          ZMB          894   \n",
       "1178545           ZWE           716       Zimbabwe          ZMB          894   \n",
       "1178546           ZWE           716       Zimbabwe          ZMB          894   \n",
       "\n",
       "        CNAME_partner  Year  GDP_reporter   GDP_partner  contig  ...  \\\n",
       "5             Albania  1993  5.768720e+09  1.185315e+09     0.0  ...   \n",
       "6             Albania  1994  4.438321e+09  1.880951e+09     0.0  ...   \n",
       "7             Albania  1995  5.538749e+09  2.392765e+09     0.0  ...   \n",
       "8             Albania  1996  7.526447e+09  3.199641e+09     0.0  ...   \n",
       "9             Albania  1997  7.648377e+09  2.258514e+09     0.0  ...   \n",
       "...               ...   ...           ...           ...     ...  ...   \n",
       "1178542        Zambia  2018  3.415607e+10  2.631151e+10     1.0  ...   \n",
       "1178543        Zambia  2019  2.571741e+10  2.330867e+10     1.0  ...   \n",
       "1178544        Zambia  2020  2.686794e+10  1.813776e+10     1.0  ...   \n",
       "1178545        Zambia  2021  2.724052e+10  2.209642e+10     1.0  ...   \n",
       "1178546        Zambia  2022  3.278975e+10  2.916378e+10     1.0  ...   \n",
       "\n",
       "         GDP_partner_centered_lag1  GDP_partner_centered_lag2  \\\n",
       "5                        -0.012576                  -0.012233   \n",
       "6                        -0.012167                  -0.012576   \n",
       "7                        -0.011635                  -0.012167   \n",
       "8                        -0.011243                  -0.011635   \n",
       "9                        -0.010624                  -0.011243   \n",
       "...                            ...                        ...   \n",
       "1178542                   0.006744                   0.002979   \n",
       "1178543                   0.007080                   0.006744   \n",
       "1178544                   0.004780                   0.007080   \n",
       "1178545                   0.000819                   0.004780   \n",
       "1178546                   0.003851                   0.000819   \n",
       "\n",
       "         GDP_partner_centered_lag3  GDP_partner_centered_lag4  \\\n",
       "5                        -0.011522                  -0.011350   \n",
       "6                        -0.012233                  -0.011522   \n",
       "7                        -0.012576                  -0.012233   \n",
       "8                        -0.012167                  -0.012576   \n",
       "9                        -0.011635                  -0.012167   \n",
       "...                            ...                        ...   \n",
       "1178542                   0.003204                   0.007715   \n",
       "1178543                   0.002979                   0.003204   \n",
       "1178544                   0.006744                   0.002979   \n",
       "1178545                   0.007080                   0.006744   \n",
       "1178546                   0.004780                   0.007080   \n",
       "\n",
       "         GDP_partner_centered_lag5  sanction_lag1  sanction_lag2  \\\n",
       "5                        -0.011504            0.0            0.0   \n",
       "6                        -0.011350            0.0            0.0   \n",
       "7                        -0.011522            0.0            0.0   \n",
       "8                        -0.012233            0.0            0.0   \n",
       "9                        -0.012576            0.0            0.0   \n",
       "...                            ...            ...            ...   \n",
       "1178542                   0.008402            0.0            0.0   \n",
       "1178543                   0.007715            0.0            0.0   \n",
       "1178544                   0.003204            0.0            0.0   \n",
       "1178545                   0.002979            0.0            0.0   \n",
       "1178546                   0.006744            0.0            0.0   \n",
       "\n",
       "         sanction_lag3  sanction_lag4  sanction_lag5  \n",
       "5                  0.0            0.0            0.0  \n",
       "6                  0.0            0.0            0.0  \n",
       "7                  0.0            0.0            0.0  \n",
       "8                  0.0            0.0            0.0  \n",
       "9                  0.0            0.0            0.0  \n",
       "...                ...            ...            ...  \n",
       "1178542            0.0            0.0            0.0  \n",
       "1178543            0.0            0.0            0.0  \n",
       "1178544            0.0            0.0            0.0  \n",
       "1178545            0.0            0.0            0.0  \n",
       "1178546            0.0            0.0            0.0  \n",
       "\n",
       "[1010187 rows x 49 columns]"
      ],
      "text/html": [
       "<div>\n",
       "<style scoped>\n",
       "    .dataframe tbody tr th:only-of-type {\n",
       "        vertical-align: middle;\n",
       "    }\n",
       "\n",
       "    .dataframe tbody tr th {\n",
       "        vertical-align: top;\n",
       "    }\n",
       "\n",
       "    .dataframe thead th {\n",
       "        text-align: right;\n",
       "    }\n",
       "</style>\n",
       "<table border=\"1\" class=\"dataframe\">\n",
       "  <thead>\n",
       "    <tr style=\"text-align: right;\">\n",
       "      <th></th>\n",
       "      <th>ISO3_reporter</th>\n",
       "      <th>UNDS_reporter</th>\n",
       "      <th>CNAME_reporter</th>\n",
       "      <th>ISO3_partner</th>\n",
       "      <th>UNDS_partner</th>\n",
       "      <th>CNAME_partner</th>\n",
       "      <th>Year</th>\n",
       "      <th>GDP_reporter</th>\n",
       "      <th>GDP_partner</th>\n",
       "      <th>contig</th>\n",
       "      <th>...</th>\n",
       "      <th>GDP_partner_centered_lag1</th>\n",
       "      <th>GDP_partner_centered_lag2</th>\n",
       "      <th>GDP_partner_centered_lag3</th>\n",
       "      <th>GDP_partner_centered_lag4</th>\n",
       "      <th>GDP_partner_centered_lag5</th>\n",
       "      <th>sanction_lag1</th>\n",
       "      <th>sanction_lag2</th>\n",
       "      <th>sanction_lag3</th>\n",
       "      <th>sanction_lag4</th>\n",
       "      <th>sanction_lag5</th>\n",
       "    </tr>\n",
       "  </thead>\n",
       "  <tbody>\n",
       "    <tr>\n",
       "      <th>5</th>\n",
       "      <td>AGO</td>\n",
       "      <td>024</td>\n",
       "      <td>Angola</td>\n",
       "      <td>ALB</td>\n",
       "      <td>008</td>\n",
       "      <td>Albania</td>\n",
       "      <td>1993</td>\n",
       "      <td>5.768720e+09</td>\n",
       "      <td>1.185315e+09</td>\n",
       "      <td>0.0</td>\n",
       "      <td>...</td>\n",
       "      <td>-0.012576</td>\n",
       "      <td>-0.012233</td>\n",
       "      <td>-0.011522</td>\n",
       "      <td>-0.011350</td>\n",
       "      <td>-0.011504</td>\n",
       "      <td>0.0</td>\n",
       "      <td>0.0</td>\n",
       "      <td>0.0</td>\n",
       "      <td>0.0</td>\n",
       "      <td>0.0</td>\n",
       "    </tr>\n",
       "    <tr>\n",
       "      <th>6</th>\n",
       "      <td>AGO</td>\n",
       "      <td>024</td>\n",
       "      <td>Angola</td>\n",
       "      <td>ALB</td>\n",
       "      <td>008</td>\n",
       "      <td>Albania</td>\n",
       "      <td>1994</td>\n",
       "      <td>4.438321e+09</td>\n",
       "      <td>1.880951e+09</td>\n",
       "      <td>0.0</td>\n",
       "      <td>...</td>\n",
       "      <td>-0.012167</td>\n",
       "      <td>-0.012576</td>\n",
       "      <td>-0.012233</td>\n",
       "      <td>-0.011522</td>\n",
       "      <td>-0.011350</td>\n",
       "      <td>0.0</td>\n",
       "      <td>0.0</td>\n",
       "      <td>0.0</td>\n",
       "      <td>0.0</td>\n",
       "      <td>0.0</td>\n",
       "    </tr>\n",
       "    <tr>\n",
       "      <th>7</th>\n",
       "      <td>AGO</td>\n",
       "      <td>024</td>\n",
       "      <td>Angola</td>\n",
       "      <td>ALB</td>\n",
       "      <td>008</td>\n",
       "      <td>Albania</td>\n",
       "      <td>1995</td>\n",
       "      <td>5.538749e+09</td>\n",
       "      <td>2.392765e+09</td>\n",
       "      <td>0.0</td>\n",
       "      <td>...</td>\n",
       "      <td>-0.011635</td>\n",
       "      <td>-0.012167</td>\n",
       "      <td>-0.012576</td>\n",
       "      <td>-0.012233</td>\n",
       "      <td>-0.011522</td>\n",
       "      <td>0.0</td>\n",
       "      <td>0.0</td>\n",
       "      <td>0.0</td>\n",
       "      <td>0.0</td>\n",
       "      <td>0.0</td>\n",
       "    </tr>\n",
       "    <tr>\n",
       "      <th>8</th>\n",
       "      <td>AGO</td>\n",
       "      <td>024</td>\n",
       "      <td>Angola</td>\n",
       "      <td>ALB</td>\n",
       "      <td>008</td>\n",
       "      <td>Albania</td>\n",
       "      <td>1996</td>\n",
       "      <td>7.526447e+09</td>\n",
       "      <td>3.199641e+09</td>\n",
       "      <td>0.0</td>\n",
       "      <td>...</td>\n",
       "      <td>-0.011243</td>\n",
       "      <td>-0.011635</td>\n",
       "      <td>-0.012167</td>\n",
       "      <td>-0.012576</td>\n",
       "      <td>-0.012233</td>\n",
       "      <td>0.0</td>\n",
       "      <td>0.0</td>\n",
       "      <td>0.0</td>\n",
       "      <td>0.0</td>\n",
       "      <td>0.0</td>\n",
       "    </tr>\n",
       "    <tr>\n",
       "      <th>9</th>\n",
       "      <td>AGO</td>\n",
       "      <td>024</td>\n",
       "      <td>Angola</td>\n",
       "      <td>ALB</td>\n",
       "      <td>008</td>\n",
       "      <td>Albania</td>\n",
       "      <td>1997</td>\n",
       "      <td>7.648377e+09</td>\n",
       "      <td>2.258514e+09</td>\n",
       "      <td>0.0</td>\n",
       "      <td>...</td>\n",
       "      <td>-0.010624</td>\n",
       "      <td>-0.011243</td>\n",
       "      <td>-0.011635</td>\n",
       "      <td>-0.012167</td>\n",
       "      <td>-0.012576</td>\n",
       "      <td>0.0</td>\n",
       "      <td>0.0</td>\n",
       "      <td>0.0</td>\n",
       "      <td>0.0</td>\n",
       "      <td>0.0</td>\n",
       "    </tr>\n",
       "    <tr>\n",
       "      <th>...</th>\n",
       "      <td>...</td>\n",
       "      <td>...</td>\n",
       "      <td>...</td>\n",
       "      <td>...</td>\n",
       "      <td>...</td>\n",
       "      <td>...</td>\n",
       "      <td>...</td>\n",
       "      <td>...</td>\n",
       "      <td>...</td>\n",
       "      <td>...</td>\n",
       "      <td>...</td>\n",
       "      <td>...</td>\n",
       "      <td>...</td>\n",
       "      <td>...</td>\n",
       "      <td>...</td>\n",
       "      <td>...</td>\n",
       "      <td>...</td>\n",
       "      <td>...</td>\n",
       "      <td>...</td>\n",
       "      <td>...</td>\n",
       "      <td>...</td>\n",
       "    </tr>\n",
       "    <tr>\n",
       "      <th>1178542</th>\n",
       "      <td>ZWE</td>\n",
       "      <td>716</td>\n",
       "      <td>Zimbabwe</td>\n",
       "      <td>ZMB</td>\n",
       "      <td>894</td>\n",
       "      <td>Zambia</td>\n",
       "      <td>2018</td>\n",
       "      <td>3.415607e+10</td>\n",
       "      <td>2.631151e+10</td>\n",
       "      <td>1.0</td>\n",
       "      <td>...</td>\n",
       "      <td>0.006744</td>\n",
       "      <td>0.002979</td>\n",
       "      <td>0.003204</td>\n",
       "      <td>0.007715</td>\n",
       "      <td>0.008402</td>\n",
       "      <td>0.0</td>\n",
       "      <td>0.0</td>\n",
       "      <td>0.0</td>\n",
       "      <td>0.0</td>\n",
       "      <td>0.0</td>\n",
       "    </tr>\n",
       "    <tr>\n",
       "      <th>1178543</th>\n",
       "      <td>ZWE</td>\n",
       "      <td>716</td>\n",
       "      <td>Zimbabwe</td>\n",
       "      <td>ZMB</td>\n",
       "      <td>894</td>\n",
       "      <td>Zambia</td>\n",
       "      <td>2019</td>\n",
       "      <td>2.571741e+10</td>\n",
       "      <td>2.330867e+10</td>\n",
       "      <td>1.0</td>\n",
       "      <td>...</td>\n",
       "      <td>0.007080</td>\n",
       "      <td>0.006744</td>\n",
       "      <td>0.002979</td>\n",
       "      <td>0.003204</td>\n",
       "      <td>0.007715</td>\n",
       "      <td>0.0</td>\n",
       "      <td>0.0</td>\n",
       "      <td>0.0</td>\n",
       "      <td>0.0</td>\n",
       "      <td>0.0</td>\n",
       "    </tr>\n",
       "    <tr>\n",
       "      <th>1178544</th>\n",
       "      <td>ZWE</td>\n",
       "      <td>716</td>\n",
       "      <td>Zimbabwe</td>\n",
       "      <td>ZMB</td>\n",
       "      <td>894</td>\n",
       "      <td>Zambia</td>\n",
       "      <td>2020</td>\n",
       "      <td>2.686794e+10</td>\n",
       "      <td>1.813776e+10</td>\n",
       "      <td>1.0</td>\n",
       "      <td>...</td>\n",
       "      <td>0.004780</td>\n",
       "      <td>0.007080</td>\n",
       "      <td>0.006744</td>\n",
       "      <td>0.002979</td>\n",
       "      <td>0.003204</td>\n",
       "      <td>0.0</td>\n",
       "      <td>0.0</td>\n",
       "      <td>0.0</td>\n",
       "      <td>0.0</td>\n",
       "      <td>0.0</td>\n",
       "    </tr>\n",
       "    <tr>\n",
       "      <th>1178545</th>\n",
       "      <td>ZWE</td>\n",
       "      <td>716</td>\n",
       "      <td>Zimbabwe</td>\n",
       "      <td>ZMB</td>\n",
       "      <td>894</td>\n",
       "      <td>Zambia</td>\n",
       "      <td>2021</td>\n",
       "      <td>2.724052e+10</td>\n",
       "      <td>2.209642e+10</td>\n",
       "      <td>1.0</td>\n",
       "      <td>...</td>\n",
       "      <td>0.000819</td>\n",
       "      <td>0.004780</td>\n",
       "      <td>0.007080</td>\n",
       "      <td>0.006744</td>\n",
       "      <td>0.002979</td>\n",
       "      <td>0.0</td>\n",
       "      <td>0.0</td>\n",
       "      <td>0.0</td>\n",
       "      <td>0.0</td>\n",
       "      <td>0.0</td>\n",
       "    </tr>\n",
       "    <tr>\n",
       "      <th>1178546</th>\n",
       "      <td>ZWE</td>\n",
       "      <td>716</td>\n",
       "      <td>Zimbabwe</td>\n",
       "      <td>ZMB</td>\n",
       "      <td>894</td>\n",
       "      <td>Zambia</td>\n",
       "      <td>2022</td>\n",
       "      <td>3.278975e+10</td>\n",
       "      <td>2.916378e+10</td>\n",
       "      <td>1.0</td>\n",
       "      <td>...</td>\n",
       "      <td>0.003851</td>\n",
       "      <td>0.000819</td>\n",
       "      <td>0.004780</td>\n",
       "      <td>0.007080</td>\n",
       "      <td>0.006744</td>\n",
       "      <td>0.0</td>\n",
       "      <td>0.0</td>\n",
       "      <td>0.0</td>\n",
       "      <td>0.0</td>\n",
       "      <td>0.0</td>\n",
       "    </tr>\n",
       "  </tbody>\n",
       "</table>\n",
       "<p>1010187 rows × 49 columns</p>\n",
       "</div>"
      ]
     },
     "execution_count": 87,
     "metadata": {},
     "output_type": "execute_result"
    }
   ],
   "execution_count": 87
  },
  {
   "metadata": {
    "ExecuteTime": {
     "end_time": "2025-06-29T19:43:17.166899Z",
     "start_time": "2025-06-29T19:42:43.687777Z"
    }
   },
   "cell_type": "code",
   "source": [
    "gru_model.eval()\n",
    "preds, truth, years_collected = [], [], []\n",
    "with torch.no_grad():\n",
    "  for X, y, di, yr in tqdm(data_loader, desc=\"Predicting\", unit=\"batch\"):\n",
    "    X, di = map(lambda t: t.to(device, non_blocking=True), (X, di))\n",
    "    y_hat = gru_model(X, di).cpu()\n",
    "    y_hat = (y_hat + 0.5) * (df[\"EXPORT\"].max() - df[\"EXPORT\"].min()) + df[\"EXPORT\"].min()\n",
    "    preds.append(y_hat)\n",
    "    truth.append(y)\n",
    "    years_collected.append(yr)\n",
    "\n",
    "preds = torch.cat(preds).numpy()\n",
    "truth = torch.cat(truth).numpy()\n",
    "years = torch.cat(years_collected).numpy()"
   ],
   "id": "569700c8782cec6",
   "outputs": [
    {
     "name": "stderr",
     "output_type": "stream",
     "text": [
      "Predicting: 100%|██████████| 7893/7893 [00:33<00:00, 236.90batch/s]\n"
     ]
    }
   ],
   "execution_count": 88
  },
  {
   "metadata": {
    "ExecuteTime": {
     "end_time": "2025-06-29T19:43:17.188166Z",
     "start_time": "2025-06-29T19:43:17.185492Z"
    }
   },
   "cell_type": "code",
   "source": [
    "dyad_id_to_plot = \"ROM_AUT\"\n",
    "df_dyad = df[df[\"dyad_id\"] == dyad_id_to_plot]\n",
    "df_dyad = df_dyad.sort_values(\"Year\")"
   ],
   "id": "d8b86acfb474a91f",
   "outputs": [],
   "execution_count": 89
  },
  {
   "metadata": {
    "ExecuteTime": {
     "end_time": "2025-06-29T19:43:17.256039Z",
     "start_time": "2025-06-29T19:43:17.203058Z"
    }
   },
   "cell_type": "code",
   "source": [
    "plt.figure(figsize=(10, 6))\n",
    "sns.lineplot(data=df_dyad, x=\"Year\", y=\"EXPORT\", marker=\"o\")\n",
    "plt.title(f\"Export Over Time for Dyad: {dyad_id_to_plot}\")\n",
    "plt.xlabel(\"Year\")\n",
    "plt.ylabel(\"Export Value\")\n",
    "plt.grid(True)\n",
    "plt.tight_layout()\n",
    "plt.show()"
   ],
   "id": "8d41f5aeb4102c7f",
   "outputs": [
    {
     "data": {
      "text/plain": [
       "<Figure size 1000x600 with 1 Axes>"
      ],
      "image/png": "[encoded data removed]"
     },
     "metadata": {},
     "output_type": "display_data"
    }
   ],
   "execution_count": 90
  },
  {
   "metadata": {
    "ExecuteTime": {
     "end_time": "2025-06-29T19:43:37.914301Z",
     "start_time": "2025-06-29T19:43:36.156194Z"
    }
   },
   "cell_type": "code",
   "source": [
    "dyad_idx_to_predict = dyad_to_idx[\"ROM_AUT\"]\n",
    "preds = []\n",
    "truth = []\n",
    "years_collected = []\n",
    "with torch.no_grad():\n",
    "  for X, y, di, yr in tqdm(data_loader, desc=\"Predicting\", unit=\"batch\"):\n",
    "    mask = (di == dyad_idx_to_predict)\n",
    "    if mask.any():\n",
    "      X_masked = X[mask].to(device)\n",
    "      di_masked = di[mask].to(device)\n",
    "      y_masked = y[mask]\n",
    "      yr_masked = yr[mask]\n",
    "\n",
    "      y_hat = gru_model(X_masked, di_masked).cpu()\n",
    "      # y_hat = (y_hat + 0.5) * (df[\"EXPORT\"].max() - df[\"EXPORT\"].min()) + df[\"EXPORT\"].min()\n",
    "\n",
    "      preds.append(y_hat)\n",
    "      truth.append(y_masked)\n",
    "      years_collected.append(yr_masked)\n",
    "\n",
    "# Concatenate at the end\n",
    "preds = torch.cat(preds).numpy()\n",
    "truth = torch.cat(truth).numpy()\n",
    "years = torch.cat(years_collected).numpy()"
   ],
   "id": "6cae57058fc38eed",
   "outputs": [
    {
     "name": "stderr",
     "output_type": "stream",
     "text": [
      "Predicting: 100%|██████████| 7893/7893 [00:01<00:00, 4498.73batch/s]\n"
     ]
    }
   ],
   "execution_count": 100
  },
  {
   "metadata": {
    "ExecuteTime": {
     "end_time": "2025-06-29T19:43:38.589674Z",
     "start_time": "2025-06-29T19:43:38.515279Z"
    }
   },
   "cell_type": "code",
   "source": [
    "EXPORT_min = df[\"EXPORT\"].min()\n",
    "EXPORT_max = df[\"EXPORT\"].max()\n",
    "\n",
    "preds_original = (preds + 0.5) * (EXPORT_max - EXPORT_min) + EXPORT_min\n",
    "truth_original = (truth + 0.5) * (EXPORT_max - EXPORT_min) + EXPORT_min\n",
    "\n",
    "# 2. Apply log1p as you did for PPML baseline\n",
    "preds_log = preds_original\n",
    "truth_log = truth_original\n",
    "\n",
    "# 3. Assemble a DataFrame with years\n",
    "plot_df = pd.DataFrame({\n",
    "  \"Year\": years.flatten(),\n",
    "  \"Predicted_log\": preds.flatten(),\n",
    "  \"Truth_log\": truth.flatten(),\n",
    "})\n",
    "\n",
    "# 4. Aggregate by year\n",
    "agg = plot_df.groupby(\"Year\")[[\"Predicted_log\", \"Truth_log\"]].sum().reset_index()\n",
    "agg = agg[agg[\"Year\"] >= 1998]\n",
    "\n",
    "# 5. Plot\n",
    "plt.figure(figsize=(10, 6))\n",
    "sns.lineplot(data=agg, x=\"Year\", y=\"Truth_log\", label=\"Actual Total (log)\", marker=\"o\")\n",
    "sns.lineplot(data=agg, x=\"Year\", y=\"Predicted_log\", label=\"Predicted Total (log)\", marker=\"s\")\n",
    "plt.title(\"Total Actual vs. Predicted Export (log1p) Across All Dyads - GRU\")\n",
    "plt.xlabel(\"Year\")\n",
    "plt.ylabel(\"log(Export + 1)\")\n",
    "plt.legend()\n",
    "plt.grid(True)\n",
    "plt.tight_layout()\n",
    "plt.show()"
   ],
   "id": "5fbcedb4ef7453a0",
   "outputs": [
    {
     "data": {
      "text/plain": [
       "<Figure size 1000x600 with 1 Axes>"
      ],
      "image/png": "[encoded data removed]"
     },
     "metadata": {},
     "output_type": "display_data"
    }
   ],
   "execution_count": 101
  },
  {
   "metadata": {
    "ExecuteTime": {
     "end_time": "2025-06-29T19:43:46.257963Z",
     "start_time": "2025-06-29T19:43:46.185819Z"
    }
   },
   "cell_type": "code",
   "source": [
    "df_dyad = df_dyad.copy()  # Avoid modifying original\n",
    "df_dyad[\"Predicted_EXPORT\"] = preds.flatten()\n",
    "\n",
    "# Plot actual vs predicted\n",
    "plt.figure(figsize=(10, 6))\n",
    "sns.lineplot(data=df[df[\"dyad_id\"] == \"ROM_AUT\"], x=\"Year\", y=\"EXPORT\", label=\"Actual\", marker=\"o\")\n",
    "sns.lineplot(data=df_dyad, x=\"Year\", y=\"Predicted_EXPORT\", label=\"Predicted\", marker=\"s\")\n",
    "plt.title(f\"Export Over Time for Dyad: {dyad_id_to_plot}\")\n",
    "plt.xlabel(\"Year\")\n",
    "plt.ylabel(\"Export Value\")\n",
    "plt.legend()\n",
    "plt.grid(True)\n",
    "plt.tight_layout()\n",
    "plt.show()"
   ],
   "id": "c5a1dd3c7d5fedd2",
   "outputs": [
    {
     "data": {
      "text/plain": [
       "<Figure size 1000x600 with 1 Axes>"
      ],
      "image/png": "[encoded data removed]"
     },
     "metadata": {},
     "output_type": "display_data"
    }
   ],
   "execution_count": 102
  },
  {
   "metadata": {
    "ExecuteTime": {
     "end_time": "2025-06-29T19:43:20.746267Z",
     "start_time": "2025-06-29T19:43:20.738514Z"
    }
   },
   "cell_type": "code",
   "source": "df_dyad.head(10)",
   "id": "fcd4f533ae5bca9b",
   "outputs": [
    {
     "data": {
      "text/plain": [
       "       ISO3_reporter UNDS_reporter CNAME_reporter ISO3_partner UNDS_partner  \\\n",
       "884202           ROM           642        Romania          AUT          040   \n",
       "884203           ROM           642        Romania          AUT          040   \n",
       "884204           ROM           642        Romania          AUT          040   \n",
       "884205           ROM           642        Romania          AUT          040   \n",
       "884206           ROM           642        Romania          AUT          040   \n",
       "884207           ROM           642        Romania          AUT          040   \n",
       "884208           ROM           642        Romania          AUT          040   \n",
       "884209           ROM           642        Romania          AUT          040   \n",
       "884210           ROM           642        Romania          AUT          040   \n",
       "884211           ROM           642        Romania          AUT          040   \n",
       "\n",
       "       CNAME_partner  Year  GDP_reporter   GDP_partner  contig  ...  \\\n",
       "884202       Austria  1993  2.636116e+10  1.896340e+11     0.0  ...   \n",
       "884203       Austria  1994  3.007281e+10  2.027380e+11     0.0  ...   \n",
       "884204       Austria  1995  3.743016e+10  2.400942e+11     0.0  ...   \n",
       "884205       Austria  1996  3.693707e+10  2.359526e+11     0.0  ...   \n",
       "884206       Austria  1997  3.557521e+10  2.117248e+11     0.0  ...   \n",
       "884207       Austria  1998  4.169609e+10  2.170681e+11     0.0  ...   \n",
       "884208       Austria  1999  3.595316e+10  2.164218e+11     0.0  ...   \n",
       "884209       Austria  2000  3.725374e+10  1.961816e+11     0.0  ...   \n",
       "884210       Austria  2001  4.039512e+10  1.964772e+11     0.0  ...   \n",
       "884211       Austria  2002  4.606550e+10  2.128372e+11     0.0  ...   \n",
       "\n",
       "        GDP_partner_centered_lag2  GDP_partner_centered_lag3  \\\n",
       "884202                   0.119534                   0.113941   \n",
       "884203                   0.135775                   0.119534   \n",
       "884204                   0.132190                   0.135775   \n",
       "884205                   0.142228                   0.132190   \n",
       "884206                   0.170844                   0.142228   \n",
       "884207                   0.167671                   0.170844   \n",
       "884208                   0.149112                   0.167671   \n",
       "884209                   0.153205                   0.149112   \n",
       "884210                   0.152710                   0.153205   \n",
       "884211                   0.137205                   0.152710   \n",
       "\n",
       "        GDP_partner_centered_lag4  GDP_partner_centered_lag5  sanction_lag1  \\\n",
       "884202                   0.088488                   0.088666            0.0   \n",
       "884203                   0.113941                   0.088488            0.0   \n",
       "884204                   0.119534                   0.113941            0.0   \n",
       "884205                   0.135775                   0.119534            0.0   \n",
       "884206                   0.132190                   0.135775            0.0   \n",
       "884207                   0.142228                   0.132190            0.0   \n",
       "884208                   0.170844                   0.142228            0.0   \n",
       "884209                   0.167671                   0.170844            0.0   \n",
       "884210                   0.149112                   0.167671            0.0   \n",
       "884211                   0.153205                   0.149112            0.0   \n",
       "\n",
       "        sanction_lag2  sanction_lag3  sanction_lag4  sanction_lag5  \\\n",
       "884202            0.0            0.0            0.0            0.0   \n",
       "884203            0.0            0.0            0.0            0.0   \n",
       "884204            0.0            0.0            0.0            0.0   \n",
       "884205            0.0            0.0            0.0            0.0   \n",
       "884206            0.0            0.0            0.0            0.0   \n",
       "884207            0.0            0.0            0.0            0.0   \n",
       "884208            0.0            0.0            0.0            0.0   \n",
       "884209            0.0            0.0            0.0            0.0   \n",
       "884210            0.0            0.0            0.0            0.0   \n",
       "884211            0.0            0.0            0.0            0.0   \n",
       "\n",
       "        Predicted_EXPORT  \n",
       "884202       320950304.0  \n",
       "884203       322521920.0  \n",
       "884204       324709248.0  \n",
       "884205       327960736.0  \n",
       "884206       331478272.0  \n",
       "884207       332833376.0  \n",
       "884208       334870592.0  \n",
       "884209       335781824.0  \n",
       "884210       333462656.0  \n",
       "884211       331608064.0  \n",
       "\n",
       "[10 rows x 50 columns]"
      ],
      "text/html": [
       "<div>\n",
       "<style scoped>\n",
       "    .dataframe tbody tr th:only-of-type {\n",
       "        vertical-align: middle;\n",
       "    }\n",
       "\n",
       "    .dataframe tbody tr th {\n",
       "        vertical-align: top;\n",
       "    }\n",
       "\n",
       "    .dataframe thead th {\n",
       "        text-align: right;\n",
       "    }\n",
       "</style>\n",
       "<table border=\"1\" class=\"dataframe\">\n",
       "  <thead>\n",
       "    <tr style=\"text-align: right;\">\n",
       "      <th></th>\n",
       "      <th>ISO3_reporter</th>\n",
       "      <th>UNDS_reporter</th>\n",
       "      <th>CNAME_reporter</th>\n",
       "      <th>ISO3_partner</th>\n",
       "      <th>UNDS_partner</th>\n",
       "      <th>CNAME_partner</th>\n",
       "      <th>Year</th>\n",
       "      <th>GDP_reporter</th>\n",
       "      <th>GDP_partner</th>\n",
       "      <th>contig</th>\n",
       "      <th>...</th>\n",
       "      <th>GDP_partner_centered_lag2</th>\n",
       "      <th>GDP_partner_centered_lag3</th>\n",
       "      <th>GDP_partner_centered_lag4</th>\n",
       "      <th>GDP_partner_centered_lag5</th>\n",
       "      <th>sanction_lag1</th>\n",
       "      <th>sanction_lag2</th>\n",
       "      <th>sanction_lag3</th>\n",
       "      <th>sanction_lag4</th>\n",
       "      <th>sanction_lag5</th>\n",
       "      <th>Predicted_EXPORT</th>\n",
       "    </tr>\n",
       "  </thead>\n",
       "  <tbody>\n",
       "    <tr>\n",
       "      <th>884202</th>\n",
       "      <td>ROM</td>\n",
       "      <td>642</td>\n",
       "      <td>Romania</td>\n",
       "      <td>AUT</td>\n",
       "      <td>040</td>\n",
       "      <td>Austria</td>\n",
       "      <td>1993</td>\n",
       "      <td>2.636116e+10</td>\n",
       "      <td>1.896340e+11</td>\n",
       "      <td>0.0</td>\n",
       "      <td>...</td>\n",
       "      <td>0.119534</td>\n",
       "      <td>0.113941</td>\n",
       "      <td>0.088488</td>\n",
       "      <td>0.088666</td>\n",
       "      <td>0.0</td>\n",
       "      <td>0.0</td>\n",
       "      <td>0.0</td>\n",
       "      <td>0.0</td>\n",
       "      <td>0.0</td>\n",
       "      <td>320950304.0</td>\n",
       "    </tr>\n",
       "    <tr>\n",
       "      <th>884203</th>\n",
       "      <td>ROM</td>\n",
       "      <td>642</td>\n",
       "      <td>Romania</td>\n",
       "      <td>AUT</td>\n",
       "      <td>040</td>\n",
       "      <td>Austria</td>\n",
       "      <td>1994</td>\n",
       "      <td>3.007281e+10</td>\n",
       "      <td>2.027380e+11</td>\n",
       "      <td>0.0</td>\n",
       "      <td>...</td>\n",
       "      <td>0.135775</td>\n",
       "      <td>0.119534</td>\n",
       "      <td>0.113941</td>\n",
       "      <td>0.088488</td>\n",
       "      <td>0.0</td>\n",
       "      <td>0.0</td>\n",
       "      <td>0.0</td>\n",
       "      <td>0.0</td>\n",
       "      <td>0.0</td>\n",
       "      <td>322521920.0</td>\n",
       "    </tr>\n",
       "    <tr>\n",
       "      <th>884204</th>\n",
       "      <td>ROM</td>\n",
       "      <td>642</td>\n",
       "      <td>Romania</td>\n",
       "      <td>AUT</td>\n",
       "      <td>040</td>\n",
       "      <td>Austria</td>\n",
       "      <td>1995</td>\n",
       "      <td>3.743016e+10</td>\n",
       "      <td>2.400942e+11</td>\n",
       "      <td>0.0</td>\n",
       "      <td>...</td>\n",
       "      <td>0.132190</td>\n",
       "      <td>0.135775</td>\n",
       "      <td>0.119534</td>\n",
       "      <td>0.113941</td>\n",
       "      <td>0.0</td>\n",
       "      <td>0.0</td>\n",
       "      <td>0.0</td>\n",
       "      <td>0.0</td>\n",
       "      <td>0.0</td>\n",
       "      <td>324709248.0</td>\n",
       "    </tr>\n",
       "    <tr>\n",
       "      <th>884205</th>\n",
       "      <td>ROM</td>\n",
       "      <td>642</td>\n",
       "      <td>Romania</td>\n",
       "      <td>AUT</td>\n",
       "      <td>040</td>\n",
       "      <td>Austria</td>\n",
       "      <td>1996</td>\n",
       "      <td>3.693707e+10</td>\n",
       "      <td>2.359526e+11</td>\n",
       "      <td>0.0</td>\n",
       "      <td>...</td>\n",
       "      <td>0.142228</td>\n",
       "      <td>0.132190</td>\n",
       "      <td>0.135775</td>\n",
       "      <td>0.119534</td>\n",
       "      <td>0.0</td>\n",
       "      <td>0.0</td>\n",
       "      <td>0.0</td>\n",
       "      <td>0.0</td>\n",
       "      <td>0.0</td>\n",
       "      <td>327960736.0</td>\n",
       "    </tr>\n",
       "    <tr>\n",
       "      <th>884206</th>\n",
       "      <td>ROM</td>\n",
       "      <td>642</td>\n",
       "      <td>Romania</td>\n",
       "      <td>AUT</td>\n",
       "      <td>040</td>\n",
       "      <td>Austria</td>\n",
       "      <td>1997</td>\n",
       "      <td>3.557521e+10</td>\n",
       "      <td>2.117248e+11</td>\n",
       "      <td>0.0</td>\n",
       "      <td>...</td>\n",
       "      <td>0.170844</td>\n",
       "      <td>0.142228</td>\n",
       "      <td>0.132190</td>\n",
       "      <td>0.135775</td>\n",
       "      <td>0.0</td>\n",
       "      <td>0.0</td>\n",
       "      <td>0.0</td>\n",
       "      <td>0.0</td>\n",
       "      <td>0.0</td>\n",
       "      <td>331478272.0</td>\n",
       "    </tr>\n",
       "    <tr>\n",
       "      <th>884207</th>\n",
       "      <td>ROM</td>\n",
       "      <td>642</td>\n",
       "      <td>Romania</td>\n",
       "      <td>AUT</td>\n",
       "      <td>040</td>\n",
       "      <td>Austria</td>\n",
       "      <td>1998</td>\n",
       "      <td>4.169609e+10</td>\n",
       "      <td>2.170681e+11</td>\n",
       "      <td>0.0</td>\n",
       "      <td>...</td>\n",
       "      <td>0.167671</td>\n",
       "      <td>0.170844</td>\n",
       "      <td>0.142228</td>\n",
       "      <td>0.132190</td>\n",
       "      <td>0.0</td>\n",
       "      <td>0.0</td>\n",
       "      <td>0.0</td>\n",
       "      <td>0.0</td>\n",
       "      <td>0.0</td>\n",
       "      <td>332833376.0</td>\n",
       "    </tr>\n",
       "    <tr>\n",
       "      <th>884208</th>\n",
       "      <td>ROM</td>\n",
       "      <td>642</td>\n",
       "      <td>Romania</td>\n",
       "      <td>AUT</td>\n",
       "      <td>040</td>\n",
       "      <td>Austria</td>\n",
       "      <td>1999</td>\n",
       "      <td>3.595316e+10</td>\n",
       "      <td>2.164218e+11</td>\n",
       "      <td>0.0</td>\n",
       "      <td>...</td>\n",
       "      <td>0.149112</td>\n",
       "      <td>0.167671</td>\n",
       "      <td>0.170844</td>\n",
       "      <td>0.142228</td>\n",
       "      <td>0.0</td>\n",
       "      <td>0.0</td>\n",
       "      <td>0.0</td>\n",
       "      <td>0.0</td>\n",
       "      <td>0.0</td>\n",
       "      <td>334870592.0</td>\n",
       "    </tr>\n",
       "    <tr>\n",
       "      <th>884209</th>\n",
       "      <td>ROM</td>\n",
       "      <td>642</td>\n",
       "      <td>Romania</td>\n",
       "      <td>AUT</td>\n",
       "      <td>040</td>\n",
       "      <td>Austria</td>\n",
       "      <td>2000</td>\n",
       "      <td>3.725374e+10</td>\n",
       "      <td>1.961816e+11</td>\n",
       "      <td>0.0</td>\n",
       "      <td>...</td>\n",
       "      <td>0.153205</td>\n",
       "      <td>0.149112</td>\n",
       "      <td>0.167671</td>\n",
       "      <td>0.170844</td>\n",
       "      <td>0.0</td>\n",
       "      <td>0.0</td>\n",
       "      <td>0.0</td>\n",
       "      <td>0.0</td>\n",
       "      <td>0.0</td>\n",
       "      <td>335781824.0</td>\n",
       "    </tr>\n",
       "    <tr>\n",
       "      <th>884210</th>\n",
       "      <td>ROM</td>\n",
       "      <td>642</td>\n",
       "      <td>Romania</td>\n",
       "      <td>AUT</td>\n",
       "      <td>040</td>\n",
       "      <td>Austria</td>\n",
       "      <td>2001</td>\n",
       "      <td>4.039512e+10</td>\n",
       "      <td>1.964772e+11</td>\n",
       "      <td>0.0</td>\n",
       "      <td>...</td>\n",
       "      <td>0.152710</td>\n",
       "      <td>0.153205</td>\n",
       "      <td>0.149112</td>\n",
       "      <td>0.167671</td>\n",
       "      <td>0.0</td>\n",
       "      <td>0.0</td>\n",
       "      <td>0.0</td>\n",
       "      <td>0.0</td>\n",
       "      <td>0.0</td>\n",
       "      <td>333462656.0</td>\n",
       "    </tr>\n",
       "    <tr>\n",
       "      <th>884211</th>\n",
       "      <td>ROM</td>\n",
       "      <td>642</td>\n",
       "      <td>Romania</td>\n",
       "      <td>AUT</td>\n",
       "      <td>040</td>\n",
       "      <td>Austria</td>\n",
       "      <td>2002</td>\n",
       "      <td>4.606550e+10</td>\n",
       "      <td>2.128372e+11</td>\n",
       "      <td>0.0</td>\n",
       "      <td>...</td>\n",
       "      <td>0.137205</td>\n",
       "      <td>0.152710</td>\n",
       "      <td>0.153205</td>\n",
       "      <td>0.149112</td>\n",
       "      <td>0.0</td>\n",
       "      <td>0.0</td>\n",
       "      <td>0.0</td>\n",
       "      <td>0.0</td>\n",
       "      <td>0.0</td>\n",
       "      <td>331608064.0</td>\n",
       "    </tr>\n",
       "  </tbody>\n",
       "</table>\n",
       "<p>10 rows × 50 columns</p>\n",
       "</div>"
      ]
     },
     "execution_count": 94,
     "metadata": {},
     "output_type": "execute_result"
    }
   ],
   "execution_count": 94
  },
  {
   "metadata": {
    "ExecuteTime": {
     "end_time": "2025-06-29T19:43:20.817628Z",
     "start_time": "2025-06-29T19:43:20.750441Z"
    }
   },
   "cell_type": "code",
   "source": [
    "df[\"GDP_reporter\"] = np.log1p(df[\"GDP_reporter\"]).astype(float)\n",
    "df[\"GDP_partner\"] = np.log1p(df[\"GDP_partner\"]).astype(float)\n",
    "df[\"EXPORT\"] = np.log1p(df[\"EXPORT\"])\n",
    "df[\"sanction\"] = (df[SANCTION_COLS]\n",
    "                  .sum(axis=1)).astype(int)\n",
    "df[\"distw\"] = np.log1p(df[\"distw\"]).astype(float)"
   ],
   "id": "3b10fcd49eeb97da",
   "outputs": [],
   "execution_count": 95
  },
  {
   "metadata": {
    "ExecuteTime": {
     "end_time": "2025-06-29T19:43:20.837007Z",
     "start_time": "2025-06-29T19:43:20.833185Z"
    }
   },
   "cell_type": "code",
   "source": [
    "beta_df = pd.read_csv(\"../../models/ppml_beta_values.csv\", index_col=0)\n",
    "beta_values = beta_df[\"beta\"].values\n",
    "model_columns = beta_df.index.tolist()"
   ],
   "id": "ad50011b98e14a57",
   "outputs": [],
   "execution_count": 96
  },
  {
   "metadata": {
    "ExecuteTime": {
     "end_time": "2025-06-29T19:43:20.857101Z",
     "start_time": "2025-06-29T19:43:20.855182Z"
    }
   },
   "cell_type": "code",
   "source": "model_columns",
   "id": "f2d3d3090ef85cec",
   "outputs": [
    {
     "data": {
      "text/plain": [
       "['GDP_reporter_lag1',\n",
       " 'GDP_reporter_lag2',\n",
       " 'GDP_reporter_lag3',\n",
       " 'GDP_reporter_lag4',\n",
       " 'GDP_reporter_lag5',\n",
       " 'GDP_partner_lag1',\n",
       " 'GDP_partner_lag2',\n",
       " 'GDP_partner_lag3',\n",
       " 'GDP_partner_lag4',\n",
       " 'GDP_partner_lag5',\n",
       " 'sanction_lag1',\n",
       " 'sanction_lag2',\n",
       " 'sanction_lag3',\n",
       " 'sanction_lag4',\n",
       " 'sanction_lag5',\n",
       " 'contig',\n",
       " 'comlang_off',\n",
       " 'colony',\n",
       " 'smctry',\n",
       " 'distw',\n",
       " 'dyad_id']"
      ]
     },
     "execution_count": 97,
     "metadata": {},
     "output_type": "execute_result"
    }
   ],
   "execution_count": 97
  },
  {
   "metadata": {
    "ExecuteTime": {
     "end_time": "2025-06-29T19:43:21.051588Z",
     "start_time": "2025-06-29T19:43:20.883961Z"
    }
   },
   "cell_type": "code",
   "source": [
    "lag_cols = [\"GDP_reporter\", \"GDP_partner\", \"sanction\"]\n",
    "for col in lag_cols:\n",
    "  for index in range(1, N_LAGS + 1):\n",
    "    df[f\"{col}_lag{index}\"] = df.groupby(\"dyad_id\", observed=True)[col].shift(index)"
   ],
   "id": "3392682b693653fd",
   "outputs": [],
   "execution_count": 98
  },
  {
   "metadata": {
    "ExecuteTime": {
     "end_time": "2025-06-29T19:43:21.596023Z",
     "start_time": "2025-06-29T19:43:21.107157Z"
    }
   },
   "cell_type": "code",
   "source": [
    "X_test = df[model_columns].values  # df should contain these columns\n",
    "\n",
    "# Step 2: Predict using dot product and exponentiate\n",
    "linear_combination = X_test @ beta_values\n",
    "df[\"EXPORT_hat\"] = np.exp(linear_combination)  # Add prediction to original df"
   ],
   "id": "4e1df1ca9428f408",
   "outputs": [
    {
     "ename": "TypeError",
     "evalue": "can't multiply sequence by non-int of type 'float'",
     "output_type": "error",
     "traceback": [
      "\u001B[0;31m---------------------------------------------------------------------------\u001B[0m",
      "\u001B[0;31mTypeError\u001B[0m                                 Traceback (most recent call last)",
      "Cell \u001B[0;32mIn[99], line 4\u001B[0m\n\u001B[1;32m      1\u001B[0m X_test \u001B[38;5;241m=\u001B[39m df[model_columns]\u001B[38;5;241m.\u001B[39mvalues  \u001B[38;5;66;03m# df should contain these columns\u001B[39;00m\n\u001B[1;32m      3\u001B[0m \u001B[38;5;66;03m# Step 2: Predict using dot product and exponentiate\u001B[39;00m\n\u001B[0;32m----> 4\u001B[0m linear_combination \u001B[38;5;241m=\u001B[39m X_test \u001B[38;5;241m@\u001B[39m beta_values\n\u001B[1;32m      5\u001B[0m df[\u001B[38;5;124m\"\u001B[39m\u001B[38;5;124mEXPORT_hat\u001B[39m\u001B[38;5;124m\"\u001B[39m] \u001B[38;5;241m=\u001B[39m np\u001B[38;5;241m.\u001B[39mexp(linear_combination)\n",
      "\u001B[0;31mTypeError\u001B[0m: can't multiply sequence by non-int of type 'float'"
     ]
    }
   ],
   "execution_count": 99
  },
  {
   "metadata": {
    "ExecuteTime": {
     "end_time": "2025-06-29T19:43:21.599367Z",
     "start_time": "2025-06-29T18:13:51.046677Z"
    }
   },
   "cell_type": "code",
   "source": [
    "dyad_id_to_plot = \"AUT_ROM\"  # or any dyad ID you want\n",
    "df_dyad = df[df[\"dyad_id\"] == dyad_id_to_plot].copy()\n",
    "\n",
    "plt.figure(figsize=(10, 6))\n",
    "sns.lineplot(data=df_dyad, x=\"Year\", y=\"EXPORT\", label=\"Actual\", marker=\"o\")\n",
    "sns.lineplot(data=df_dyad, x=\"Year\", y=\"EXPORT_hat\", label=\"Predicted\", marker=\"s\")\n",
    "plt.title(f\"Actual vs. Predicted Export for Dyad: {dyad_id_to_plot}\")\n",
    "plt.xlabel(\"Year\")\n",
    "plt.ylabel(\"Export Value\")\n",
    "plt.legend()\n",
    "plt.grid(True)\n",
    "plt.tight_layout()\n",
    "plt.show()"
   ],
   "id": "fd78ed47e315897a",
   "outputs": [
    {
     "data": {
      "text/plain": [
       "<Figure size 1000x600 with 1 Axes>"
      ],
      "image/png": "[encoded data removed]"
     },
     "metadata": {},
     "output_type": "display_data"
    }
   ],
   "execution_count": 34
  },
  {
   "metadata": {
    "ExecuteTime": {
     "end_time": "2025-06-29T19:43:21.604193Z",
     "start_time": "2025-06-29T18:13:51.120788Z"
    }
   },
   "cell_type": "code",
   "source": [
    "agg = df.groupby(\"Year\")[[\"EXPORT\", \"EXPORT_hat\"]].sum().reset_index()\n",
    "agg = agg[agg[\"Year\"] >= 1998]\n",
    "\n",
    "plt.figure(figsize=(10, 6))\n",
    "sns.lineplot(data=agg, x=\"Year\", y=\"EXPORT\", label=\"Actual Total\", marker=\"o\")\n",
    "sns.lineplot(data=agg, x=\"Year\", y=\"EXPORT_hat\", label=\"Predicted Total\", marker=\"s\")\n",
    "plt.title(\"Total Actual vs. Predicted Export Across All Dyads\")\n",
    "plt.xlabel(\"Year\")\n",
    "plt.ylabel(\"Total Export Value\")\n",
    "plt.legend()\n",
    "plt.grid(True)\n",
    "plt.tight_layout()\n",
    "plt.show()"
   ],
   "id": "5fb62cb3348b45cc",
   "outputs": [
    {
     "data": {
      "text/plain": [
       "<Figure size 1000x600 with 1 Axes>"
      ],
      "image/png": "[encoded data removed]"
     },
     "metadata": {},
     "output_type": "display_data"
    }
   ],
   "execution_count": 35
  },
  {
   "metadata": {
    "ExecuteTime": {
     "end_time": "2025-06-29T19:43:21.604414Z",
     "start_time": "2025-06-29T18:13:51.198009Z"
    }
   },
   "cell_type": "code",
   "source": "",
   "id": "2e8a98aae67d833f",
   "outputs": [],
   "execution_count": null
  }
 ],
 "metadata": {
  "kernelspec": {
   "display_name": "Python 3",
   "language": "python",
   "name": "python3"
  },
  "language_info": {
   "codemirror_mode": {
    "name": "ipython",
    "version": 2
   },
   "file_extension": ".py",
   "mimetype": "text/x-python",
   "name": "python",
   "nbconvert_exporter": "python",
   "pygments_lexer": "ipython2",
   "version": "2.7.6"
  }
 },
 "nbformat": 4,
 "nbformat_minor": 5
}
