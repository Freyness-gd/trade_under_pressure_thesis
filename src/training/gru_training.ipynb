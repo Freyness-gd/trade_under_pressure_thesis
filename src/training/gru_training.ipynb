{
 "cells": [
  {
   "cell_type": "markdown",
   "id": "e8067785cd8d7919",
   "metadata": {},
   "source": [
    "# Preparation"
   ]
  },
  {
   "cell_type": "markdown",
   "id": "1fe72819da94dd5d",
   "metadata": {},
   "source": [
    "## Import modules"
   ]
  },
  {
   "cell_type": "code",
   "id": "49f2c526a22d4a8c",
   "metadata": {
    "ExecuteTime": {
     "end_time": "2025-06-27T06:09:07.615502Z",
     "start_time": "2025-06-27T06:09:07.377202Z"
    }
   },
   "source": [
    "%load_ext autoreload\n",
    "%autoreload 1\n",
    "%aimport thesis_utils"
   ],
   "outputs": [],
   "execution_count": 1
  },
  {
   "cell_type": "code",
   "id": "initial_id",
   "metadata": {
    "ExecuteTime": {
     "end_time": "2025-06-27T06:09:08.805531Z",
     "start_time": "2025-06-27T06:09:07.620407Z"
    }
   },
   "source": [
    "import copy\n",
    "import math\n",
    "from typing import List\n",
    "\n",
    "import matplotlib.pyplot as plt\n",
    "import numpy as np\n",
    "import pandas as pd\n",
    "import seaborn as sns\n",
    "import torch\n",
    "import torch.nn as nn\n",
    "import torch.optim as optim\n",
    "from pandas import DataFrame\n",
    "from sklearn.model_selection import GroupShuffleSplit\n",
    "from sklearn.model_selection import KFold\n",
    "from torch.optim import Optimizer\n",
    "from torch.optim.lr_scheduler import LRScheduler\n",
    "from torch.utils.data import DataLoader, Dataset, Subset\n",
    "\n",
    "import thesis_utils.datastruc as tuds\n",
    "import thesis_utils.models as tumod"
   ],
   "outputs": [],
   "execution_count": 2
  },
  {
   "cell_type": "markdown",
   "id": "4284e3ddbaa79d6f",
   "metadata": {},
   "source": [
    "## Configuration"
   ]
  },
  {
   "metadata": {},
   "cell_type": "code",
   "outputs": [],
   "execution_count": null,
   "source": [
    "# Config for saving outputs\n",
    "SAVE_ENABLED = True\n",
    "SERIAL_NUMBER = \"NOT_SET\"\n",
    "\n",
    "# Model parameters\n",
    "SEQ_LEN = 10\n",
    "HORIZON = 1\n",
    "BATCH_SIZE = 128\n",
    "NUM_EPOCHS = 25\n",
    "HIDDEN_SIZE = 128\n",
    "N_LAYERS = 3\n",
    "DROPOUT = 0.3\n",
    "\n",
    "# Train parameters\n",
    "TARGET = \"EXPORT_centered\"\n",
    "FEATURES = [\n",
    "  \"GDP_reporter\",\n",
    "  \"GDP_partner\",\n",
    "  \"distw\", \"sanction\",  # sanctions categorical\n",
    "  \"contig\", \"comlang_off\", \"colony\", \"smctry\",  # dist cepii categorical\n",
    "]\n",
    "N_SPLITS = 5\n",
    "PATIENCE = 5\n",
    "LEARNING_RATE = 0.01\n",
    "WEIGHT_DECAY = 0.01\n",
    "RANDOM_SEED = 16\n",
    "KEEP_FRAC = 1.0\n",
    "N_LAGS = 5\n",
    "SUBSAMPLE_ENABLED = False\n",
    "N_DYADS = 5000\n",
    "\n",
    "EPS = 1e-19\n",
    "\n",
    "SANCTION_COLS = [\"arms\", \"military\", \"trade\", \"travel\", \"other\"]\n",
    "\n",
    "# Torch config\n",
    "torch.manual_seed(RANDOM_SEED)\n",
    "device = (\n",
    "  torch.device(\"mps\") if torch.backends.mps.is_available()\n",
    "  else torch.device(\"cpu\")\n",
    ")"
   ],
   "id": "61e300229ad638a6"
  },
  {
   "cell_type": "markdown",
   "id": "c9e963c3ab4f2220",
   "metadata": {},
   "source": [
    "## Load Data"
   ]
  },
  {
   "cell_type": "code",
   "id": "9451e98a113f268d",
   "metadata": {
    "ExecuteTime": {
     "end_time": "2025-06-27T06:09:09.376943Z",
     "start_time": "2025-06-27T06:09:08.927076Z"
    }
   },
   "source": [
    "processed = pd.read_parquet(path=\"../../data/model/processed.parquet\", engine=\"fastparquet\")\n",
    "df: DataFrame = processed.copy(deep=True)"
   ],
   "outputs": [],
   "execution_count": 4
  },
  {
   "cell_type": "markdown",
   "id": "84523341884506e1",
   "metadata": {},
   "source": [
    "### Sort, shift and compute data"
   ]
  },
  {
   "cell_type": "code",
   "id": "1dcefe0333d9c64b",
   "metadata": {
    "ExecuteTime": {
     "end_time": "2025-06-27T06:09:09.705211Z",
     "start_time": "2025-06-27T06:09:09.400595Z"
    }
   },
   "source": [
    "# Sort data by Report + Partner + Year\n",
    "df[\"dyad_id\"] = df[\"ISO3_reporter\"] + \"_\" + df[\"ISO3_partner\"]\n",
    "df = df.sort_values(by=[\"dyad_id\", \"Year\"], ignore_index=True)"
   ],
   "outputs": [],
   "execution_count": 5
  },
  {
   "cell_type": "code",
   "id": "80b184ad01b2ba40",
   "metadata": {
    "ExecuteTime": {
     "end_time": "2025-06-27T06:09:09.859805Z",
     "start_time": "2025-06-27T06:09:09.711444Z"
    }
   },
   "source": [
    "if SUBSAMPLE_ENABLED:\n",
    "  dyad_subsample = pd.Series(df[\"dyad_id\"].unique()).sample(n=N_DYADS, random_state=RANDOM_SEED, replace=False)\n",
    "  df = df[df[\"dyad_id\"].isin(dyad_subsample)]\n",
    "print(df[\"dyad_id\"].nunique())"
   ],
   "outputs": [
    {
     "name": "stdout",
     "output_type": "stream",
     "text": [
      "5000\n"
     ]
    }
   ],
   "execution_count": 6
  },
  {
   "cell_type": "code",
   "id": "a85175edfb33ec5e",
   "metadata": {
    "ExecuteTime": {
     "end_time": "2025-06-27T06:09:09.888012Z",
     "start_time": "2025-06-27T06:09:09.871204Z"
    }
   },
   "source": [
    "df[\"sanction\"] = (df[SANCTION_COLS]\n",
    "                  .sum(axis=1)).astype(int)"
   ],
   "outputs": [],
   "execution_count": 7
  },
  {
   "cell_type": "code",
   "id": "fc95e2c1d62df96f",
   "metadata": {
    "ExecuteTime": {
     "end_time": "2025-06-27T06:09:09.935516Z",
     "start_time": "2025-06-27T06:09:09.898730Z"
    }
   },
   "source": [
    "num_cols = [\"distw\", \"GDP_reporter\", \"GDP_partner\", \"sanction\", \"contig\",\n",
    "            \"comlang_off\", \"colony\", \"smctry\", \"Year\", ]\n",
    "df[num_cols] = df[num_cols].apply(pd.to_numeric, errors=\"coerce\").astype(float)\n",
    "df = df.dropna(subset=num_cols)"
   ],
   "outputs": [],
   "execution_count": 8
  },
  {
   "cell_type": "code",
   "id": "edde8db3cf1500e7",
   "metadata": {
    "ExecuteTime": {
     "end_time": "2025-06-27T06:09:09.962392Z",
     "start_time": "2025-06-27T06:09:09.945600Z"
    }
   },
   "source": [
    "df[\"Year\"] = df[\"Year\"].astype(int)\n",
    "for col in [\"dyad_id\"]:\n",
    "  df[col] = pd.Categorical(df[col], categories=sorted(df[col].unique()))"
   ],
   "outputs": [],
   "execution_count": 9
  },
  {
   "cell_type": "code",
   "id": "108e39049eaf7466",
   "metadata": {
    "ExecuteTime": {
     "end_time": "2025-06-27T06:09:09.979981Z",
     "start_time": "2025-06-27T06:09:09.973063Z"
    }
   },
   "source": [
    "center_columns = [\"distw\", \"GDP_reporter\", \"GDP_partner\", \"EXPORT\"]\n",
    "for col in center_columns:\n",
    "  col_max = df[col].max()\n",
    "  col_min = df[col].min()\n",
    "  df[col + \"_centered\"] = (df[col] - col_min) / (col_max - col_min) - 0.5"
   ],
   "outputs": [],
   "execution_count": 10
  },
  {
   "cell_type": "code",
   "id": "7b3312d0f51ca549",
   "metadata": {
    "ExecuteTime": {
     "end_time": "2025-06-27T06:09:09.993050Z",
     "start_time": "2025-06-27T06:09:09.990518Z"
    }
   },
   "source": [
    "# To each element in the FEATURE list add _centered\n",
    "FEATURES += [f\"{feature}_centered\" for feature in center_columns]\n",
    "for col in center_columns:\n",
    "  if col == \"EXPORT\":\n",
    "    continue\n",
    "  FEATURES.remove(col)\n",
    "FEATURES.remove(\"EXPORT_centered\")"
   ],
   "outputs": [],
   "execution_count": 11
  },
  {
   "cell_type": "code",
   "id": "4c7b73ff292ce4b1",
   "metadata": {
    "ExecuteTime": {
     "end_time": "2025-06-27T06:09:10.227392Z",
     "start_time": "2025-06-27T06:09:10.002993Z"
    }
   },
   "source": [
    "df_corr_input = df[FEATURES + [TARGET]].copy()\n",
    "df_corr_input = df_corr_input.apply(pd.to_numeric, errors=\"coerce\")\n",
    "corr = df_corr_input.corr(method=\"pearson\")\n",
    "\n",
    "# --- 4. Plot heat-map -------------------------------------------------------\n",
    "plt.figure(figsize=(12, 10))\n",
    "# Show only one triangle to avoid duplicate information\n",
    "mask = np.triu(np.ones_like(corr, dtype=bool))\n",
    "\n",
    "sns.heatmap(\n",
    "  corr,\n",
    "  mask=mask,\n",
    "  annot=True,  # write the coefficients\n",
    "  fmt=\".2f\",\n",
    "  cmap=\"coolwarm\",  # diverging blue–red palette\n",
    "  vmin=-1, vmax=1,\n",
    "  linewidths=0.5,\n",
    "  cbar_kws={ \"shrink\": 0.8, \"label\": \"Pearson r\" }\n",
    ")\n",
    "\n",
    "plt.title(\"Pearson Correlation Matrix: Features & Target\", pad=20, fontsize=14)\n",
    "plt.tight_layout()\n",
    "plt.show()"
   ],
   "outputs": [
    {
     "data": {
      "text/plain": [
       "<Figure size 1200x1000 with 2 Axes>"
      ],
      "image/png": "[encoded data removed]"
     },
     "metadata": {},
     "output_type": "display_data"
    }
   ],
   "execution_count": 12
  },
  {
   "cell_type": "markdown",
   "id": "eab345a3bd4fc194",
   "metadata": {},
   "source": [
    "## Split data"
   ]
  },
  {
   "cell_type": "code",
   "id": "24d7d66b2ad00570",
   "metadata": {
    "ExecuteTime": {
     "end_time": "2025-06-27T06:09:10.247013Z",
     "start_time": "2025-06-27T06:09:10.240605Z"
    }
   },
   "source": [
    "# Embeddings\n",
    "dyad_to_idx = { dyad: i for i, dyad in enumerate(df[\"dyad_id\"].cat.categories) }\n",
    "df[\"dyad_idx\"] = df[\"dyad_id\"].map(dyad_to_idx).astype(int)"
   ],
   "outputs": [],
   "execution_count": 13
  },
  {
   "cell_type": "code",
   "id": "692abefb91ccfc87",
   "metadata": {
    "ExecuteTime": {
     "end_time": "2025-06-27T06:09:10.421416Z",
     "start_time": "2025-06-27T06:09:10.260670Z"
    }
   },
   "source": [
    "gss = GroupShuffleSplit(n_splits=1, test_size=0.2, random_state=RANDOM_SEED)\n",
    "\n",
    "train_idx, test_idx = next(gss.split(df, groups=df[\"dyad_id\"]))\n",
    "test_df = df.iloc[test_idx]\n",
    "train_df = df.iloc[train_idx]\n",
    "\n",
    "train_idx, val_idx = next(gss.split(train_df, groups=train_df[\"dyad_id\"]))\n",
    "val_df = train_df.iloc[val_idx]\n",
    "train_df = train_df.iloc[train_idx]"
   ],
   "outputs": [],
   "execution_count": 14
  },
  {
   "cell_type": "code",
   "id": "39f48c81f014cfe0",
   "metadata": {
    "ExecuteTime": {
     "end_time": "2025-06-27T06:09:10.449170Z",
     "start_time": "2025-06-27T06:09:10.442699Z"
    }
   },
   "source": [
    "train_df.loc[:, FEATURES] = train_df.loc[:, FEATURES].astype(\n",
    "  \"float32\",\n",
    "  copy=False\n",
    ")"
   ],
   "outputs": [],
   "execution_count": 15
  },
  {
   "cell_type": "markdown",
   "id": "1053e63e8a6ccb76",
   "metadata": {},
   "source": [
    "# Train"
   ]
  },
  {
   "cell_type": "markdown",
   "id": "78e3575a51038c9d",
   "metadata": {},
   "source": [
    "## Define Fold and Epoch steps\n",
    "_For reusability_"
   ]
  },
  {
   "cell_type": "code",
   "id": "8eb0c16ea3f9a15d",
   "metadata": {
    "ExecuteTime": {
     "end_time": "2025-06-27T06:09:10.471375Z",
     "start_time": "2025-06-27T06:09:10.469349Z"
    }
   },
   "source": [
    "# Create KFold object\n",
    "kf = KFold(n_splits=N_SPLITS, shuffle=True, random_state=RANDOM_SEED)"
   ],
   "outputs": [],
   "execution_count": 16
  },
  {
   "cell_type": "code",
   "id": "82612d122ae0a3ae",
   "metadata": {
    "ExecuteTime": {
     "end_time": "2025-06-27T06:09:10.495733Z",
     "start_time": "2025-06-27T06:09:10.492074Z"
    }
   },
   "source": [
    "# Define epoch step\n",
    "def epoch_step(model: nn.Module, optimizer: Optimizer, criterion: nn.Module,\n",
    "               scheduler: LRScheduler, train_loader: DataLoader, val_loader: DataLoader,\n",
    "               device: any) -> float:\n",
    "  model.train()\n",
    "  for X, y, di in train_loader:\n",
    "    X, y, di = map(lambda t: t.to(device, non_blocking=True), (X, y, di))\n",
    "    optimizer.zero_grad()\n",
    "    loss = criterion(model(X, di), y)\n",
    "    loss.backward()\n",
    "    optimizer.step()\n",
    "\n",
    "  model.eval()\n",
    "  val_losses = []\n",
    "  with (torch.no_grad()):\n",
    "    for X, y, di in val_loader:\n",
    "      X, y, di = map(lambda t: t.to(device, non_blocking=True), (X, y, di))\n",
    "      val_losses.append(criterion(model(X, di), y).item())\n",
    "\n",
    "  val_rmse = math.sqrt((sum(val_losses) / len(val_losses)))\n",
    "  scheduler.step(val_rmse)\n",
    "  return val_rmse"
   ],
   "outputs": [],
   "execution_count": 17
  },
  {
   "cell_type": "code",
   "id": "959f98487abc0673",
   "metadata": {
    "ExecuteTime": {
     "end_time": "2025-06-27T06:09:10.522236Z",
     "start_time": "2025-06-27T06:09:10.517340Z"
    }
   },
   "source": [
    "# Define fold step\n",
    "def fold_step(fold: int, train_idx: List, val_idx: List,\n",
    "              dataset: Dataset, batch_size: int, num_epochs: int, patience: int,\n",
    "              model: nn.Module, device: any,\n",
    "              optimizer: Optimizer, criterion: nn.Module, scheduler: LRScheduler) -> (float, dict):\n",
    "  train_loader = DataLoader(\n",
    "    Subset(dataset, train_idx),\n",
    "    batch_size=batch_size,\n",
    "    shuffle=True,\n",
    "    num_workers=4,\n",
    "    persistent_workers=True,\n",
    "    prefetch_factor=2,\n",
    "    pin_memory=True\n",
    "  )\n",
    "\n",
    "  val_loader = DataLoader(\n",
    "    Subset(dataset, val_idx),\n",
    "    batch_size=batch_size,\n",
    "    shuffle=False,\n",
    "    num_workers=10,\n",
    "    persistent_workers=True,\n",
    "    prefetch_factor=2,\n",
    "    pin_memory=False\n",
    "  )\n",
    "\n",
    "  best_state = copy.deepcopy(model.state_dict())\n",
    "  best_rmse = float(\"inf\")\n",
    "  patience_left = patience\n",
    "\n",
    "  for epoch in range(num_epochs):\n",
    "    val_rmse = epoch_step(model=model, optimizer=optimizer, criterion=criterion,\n",
    "                          scheduler=scheduler, train_loader=train_loader, val_loader=val_loader,\n",
    "                          device=device)\n",
    "    print(f\"Epoch {epoch + 1:02d}/{num_epochs}  |  val RMSE: {val_rmse:.4f}\")\n",
    "\n",
    "    if val_rmse < best_rmse - 1e-4:\n",
    "      best_rmse, patience_left = val_rmse, 10\n",
    "      best_state = model.state_dict()\n",
    "    else:\n",
    "      patience_left -= 1\n",
    "      if patience_left == 0:\n",
    "        print(\"Early stop.\")\n",
    "        break\n",
    "  model.load_state_dict(best_state)\n",
    "  model.eval()\n",
    "  preds, truth = [], []\n",
    "  with torch.no_grad():\n",
    "    for X, y, di in val_loader:\n",
    "      X, di = map(lambda t: t.to(device, non_blocking=True), (X, di))\n",
    "      preds.append(model(X, di).cpu())\n",
    "      truth.append(y)\n",
    "  preds = torch.cat(preds).numpy()\n",
    "  truth = torch.cat(truth).numpy()\n",
    "\n",
    "  rmse = np.sqrt(((preds - truth) ** 2).mean())\n",
    "  mae = np.abs(preds - truth).mean()\n",
    "  r2 = 1 - ((preds - truth) ** 2).sum() / ((truth - truth.mean()) ** 2).sum()\n",
    "  print(f\" Fold {fold}  RMSE {rmse:.4f} | MAE {mae:.4f} | R² {r2:.4f}\")\n",
    "\n",
    "  return rmse, copy.deepcopy(best_state)\n"
   ],
   "outputs": [],
   "execution_count": 18
  },
  {
   "cell_type": "markdown",
   "id": "13f3e7e01662654",
   "metadata": {},
   "source": [
    "## Raw dataset"
   ]
  },
  {
   "cell_type": "markdown",
   "id": "ff153528228b1350",
   "metadata": {},
   "source": [
    "### Split dataset"
   ]
  },
  {
   "cell_type": "code",
   "id": "e38f7e2869374fc8",
   "metadata": {
    "ExecuteTime": {
     "end_time": "2025-06-27T06:09:10.573853Z",
     "start_time": "2025-06-27T06:09:10.542336Z"
    }
   },
   "source": [
    "dataset, dyad_to_idx = tuds.make_panel_datasets_dyad(\n",
    "  data=df,\n",
    "  features=FEATURES,\n",
    "  target=TARGET,\n",
    "  horizon=HORIZON,\n",
    ")"
   ],
   "outputs": [],
   "execution_count": 19
  },
  {
   "cell_type": "code",
   "id": "14dd8fdd80d8f0aa",
   "metadata": {
    "ExecuteTime": {
     "end_time": "2025-06-27T06:09:10.596413Z",
     "start_time": "2025-06-27T06:09:10.593652Z"
    }
   },
   "source": [
    "# Create DataLoaders for the 3 sets\n",
    "train_loader = DataLoader(\n",
    "  Subset(dataset, train_idx),\n",
    "  batch_size=BATCH_SIZE,\n",
    "  shuffle=True,\n",
    "  num_workers=10,\n",
    "  persistent_workers=True,\n",
    "  prefetch_factor=2,\n",
    "  pin_memory=False\n",
    ")\n",
    "\n",
    "val_loader = DataLoader(\n",
    "  Subset(dataset, val_idx),\n",
    "  batch_size=BATCH_SIZE,\n",
    "  shuffle=False,\n",
    "  num_workers=10,\n",
    "  persistent_workers=True,\n",
    "  prefetch_factor=2,\n",
    "  pin_memory=False\n",
    ")\n",
    "\n",
    "test_loader = DataLoader(\n",
    "  Subset(dataset, test_idx),\n",
    "  batch_size=BATCH_SIZE,\n",
    "  shuffle=False,\n",
    "  num_workers=10,\n",
    "  persistent_workers=True,\n",
    "  prefetch_factor=2,\n",
    "  pin_memory=False\n",
    ")"
   ],
   "outputs": [],
   "execution_count": 20
  },
  {
   "cell_type": "code",
   "id": "a00bb74f818ee9a9",
   "metadata": {
    "ExecuteTime": {
     "end_time": "2025-06-27T06:09:10.621626Z",
     "start_time": "2025-06-27T06:09:10.618084Z"
    }
   },
   "source": [
    "def random_walk_next_year(\n",
    "    train: pd.DataFrame,\n",
    "    test: pd.DataFrame,\n",
    "    target_change: str,  # e.g. 'dlog_TOTAL'\n",
    "    *,\n",
    "    year_col: str = \"Year\",\n",
    "    id_cols: list[str] | None = None,\n",
    "):\n",
    "  train = train.copy()\n",
    "  test = test.copy()\n",
    "  order_cols = (id_cols or []) + [year_col]\n",
    "  train.sort_values(order_cols, inplace=True)\n",
    "  test.sort_values(order_cols, inplace=True)\n",
    "\n",
    "  if id_cols:\n",
    "    test[\"y_pred\"] = test.groupby(id_cols)[target_change].shift(1)\n",
    "  else:\n",
    "    test[\"y_pred\"] = test[target_change].shift(1)\n",
    "\n",
    "  mask = test[\"y_pred\"].notna()\n",
    "  test_valid = test.loc[mask]\n",
    "\n",
    "  if test_valid.empty:\n",
    "    raise ValueError(\"No test rows have a lagged value to predict with.\")\n",
    "\n",
    "  y_true = test_valid[target_change]\n",
    "  y_pred = test_valid[\"y_pred\"]\n",
    "\n",
    "  results = {\n",
    "    \"index\": test_valid.index,\n",
    "    \"y_true\": y_true.values,\n",
    "    \"y_pred\": y_pred.values,\n",
    "    \"mae\": np.abs(y_pred - y_true).mean(),\n",
    "    \"rmse\": np.sqrt(((y_pred - y_true) ** 2).mean()),\n",
    "    \"r2\": 1 - ((y_pred - y_true) ** 2).sum() / ((y_true - y_true.mean()) ** 2).sum(),\n",
    "  }\n",
    "  return results"
   ],
   "outputs": [],
   "execution_count": 21
  },
  {
   "cell_type": "code",
   "id": "ea2512cecfae2246",
   "metadata": {
    "ExecuteTime": {
     "end_time": "2025-06-27T06:09:10.673853Z",
     "start_time": "2025-06-27T06:09:10.642814Z"
    }
   },
   "source": [
    "results_rw = random_walk_next_year(\n",
    "  train=train_df,  # not actually used, but keeps call symmetric\n",
    "  test=test_df,\n",
    "  target_change=TARGET,\n",
    "  year_col=\"Year\",\n",
    "  id_cols=[\"dyad_id\"],\n",
    ")\n",
    "\n",
    "print(\"Random-walk MAE:\", results_rw[\"mae\"])\n",
    "print(\"Random-walk RMSE:\", results_rw[\"rmse\"])\n",
    "print(\"Random-walk R²:\", results_rw[\"r2\"])"
   ],
   "outputs": [
    {
     "name": "stdout",
     "output_type": "stream",
     "text": [
      "Random-walk MAE: 9.868856245552072e-05\n",
      "Random-walk RMSE: 0.000814196426293759\n",
      "Random-walk R²: 0.9689291130939\n"
     ]
    },
    {
     "name": "stderr",
     "output_type": "stream",
     "text": [
      "/var/folders/wz/kf7643gn3_s2867t_nnc9zxc0000gn/T/ipykernel_40453/2529560120.py:16: FutureWarning: The default of observed=False is deprecated and will be changed to True in a future version of pandas. Pass observed=False to retain current behavior or observed=True to adopt the future default and silence this warning.\n",
      "  test[\"y_pred\"] = test.groupby(id_cols)[target_change].shift(1)\n"
     ]
    }
   ],
   "execution_count": 22
  },
  {
   "cell_type": "markdown",
   "id": "d9e348e74bd91747",
   "metadata": {},
   "source": [
    "### Train model"
   ]
  },
  {
   "cell_type": "code",
   "id": "1b837c71b6de51c1",
   "metadata": {
    "ExecuteTime": {
     "end_time": "2025-06-27T06:09:10.698739Z",
     "start_time": "2025-06-27T06:09:10.696406Z"
    }
   },
   "source": [
    "# Save config\n",
    "SAVE_ENABLED = False\n",
    "SERIAL_NUMBER = f\"BasicGRU-RawData\""
   ],
   "outputs": [],
   "execution_count": 23
  },
  {
   "cell_type": "code",
   "id": "5e6e1bf43de12079",
   "metadata": {
    "ExecuteTime": {
     "end_time": "2025-06-27T06:09:10.742811Z",
     "start_time": "2025-06-27T06:09:10.739973Z"
    }
   },
   "source": [
    "# Save best train iteration\n",
    "best_fold_state = None\n",
    "best_fold_rmse = float(\"inf\")"
   ],
   "outputs": [],
   "execution_count": 24
  },
  {
   "cell_type": "code",
   "id": "46a31ee0542aa6ee",
   "metadata": {
    "ExecuteTime": {
     "end_time": "2025-06-27T06:23:23.868539Z",
     "start_time": "2025-06-27T06:09:10.747095Z"
    }
   },
   "source": [
    "for fold, (train_idx, val_idx) in enumerate(kf.split(np.arange(len(dataset))), 1):\n",
    "  model = tumod.DyadGRU(\n",
    "    n_features=len(FEATURES),\n",
    "    n_layers=N_LAYERS,\n",
    "    hidden_size=HIDDEN_SIZE,\n",
    "    dropout=DROPOUT,\n",
    "    horizon=HORIZON,\n",
    "    n_dyads=len(dyad_to_idx),\n",
    "    embed_dim=32\n",
    "  ).to(device=device)\n",
    "\n",
    "  criterion = nn.MSELoss()\n",
    "  optimizer = optim.AdamW(model.parameters(), lr=LEARNING_RATE, weight_decay=WEIGHT_DECAY)\n",
    "  scheduler = torch.optim.lr_scheduler.ReduceLROnPlateau(\n",
    "    optimizer, mode=\"min\", factor=0.5, patience=PATIENCE\n",
    "  )\n",
    "\n",
    "  print(f\"=== FOLD {fold}/{N_SPLITS} ===\")\n",
    "  fold_rmse, best_state = fold_step(fold=fold,\n",
    "                                    train_idx=train_idx,\n",
    "                                    val_idx=val_idx,\n",
    "                                    dataset=dataset,\n",
    "                                    batch_size=BATCH_SIZE,\n",
    "                                    num_epochs=NUM_EPOCHS,\n",
    "                                    patience=PATIENCE,\n",
    "                                    model=model,\n",
    "                                    device=device,\n",
    "                                    optimizer=optimizer,\n",
    "                                    criterion=criterion,\n",
    "                                    scheduler=scheduler)\n",
    "  if fold_rmse < best_fold_rmse:\n",
    "    best_fold_rmse = fold_rmse\n",
    "    best_fold_state = copy.deepcopy(best_state)"
   ],
   "outputs": [
    {
     "name": "stdout",
     "output_type": "stream",
     "text": [
      "=== FOLD 1/5 ===\n",
      "Epoch 01/25  |  val RMSE: 0.0085\n",
      "Epoch 02/25  |  val RMSE: 0.0174\n",
      "Epoch 03/25  |  val RMSE: 0.0055\n",
      "Epoch 04/25  |  val RMSE: 0.0073\n",
      "Epoch 05/25  |  val RMSE: 0.0058\n",
      "Epoch 06/25  |  val RMSE: 0.0053\n",
      "Epoch 07/25  |  val RMSE: 0.7191\n",
      "Epoch 08/25  |  val RMSE: 0.0060\n",
      "Epoch 09/25  |  val RMSE: 0.0059\n",
      "Epoch 10/25  |  val RMSE: 0.0057\n",
      "Epoch 11/25  |  val RMSE: 0.0059\n",
      "Epoch 12/25  |  val RMSE: 0.0060\n",
      "Epoch 13/25  |  val RMSE: 0.0081\n",
      "Epoch 14/25  |  val RMSE: 0.0062\n",
      "Epoch 15/25  |  val RMSE: 0.0066\n",
      "Epoch 16/25  |  val RMSE: 0.0082\n",
      "Early stop.\n",
      " Fold 1  RMSE 0.0082 | MAE 0.0066 | R² -0.9887\n",
      "=== FOLD 2/5 ===\n",
      "Epoch 01/25  |  val RMSE: 0.0158\n",
      "Epoch 02/25  |  val RMSE: 0.0115\n",
      "Epoch 03/25  |  val RMSE: 0.0096\n",
      "Epoch 04/25  |  val RMSE: 0.0100\n",
      "Epoch 05/25  |  val RMSE: 0.0100\n",
      "Epoch 06/25  |  val RMSE: 0.3027\n",
      "Epoch 07/25  |  val RMSE: 0.0140\n",
      "Epoch 08/25  |  val RMSE: 0.0117\n",
      "Epoch 09/25  |  val RMSE: 0.0123\n",
      "Epoch 10/25  |  val RMSE: 0.0108\n",
      "Epoch 11/25  |  val RMSE: 0.0109\n",
      "Epoch 12/25  |  val RMSE: 0.0101\n",
      "Epoch 13/25  |  val RMSE: 0.0089\n",
      "Epoch 14/25  |  val RMSE: 0.0088\n",
      "Epoch 15/25  |  val RMSE: 0.0088\n",
      "Epoch 16/25  |  val RMSE: 0.3026\n",
      "Epoch 17/25  |  val RMSE: 0.0275\n",
      "Epoch 18/25  |  val RMSE: 0.0130\n",
      "Epoch 19/25  |  val RMSE: 0.0116\n",
      "Epoch 20/25  |  val RMSE: 0.0170\n",
      "Epoch 21/25  |  val RMSE: 0.0126\n",
      "Epoch 22/25  |  val RMSE: 0.0130\n",
      "Epoch 23/25  |  val RMSE: 0.0107\n",
      "Epoch 24/25  |  val RMSE: 0.0111\n",
      "Early stop.\n",
      " Fold 2  RMSE 0.0111 | MAE 0.0033 | R² -0.0887\n",
      "=== FOLD 3/5 ===\n",
      "Epoch 01/25  |  val RMSE: 0.0471\n",
      "Epoch 02/25  |  val RMSE: 0.0245\n",
      "Epoch 03/25  |  val RMSE: 0.0076\n",
      "Epoch 04/25  |  val RMSE: 0.0076\n",
      "Epoch 05/25  |  val RMSE: 0.0067\n",
      "Epoch 06/25  |  val RMSE: 0.0074\n",
      "Epoch 07/25  |  val RMSE: 0.0101\n",
      "Epoch 08/25  |  val RMSE: 0.0257\n",
      "Epoch 09/25  |  val RMSE: 0.0358\n",
      "Epoch 10/25  |  val RMSE: 0.0239\n",
      "Epoch 11/25  |  val RMSE: 0.0101\n",
      "Epoch 12/25  |  val RMSE: 0.0073\n",
      "Epoch 13/25  |  val RMSE: 0.0076\n",
      "Epoch 14/25  |  val RMSE: 0.0072\n",
      "Epoch 15/25  |  val RMSE: 0.0080\n",
      "Early stop.\n",
      " Fold 3  RMSE 0.0080 | MAE 0.0037 | R² -0.0563\n",
      "=== FOLD 4/5 ===\n",
      "Epoch 01/25  |  val RMSE: 0.0128\n",
      "Epoch 02/25  |  val RMSE: 0.0106\n",
      "Epoch 03/25  |  val RMSE: 0.0101\n",
      "Epoch 04/25  |  val RMSE: 0.0102\n",
      "Epoch 05/25  |  val RMSE: 0.0091\n",
      "Epoch 06/25  |  val RMSE: 0.0114\n",
      "Epoch 07/25  |  val RMSE: 0.1653\n",
      "Epoch 08/25  |  val RMSE: 0.0138\n",
      "Epoch 09/25  |  val RMSE: 0.0112\n",
      "Epoch 10/25  |  val RMSE: 0.0102\n",
      "Epoch 11/25  |  val RMSE: 0.0099\n",
      "Epoch 12/25  |  val RMSE: 0.0114\n",
      "Epoch 13/25  |  val RMSE: 0.0099\n",
      "Epoch 14/25  |  val RMSE: 0.0104\n",
      "Epoch 15/25  |  val RMSE: 0.0097\n",
      "Early stop.\n",
      " Fold 4  RMSE 0.0097 | MAE 0.0020 | R² 0.0680\n",
      "=== FOLD 5/5 ===\n",
      "Epoch 01/25  |  val RMSE: 0.0104\n",
      "Epoch 02/25  |  val RMSE: 0.0121\n",
      "Epoch 03/25  |  val RMSE: 0.0086\n",
      "Epoch 04/25  |  val RMSE: 0.0121\n",
      "Epoch 05/25  |  val RMSE: 0.0110\n",
      "Epoch 06/25  |  val RMSE: 0.0139\n",
      "Epoch 07/25  |  val RMSE: 0.9062\n",
      "Epoch 08/25  |  val RMSE: 0.0157\n",
      "Epoch 09/25  |  val RMSE: 0.0105\n",
      "Epoch 10/25  |  val RMSE: 0.0102\n",
      "Epoch 11/25  |  val RMSE: 0.0103\n",
      "Epoch 12/25  |  val RMSE: 0.0111\n",
      "Epoch 13/25  |  val RMSE: 0.0100\n",
      "Early stop.\n",
      " Fold 5  RMSE 0.0100 | MAE 0.0015 | R² 0.0248\n"
     ]
    }
   ],
   "execution_count": 25
  },
  {
   "cell_type": "markdown",
   "id": "16acca6c1bd49c45",
   "metadata": {},
   "source": [
    "## Lagged features"
   ]
  },
  {
   "cell_type": "code",
   "id": "4954d12c-c0dc-4bd9-8198-24def89a2de9",
   "metadata": {
    "ExecuteTime": {
     "end_time": "2025-06-27T06:23:25.633699Z",
     "start_time": "2025-06-27T06:23:25.631687Z"
    }
   },
   "source": [],
   "outputs": [],
   "execution_count": null
  },
  {
   "cell_type": "code",
   "id": "46521194-82cb-4b29-8d1b-3605f1bb87bb",
   "metadata": {
    "ExecuteTime": {
     "end_time": "2025-06-27T06:23:25.645896Z",
     "start_time": "2025-06-27T06:23:25.644156Z"
    }
   },
   "source": [],
   "outputs": [],
   "execution_count": null
  },
  {
   "cell_type": "code",
   "id": "3598b247-9bba-4f57-b443-270c622713d4",
   "metadata": {
    "ExecuteTime": {
     "end_time": "2025-06-27T06:23:26.441185Z",
     "start_time": "2025-06-27T06:23:26.439200Z"
    }
   },
   "source": [],
   "outputs": [],
   "execution_count": null
  },
  {
   "cell_type": "code",
   "id": "10663f36-4bc8-460a-bf8a-bb41b17ef11d",
   "metadata": {
    "ExecuteTime": {
     "end_time": "2025-06-27T06:23:27.258884Z",
     "start_time": "2025-06-27T06:23:27.256885Z"
    }
   },
   "source": [],
   "outputs": [],
   "execution_count": null
  },
  {
   "cell_type": "code",
   "id": "49692120-67c6-4507-9f4a-f8c6ddc6b1c4",
   "metadata": {
    "ExecuteTime": {
     "end_time": "2025-06-27T06:23:28.030168Z",
     "start_time": "2025-06-27T06:23:28.028324Z"
    }
   },
   "source": [],
   "outputs": [],
   "execution_count": null
  },
  {
   "cell_type": "code",
   "id": "8b0fc160-e41f-4dc1-9bce-48ad431e3a8c",
   "metadata": {
    "ExecuteTime": {
     "end_time": "2025-06-27T06:23:28.804189Z",
     "start_time": "2025-06-27T06:23:28.802410Z"
    }
   },
   "source": [],
   "outputs": [],
   "execution_count": null
  },
  {
   "cell_type": "code",
   "id": "552a1bfd-404e-4918-800f-c0630fc289dd",
   "metadata": {
    "ExecuteTime": {
     "end_time": "2025-06-27T06:23:30.341630Z",
     "start_time": "2025-06-27T06:23:30.339461Z"
    }
   },
   "source": [],
   "outputs": [],
   "execution_count": null
  }
 ],
 "metadata": {
  "kernelspec": {
   "display_name": "Python 3 (ipykernel)",
   "language": "python",
   "name": "python3"
  },
  "language_info": {
   "codemirror_mode": {
    "name": "ipython",
    "version": 3
   },
   "file_extension": ".py",
   "mimetype": "text/x-python",
   "name": "python",
   "nbconvert_exporter": "python",
   "pygments_lexer": "ipython3",
   "version": "3.13.2"
  }
 },
 "nbformat": 4,
 "nbformat_minor": 5
}
