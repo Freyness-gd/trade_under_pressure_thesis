{
 "cells": [
  {
   "metadata": {},
   "cell_type": "markdown",
   "source": "# xLSTM, sLSTM, mLSTMs",
   "id": "a1d433415f0426aa"
  },
  {
   "metadata": {},
   "cell_type": "markdown",
   "source": "## Preparation",
   "id": "e8067785cd8d7919"
  },
  {
   "metadata": {},
   "cell_type": "markdown",
   "source": "### Import modules",
   "id": "1fe72819da94dd5d"
  },
  {
   "cell_type": "code",
   "id": "initial_id",
   "metadata": {
    "collapsed": true,
    "ExecuteTime": {
     "end_time": "2025-06-28T08:57:24.961879Z",
     "start_time": "2025-06-28T08:57:24.958630Z"
    }
   },
   "source": [
    "# Prediction using LSTM, GRU-LSTM, xLSTM\n",
    "import copy\n",
    "import math\n",
    "from typing import List\n",
    "\n",
    "import numpy as np\n",
    "import pandas as pd\n",
    "import torch\n",
    "import torch.nn as nn\n",
    "import torch.optim as optim\n",
    "from pandas import DataFrame\n",
    "from sklearn.model_selection import KFold, GroupShuffleSplit\n",
    "from torch.optim import Optimizer\n",
    "from torch.optim.lr_scheduler import LRScheduler\n",
    "from torch.utils.data import DataLoader, Dataset, Subset\n",
    "\n",
    "import thesis_utils.datastruc as tuds\n",
    "import thesis_utils.models as tumod"
   ],
   "outputs": [],
   "execution_count": 337
  },
  {
   "metadata": {},
   "cell_type": "markdown",
   "source": "### Configuration",
   "id": "4284e3ddbaa79d6f"
  },
  {
   "metadata": {
    "ExecuteTime": {
     "end_time": "2025-06-28T08:57:24.968952Z",
     "start_time": "2025-06-28T08:57:24.964568Z"
    }
   },
   "cell_type": "code",
   "source": [
    "# Config for saving outputs\n",
    "SAVE_ENABLED = True\n",
    "SERIAL_NUMBER = \"NOT_SET\"\n",
    "\n",
    "# Model parameters\n",
    "HORIZON = 1\n",
    "BATCH_SIZE = 128\n",
    "NUM_EPOCHS = 25\n",
    "HIDDEN_SIZE = 128\n",
    "N_LAYERS = 3\n",
    "DROPOUT = 0.2\n",
    "XLSTM_TYPE = \"X\"\n",
    "\n",
    "# Train parameters\n",
    "TARGET = \"EXPORT_centered\"\n",
    "FEATURES = [\n",
    "  \"GDP_reporter\",\n",
    "  \"GDP_partner\",\n",
    "  \"distw\", \"sanction\",  # sanctions categorical\n",
    "  \"contig\", \"comlang_off\", \"colony\", \"smctry\",  # dist cepii categorical\n",
    "]\n",
    "N_SPLITS = 5\n",
    "PATIENCE = 5\n",
    "LEARNING_RATE = 0.01\n",
    "WEIGHT_DECAY = 0.01\n",
    "RANDOM_SEED = 16\n",
    "SUBSAMPLE_ENABLED = True\n",
    "N_DYADS = 10\n",
    "\n",
    "SANCTION_COLS = [\"arms\", \"military\", \"trade\", \"travel\", \"other\"]\n",
    "\n",
    "# Torch config\n",
    "torch.manual_seed(RANDOM_SEED)\n",
    "device = (\n",
    "  torch.device(\"cpu\")\n",
    ")"
   ],
   "id": "56e9b02ef240fd0a",
   "outputs": [],
   "execution_count": 338
  },
  {
   "metadata": {},
   "cell_type": "markdown",
   "source": "### Load Data",
   "id": "c9e963c3ab4f2220"
  },
  {
   "metadata": {
    "ExecuteTime": {
     "end_time": "2025-06-28T08:57:25.335881Z",
     "start_time": "2025-06-28T08:57:25.031961Z"
    }
   },
   "cell_type": "code",
   "source": [
    "processed = pd.read_parquet(path=\"../../data/model/processed.parquet\", engine=\"fastparquet\")\n",
    "df: DataFrame = processed.copy(deep=True)"
   ],
   "id": "9451e98a113f268d",
   "outputs": [],
   "execution_count": 339
  },
  {
   "metadata": {},
   "cell_type": "markdown",
   "source": "### Sort, shift and compute data",
   "id": "84523341884506e1"
  },
  {
   "metadata": {
    "ExecuteTime": {
     "end_time": "2025-06-28T08:57:25.609481Z",
     "start_time": "2025-06-28T08:57:25.388983Z"
    }
   },
   "cell_type": "code",
   "source": [
    "# Sort data by Report + Partner + Year\n",
    "df[\"dyad_id\"] = df[\"ISO3_reporter\"] + \"_\" + df[\"ISO3_partner\"]\n",
    "df = df.sort_values(by=[\"dyad_id\", \"Year\"], ignore_index=True)"
   ],
   "id": "1dcefe0333d9c64b",
   "outputs": [],
   "execution_count": 340
  },
  {
   "metadata": {
    "ExecuteTime": {
     "end_time": "2025-06-28T08:57:25.732841Z",
     "start_time": "2025-06-28T08:57:25.665078Z"
    }
   },
   "cell_type": "code",
   "source": [
    "if SUBSAMPLE_ENABLED:\n",
    "  dyad_subsample = pd.Series(df[\"dyad_id\"].unique()).sample(n=N_DYADS, random_state=RANDOM_SEED, replace=False)\n",
    "  df = df[df[\"dyad_id\"].isin(dyad_subsample)]\n",
    "print(df[\"dyad_id\"].nunique())"
   ],
   "id": "37ec201db709a960",
   "outputs": [
    {
     "name": "stdout",
     "output_type": "stream",
     "text": [
      "10\n"
     ]
    }
   ],
   "execution_count": 341
  },
  {
   "metadata": {
    "ExecuteTime": {
     "end_time": "2025-06-28T08:57:25.790661Z",
     "start_time": "2025-06-28T08:57:25.788515Z"
    }
   },
   "cell_type": "code",
   "source": [
    "df[\"sanction\"] = (df[SANCTION_COLS]\n",
    "                  .sum(axis=1)).astype(int)"
   ],
   "id": "3fccd13d0f035fe6",
   "outputs": [],
   "execution_count": 342
  },
  {
   "metadata": {},
   "cell_type": "markdown",
   "source": "### Coerce numerical values and convert dyad_id to categorical",
   "id": "7a9d823465c895"
  },
  {
   "metadata": {
    "ExecuteTime": {
     "end_time": "2025-06-28T08:57:25.849148Z",
     "start_time": "2025-06-28T08:57:25.845875Z"
    }
   },
   "cell_type": "code",
   "source": [
    "num_cols = [\"distw\", \"GDP_reporter\", \"GDP_partner\", \"sanction\", \"contig\",\n",
    "            \"comlang_off\", \"colony\", \"smctry\", \"Year\", ]\n",
    "df[num_cols] = df[num_cols].apply(pd.to_numeric, errors=\"coerce\").astype(float)\n",
    "df = df.dropna(subset=num_cols)"
   ],
   "id": "213988af4aee1df1",
   "outputs": [],
   "execution_count": 343
  },
  {
   "metadata": {
    "ExecuteTime": {
     "end_time": "2025-06-28T08:57:25.904975Z",
     "start_time": "2025-06-28T08:57:25.902644Z"
    }
   },
   "cell_type": "code",
   "source": [
    "df[\"Year\"] = df[\"Year\"].astype(int)\n",
    "for col in [\"dyad_id\"]:\n",
    "  df[col] = pd.Categorical(df[col], categories=sorted(df[col].unique()))"
   ],
   "id": "c56872ce3b8a13d9",
   "outputs": [],
   "execution_count": 344
  },
  {
   "metadata": {},
   "cell_type": "markdown",
   "source": "### Center data",
   "id": "d5984693829da5ed"
  },
  {
   "metadata": {
    "ExecuteTime": {
     "end_time": "2025-06-28T08:57:25.960881Z",
     "start_time": "2025-06-28T08:57:25.958443Z"
    }
   },
   "cell_type": "code",
   "source": [
    "center_columns = [\"distw\", \"GDP_reporter\", \"GDP_partner\", \"EXPORT\"]\n",
    "for col in center_columns:\n",
    "  col_max = df[col].max()\n",
    "  col_min = df[col].min()\n",
    "  df[col + \"_centered\"] = (df[col] - col_min) / (col_max - col_min) - 0.5"
   ],
   "id": "aeb1d300d2098b4f",
   "outputs": [],
   "execution_count": 345
  },
  {
   "metadata": {
    "ExecuteTime": {
     "end_time": "2025-06-28T08:57:26.016122Z",
     "start_time": "2025-06-28T08:57:26.014571Z"
    }
   },
   "cell_type": "code",
   "source": [
    "# To each element in the FEATURE list add _centered\n",
    "FEATURES += [f\"{feature}_centered\" for feature in center_columns]\n",
    "for col in center_columns:\n",
    "  if col == \"EXPORT\":\n",
    "    continue\n",
    "  FEATURES.remove(col)\n",
    "FEATURES.remove(\"EXPORT_centered\")"
   ],
   "id": "103ecd001ea6d514",
   "outputs": [],
   "execution_count": 346
  },
  {
   "metadata": {
    "ExecuteTime": {
     "end_time": "2025-06-28T08:57:26.072996Z",
     "start_time": "2025-06-28T08:57:26.070833Z"
    }
   },
   "cell_type": "code",
   "source": "FEATURES",
   "id": "ae986f5126d8781d",
   "outputs": [
    {
     "data": {
      "text/plain": [
       "['sanction',\n",
       " 'contig',\n",
       " 'comlang_off',\n",
       " 'colony',\n",
       " 'smctry',\n",
       " 'distw_centered',\n",
       " 'GDP_reporter_centered',\n",
       " 'GDP_partner_centered']"
      ]
     },
     "execution_count": 347,
     "metadata": {},
     "output_type": "execute_result"
    }
   ],
   "execution_count": 347
  },
  {
   "metadata": {},
   "cell_type": "markdown",
   "source": "### Split data",
   "id": "eab345a3bd4fc194"
  },
  {
   "metadata": {
    "ExecuteTime": {
     "end_time": "2025-06-28T08:57:26.186320Z",
     "start_time": "2025-06-28T08:57:26.184086Z"
    }
   },
   "cell_type": "code",
   "source": [
    "# Embeddings\n",
    "dyad_to_idx = { dyad: i for i, dyad in enumerate(df[\"dyad_id\"].cat.categories) }\n",
    "df[\"dyad_idx\"] = df[\"dyad_id\"].map(dyad_to_idx).astype(int)"
   ],
   "id": "282bc4560000617e",
   "outputs": [],
   "execution_count": 348
  },
  {
   "metadata": {
    "ExecuteTime": {
     "end_time": "2025-06-28T08:57:26.193533Z",
     "start_time": "2025-06-28T08:57:26.189336Z"
    }
   },
   "cell_type": "code",
   "source": [
    "# Split into Train, Validation and Test sets\n",
    "gss = GroupShuffleSplit(n_splits=1, test_size=0.2, random_state=RANDOM_SEED)\n",
    "\n",
    "train_idx, test_idx = next(gss.split(df, groups=df[\"dyad_id\"]))\n",
    "test_df = df.iloc[test_idx]\n",
    "train_df = df.iloc[train_idx]\n",
    "\n",
    "train_idx, val_idx = next(gss.split(train_df, groups=train_df[\"dyad_id\"]))\n",
    "val_df = train_df.iloc[val_idx]\n",
    "train_df = train_df.iloc[train_idx]"
   ],
   "id": "51433a3f014528c2",
   "outputs": [],
   "execution_count": 349
  },
  {
   "metadata": {
    "ExecuteTime": {
     "end_time": "2025-06-28T08:57:26.250913Z",
     "start_time": "2025-06-28T08:57:26.248418Z"
    }
   },
   "cell_type": "code",
   "source": [
    "train_df.loc[:, FEATURES] = train_df.loc[:, FEATURES].astype(\n",
    "  \"float32\",\n",
    "  copy=False\n",
    ")"
   ],
   "id": "a5ada7424fc6f996",
   "outputs": [],
   "execution_count": 350
  },
  {
   "metadata": {},
   "cell_type": "markdown",
   "source": "# Train",
   "id": "1053e63e8a6ccb76"
  },
  {
   "metadata": {},
   "cell_type": "markdown",
   "source": [
    "## Define Fold and Epoch steps\n",
    "_For reusability_"
   ],
   "id": "78e3575a51038c9d"
  },
  {
   "metadata": {
    "ExecuteTime": {
     "end_time": "2025-06-28T08:57:26.306248Z",
     "start_time": "2025-06-28T08:57:26.304903Z"
    }
   },
   "cell_type": "code",
   "source": [
    "# Create KFold object\n",
    "kf = KFold(n_splits=N_SPLITS, shuffle=True, random_state=RANDOM_SEED)"
   ],
   "id": "8eb0c16ea3f9a15d",
   "outputs": [],
   "execution_count": 351
  },
  {
   "metadata": {
    "ExecuteTime": {
     "end_time": "2025-06-28T08:57:26.362774Z",
     "start_time": "2025-06-28T08:57:26.360453Z"
    }
   },
   "cell_type": "code",
   "source": [
    "# Define epoch step\n",
    "def epoch_step(model: nn.Module, optimizer: Optimizer, criterion: nn.Module,\n",
    "               scheduler: LRScheduler, train_loader: DataLoader, val_loader: DataLoader,\n",
    "               device: any) -> float:\n",
    "  model.train()\n",
    "  for X, y, di in train_loader:\n",
    "    X, y, di = map(lambda t: t.to(device, non_blocking=True), (X, y, di))\n",
    "    optimizer.zero_grad()\n",
    "    loss = criterion(model(X, di), y)\n",
    "    loss.backward()\n",
    "    optimizer.step()\n",
    "\n",
    "  model.eval()\n",
    "  val_losses = []\n",
    "  with (torch.no_grad()):\n",
    "    for X, y, di in val_loader:\n",
    "      X, y, di = map(lambda t: t.to(device, non_blocking=True), (X, y, di))\n",
    "      val_losses.append(criterion(model(X, di), y).item())\n",
    "\n",
    "  val_rmse = math.sqrt((sum(val_losses) / len(val_losses)))\n",
    "  scheduler.step(val_rmse)\n",
    "  print(f\"Validation RMSE: {val_rmse:.4f} for epoch\")\n",
    "  return val_rmse"
   ],
   "id": "82612d122ae0a3ae",
   "outputs": [],
   "execution_count": 352
  },
  {
   "metadata": {
    "ExecuteTime": {
     "end_time": "2025-06-28T08:57:26.419245Z",
     "start_time": "2025-06-28T08:57:26.416142Z"
    }
   },
   "cell_type": "code",
   "source": [
    "# Define fold step\n",
    "def fold_step(fold: int, train_idx: List, val_idx: List,\n",
    "              dataset: Dataset, batch_size: int, num_epochs: int, patience: int,\n",
    "              model: nn.Module, device: any,\n",
    "              optimizer: Optimizer, criterion: nn.Module, scheduler: LRScheduler) -> (float, dict):\n",
    "  train_loader = DataLoader(\n",
    "    Subset(dataset, train_idx),\n",
    "    batch_size=batch_size,\n",
    "    shuffle=True,\n",
    "    num_workers=4,\n",
    "    persistent_workers=True,\n",
    "    prefetch_factor=2,\n",
    "    pin_memory=True\n",
    "  )\n",
    "\n",
    "  val_loader = DataLoader(\n",
    "    Subset(dataset, val_idx),\n",
    "    batch_size=batch_size,\n",
    "    shuffle=False,\n",
    "    num_workers=10,\n",
    "    persistent_workers=True,\n",
    "    prefetch_factor=2,\n",
    "    pin_memory=False\n",
    "  )\n",
    "\n",
    "  best_state = copy.deepcopy(model.state_dict())\n",
    "  best_rmse = float(\"inf\")\n",
    "  patience_left = patience\n",
    "\n",
    "  print(f\"Start epoch train for fold {fold}\")\n",
    "  for epoch in range(num_epochs):\n",
    "    val_rmse = epoch_step(model=model, optimizer=optimizer, criterion=criterion,\n",
    "                          scheduler=scheduler, train_loader=train_loader, val_loader=val_loader,\n",
    "                          device=device)\n",
    "    print(f\"Epoch {epoch + 1:02d}/{num_epochs}  |  val RMSE: {val_rmse:.4f}\")\n",
    "\n",
    "    if val_rmse < best_rmse - 1e-4:\n",
    "      best_rmse, patience_left = val_rmse, 10\n",
    "      best_state = model.state_dict()\n",
    "    else:\n",
    "      patience_left -= 1\n",
    "      if patience_left == 0:\n",
    "        print(\"Early stop.\")\n",
    "        break\n",
    "  print(\"Load state dict\")\n",
    "  model.load_state_dict(best_state)\n",
    "  model.eval()\n",
    "  preds, truth = [], []\n",
    "  with torch.no_grad():\n",
    "    for X, y, di in val_loader:\n",
    "      X, di = map(lambda t: t.to(device, non_blocking=True), (X, di))\n",
    "      preds.append(model(X, di).cpu())\n",
    "      truth.append(y)\n",
    "  preds = torch.cat(preds).numpy()\n",
    "  truth = torch.cat(truth).numpy()\n",
    "\n",
    "  rmse = np.sqrt(((preds - truth) ** 2).mean())\n",
    "  mae = np.abs(preds - truth).mean()\n",
    "  r2 = 1 - ((preds - truth) ** 2).sum() / ((truth - truth.mean()) ** 2).sum()\n",
    "  print(f\" Fold {fold}  RMSE {rmse:.4f} | MAE {mae:.4f} | R² {r2:.4f}\")\n",
    "\n",
    "  return rmse, copy.deepcopy(best_state)\n"
   ],
   "id": "959f98487abc0673",
   "outputs": [],
   "execution_count": 353
  },
  {
   "metadata": {},
   "cell_type": "markdown",
   "source": "## Train Raw dataset",
   "id": "13f3e7e01662654"
  },
  {
   "metadata": {},
   "cell_type": "markdown",
   "source": "### Split dataset",
   "id": "ff153528228b1350"
  },
  {
   "metadata": {
    "ExecuteTime": {
     "end_time": "2025-06-28T08:57:26.476010Z",
     "start_time": "2025-06-28T08:57:26.473504Z"
    }
   },
   "cell_type": "code",
   "source": [
    "# Convert df_scaled to pytorch Tensor\n",
    "dataset, dyad_to_idx = tuds.make_panel_datasets_dyad(\n",
    "  data=df,\n",
    "  features=FEATURES,\n",
    "  target=TARGET,\n",
    "  horizon=HORIZON,\n",
    ")"
   ],
   "id": "e38f7e2869374fc8",
   "outputs": [],
   "execution_count": 354
  },
  {
   "metadata": {
    "ExecuteTime": {
     "end_time": "2025-06-28T08:57:26.533389Z",
     "start_time": "2025-06-28T08:57:26.531212Z"
    }
   },
   "cell_type": "code",
   "source": [
    "# Create DataLoaders for the 3 sets\n",
    "train_loader = DataLoader(\n",
    "  Subset(dataset, train_idx),\n",
    "  batch_size=BATCH_SIZE,\n",
    "  shuffle=True,\n",
    "  num_workers=10,\n",
    "  persistent_workers=True,\n",
    "  prefetch_factor=2,\n",
    "  pin_memory=False\n",
    ")\n",
    "\n",
    "val_loader = DataLoader(\n",
    "  Subset(dataset, val_idx),\n",
    "  batch_size=BATCH_SIZE,\n",
    "  shuffle=False,\n",
    "  num_workers=10,\n",
    "  persistent_workers=True,\n",
    "  prefetch_factor=2,\n",
    "  pin_memory=False\n",
    ")\n",
    "\n",
    "test_loader = DataLoader(\n",
    "  Subset(dataset, test_idx),\n",
    "  batch_size=BATCH_SIZE,\n",
    "  shuffle=False,\n",
    "  num_workers=10,\n",
    "  persistent_workers=True,\n",
    "  prefetch_factor=2,\n",
    "  pin_memory=False\n",
    ")"
   ],
   "id": "14dd8fdd80d8f0aa",
   "outputs": [],
   "execution_count": 355
  },
  {
   "metadata": {},
   "cell_type": "markdown",
   "source": "### Train model",
   "id": "d9e348e74bd91747"
  },
  {
   "metadata": {
    "ExecuteTime": {
     "end_time": "2025-06-28T08:57:26.590431Z",
     "start_time": "2025-06-28T08:57:26.588778Z"
    }
   },
   "cell_type": "code",
   "source": [
    "# Save config\n",
    "SAVE_ENABLED = False\n",
    "SERIAL_NUMBER = f\"{XLSTM_TYPE}LSTM-{LEARNING_RATE}-{DROPOUT}-{HIDDEN_SIZE}\"\n",
    "SERIAL_NUMBER = SERIAL_NUMBER.replace(\".\", \"_\")"
   ],
   "id": "1b837c71b6de51c1",
   "outputs": [],
   "execution_count": 356
  },
  {
   "metadata": {
    "ExecuteTime": {
     "end_time": "2025-06-28T08:57:26.646175Z",
     "start_time": "2025-06-28T08:57:26.644637Z"
    }
   },
   "cell_type": "code",
   "source": [
    "# Save best train iteration\n",
    "best_fold_state = None\n",
    "best_fold_rmse = float(\"inf\")"
   ],
   "id": "5e6e1bf43de12079",
   "outputs": [],
   "execution_count": 357
  },
  {
   "metadata": {
    "ExecuteTime": {
     "end_time": "2025-06-28T08:58:07.639863Z",
     "start_time": "2025-06-28T08:57:26.680860Z"
    }
   },
   "cell_type": "code",
   "source": [
    "for fold, (train_idx, val_idx) in enumerate(kf.split(np.arange(len(dataset))), 1):\n",
    "  model = tumod.DyadXLSTM(\n",
    "    n_features=len(FEATURES),\n",
    "    n_dyads=len(dyad_to_idx),\n",
    "    embed_dim=32,\n",
    "    hidden_size=HIDDEN_SIZE,\n",
    "    dropout=DROPOUT,\n",
    "    horizon=HORIZON,\n",
    "    type=\"X\",\n",
    "  ).to(device=device)\n",
    "\n",
    "  criterion = nn.MSELoss()\n",
    "  optimizer = optim.AdamW(model.parameters(), lr=LEARNING_RATE, weight_decay=WEIGHT_DECAY)\n",
    "  scheduler = torch.optim.lr_scheduler.ReduceLROnPlateau(\n",
    "    optimizer, mode=\"min\", factor=0.5, patience=PATIENCE\n",
    "  )\n",
    "\n",
    "  print(f\"=== FOLD {fold}/{N_SPLITS} ===\")\n",
    "  fold_rmse, best_state = fold_step(fold=fold,\n",
    "                                    train_idx=train_idx,\n",
    "                                    val_idx=val_idx,\n",
    "                                    dataset=dataset,\n",
    "                                    batch_size=BATCH_SIZE,\n",
    "                                    num_epochs=NUM_EPOCHS,\n",
    "                                    patience=PATIENCE,\n",
    "                                    model=model,\n",
    "                                    device=device,\n",
    "                                    optimizer=optimizer,\n",
    "                                    criterion=criterion,\n",
    "                                    scheduler=scheduler)\n",
    "  if fold_rmse < best_fold_rmse:\n",
    "    best_fold_rmse = fold_rmse\n",
    "    best_fold_state = copy.deepcopy(best_state)"
   ],
   "id": "46a31ee0542aa6ee",
   "outputs": [
    {
     "name": "stdout",
     "output_type": "stream",
     "text": [
      "=== FOLD 1/5 ===\n",
      "Start epoch train for fold 1\n",
      "Validation RMSE: 0.8304 for epoch\n",
      "Epoch 01/25  |  val RMSE: 0.8304\n",
      "Validation RMSE: 0.7267 for epoch\n",
      "Epoch 02/25  |  val RMSE: 0.7267\n",
      "Validation RMSE: 0.7428 for epoch\n",
      "Epoch 03/25  |  val RMSE: 0.7428\n",
      "Validation RMSE: 0.3247 for epoch\n",
      "Epoch 04/25  |  val RMSE: 0.3247\n",
      "Validation RMSE: 0.2862 for epoch\n",
      "Epoch 05/25  |  val RMSE: 0.2862\n",
      "Validation RMSE: 0.3015 for epoch\n",
      "Epoch 06/25  |  val RMSE: 0.3015\n",
      "Validation RMSE: 0.2489 for epoch\n",
      "Epoch 07/25  |  val RMSE: 0.2489\n",
      "Validation RMSE: 0.1973 for epoch\n",
      "Epoch 08/25  |  val RMSE: 0.1973\n",
      "Validation RMSE: 0.1372 for epoch\n",
      "Epoch 09/25  |  val RMSE: 0.1372\n",
      "Validation RMSE: 0.2393 for epoch\n",
      "Epoch 10/25  |  val RMSE: 0.2393\n",
      "Validation RMSE: 0.1536 for epoch\n",
      "Epoch 11/25  |  val RMSE: 0.1536\n",
      "Validation RMSE: 0.2233 for epoch\n",
      "Epoch 12/25  |  val RMSE: 0.2233\n",
      "Validation RMSE: 0.2169 for epoch\n",
      "Epoch 13/25  |  val RMSE: 0.2169\n",
      "Validation RMSE: 0.1329 for epoch\n",
      "Epoch 14/25  |  val RMSE: 0.1329\n",
      "Validation RMSE: 0.1531 for epoch\n",
      "Epoch 15/25  |  val RMSE: 0.1531\n",
      "Validation RMSE: 0.1323 for epoch\n",
      "Epoch 16/25  |  val RMSE: 0.1323\n",
      "Validation RMSE: 0.1128 for epoch\n",
      "Epoch 17/25  |  val RMSE: 0.1128\n",
      "Validation RMSE: 0.1015 for epoch\n",
      "Epoch 18/25  |  val RMSE: 0.1015\n",
      "Validation RMSE: 0.0986 for epoch\n",
      "Epoch 19/25  |  val RMSE: 0.0986\n",
      "Validation RMSE: 0.0867 for epoch\n",
      "Epoch 20/25  |  val RMSE: 0.0867\n",
      "Validation RMSE: 0.0943 for epoch\n",
      "Epoch 21/25  |  val RMSE: 0.0943\n",
      "Validation RMSE: 0.0884 for epoch\n",
      "Epoch 22/25  |  val RMSE: 0.0884\n",
      "Validation RMSE: 0.0971 for epoch\n",
      "Epoch 23/25  |  val RMSE: 0.0971\n",
      "Validation RMSE: 0.0935 for epoch\n",
      "Epoch 24/25  |  val RMSE: 0.0935\n",
      "Validation RMSE: 0.0938 for epoch\n",
      "Epoch 25/25  |  val RMSE: 0.0938\n",
      "Load state dict\n",
      " Fold 1  RMSE 0.0938 | MAE 0.0535 | R² 0.1967\n",
      "=== FOLD 2/5 ===\n",
      "Start epoch train for fold 2\n",
      "Validation RMSE: 1.1551 for epoch\n",
      "Epoch 01/25  |  val RMSE: 1.1551\n",
      "Validation RMSE: 0.9448 for epoch\n",
      "Epoch 02/25  |  val RMSE: 0.9448\n",
      "Validation RMSE: 0.4870 for epoch\n",
      "Epoch 03/25  |  val RMSE: 0.4870\n",
      "Validation RMSE: 0.3404 for epoch\n",
      "Epoch 04/25  |  val RMSE: 0.3404\n",
      "Validation RMSE: 0.2501 for epoch\n",
      "Epoch 05/25  |  val RMSE: 0.2501\n",
      "Validation RMSE: 0.2596 for epoch\n",
      "Epoch 06/25  |  val RMSE: 0.2596\n",
      "Validation RMSE: 0.4895 for epoch\n",
      "Epoch 07/25  |  val RMSE: 0.4895\n",
      "Validation RMSE: 0.2392 for epoch\n",
      "Epoch 08/25  |  val RMSE: 0.2392\n",
      "Validation RMSE: 0.1544 for epoch\n",
      "Epoch 09/25  |  val RMSE: 0.1544\n",
      "Validation RMSE: 0.2306 for epoch\n",
      "Epoch 10/25  |  val RMSE: 0.2306\n",
      "Validation RMSE: 0.1852 for epoch\n",
      "Epoch 11/25  |  val RMSE: 0.1852\n",
      "Validation RMSE: 0.1385 for epoch\n",
      "Epoch 12/25  |  val RMSE: 0.1385\n",
      "Validation RMSE: 0.1888 for epoch\n",
      "Epoch 13/25  |  val RMSE: 0.1888\n",
      "Validation RMSE: 0.1912 for epoch\n",
      "Epoch 14/25  |  val RMSE: 0.1912\n",
      "Validation RMSE: 0.1356 for epoch\n",
      "Epoch 15/25  |  val RMSE: 0.1356\n",
      "Validation RMSE: 0.1358 for epoch\n",
      "Epoch 16/25  |  val RMSE: 0.1358\n",
      "Validation RMSE: 0.1191 for epoch\n",
      "Epoch 17/25  |  val RMSE: 0.1191\n",
      "Validation RMSE: 0.1404 for epoch\n",
      "Epoch 18/25  |  val RMSE: 0.1404\n",
      "Validation RMSE: 0.1651 for epoch\n",
      "Epoch 19/25  |  val RMSE: 0.1651\n",
      "Validation RMSE: 0.1632 for epoch\n",
      "Epoch 20/25  |  val RMSE: 0.1632\n",
      "Validation RMSE: 0.1242 for epoch\n",
      "Epoch 21/25  |  val RMSE: 0.1242\n",
      "Validation RMSE: 0.1267 for epoch\n",
      "Epoch 22/25  |  val RMSE: 0.1267\n",
      "Validation RMSE: 0.1124 for epoch\n",
      "Epoch 23/25  |  val RMSE: 0.1124\n",
      "Validation RMSE: 0.1394 for epoch\n",
      "Epoch 24/25  |  val RMSE: 0.1394\n",
      "Validation RMSE: 0.1375 for epoch\n",
      "Epoch 25/25  |  val RMSE: 0.1375\n",
      "Load state dict\n",
      " Fold 2  RMSE 0.1375 | MAE 0.0710 | R² 0.1466\n",
      "=== FOLD 3/5 ===\n",
      "Start epoch train for fold 3\n",
      "Validation RMSE: 0.7924 for epoch\n",
      "Epoch 01/25  |  val RMSE: 0.7924\n",
      "Validation RMSE: 0.4746 for epoch\n",
      "Epoch 02/25  |  val RMSE: 0.4746\n",
      "Validation RMSE: 0.6367 for epoch\n",
      "Epoch 03/25  |  val RMSE: 0.6367\n",
      "Validation RMSE: 0.7148 for epoch\n",
      "Epoch 04/25  |  val RMSE: 0.7148\n",
      "Validation RMSE: 0.3028 for epoch\n",
      "Epoch 05/25  |  val RMSE: 0.3028\n",
      "Validation RMSE: 0.2217 for epoch\n",
      "Epoch 06/25  |  val RMSE: 0.2217\n",
      "Validation RMSE: 0.2718 for epoch\n",
      "Epoch 07/25  |  val RMSE: 0.2718\n",
      "Validation RMSE: 0.2912 for epoch\n",
      "Epoch 08/25  |  val RMSE: 0.2912\n",
      "Validation RMSE: 0.2939 for epoch\n",
      "Epoch 09/25  |  val RMSE: 0.2939\n",
      "Validation RMSE: 0.1905 for epoch\n",
      "Epoch 10/25  |  val RMSE: 0.1905\n",
      "Validation RMSE: 0.2164 for epoch\n",
      "Epoch 11/25  |  val RMSE: 0.2164\n",
      "Validation RMSE: 0.1048 for epoch\n",
      "Epoch 12/25  |  val RMSE: 0.1048\n",
      "Validation RMSE: 0.1663 for epoch\n",
      "Epoch 13/25  |  val RMSE: 0.1663\n",
      "Validation RMSE: 0.1310 for epoch\n",
      "Epoch 14/25  |  val RMSE: 0.1310\n",
      "Validation RMSE: 0.1242 for epoch\n",
      "Epoch 15/25  |  val RMSE: 0.1242\n",
      "Validation RMSE: 0.1168 for epoch\n",
      "Epoch 16/25  |  val RMSE: 0.1168\n",
      "Validation RMSE: 0.0667 for epoch\n",
      "Epoch 17/25  |  val RMSE: 0.0667\n",
      "Validation RMSE: 0.0763 for epoch\n",
      "Epoch 18/25  |  val RMSE: 0.0763\n",
      "Validation RMSE: 0.0789 for epoch\n",
      "Epoch 19/25  |  val RMSE: 0.0789\n",
      "Validation RMSE: 0.0887 for epoch\n",
      "Epoch 20/25  |  val RMSE: 0.0887\n",
      "Validation RMSE: 0.0890 for epoch\n",
      "Epoch 21/25  |  val RMSE: 0.0890\n",
      "Validation RMSE: 0.0551 for epoch\n",
      "Epoch 22/25  |  val RMSE: 0.0551\n",
      "Validation RMSE: 0.0462 for epoch\n",
      "Epoch 23/25  |  val RMSE: 0.0462\n",
      "Validation RMSE: 0.0510 for epoch\n",
      "Epoch 24/25  |  val RMSE: 0.0510\n",
      "Validation RMSE: 0.0607 for epoch\n",
      "Epoch 25/25  |  val RMSE: 0.0607\n",
      "Load state dict\n",
      " Fold 3  RMSE 0.0607 | MAE 0.0380 | R² -4.5130\n",
      "=== FOLD 4/5 ===\n",
      "Start epoch train for fold 4\n",
      "Validation RMSE: 0.6097 for epoch\n",
      "Epoch 01/25  |  val RMSE: 0.6097\n",
      "Validation RMSE: 0.8175 for epoch\n",
      "Epoch 02/25  |  val RMSE: 0.8175\n",
      "Validation RMSE: 0.5489 for epoch\n",
      "Epoch 03/25  |  val RMSE: 0.5489\n",
      "Validation RMSE: 1.0601 for epoch\n",
      "Epoch 04/25  |  val RMSE: 1.0601\n",
      "Validation RMSE: 0.4209 for epoch\n",
      "Epoch 05/25  |  val RMSE: 0.4209\n",
      "Validation RMSE: 0.4016 for epoch\n",
      "Epoch 06/25  |  val RMSE: 0.4016\n",
      "Validation RMSE: 0.2574 for epoch\n",
      "Epoch 07/25  |  val RMSE: 0.2574\n",
      "Validation RMSE: 0.2301 for epoch\n",
      "Epoch 08/25  |  val RMSE: 0.2301\n",
      "Validation RMSE: 0.2400 for epoch\n",
      "Epoch 09/25  |  val RMSE: 0.2400\n",
      "Validation RMSE: 0.1578 for epoch\n",
      "Epoch 10/25  |  val RMSE: 0.1578\n",
      "Validation RMSE: 0.1709 for epoch\n",
      "Epoch 11/25  |  val RMSE: 0.1709\n",
      "Validation RMSE: 0.1166 for epoch\n",
      "Epoch 12/25  |  val RMSE: 0.1166\n",
      "Validation RMSE: 0.1324 for epoch\n",
      "Epoch 13/25  |  val RMSE: 0.1324\n",
      "Validation RMSE: 0.1493 for epoch\n",
      "Epoch 14/25  |  val RMSE: 0.1493\n",
      "Validation RMSE: 0.1059 for epoch\n",
      "Epoch 15/25  |  val RMSE: 0.1059\n",
      "Validation RMSE: 0.0951 for epoch\n",
      "Epoch 16/25  |  val RMSE: 0.0951\n",
      "Validation RMSE: 0.1188 for epoch\n",
      "Epoch 17/25  |  val RMSE: 0.1188\n",
      "Validation RMSE: 0.1054 for epoch\n",
      "Epoch 18/25  |  val RMSE: 0.1054\n",
      "Validation RMSE: 0.0940 for epoch\n",
      "Epoch 19/25  |  val RMSE: 0.0940\n",
      "Validation RMSE: 0.1069 for epoch\n",
      "Epoch 20/25  |  val RMSE: 0.1069\n",
      "Validation RMSE: 0.0874 for epoch\n",
      "Epoch 21/25  |  val RMSE: 0.0874\n",
      "Validation RMSE: 0.0835 for epoch\n",
      "Epoch 22/25  |  val RMSE: 0.0835\n",
      "Validation RMSE: 0.1009 for epoch\n",
      "Epoch 23/25  |  val RMSE: 0.1009\n",
      "Validation RMSE: 0.0810 for epoch\n",
      "Epoch 24/25  |  val RMSE: 0.0810\n",
      "Validation RMSE: 0.1004 for epoch\n",
      "Epoch 25/25  |  val RMSE: 0.1004\n",
      "Load state dict\n",
      " Fold 4  RMSE 0.1004 | MAE 0.0828 | R² -0.1860\n",
      "=== FOLD 5/5 ===\n",
      "Start epoch train for fold 5\n",
      "Validation RMSE: 0.7888 for epoch\n",
      "Epoch 01/25  |  val RMSE: 0.7888\n",
      "Validation RMSE: 0.9971 for epoch\n",
      "Epoch 02/25  |  val RMSE: 0.9971\n",
      "Validation RMSE: 0.5168 for epoch\n",
      "Epoch 03/25  |  val RMSE: 0.5168\n",
      "Validation RMSE: 0.7036 for epoch\n",
      "Epoch 04/25  |  val RMSE: 0.7036\n",
      "Validation RMSE: 0.5870 for epoch\n",
      "Epoch 05/25  |  val RMSE: 0.5870\n",
      "Validation RMSE: 0.3383 for epoch\n",
      "Epoch 06/25  |  val RMSE: 0.3383\n",
      "Validation RMSE: 0.2100 for epoch\n",
      "Epoch 07/25  |  val RMSE: 0.2100\n",
      "Validation RMSE: 0.1866 for epoch\n",
      "Epoch 08/25  |  val RMSE: 0.1866\n",
      "Validation RMSE: 0.2141 for epoch\n",
      "Epoch 09/25  |  val RMSE: 0.2141\n",
      "Validation RMSE: 0.1125 for epoch\n",
      "Epoch 10/25  |  val RMSE: 0.1125\n",
      "Validation RMSE: 0.1553 for epoch\n",
      "Epoch 11/25  |  val RMSE: 0.1553\n",
      "Validation RMSE: 0.1001 for epoch\n",
      "Epoch 12/25  |  val RMSE: 0.1001\n",
      "Validation RMSE: 0.1027 for epoch\n",
      "Epoch 13/25  |  val RMSE: 0.1027\n",
      "Validation RMSE: 0.0922 for epoch\n",
      "Epoch 14/25  |  val RMSE: 0.0922\n",
      "Validation RMSE: 0.0810 for epoch\n",
      "Epoch 15/25  |  val RMSE: 0.0810\n",
      "Validation RMSE: 0.0877 for epoch\n",
      "Epoch 16/25  |  val RMSE: 0.0877\n",
      "Validation RMSE: 0.0770 for epoch\n",
      "Epoch 17/25  |  val RMSE: 0.0770\n",
      "Validation RMSE: 0.0727 for epoch\n",
      "Epoch 18/25  |  val RMSE: 0.0727\n",
      "Validation RMSE: 0.0782 for epoch\n",
      "Epoch 19/25  |  val RMSE: 0.0782\n",
      "Validation RMSE: 0.0742 for epoch\n",
      "Epoch 20/25  |  val RMSE: 0.0742\n",
      "Validation RMSE: 0.0763 for epoch\n",
      "Epoch 21/25  |  val RMSE: 0.0763\n",
      "Validation RMSE: 0.0754 for epoch\n",
      "Epoch 22/25  |  val RMSE: 0.0754\n",
      "Validation RMSE: 0.0774 for epoch\n",
      "Epoch 23/25  |  val RMSE: 0.0774\n",
      "Validation RMSE: 0.0803 for epoch\n",
      "Epoch 24/25  |  val RMSE: 0.0803\n",
      "Validation RMSE: 0.0804 for epoch\n",
      "Epoch 25/25  |  val RMSE: 0.0804\n",
      "Load state dict\n",
      " Fold 5  RMSE 0.0804 | MAE 0.0534 | R² 0.2222\n"
     ]
    }
   ],
   "execution_count": 358
  },
  {
   "metadata": {},
   "cell_type": "markdown",
   "source": "## Save Model",
   "id": "bbbbd3967e1612e1"
  },
  {
   "metadata": {
    "ExecuteTime": {
     "end_time": "2025-06-28T08:58:07.704362Z",
     "start_time": "2025-06-28T08:58:07.697500Z"
    }
   },
   "cell_type": "code",
   "source": [
    "torch.save({\n",
    "  \"model_state_dict\": best_fold_state,\n",
    "  \"model_hyperparams\": {\n",
    "    \"n_features\": len(FEATURES),\n",
    "    \"n_dyads\": len(dyad_to_idx),\n",
    "    \"embed_dim\": 32,\n",
    "    \"hidden_size\": HIDDEN_SIZE,\n",
    "    \"n_layers\": N_LAYERS,\n",
    "    \"dropout\": DROPOUT,\n",
    "    \"horizon\": HORIZON,\n",
    "  },\n",
    "  \"dyad_to_idx\": dyad_to_idx,\n",
    "  \"feature_names\": FEATURES,\n",
    "}, SERIAL_NUMBER + \".pt\")"
   ],
   "id": "c9946e7cb88aabf9",
   "outputs": [],
   "execution_count": 359
  }
 ],
 "metadata": {
  "kernelspec": {
   "display_name": "Python 3",
   "language": "python",
   "name": "python3"
  },
  "language_info": {
   "codemirror_mode": {
    "name": "ipython",
    "version": 2
   },
   "file_extension": ".py",
   "mimetype": "text/x-python",
   "name": "python",
   "nbconvert_exporter": "python",
   "pygments_lexer": "ipython2",
   "version": "2.7.6"
  }
 },
 "nbformat": 4,
 "nbformat_minor": 5
}
